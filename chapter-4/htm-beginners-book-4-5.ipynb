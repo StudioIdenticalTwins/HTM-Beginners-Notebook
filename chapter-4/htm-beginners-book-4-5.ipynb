{
 "cells": [
  {
   "cell_type": "code",
   "execution_count": 1,
   "metadata": {},
   "outputs": [],
   "source": [
    "import numpy as np\n",
    "from htm.bindings.encoders import ScalarEncoder, ScalarEncoderParameters\n",
    "from htm.bindings.sdr import SDR\n",
    "from htm.algorithms import SpatialPooler as SP\n",
    "from htm.bindings.algorithms import Classifier\n",
    "\n",
    "categories = {\"cat\":0, \"dog\":1, \"monkey\":2, \"slow loris\":3}\n",
    "\n",
    "scalarEncoderParams = ScalarEncoderParameters()\n",
    "scalarEncoderParams.minimum = 0\n",
    "scalarEncoderParams.maximum = 4\n",
    "scalarEncoderParams.activeBits = 3\n",
    "scalarEncoderParams.category = True\n",
    "\n",
    "enc = ScalarEncoder(scalarEncoderParams)"
   ]
  },
  {
   "cell_type": "code",
   "execution_count": 2,
   "metadata": {},
   "outputs": [
    {
     "name": "stdout",
     "output_type": "stream",
     "text": [
      "cat =  SDR( 15 ) 0, 1, 2\n",
      "dog =  SDR( 15 ) 3, 4, 5\n",
      "monkey =  SDR( 15 ) 6, 7, 8\n",
      "slow loris = SDR( 15 ) 9, 10, 11\n"
     ]
    }
   ],
   "source": [
    "print (\"cat = \", enc.encode(0))\n",
    "print (\"dog = \", enc.encode(1))\n",
    "print (\"monkey = \", enc.encode(2))\n",
    "print (\"slow loris =\", enc.encode(3))"
   ]
  },
  {
   "cell_type": "code",
   "execution_count": 3,
   "metadata": {},
   "outputs": [],
   "source": [
    "inputSDR  = SDR( dimensions = (15, ) )\n",
    "activeSDR = SDR( dimensions = (256, ) )\n",
    "sp = SP(inputDimensions  = inputSDR.dimensions,\n",
    "        columnDimensions = activeSDR.dimensions,\n",
    "        localAreaDensity = 0.02,\n",
    "        globalInhibition = True,\n",
    "        seed             = 1,\n",
    "        synPermActiveInc   = 0.01,\n",
    "        synPermInactiveDec = 0.008)"
   ]
  },
  {
   "cell_type": "code",
   "execution_count": 4,
   "metadata": {},
   "outputs": [],
   "source": [
    "clsr = Classifier()"
   ]
  },
  {
   "cell_type": "code",
   "execution_count": 5,
   "metadata": {},
   "outputs": [
    {
     "name": "stdout",
     "output_type": "stream",
     "text": [
      "Active Outputs:  SDR( 256 ) 63, 77, 118, 250, 255\n",
      "Classifier learn:  cat\n",
      "Active Outputs:  SDR( 256 ) 137, 165, 244, 245, 251\n",
      "Classifier learn:  dog\n",
      "Active Outputs:  SDR( 256 ) 9, 96, 97, 238, 243\n",
      "Classifier learn:  monkey\n",
      "Active Outputs:  SDR( 256 ) 96, 165, 171, 228, 253\n",
      "Classifier learn:  slow loris\n",
      "Active Outputs:  SDR( 256 ) 63, 77, 118, 250, 255\n",
      "Classifier learn:  cat\n",
      "Active Outputs:  SDR( 256 ) 137, 165, 244, 245, 251\n",
      "Classifier learn:  dog\n",
      "Active Outputs:  SDR( 256 ) 9, 96, 97, 238, 243\n",
      "Classifier learn:  monkey\n",
      "Active Outputs:  SDR( 256 ) 96, 165, 171, 228, 253\n",
      "Classifier learn:  slow loris\n",
      "Active Outputs:  SDR( 256 ) 63, 77, 118, 250, 255\n",
      "Classifier learn:  cat\n",
      "Active Outputs:  SDR( 256 ) 137, 165, 244, 245, 251\n",
      "Classifier learn:  dog\n",
      "Active Outputs:  SDR( 256 ) 9, 96, 97, 238, 243\n",
      "Classifier learn:  monkey\n",
      "Active Outputs:  SDR( 256 ) 96, 165, 171, 228, 253\n",
      "Classifier learn:  slow loris\n"
     ]
    }
   ],
   "source": [
    "for i in range(3):\n",
    "    for i in range(4):\n",
    "        inputSDR=enc.encode(i)\n",
    "        sp.compute(inputSDR, True, activeSDR)\n",
    "        print(\"Active Outputs: \",activeSDR)\n",
    "        clsr.learn( activeSDR, list(categories.values())[i]  )\n",
    "        print(\"Classifier learn: \",list(categories)[i] )"
   ]
  },
  {
   "cell_type": "code",
   "execution_count": 6,
   "metadata": {},
   "outputs": [
    {
     "name": "stdout",
     "output_type": "stream",
     "text": [
      "Active Outputs:  SDR( 256 ) 63, 77, 118, 250, 255\n",
      "PDF:  [0.2518785027130525, 0.24937383014676484, 0.24937383014676484, 0.24937383014676484]\n",
      "predict index:  cat\n",
      "Active Outputs:  SDR( 256 ) 137, 165, 244, 245, 251\n",
      "PDF:  [0.24856526094743583, 0.25231673621818224, 0.24918543343637248, 0.2499325495234888]\n",
      "predict index:  dog\n",
      "Active Outputs:  SDR( 256 ) 9, 96, 97, 238, 243\n",
      "PDF:  [0.24877132557330714, 0.24877095409208877, 0.25252581263136004, 0.2499319034498316]\n",
      "predict index:  monkey\n",
      "Active Outputs:  SDR( 256 ) 96, 165, 171, 228, 253\n",
      "PDF:  [0.24860665584475108, 0.2493507974568824, 0.2494747259161012, 0.25256782767186436]\n",
      "predict index:  slow loris\n"
     ]
    }
   ],
   "source": [
    "for i in range(4):\n",
    "    inputSDR=enc.encode(i)\n",
    "    sp.compute(inputSDR, False, activeSDR)\n",
    "    print(\"Active Outputs: \",activeSDR)\n",
    "    pdf = clsr.infer( activeSDR )\n",
    "    print(\"PDF: \",pdf)\n",
    "    predict = list(categories)[np.argmax( pdf )]  \n",
    "    print(\"predict index: \",predict)"
   ]
  },
  {
   "cell_type": "code",
   "execution_count": 7,
   "metadata": {},
   "outputs": [
    {
     "name": "stdout",
     "output_type": "stream",
     "text": [
      "SDR( 15 ) 0, 1, 5\n"
     ]
    }
   ],
   "source": [
    "catdog=[1,1,0,0,0,1,0,0,0,0,0,0,0,0,0]\n",
    "inputSDR = SDR(dimensions = (15, ))\n",
    "inputSDR.dense = np.array(catdog)\n",
    "print(inputSDR)"
   ]
  },
  {
   "cell_type": "code",
   "execution_count": 8,
   "metadata": {},
   "outputs": [
    {
     "name": "stdout",
     "output_type": "stream",
     "text": [
      "Active Outputs:  SDR( 256 ) 0, 247, 250, 251, 255\n",
      "PDF:  [0.2505001726916431, 0.25024948574883915, 0.24962526836366233, 0.24962508133300607]\n",
      "predict index:  cat\n"
     ]
    }
   ],
   "source": [
    "sp.compute(inputSDR, False, activeSDR)\n",
    "print(\"Active Outputs: \",activeSDR)\n",
    "pdf = clsr.infer( activeSDR )\n",
    "print(\"PDF: \",pdf)\n",
    "predict = list(categories)[np.argmax( pdf )]  \n",
    "print(\"predict index: \",predict)"
   ]
  },
  {
   "cell_type": "code",
   "execution_count": 9,
   "metadata": {},
   "outputs": [
    {
     "data": {
      "image/png": "[encoded data removed]",
      "text/plain": [
       "<Figure size 432x288 with 1 Axes>"
      ]
     },
     "metadata": {
      "needs_background": "light"
     },
     "output_type": "display_data"
    }
   ],
   "source": [
    "import matplotlib.pyplot as plt\n",
    "plt.plot(clsr.infer( activeSDR ))\n",
    "plt.show()"
   ]
  },
  {
   "cell_type": "code",
   "execution_count": null,
   "metadata": {},
   "outputs": [],
   "source": []
  }
 ],
 "metadata": {
  "kernelspec": {
   "display_name": "Python 3.7.1 64-bit",
   "language": "python",
   "name": "python37164biteddaa04d9bd6403f87a9a26eeb0f918e"
  },
  "language_info": {
   "codemirror_mode": {
    "name": "ipython",
    "version": 3
   },
   "file_extension": ".py",
   "mimetype": "text/x-python",
   "name": "python",
   "nbconvert_exporter": "python",
   "pygments_lexer": "ipython3",
   "version": "3.7.1"
  }
 },
 "nbformat": 4,
 "nbformat_minor": 2
}
