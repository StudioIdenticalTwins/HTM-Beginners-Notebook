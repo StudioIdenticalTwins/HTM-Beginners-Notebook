{
 "cells": [
  {
   "cell_type": "code",
   "execution_count": 26,
   "metadata": {},
   "outputs": [],
   "source": [
    "import numpy as np\n",
    "from htm.bindings.encoders import ScalarEncoder, ScalarEncoderParameters\n",
    "from htm.bindings.sdr import SDR\n",
    "from htm.algorithms import SpatialPooler as SP\n",
    "from htm.bindings.algorithms import Classifier\n",
    "\n",
    "categories = {\"cat\":0, \"dog\":1, \"monkey\":2, \"slow loris\":3}\n",
    "\n",
    "scalarEncoderParams = ScalarEncoderParameters()\n",
    "scalarEncoderParams.minimum = 0\n",
    "scalarEncoderParams.maximum = 3\n",
    "scalarEncoderParams.activeBits = 4\n",
    "scalarEncoderParams.category = True\n",
    "\n",
    "enc = ScalarEncoder(scalarEncoderParams)"
   ]
  },
  {
   "cell_type": "code",
   "execution_count": 27,
   "metadata": {},
   "outputs": [
    {
     "name": "stdout",
     "output_type": "stream",
     "text": [
      "cat =  SDR( 16 ) 0, 1, 2, 3\n",
      "dog =  SDR( 16 ) 4, 5, 6, 7\n",
      "monkey =  SDR( 16 ) 8, 9, 10, 11\n",
      "slow loris = SDR( 16 ) 12, 13, 14, 15\n"
     ]
    }
   ],
   "source": [
    "print (\"cat = \", enc.encode(0))\n",
    "print (\"dog = \", enc.encode(1))\n",
    "print (\"monkey = \", enc.encode(2))\n",
    "print (\"slow loris =\", enc.encode(3))"
   ]
  },
  {
   "cell_type": "code",
   "execution_count": 28,
   "metadata": {},
   "outputs": [],
   "source": [
    "inputSDR  = SDR( dimensions = (16, ) )\n",
    "activeSDR = SDR( dimensions = (256, ) )\n",
    "sp = SP(inputDimensions  = inputSDR.dimensions,\n",
    "        columnDimensions = activeSDR.dimensions,\n",
    "        localAreaDensity = 0.02,\n",
    "        globalInhibition = True,\n",
    "        seed             = 1,\n",
    "        synPermActiveInc   = 0.01,\n",
    "        synPermInactiveDec = 0.008)"
   ]
  },
  {
   "cell_type": "code",
   "execution_count": 29,
   "metadata": {},
   "outputs": [],
   "source": [
    "clsr = Classifier()"
   ]
  },
  {
   "cell_type": "code",
   "execution_count": 30,
   "metadata": {},
   "outputs": [
    {
     "name": "stdout",
     "output_type": "stream",
     "text": [
      "Active Outputs:  SDR( 256 ) 217, 233, 240, 244, 250\n",
      "Classifier learn:  cat\n",
      "Active Outputs:  SDR( 256 ) 130, 143, 165, 195, 208\n",
      "Classifier learn:  dog\n",
      "Active Outputs:  SDR( 256 ) 133, 212, 218, 242, 245\n",
      "Classifier learn:  monkey\n",
      "Active Outputs:  SDR( 256 ) 2, 78, 129, 161, 238\n",
      "Classifier learn:  slow loris\n",
      "Active Outputs:  SDR( 256 ) 217, 233, 240, 244, 250\n",
      "Classifier learn:  cat\n",
      "Active Outputs:  SDR( 256 ) 130, 143, 165, 195, 208\n",
      "Classifier learn:  dog\n",
      "Active Outputs:  SDR( 256 ) 133, 212, 218, 242, 245\n",
      "Classifier learn:  monkey\n",
      "Active Outputs:  SDR( 256 ) 2, 78, 129, 161, 238\n",
      "Classifier learn:  slow loris\n",
      "Active Outputs:  SDR( 256 ) 217, 233, 240, 244, 250\n",
      "Classifier learn:  cat\n",
      "Active Outputs:  SDR( 256 ) 130, 143, 165, 195, 208\n",
      "Classifier learn:  dog\n",
      "Active Outputs:  SDR( 256 ) 133, 212, 218, 242, 245\n",
      "Classifier learn:  monkey\n",
      "Active Outputs:  SDR( 256 ) 2, 78, 129, 161, 238\n",
      "Classifier learn:  slow loris\n"
     ]
    }
   ],
   "source": [
    "batchSize=3\n",
    "for n in range(batchSize):\n",
    "    for i in range(len(categories)):\n",
    "        inputSDR=enc.encode(i)\n",
    "        sp.compute(inputSDR, True, activeSDR)\n",
    "        print(\"Active Outputs: \",activeSDR)\n",
    "        clsr.learn( activeSDR, list(categories.values())[i]  )\n",
    "        print(\"Classifier learn: \",list(categories)[i] )"
   ]
  },
  {
   "cell_type": "code",
   "execution_count": 31,
   "metadata": {},
   "outputs": [
    {
     "name": "stdout",
     "output_type": "stream",
     "text": [
      "Active Outputs:  SDR( 256 ) 217, 233, 240, 244, 250\n",
      "PDF:  [0.2518785027130525, 0.24937383014676484, 0.24937383014676484, 0.24937383014676484]\n",
      "predict index:  cat\n",
      "Active Outputs:  SDR( 256 ) 130, 143, 165, 195, 208\n",
      "PDF:  [0.24875079073740058, 0.2525054412062263, 0.24937189105374996, 0.24937189105374996]\n",
      "predict index:  dog\n",
      "Active Outputs:  SDR( 256 ) 133, 212, 218, 242, 245\n",
      "PDF:  [0.24895699547843136, 0.24895699547843136, 0.2527147544654033, 0.24937123290705152]\n",
      "predict index:  monkey\n",
      "Active Outputs:  SDR( 256 ) 2, 78, 129, 161, 238\n",
      "PDF:  [0.24906016605245862, 0.24906016605245862, 0.24906016605245862, 0.2528194803242461]\n",
      "predict index:  slow loris\n"
     ]
    }
   ],
   "source": [
    "for i in range(4):\n",
    "    inputSDR=enc.encode(i)\n",
    "    sp.compute(inputSDR, False, activeSDR)\n",
    "    print(\"Active Outputs: \",activeSDR)\n",
    "    pdf = clsr.infer( activeSDR )\n",
    "    print(\"PDF: \",pdf)\n",
    "    predict = list(categories)[np.argmax( pdf )]  \n",
    "    print(\"predict index: \",predict)"
   ]
  },
  {
   "cell_type": "code",
   "execution_count": 32,
   "metadata": {},
   "outputs": [
    {
     "name": "stdout",
     "output_type": "stream",
     "text": [
      "SDR( 16 ) 0, 1, 3, 5\n"
     ]
    }
   ],
   "source": [
    "catdog=[1,1,0,1,0,1,0,0,0,0,0,0,0,0,0,0]\n",
    "inputSDR = SDR(dimensions = (16, ))\n",
    "inputSDR.dense = np.array(catdog)\n",
    "print(inputSDR)"
   ]
  },
  {
   "cell_type": "code",
   "execution_count": 33,
   "metadata": {},
   "outputs": [
    {
     "name": "stdout",
     "output_type": "stream",
     "text": [
      "Active Outputs:  SDR( 256 ) 208, 217, 223, 240, 248\n",
      "PDF:  [0.2505001278091129, 0.25024944045838127, 0.24962522343597998, 0.24962522343597998]\n",
      "predict index:  cat\n"
     ]
    }
   ],
   "source": [
    "sp.compute(inputSDR, False, activeSDR)\n",
    "print(\"Active Outputs: \",activeSDR)\n",
    "pdf = clsr.infer( activeSDR )\n",
    "print(\"PDF: \",pdf)\n",
    "predict = list(categories)[np.argmax( pdf )]  \n",
    "print(\"predict index: \",predict)"
   ]
  },
  {
   "cell_type": "code",
   "execution_count": 34,
   "metadata": {},
   "outputs": [
    {
     "data": {
      "image/png": "[encoded data removed]",
      "text/plain": [
       "<Figure size 432x288 with 1 Axes>"
      ]
     },
     "metadata": {
      "needs_background": "light"
     },
     "output_type": "display_data"
    }
   ],
   "source": [
    "import matplotlib.pyplot as plt\n",
    "plt.plot(clsr.infer( activeSDR ))\n",
    "plt.show()"
   ]
  },
  {
   "cell_type": "code",
   "execution_count": null,
   "metadata": {},
   "outputs": [],
   "source": []
  },
  {
   "cell_type": "code",
   "execution_count": null,
   "metadata": {},
   "outputs": [],
   "source": []
  }
 ],
 "metadata": {
  "kernelspec": {
   "display_name": "Python 3.7.1 64-bit",
   "language": "python",
   "name": "python37164biteddaa04d9bd6403f87a9a26eeb0f918e"
  },
  "language_info": {
   "codemirror_mode": {
    "name": "ipython",
    "version": 3
   },
   "file_extension": ".py",
   "mimetype": "text/x-python",
   "name": "python",
   "nbconvert_exporter": "python",
   "pygments_lexer": "ipython3",
   "version": "3.7.1"
  }
 },
 "nbformat": 4,
 "nbformat_minor": 2
}
