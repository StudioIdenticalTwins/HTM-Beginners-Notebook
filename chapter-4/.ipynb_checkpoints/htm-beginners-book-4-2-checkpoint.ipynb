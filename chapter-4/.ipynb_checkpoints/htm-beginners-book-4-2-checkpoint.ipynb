{
 "cells": [
  {
   "cell_type": "markdown",
   "metadata": {},
   "source": [
    "## sp_tutrial.py\n",
    "\n",
    "スクリプトは3つのパートに分かれており、それぞれが以下の質問の1つを扱っています。\n",
    "\n",
    "1. ランダムなバイナリ入力に対する空間プーラーのオーバーラップ・スコアの分布は？\n",
    "2. 非訓練時の空間プーラーは入力ノイズに対してどの程度ロバストか？\n",
    "3. 学習後のロバスト度は？\n",
    "\n",
    "詳細はスクリプトのコメントとコマンドライン出力に記載されている。"
   ]
  },
  {
   "cell_type": "code",
   "execution_count": 1,
   "metadata": {},
   "outputs": [],
   "source": [
    "\"\"\"\n",
    "Spatial Pooler のいくつかの機能を示す簡単なチュートリアルです。\n",
    "\n",
    "以下のプログラムは、いくつかの\n",
    "空間プーラーの基本的なプロパティを説明します。本論文の図 5,7,9 を再現しています。\n",
    "本論文から 5, 7, 9 を再現しています: http://arxiv.org/abs/1505.02142\n",
    "Spatial Poolerの詳細については、BAMIをご覧ください。\n",
    "http://numenta.com/biological-and-machine-intelligence/\n",
    "または、NuPIC ドキュメントのクラスリファレンスを参照してください。\n",
    "http://numenta.org/docs/nupic/classnupic_1_1research_1_1spatial__pooler_1_1_spatial_pooler.html\n",
    "空間プーラーの目的は、疎な表現を作成することです。\n",
    "にマッピングされます。\n",
    "疎な表現が必要となります。したがって、空間プーラーは、ある程度の弾力性を示すべきです。\n",
    "入力のノイズに対応しています。\n",
    "\"\"\"\n",
    "\n",
    "import numpy as np\n",
    "import random\n",
    "import matplotlib\n",
    "matplotlib.use('Agg')\n",
    "import matplotlib.pyplot as plt\n",
    "\n",
    "from htm.bindings.sdr import SDR\n",
    "from htm.algorithms import SpatialPooler as SP\n",
    "\n",
    "%matplotlib inline"
   ]
  },
  {
   "cell_type": "code",
   "execution_count": 2,
   "metadata": {},
   "outputs": [],
   "source": [
    "def percentOverlap(x1, x2):\n",
    "  \"\"\"\n",
    "  SDR x1 と x2 の重複率を計算します。\n",
    "  引数 x1 は SDR\n",
    "  引数 x2 は SDR\n",
    "  percentOverlap (float) \n",
    "  Returns percentOverlap (float)\n",
    "  x1 と x2 の重なりの割合を返します。\n",
    "  \"\"\"\n",
    "  minX1X2 = min(x1.getSum(), x2.getSum())\n",
    "  percentOverlap = 0\n",
    "  if minX1X2 > 0:\n",
    "    percentOverlap = float( x1.getOverlap( x2 )) / minX1X2\n",
    "  return percentOverlap\n"
   ]
  },
  {
   "cell_type": "code",
   "execution_count": 3,
   "metadata": {},
   "outputs": [],
   "source": [
    "def corruptSDR(sdr, noiseLevel):\n",
    "  \"\"\"\n",
    "  バイナリベクトルのビットの noiseLevel をパーセント反転させることで，バイナリベクトルを破損させます．\n",
    "\n",
    "  @param vector (array) 破壊されるバイナリベクトル．\n",
    "  @param noiseLevel （float） ベ ク タ ーに適用 し たい ノ イ ズの量\n",
    "  \"\"\"\n",
    "  vector = sdr.flatten().dense\n",
    "  for i in range(sdr.size):\n",
    "    rnd = random.random()\n",
    "    if rnd < noiseLevel:\n",
    "      if vector[i] == 1:\n",
    "        vector[i] = 0\n",
    "      else:\n",
    "        vector[i] = 1\n",
    "  sdr.dense = vector"
   ]
  },
  {
   "cell_type": "code",
   "execution_count": 4,
   "metadata": {},
   "outputs": [],
   "source": [
    "inputSDR  = SDR( dimensions = (1000,1) ).randomize( .50 )\n",
    "outputSDR = SDR( dimensions = (2048,1) )\n",
    "\n",
    "sp = SP(inputSDR.dimensions,\n",
    "        outputSDR.dimensions,\n",
    "        potentialRadius = int(0.5 * inputSDR.size),\n",
    "        localAreaDensity = .02,\n",
    "        globalInhibition = True,\n",
    "        seed = 0,\n",
    "        synPermActiveInc = 0.01,\n",
    "        synPermInactiveDec = 0.008)"
   ]
  },
  {
   "cell_type": "code",
   "execution_count": 5,
   "metadata": {},
   "outputs": [
    {
     "name": "stdout",
     "output_type": "stream",
     "text": [
      "\n",
      "---------------------------------\n",
      "図1はオーバーラップスコアのヒストグラムを示しています\n",
      "空間プーラーのすべてのカラムから、および\n",
      "を構築するために選択された列のオーバーラップスコアを表示します。\n",
      "入力の疎な表現（緑色で表示）\n",
      "SPは最大のオーバーラップスコアを持つ列の2%を選択する\n",
      "このような疎な表現をするために\n",
      "---------------------------------\n",
      "\n"
     ]
    },
    {
     "data": {
      "image/png": "[encoded data removed]",
      "text/plain": [
       "<Figure size 432x288 with 1 Axes>"
      ]
     },
     "metadata": {
      "needs_background": "light"
     },
     "output_type": "display_data"
    }
   ],
   "source": [
    "# パート1\n",
    "# -------\n",
    "# 列は，入力ベクトルのサブセットに接続されます（指定された\n",
    "#ポテンシャル半径とポテンシャルPctの両方による) #. オーバーラップスコア\n",
    "# となる入力への接続数です.\n",
    "# ベクトルが提示されたときにアクティブになります。SPで学習が「オン」のとき。\n",
    "# アクティブな接続は強化されていますが、 アクティブでない接続は\n",
    "#(パラメータ synPermActiveInc と synPermInactiveDec に応じて) \n",
    "# 抑制された状態になります.\n",
    "# SPが入力の疎な表現を作成するためには\n",
    "# は、最もアクティブなカラムの中から小さなパーセンテージ(通常は2%)を選択します。\n",
    "# つまり, 重複スコアが最も大きい列.\n",
    "# この最初のパートでは, 重複スコアを示すヒストグラムを作成します.\n",
    "#ランダムなバイナリで給餌した後の空間プーラー（SP）の ナンバー.\n",
    "# input. 同様に, ヒストグラムはこれらの列のスコアを表示します.\n",
    "# 入力の疎な表現を構築するために選択されます.\n",
    "\n",
    "overlaps = sp.compute(inputSDR, False, outputSDR)\n",
    "activeColsScores = []\n",
    "for i in outputSDR.sparse:\n",
    "  activeColsScores.append(overlaps[i])\n",
    "\n",
    "print(\"\")\n",
    "print(\"---------------------------------\")\n",
    "print(\"図1はオーバーラップスコアのヒストグラムを示しています\")\n",
    "print(\"空間プーラーのすべてのカラムから、および\")\n",
    "print(\"を構築するために選択された列のオーバーラップスコアを表示します。\")\n",
    "print(\"入力の疎な表現（緑色で表示）\")\n",
    "print(\"SPは最大のオーバーラップスコアを持つ列の2%を選択する\")\n",
    "print(\"このような疎な表現をするために\")\n",
    "print(\"---------------------------------\")\n",
    "print(\"\")\n",
    "\n",
    "bins = np.linspace(min(overlaps), max(overlaps), 28)\n",
    "plt.hist(overlaps, bins, alpha=0.5, label=\"All cols\")\n",
    "plt.hist(activeColsScores, bins, alpha=0.5, label=\"Active cols\")\n",
    "plt.legend(loc=\"upper right\")\n",
    "plt.xlabel(\"Overlap scores\")\n",
    "plt.ylabel(\"Frequency\")\n",
    "plt.title(\"Figure 1: Column overlap of a SP with random input.\")\n",
    "#plt.savefig(\"figure_1\")\n",
    "plt.show()"
   ]
  },
  {
   "cell_type": "code",
   "execution_count": 6,
   "metadata": {},
   "outputs": [
    {
     "name": "stdout",
     "output_type": "stream",
     "text": [
      "\n",
      "---------------------------------\n",
      "図2は，2つの同一の2値ベクトル間の入力オーバラップを示しています\n",
      "それらのうちの1つに適用されたノイズの関数\n",
      "ノイズレベルが0の場合，ベクトルが変わらないことを意味します．\n",
      "1はベクトルが元のベクトルの論理否定であることを意味します。\n",
      "オーバーラップとノイズレベルの関係は実質的に線形である\n",
      "そして単調に減少する\n",
      "---------------------------------\n",
      "\n"
     ]
    },
    {
     "data": {
      "image/png": "[encoded data removed]",
      "text/plain": [
       "<Figure size 432x288 with 1 Axes>"
      ]
     },
     "metadata": {
      "needs_background": "light"
     },
     "output_type": "display_data"
    }
   ],
   "source": [
    "# パート2a.\n",
    "# -------\n",
    "# 2つの2値ベクトル間の重なりは, その点積として定義されます.\n",
    "# この値を正規化するために, 最小限のアクティブな(どちらのベクトルでも) \n",
    "# 入力. これは, スパースベクトルを次のように考えています.\n",
    "# reference. 2つの同一の2値ベクトルは1の入力オーバーラップを持つことになります。\n",
    "# 2つの全く異なるベクトル(一方は他方の論理的なNOT)であるのに対し\n",
    "# このセクションでは、入力されたオーバーラップがどのように\n",
    "# 2つの2値ベクトルのうちの1つにノイズを加えると減少します.\n",
    "\n",
    "inputX1 = SDR( inputSDR.size ).randomize( .50 )\n",
    "inputX2 = SDR( inputSDR.size )\n",
    "outputX1 = SDR( outputSDR.size )\n",
    "outputX2 = SDR( outputSDR.size )\n",
    "\n",
    "x = []\n",
    "y = []\n",
    "for noiseLevel in np.arange(0, 1.1, 0.1):\n",
    "  inputX2.setSDR( inputX1 )\n",
    "  corruptSDR(inputX2, noiseLevel)\n",
    "  x.append(noiseLevel)\n",
    "  y.append(percentOverlap(inputX1, inputX2))\n",
    "\n",
    "print(\"\")\n",
    "print(\"---------------------------------\")\n",
    "print(\"図2は，2つの同一の2値ベクトル間の入力オーバラップを示しています\")\n",
    "print(\"それらのうちの1つに適用されたノイズの関数\")\n",
    "print(\"ノイズレベルが0の場合，ベクトルが変わらないことを意味します．\")\n",
    "print(\"1はベクトルが元のベクトルの論理否定であることを意味します。\")\n",
    "print(\"オーバーラップとノイズレベルの関係は実質的に線形である\")\n",
    "print(\"そして単調に減少する\")\n",
    "print(\"---------------------------------\")\n",
    "print(\"\")\n",
    "\n",
    "plt.plot(x, y)\n",
    "plt.xlabel(\"Noise level\")\n",
    "plt.ylabel(\"Input overlap\")\n",
    "plt.title(\"Figure 2: Input overlap between 2 identical vectors in function of noiseLevel.\")\n",
    "#plt.savefig(\"figure_2\")\n",
    "plt.show()"
   ]
  },
  {
   "cell_type": "code",
   "execution_count": 7,
   "metadata": {},
   "outputs": [
    {
     "name": "stdout",
     "output_type": "stream",
     "text": [
      "\n",
      "---------------------------------\n",
      "図3は2つの疎な表現間の出力の重なりを示しています\n",
      "は，入力の重なりの関数である．2つの同一のバイナリ\n",
      "ベクトル(同じアクティブなカラムが得られる)にノイズを追加します。\n",
      "それらをSPに送り、2つの間の出力の重なりを推定する\n",
      "それらの間の共通のアクティブなカラムの観点からの表現\n",
      "予想通り，入力のオーバーラップが減少するにつれて，出力のオーバーラップも減少する\n",
      "---------------------------------\n",
      "\n"
     ]
    },
    {
     "data": {
      "image/png": "[encoded data removed]",
      "text/plain": [
       "<Figure size 432x288 with 1 Axes>"
      ]
     },
     "metadata": {
      "needs_background": "light"
     },
     "output_type": "display_data"
    }
   ],
   "source": [
    "# パート2b.\n",
    "# -------\n",
    "# 2つの2値入力ベクトル間の出力の重なりは\n",
    "# カラムがSPにフィードされるとアクティブになります。この部分では\n",
    "# 学習をオフにして、2つのバイナリを入力したときのSPの出力を観察します\n",
    "#ノイズのレベルを変化させた  入力ベクトル.\n",
    "# 2つの同一のベクトルから始まる（同じアクティブな列を生成する）.\n",
    "# ノイズを加えると出力が重なってしまうことが予想されます\n",
    "# 減少します.\n",
    "# このパートでは、出力のオーバーラップが\n",
    "# 2つのベクトルの間に重なり合う入力がある\n",
    "# 訓練されていない空間プーラーでも ノイズの回復力が見られる\n",
    "# 高次元SDRの非線形特性のために 重なりがあることに注意してください\n",
    "# この例では10ビットよりも大きい、あるいは25%よりも大きいものが有意とみなされます\n",
    "\n",
    "x = []\n",
    "y = []\n",
    "for noiseLevel in np.arange(0, 1.1, 0.1):\n",
    "  inputX2.setSDR( inputX1 )\n",
    "  corruptSDR(inputX2, noiseLevel)\n",
    "\n",
    "  sp.compute(inputX1, False, outputX1)\n",
    "  sp.compute(inputX2, False, outputX2)\n",
    "\n",
    "  x.append(percentOverlap(inputX1, inputX2))\n",
    "  y.append(percentOverlap(outputX1, outputX2))\n",
    "\n",
    "print(\"\")\n",
    "print(\"---------------------------------\")\n",
    "print(\"図3は2つの疎な表現間の出力の重なりを示しています\")\n",
    "print(\"は，入力の重なりの関数である．2つの同一のバイナリ\")\n",
    "print(\"ベクトル(同じアクティブなカラムが得られる)にノイズを追加します。\")\n",
    "print(\"それらをSPに送り、2つの間の出力の重なりを推定する\")\n",
    "print(\"それらの間の共通のアクティブなカラムの観点からの表現\")\n",
    "print(\"予想通り，入力のオーバーラップが減少するにつれて，出力のオーバーラップも減少する\")\n",
    "print(\"---------------------------------\")\n",
    "print(\"\")\n",
    "\n",
    "plt.plot(x, y)\n",
    "plt.xlabel(\"Input overlap\")\n",
    "plt.ylabel(\"Output overlap\")\n",
    "plt.title(\"Figure 3: Output overlap in function of input overlap in a SP \"\n",
    "          \"without training\")\n",
    "#plt.savefig(\"figure_3\")\n",
    "plt.show()"
   ]
  },
  {
   "cell_type": "code",
   "execution_count": 8,
   "metadata": {},
   "outputs": [
    {
     "name": "stdout",
     "output_type": "stream",
     "text": [
      "\n",
      "---------------------------------\n",
      "図4aは空間的にソートされた全列のオーバラップスコアを示す\n",
      "ランダム入力のプーラー、学習前と学習後。の上位2%の\n",
      "アクティブなカラムを構成するオーバーラップスコアが最大のカラム\n",
      "出力された疎な表現のうち、緑色で強調表示されているのは\n",
      "---------------------------------\n",
      "\n"
     ]
    },
    {
     "data": {
      "image/png": "[encoded data removed]",
      "text/plain": [
       "<Figure size 432x288 with 1 Axes>"
      ]
     },
     "metadata": {
      "needs_background": "light"
     },
     "output_type": "display_data"
    },
    {
     "name": "stdout",
     "output_type": "stream",
     "text": [
      "\n",
      "---------------------------------\n",
      "学習後のノイズに対するSPのロバスト性は？\n",
      "図４は，\n",
      "入力の重なりの関数 トレーニング後，SPはより多くの\n",
      "その入力のノイズに対するロバスト性、その結果、 -most-sigmoid曲線\n",
      "これは，前の入力が再び\n",
      "ある量のノイズの疎な表現はまだに似ています\n",
      "オリジナル\n",
      "---------------------------------\n",
      "\n"
     ]
    },
    {
     "data": {
      "image/png": "[encoded data removed]",
      "text/plain": [
       "<Figure size 432x288 with 1 Axes>"
      ]
     },
     "metadata": {
      "needs_background": "light"
     },
     "output_type": "display_data"
    }
   ],
   "source": [
    "# パート3\n",
    "# -------\n",
    "# トレーニング後、SPはノイズの影響を受けにくくなります この目的のために\n",
    "# train the SP by 学習をオンにして、様々なランダムなものに晒すことで、SPを訓練する\n",
    "# 2値ベクトルです. での入力パターンの繰り返しにSPを晒します.\n",
    "# 学習をさせて、学習が終わった後に区別するために これは\n",
    "# その結果、入力のノイズに対してロバスト性を持つようになります. このセクションでは\n",
    "# SPが一連の入力を学習した後の最後のセクションのプロットです. ここでは\n",
    "# 学習後にSPがノイズに対する回復力の向上を示すのを見ることになるでしょう。\n",
    "\n",
    "# 10個のランダムなベクトルを SPに提示します これを30回繰り返します\n",
    "# 後で回数を変えてみるとどうなるかがわかる\n",
    "# は最後のプロットを変更します。それから、例の数を変更して\n",
    "# SPがどのように振る舞うか見てみましょう 例の数と\n",
    "# とSPに晒した回数は？\n",
    "\n",
    "numExamples   = 10\n",
    "inputVectors  = [SDR(inputSDR.size).randomize( .50 ) for _ in range(numExamples)]\n",
    "outputColumns = [SDR(outputSDR.size) for _ in range(numExamples)]\n",
    "\n",
    "# これは、入力ベクトルをSPに提示する回数です\n",
    "epochs = 30\n",
    "\n",
    "overlapsUntrained = overlaps\n",
    "\n",
    "for _ in range(epochs):\n",
    "  for i in range(numExamples):\n",
    "    # 例題をSPにフィードする\n",
    "    overlaps = sp.compute(inputVectors[i], True, outputColumns[i])\n",
    "\n",
    "print(\"\")\n",
    "print(\"---------------------------------\")\n",
    "print(\"図4aは空間的にソートされた全列のオーバラップスコアを示す\")\n",
    "print(\"ランダム入力のプーラー、学習前と学習後。の上位2%の\")\n",
    "print(\"アクティブなカラムを構成するオーバーラップスコアが最大のカラム\")\n",
    "print(\"出力された疎な表現のうち、緑色で強調表示されているのは\")\n",
    "print(\"---------------------------------\")\n",
    "print(\"\")\n",
    "\n",
    "plt.plot(sorted(overlapsUntrained)[::-1], label=\"Before learning\")\n",
    "plt.plot(sorted(overlaps)[::-1], label=\"After learning\")\n",
    "plt.axvspan(0, len(activeColsScores), facecolor=\"g\", alpha=0.3, label=\"Active columns\")\n",
    "plt.legend(loc=\"upper right\")\n",
    "plt.xlabel(\"Columns\")\n",
    "plt.ylabel(\"Overlap scores\")\n",
    "plt.title(\"Figure 4a: Sorted column overlaps of a SP with random input.\")\n",
    "#plt.savefig(\"figure_4a\")\n",
    "plt.show()\n",
    "\n",
    "\n",
    "inputCorrupted  = SDR( inputSDR.dimensions )\n",
    "outputCorrupted = SDR( outputSDR.dimensions )\n",
    "\n",
    "x = []\n",
    "y = []\n",
    "# 前節の実験を繰り返しますが，入力ベクトルは1つだけです．\n",
    "# 入力ベクトルの集合の中で\n",
    "for noiseLevel in np.arange(0, 1.1, 0.1):\n",
    "  inputCorrupted.setSDR( inputVectors[0] )\n",
    "  corruptSDR(inputCorrupted, noiseLevel)\n",
    "\n",
    "  sp.compute(inputVectors[0], False, outputColumns[0])\n",
    "  sp.compute(inputCorrupted, False, outputCorrupted)\n",
    "\n",
    "  x.append(percentOverlap(inputVectors[0], inputCorrupted))\n",
    "  y.append(percentOverlap(outputColumns[0], outputCorrupted))\n",
    "\n",
    "print(\"\")\n",
    "print(\"---------------------------------\")\n",
    "print(\"学習後のノイズに対するSPのロバスト性は？\")\n",
    "print(\"図４は，\")\n",
    "print(\"入力の重なりの関数 トレーニング後，SPはより多くの\")\n",
    "print(\"その入力のノイズに対するロバスト性、その結果、 -most-sigmoid曲線\")\n",
    "print(\"これは，前の入力が再び\")\n",
    "print(\"ある量のノイズの疎な表現はまだに似ています\")\n",
    "print(\"オリジナル\")\n",
    "print(\"---------------------------------\")\n",
    "print(\"\")\n",
    "\n",
    "plt.plot(x, y)\n",
    "plt.xlabel(\"Input overlap\")\n",
    "plt.ylabel(\"Output overlap\")\n",
    "plt.title(\"Figure 4: Output overlap in function of input overlap in a SP after \"\n",
    "          \"training\")\n",
    "#plt.savefig(\"figure_4\")\n",
    "plt.show()"
   ]
  },
  {
   "cell_type": "code",
   "execution_count": null,
   "metadata": {},
   "outputs": [],
   "source": []
  },
  {
   "cell_type": "code",
   "execution_count": null,
   "metadata": {},
   "outputs": [],
   "source": []
  },
  {
   "cell_type": "code",
   "execution_count": null,
   "metadata": {},
   "outputs": [],
   "source": []
  }
 ],
 "metadata": {
  "kernelspec": {
   "display_name": "Python 3.7.1 64-bit",
   "language": "python",
   "name": "python37164biteddaa04d9bd6403f87a9a26eeb0f918e"
  },
  "language_info": {
   "codemirror_mode": {
    "name": "ipython",
    "version": 3
   },
   "file_extension": ".py",
   "mimetype": "text/x-python",
   "name": "python",
   "nbconvert_exporter": "python",
   "pygments_lexer": "ipython3",
   "version": "3.7.1"
  }
 },
 "nbformat": 4,
 "nbformat_minor": 2
}
