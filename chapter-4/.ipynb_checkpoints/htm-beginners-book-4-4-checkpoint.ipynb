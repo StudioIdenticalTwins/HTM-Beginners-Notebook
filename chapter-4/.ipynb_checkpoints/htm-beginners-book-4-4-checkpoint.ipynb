{
 "cells": [
  {
   "cell_type": "markdown",
   "metadata": {},
   "source": [
    " # Classifierアルゴリズム\n",
    " \n",
    " ## `Classifier()`\n",
    " \n",
    "SDR 分類器は、単層の分類ネットワークの形をしています。SDRを入力として受け取り、カテゴリの予測分布を出力します。\n",
    " \n",
    "カテゴリは、符号なし整数でラベル付けされます。 他のデータ型は、列挙するか、正整数に変換する必要があります。 出力単位は、最大カテゴリラベルの数だけあります。\n",
    "\n",
    "推論の間、出力は最初にすべての入力の加重和を行い、その後、カテゴリーラベルの予測分布を得るためにソフトマックス非線形関数を実行することによって計算されます。\n",
    "\n",
    "学習中、入力ユニットと出力ユニット間の接続重みは、モデルの尤度を最大化するように調整される。"
   ]
  },
  {
   "cell_type": "markdown",
   "metadata": {},
   "source": [
    "### メソッド\n",
    "\n",
    "`infer(...)`：\n",
    "\n",
    "引数パターンは、アクティブな入力ビットを含む SDRです。\n",
    "\n",
    "PDF（Probablility Distribution Function）は、カテゴリの確率分布関数を返します。PDF は、合計が 1 になる確率のリストです。\n",
    "\n",
    "このリストの**各インデックスはカテゴリのラベル**であり、**各値はそのカテゴリの尤度**である。確率が最も高いカテゴリを見つけるには、`numpy.argmax`を使用してください。"
   ]
  },
  {
   "cell_type": "markdown",
   "metadata": {},
   "source": [
    "## カテゴリ分類器"
   ]
  },
  {
   "cell_type": "code",
   "execution_count": 1,
   "metadata": {},
   "outputs": [
    {
     "name": "stdout",
     "output_type": "stream",
     "text": [
      "----------------------------------------------------------------------\n",
      "inputData:  SDR( 1000 ) 15, 35, 39, 57, 137, 206, 240, 436, 490, 529, 612, 645, 712, 722, 744, 764, 791, 849, 884, 990\n",
      "----------------------------------------------------------------------\n",
      "PDF:  [0.248743755155006, 0.248743755155006, 0.248743755155006, 0.2537687125734917]\n",
      "----------------------------------------------------------------------\n",
      "predict index:  3\n",
      "----------------------------------------------------------------------\n",
      "predict lebel:  D\n"
     ]
    }
   ],
   "source": [
    "import numpy as np\n",
    "from htm.bindings.sdr import SDR\n",
    "from htm.bindings.algorithms import Classifier\n",
    "\n",
    "categories = { 'A': 0, 'B': 1, 'C': 2, 'D': 3 }\n",
    "\n",
    "# ランダムなSDRを作成し、カテゴリに関連付けます。\n",
    "inputData  = SDR( dimensions = (1000 , ) ).randomize( 0.02 )\n",
    "print(\"-\"*70 )\n",
    "print(\"inputData: \",inputData)\n",
    "clsr = Classifier()\n",
    "clsr.learn( inputData, categories['D'] )\n",
    "print(\"-\"*70 )\n",
    "print(\"PDF: \",clsr.infer( inputData ) )\n",
    "print(\"-\"*70 )\n",
    "predict = np.argmax( clsr.infer( inputData ) )  #->  categories['B']\n",
    "print(\"predict index: \",predict)\n",
    "\n",
    "predict_key = [k for k, v in categories.items() if v == predict]\n",
    "print(\"-\"*70 )\n",
    "print(\"predict lebel: \",predict_key[0])\n"
   ]
  },
  {
   "cell_type": "code",
   "execution_count": 2,
   "metadata": {},
   "outputs": [
    {
     "name": "stdout",
     "output_type": "stream",
     "text": [
      "----------------------------------------------------------------------\n",
      "inputData:  SDR( 1000 ) 39, 75, 80, 109, 128, 253, 258, 320, 337, 349, 369, 485, 550, 594, 607, 651, 785, 879, 890, 993\n",
      "----------------------------------------------------------------------\n",
      "PDF:  [0.2509397105536984, 0.248942795758517, 0.25143254911526314, 0.2486849332010976]\n",
      "----------------------------------------------------------------------\n",
      "predict index:  2\n",
      "----------------------------------------------------------------------\n",
      "predict lebel:  C\n",
      "----------------------------------------------------------------------\n",
      "inputData:  SDR( 1000 ) 20, 28, 63, 85, 96, 176, 258, 321, 353, 362, 418, 472, 539, 611, 614, 633, 736, 820, 876, 882\n",
      "----------------------------------------------------------------------\n",
      "PDF:  [0.2508768689390771, 0.248135018761123, 0.2501195718506657, 0.2508685509268292]\n",
      "----------------------------------------------------------------------\n",
      "predict index:  0\n",
      "----------------------------------------------------------------------\n",
      "predict lebel:  A\n",
      "----------------------------------------------------------------------\n",
      "inputData:  SDR( 1000 ) 19, 53, 85, 86, 97, 136, 169, 225, 258, 300, 302, 353, 415, 423, 600, 680, 746, 795, 830, 834\n",
      "----------------------------------------------------------------------\n",
      "PDF:  [0.2505601867105733, 0.2490659559982238, 0.24881210347303553, 0.25156177109202166]\n",
      "----------------------------------------------------------------------\n",
      "predict index:  3\n",
      "----------------------------------------------------------------------\n",
      "predict lebel:  D\n",
      "----------------------------------------------------------------------\n",
      "inputData:  SDR( 1000 ) 11, 144, 170, 250, 271, 332, 379, 424, 470, 534, 602, 665, 743, 759, 791, 809, 862, 895, 946, 973\n",
      "----------------------------------------------------------------------\n",
      "PDF:  [0.2501859327112422, 0.25019122587615583, 0.24906576560471475, 0.2505570817149957]\n",
      "----------------------------------------------------------------------\n",
      "predict index:  3\n",
      "----------------------------------------------------------------------\n",
      "predict lebel:  D\n"
     ]
    }
   ],
   "source": [
    "import numpy as np\n",
    "from htm.bindings.sdr import SDR\n",
    "from htm.bindings.algorithms import Classifier\n",
    "\n",
    "categories = { 'A': 0, 'B': 1, 'C': 2, 'D': 3 }\n",
    "clsr = Classifier()\n",
    "\n",
    "for n in range(100):\n",
    "    for i in categories:\n",
    "        # ランダムなSDRを作成し、カテゴリに関連付けます。\n",
    "        inputData  = SDR( dimensions = (1000 , ) ).randomize( 0.02 )\n",
    "        #print(\"-\"*70 )\n",
    "        #print(\"inputData: \",inputData)\n",
    "        \n",
    "        clsr.learn( inputData, categories[i] )\n",
    "        \n",
    "for i in categories:\n",
    "    # ランダムなSDRを作成し、カテゴリに関連付けます。\n",
    "    inputData  = SDR( dimensions = (1000 , ) ).randomize( 0.02 )\n",
    "    print(\"-\"*70 )\n",
    "    print(\"inputData: \",inputData)\n",
    "    print(\"-\"*70 )\n",
    "    print(\"PDF: \",clsr.infer( inputData ) )\n",
    "    print(\"-\"*70 )\n",
    "    predict = np.argmax( clsr.infer( inputData ) )  #->  categories['B']\n",
    "    print(\"predict index: \",predict)\n",
    "\n",
    "    predict_key = [k for k, v in categories.items() if v == predict]\n",
    "    print(\"-\"*70 )\n",
    "    print(\"predict lebel: \",predict_key[0])"
   ]
  },
  {
   "cell_type": "code",
   "execution_count": 8,
   "metadata": {},
   "outputs": [
    {
     "name": "stdout",
     "output_type": "stream",
     "text": [
      "----------------------------------------------------------------------\n",
      "sampleData:  SDR( 1000 ) 27, 103, 184, 242, 260, 324, 381, 429, 538, 557, 590, 788, 804, 854, 883, 905, 907, 932, 935, 939\n",
      "----------------------------------------------------------------------\n",
      "PDF:  [0.25, 0.25, 0.25, 0.25]\n",
      "----------------------------------------------------------------------\n",
      "predict index:  0\n"
     ]
    }
   ],
   "source": [
    "sampleData  = SDR( dimensions = (1000 , ) ).randomize( 0.02 )\n",
    "print(\"-\"*70 )\n",
    "print(\"sampleData: \",sampleData)\n",
    "print(\"-\"*70 )\n",
    "print(\"PDF: \",clsr.infer( sampleData) )\n",
    "print(\"-\"*70 )\n",
    "predict = np.argmax( clsr.infer( sampleData ) ) \n",
    "print(\"predict index: \",predict)"
   ]
  },
  {
   "cell_type": "markdown",
   "metadata": {},
   "source": [
    "## スカラー分類器"
   ]
  },
  {
   "cell_type": "code",
   "execution_count": 1,
   "metadata": {},
   "outputs": [
    {
     "name": "stdout",
     "output_type": "stream",
     "text": [
      "----------------------------------------------------------------------\n",
      "inputData:  SDR( 1000 ) 16, 65, 77, 88, 99, 180, 182, 223, 229, 281, 405, 406, 513, 516, 557, 573, 579, 640, 786, 803\n"
     ]
    },
    {
     "ename": "NameError",
     "evalue": "name 'clsr' is not defined",
     "output_type": "error",
     "traceback": [
      "\u001b[0;31m---------------------------------------------------------------------------\u001b[0m",
      "\u001b[0;31mNameError\u001b[0m                                 Traceback (most recent call last)",
      "\u001b[0;32m<ipython-input-1-b57aedb2c220>\u001b[0m in \u001b[0;36m<module>\u001b[0;34m\u001b[0m\n\u001b[1;32m     14\u001b[0m \u001b[0mprint\u001b[0m\u001b[0;34m(\u001b[0m\u001b[0;34m\"-\"\u001b[0m\u001b[0;34m*\u001b[0m\u001b[0;36m70\u001b[0m \u001b[0;34m)\u001b[0m\u001b[0;34m\u001b[0m\u001b[0;34m\u001b[0m\u001b[0m\n\u001b[1;32m     15\u001b[0m \u001b[0mprint\u001b[0m\u001b[0;34m(\u001b[0m\u001b[0;34m\"inputData: \"\u001b[0m\u001b[0;34m,\u001b[0m\u001b[0minputData\u001b[0m\u001b[0;34m)\u001b[0m\u001b[0;34m\u001b[0m\u001b[0;34m\u001b[0m\u001b[0m\n\u001b[0;32m---> 16\u001b[0;31m \u001b[0mclsr\u001b[0m\u001b[0;34m.\u001b[0m\u001b[0mlearn\u001b[0m\u001b[0;34m(\u001b[0m \u001b[0minputData\u001b[0m\u001b[0;34m,\u001b[0m \u001b[0mint\u001b[0m\u001b[0;34m(\u001b[0m\u001b[0;34m(\u001b[0m\u001b[0mscalar\u001b[0m \u001b[0;34m-\u001b[0m \u001b[0mminimum\u001b[0m\u001b[0;34m)\u001b[0m \u001b[0;34m/\u001b[0m \u001b[0mresolution\u001b[0m\u001b[0;34m)\u001b[0m \u001b[0;34m)\u001b[0m\u001b[0;34m\u001b[0m\u001b[0;34m\u001b[0m\u001b[0m\n\u001b[0m\u001b[1;32m     17\u001b[0m \u001b[0mpredict\u001b[0m \u001b[0;34m=\u001b[0m \u001b[0mnp\u001b[0m\u001b[0;34m.\u001b[0m\u001b[0margmax\u001b[0m\u001b[0;34m(\u001b[0m \u001b[0mclsr\u001b[0m\u001b[0;34m.\u001b[0m\u001b[0minfer\u001b[0m\u001b[0;34m(\u001b[0m \u001b[0minputData\u001b[0m \u001b[0;34m)\u001b[0m \u001b[0;34m)\u001b[0m \u001b[0;34m*\u001b[0m \u001b[0mresolution\u001b[0m \u001b[0;34m+\u001b[0m \u001b[0mminimum\u001b[0m  \u001b[0;31m#->  560\u001b[0m\u001b[0;34m\u001b[0m\u001b[0;34m\u001b[0m\u001b[0m\n\u001b[1;32m     18\u001b[0m \u001b[0mprint\u001b[0m\u001b[0;34m(\u001b[0m\u001b[0;34m\"-\"\u001b[0m\u001b[0;34m*\u001b[0m\u001b[0;36m70\u001b[0m \u001b[0;34m)\u001b[0m\u001b[0;34m\u001b[0m\u001b[0;34m\u001b[0m\u001b[0m\n",
      "\u001b[0;31mNameError\u001b[0m: name 'clsr' is not defined"
     ]
    }
   ],
   "source": [
    "import numpy as np\n",
    "from htm.bindings.sdr import SDR\n",
    "from htm.bindings.algorithms import Classifier\n",
    "\n",
    "clsr = Classifier()\n",
    "\n",
    "# スカラー値を推定します． \n",
    "# Classifierはカテゴリしか受け付けないので、\n",
    "# 最小値を引き算して解像度で割ることで、\n",
    "# 実数値の入力をビン(別名バケツ)に入れてください。\n",
    "scalar     = 567.8\n",
    "minimum    = 500\n",
    "resolution = 10\n",
    "\n",
    "inputData  = SDR( dimensions = (1000 , ) ).randomize( 0.02 )\n",
    "print(\"-\"*70 )\n",
    "print(\"inputData: \",inputData)\n",
    "clsr.learn( inputData, int((scalar - minimum) / resolution) )\n",
    "predict = np.argmax( clsr.infer( inputData ) ) * resolution + minimum  #->  560\n",
    "print(\"-\"*70 )\n",
    "print(\"predict : \",predict)"
   ]
  },
  {
   "cell_type": "code",
   "execution_count": 1,
   "metadata": {},
   "outputs": [
    {
     "ename": "NameError",
     "evalue": "name 'clsr' is not defined",
     "output_type": "error",
     "traceback": [
      "\u001b[0;31m---------------------------------------------------------------------------\u001b[0m",
      "\u001b[0;31mNameError\u001b[0m                                 Traceback (most recent call last)",
      "\u001b[0;32m<ipython-input-1-c3f5b3294164>\u001b[0m in \u001b[0;36m<module>\u001b[0;34m\u001b[0m\n\u001b[1;32m     20\u001b[0m     \u001b[0;31m#print(\"-\"*70 )\u001b[0m\u001b[0;34m\u001b[0m\u001b[0;34m\u001b[0m\u001b[0;34m\u001b[0m\u001b[0m\n\u001b[1;32m     21\u001b[0m     \u001b[0;31m#print(\"inputData: \",inputData)\u001b[0m\u001b[0;34m\u001b[0m\u001b[0;34m\u001b[0m\u001b[0;34m\u001b[0m\u001b[0m\n\u001b[0;32m---> 22\u001b[0;31m     \u001b[0mclsr\u001b[0m\u001b[0;34m.\u001b[0m\u001b[0mlearn\u001b[0m\u001b[0;34m(\u001b[0m \u001b[0minputData\u001b[0m\u001b[0;34m,\u001b[0m \u001b[0mint\u001b[0m\u001b[0;34m(\u001b[0m\u001b[0;34m(\u001b[0m\u001b[0mscalar\u001b[0m \u001b[0;34m-\u001b[0m \u001b[0mminimum\u001b[0m\u001b[0;34m)\u001b[0m \u001b[0;34m/\u001b[0m \u001b[0mresolution\u001b[0m\u001b[0;34m)\u001b[0m \u001b[0;34m)\u001b[0m\u001b[0;34m\u001b[0m\u001b[0;34m\u001b[0m\u001b[0m\n\u001b[0m\u001b[1;32m     23\u001b[0m \u001b[0;34m\u001b[0m\u001b[0m\n\u001b[1;32m     24\u001b[0m \u001b[0minputData\u001b[0m  \u001b[0;34m=\u001b[0m \u001b[0mSDR\u001b[0m\u001b[0;34m(\u001b[0m \u001b[0mdimensions\u001b[0m \u001b[0;34m=\u001b[0m \u001b[0;34m(\u001b[0m\u001b[0;36m1000\u001b[0m \u001b[0;34m,\u001b[0m \u001b[0;34m)\u001b[0m \u001b[0;34m)\u001b[0m\u001b[0;34m.\u001b[0m\u001b[0mrandomize\u001b[0m\u001b[0;34m(\u001b[0m \u001b[0;36m0.02\u001b[0m \u001b[0;34m)\u001b[0m\u001b[0;34m\u001b[0m\u001b[0;34m\u001b[0m\u001b[0m\n",
      "\u001b[0;31mNameError\u001b[0m: name 'clsr' is not defined"
     ]
    }
   ],
   "source": [
    "import numpy as np\n",
    "from htm.bindings.sdr import SDR\n",
    "from htm.bindings.algorithms import Classifier\n",
    "import random\n",
    "\n",
    "# スカラー値を推定します． \n",
    "# Classifierはカテゴリしか受け付けないので、\n",
    "# 最小値を引き算して解像度で割ることで、\n",
    "# 実数値の入力をビン(別名バケツ)に入れてください。\n",
    "\n",
    "\n",
    "minimum    = 500\n",
    "resolution = 10\n",
    "\n",
    "for i in range(100):\n",
    "    scalar     = random.uniform(500, 600)\n",
    "    #print(\"-\"*70 )\n",
    "    #print(\"scalar: \", scalar)\n",
    "    inputData  = SDR( dimensions = (1000 , ) ).randomize( 0.02 )\n",
    "    #print(\"-\"*70 )\n",
    "    #print(\"inputData: \",inputData)\n",
    "    clsr.learn( inputData, int((scalar - minimum) / resolution) )\n",
    "    \n",
    "inputData  = SDR( dimensions = (1000 , ) ).randomize( 0.02 )\n",
    "print(\"-\"*70 )\n",
    "print(\"inputData: \",inputData)    \n",
    "predict = np.argmax( clsr.infer( inputData ) ) * resolution + minimum  #->  560\n",
    "print(\"-\"*70 )\n",
    "print(\"predict : \",predict)"
   ]
  },
  {
   "cell_type": "markdown",
   "metadata": {},
   "source": []
  },
  {
   "cell_type": "markdown",
   "metadata": {},
   "source": []
  },
  {
   "cell_type": "code",
   "execution_count": null,
   "metadata": {},
   "outputs": [],
   "source": []
  }
 ],
 "metadata": {
  "kernelspec": {
   "display_name": "Python 3.7.1 64-bit",
   "language": "python",
   "name": "python37164biteddaa04d9bd6403f87a9a26eeb0f918e"
  },
  "language_info": {
   "codemirror_mode": {
    "name": "ipython",
    "version": 3
   },
   "file_extension": ".py",
   "mimetype": "text/x-python",
   "name": "python",
   "nbconvert_exporter": "python",
   "pygments_lexer": "ipython3",
   "version": "3.7.1"
  }
 },
 "nbformat": 4,
 "nbformat_minor": 2
}
