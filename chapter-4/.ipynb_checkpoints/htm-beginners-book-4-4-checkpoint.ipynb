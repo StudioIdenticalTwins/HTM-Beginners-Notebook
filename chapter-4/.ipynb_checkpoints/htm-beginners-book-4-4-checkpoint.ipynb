{
 "cells": [
  {
   "cell_type": "markdown",
   "metadata": {},
   "source": [
    " # Classifierアルゴリズム\n",
    " \n",
    " ## `Classifier()`\n",
    " \n",
    "SDR 分類器は、単層の分類ネットワークの形をしています。SDRを入力として受け取り、カテゴリの予測分布を出力します。\n",
    " \n",
    "カテゴリは、符号なし整数でラベル付けされます。 他のデータ型は、列挙するか、正整数に変換する必要があります。 出力単位は、最大カテゴリラベルの数だけあります。\n",
    "\n",
    "推論の間、出力は最初にすべての入力の加重和を行い、その後、カテゴリーラベルの予測分布を得るためにソフトマックス非線形関数を実行することによって計算されます。\n",
    "\n",
    "学習中、入力ユニットと出力ユニット間の接続重みは、モデルの尤度を最大化するように調整される。"
   ]
  },
  {
   "cell_type": "markdown",
   "metadata": {},
   "source": [
    "### メソッド\n",
    "\n",
    "`infer(...)`：\n",
    "\n",
    "引数パターンは、アクティブな入力ビットを含む SDRです。\n",
    "\n",
    "PDF（Probablility Distribution Function）は、カテゴリの確率分布関数を返します。PDF は、合計が 1 になる確率のリストです。\n",
    "\n",
    "このリストの**各インデックスはカテゴリのラベル**であり、**各値はそのカテゴリの尤度**である。確率が最も高いカテゴリを見つけるには、`numpy.argmax`を使用してください。"
   ]
  },
  {
   "cell_type": "markdown",
   "metadata": {},
   "source": [
    "## カテゴリ分類器"
   ]
  },
  {
   "cell_type": "code",
   "execution_count": 16,
   "metadata": {},
   "outputs": [
    {
     "name": "stdout",
     "output_type": "stream",
     "text": [
      "----------------------------------------------------------------------\n",
      "inputData:  SDR( 1000 ) 85, 101, 126, 146, 175, 183, 207, 211, 345, 348, 354, 411, 572, 585, 623, 631, 745, 767, 840, 996\n",
      "----------------------------------------------------------------------\n",
      "PDF:  [0.49500017907770616, 0.504999846488284]\n",
      "----------------------------------------------------------------------\n",
      "predict index:  1\n",
      "----------------------------------------------------------------------\n",
      "predict lebel:  B\n"
     ]
    }
   ],
   "source": [
    "import numpy as np\n",
    "from htm.bindings.sdr import SDR\n",
    "from htm.bindings.algorithms import Classifier\n",
    "\n",
    "categories = { 'A': 0, 'B': 1, 'C': 2, 'D': 3 }\n",
    "\n",
    "# ランダムなSDRを作成し、カテゴリに関連付けます。\n",
    "inputData  = SDR( dimensions = (1000 , ) ).randomize( 0.02 )\n",
    "print(\"-\"*70 )\n",
    "print(\"inputData: \",inputData)\n",
    "clsr = Classifier()\n",
    "clsr.learn( inputData, categories['B'] )\n",
    "print(\"-\"*70 )\n",
    "print(\"PDF: \",clsr.infer( inputData ) )\n",
    "print(\"-\"*70 )\n",
    "predict = np.argmax( clsr.infer( inputData ) )  #->  categories['B']\n",
    "print(\"predict index: \",predict)\n",
    "\n",
    "predict_key = [k for k, v in categories.items() if v == predict]\n",
    "print(\"-\"*70 )\n",
    "print(\"predict lebel: \",predict_key[0])\n"
   ]
  },
  {
   "cell_type": "code",
   "execution_count": 17,
   "metadata": {},
   "outputs": [
    {
     "data": {
      "image/png": "[encoded data removed]",
      "text/plain": [
       "<Figure size 432x288 with 1 Axes>"
      ]
     },
     "metadata": {
      "needs_background": "light"
     },
     "output_type": "display_data"
    }
   ],
   "source": [
    "import matplotlib.pyplot as plt\n",
    "plt.plot(clsr.infer( inputData ))\n",
    "plt.show()"
   ]
  },
  {
   "cell_type": "markdown",
   "metadata": {},
   "source": [
    "## スカラー分類器"
   ]
  },
  {
   "cell_type": "code",
   "execution_count": 9,
   "metadata": {},
   "outputs": [
    {
     "name": "stdout",
     "output_type": "stream",
     "text": [
      "----------------------------------------------------------------------\n",
      "inputData:  SDR( 1000 ) 32, 98, 136, 299, 321, 367, 383, 416, 510, 525, 531, 588, 624, 634, 688, 794, 842, 852, 886, 901\n",
      "----------------------------------------------------------------------\n",
      "predict :  560\n"
     ]
    }
   ],
   "source": [
    "import numpy as np\n",
    "from htm.bindings.sdr import SDR\n",
    "from htm.bindings.algorithms import Classifier\n",
    "\n",
    "clsr = Classifier()\n",
    "\n",
    "# スカラー値を推定します． \n",
    "# Classifierはカテゴリしか受け付けないので、\n",
    "# 最小値を引き算して解像度で割ることで、\n",
    "# 実数値の入力をビン(別名バケツ)に入れてください。\n",
    "scalar     = 567.8\n",
    "minimum    = 500\n",
    "resolution = 10\n",
    "\n",
    "inputData  = SDR( dimensions = (1000 , ) ).randomize( 0.02 )\n",
    "print(\"-\"*70 )\n",
    "print(\"inputData: \",inputData)\n",
    "clsr.learn( inputData, int((scalar - minimum) / resolution) )\n",
    "print(\"-\"*70 )\n",
    "print(\"PDF: \",clsr.infer( inputData ) )\n",
    "print(\"-\"*70 )\n",
    "predict = np.argmax( clsr.infer( inputData ) ) * resolution + minimum  #->  560\n",
    "print(\"-\"*70 )\n",
    "print(\"predict : \",predict)"
   ]
  },
  {
   "cell_type": "code",
   "execution_count": 10,
   "metadata": {},
   "outputs": [
    {
     "data": {
      "image/png": "[encoded data removed]",
      "text/plain": [
       "<Figure size 432x288 with 1 Axes>"
      ]
     },
     "metadata": {
      "needs_background": "light"
     },
     "output_type": "display_data"
    }
   ],
   "source": [
    "plt.plot(clsr.infer( inputData ))\n",
    "plt.show()"
   ]
  },
  {
   "cell_type": "code",
   "execution_count": null,
   "metadata": {},
   "outputs": [],
   "source": []
  }
 ],
 "metadata": {
  "kernelspec": {
   "display_name": "Python 3.7.1 64-bit",
   "language": "python",
   "name": "python37164biteddaa04d9bd6403f87a9a26eeb0f918e"
  },
  "language_info": {
   "codemirror_mode": {
    "name": "ipython",
    "version": 3
   },
   "file_extension": ".py",
   "mimetype": "text/x-python",
   "name": "python",
   "nbconvert_exporter": "python",
   "pygments_lexer": "ipython3",
   "version": "3.7.1"
  }
 },
 "nbformat": 4,
 "nbformat_minor": 2
}
