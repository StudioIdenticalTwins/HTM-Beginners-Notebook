{
 "cells": [
  {
   "cell_type": "markdown",
   "metadata": {},
   "source": [
    "## SPの実装方法"
   ]
  },
  {
   "cell_type": "code",
   "execution_count": 1,
   "metadata": {},
   "outputs": [],
   "source": [
    "from htm.bindings.sdr import SDR\n",
    "from htm.algorithms import SpatialPooler as SP\n",
    "\n",
    "inputSDR  = SDR( dimensions = (32, 32) )\n",
    "activeSDR = SDR( dimensions = (64, 64) )\n",
    "sp = SP(inputDimensions  = inputSDR.dimensions,\n",
    "        columnDimensions = activeSDR.dimensions,\n",
    "        localAreaDensity = 0.02,\n",
    "        globalInhibition = True,\n",
    "        seed             = 1,\n",
    "        synPermActiveInc   = 0.01,\n",
    "        synPermInactiveDec = 0.008)"
   ]
  },
  {
   "cell_type": "code",
   "execution_count": 2,
   "metadata": {},
   "outputs": [
    {
     "name": "stdout",
     "output_type": "stream",
     "text": [
      "Active Outputs SDR( 64, 64 ) 37, 62, 99, 251, 265, 585, 591, 616, 631, 646, 657, 735, 786, 795, 806, 913, 1083, 1223, 1234, 1301, 1386, 1436, 1443, 1602, 1607, 1625, 1716, 1736, 1936, 1945, 1955, 2113, 2130, 2176, 2281, 2286, 2290, 2658, 2697, 2717, 2998, 3209, 3213, 3215, 3222, 3256, 3319, 3335, 3340, 3356, 3359, 3379, 3455, 3521, 3558, 3569, 3598, 3599, 3609, 3631, 3632, 3644, 3712, 3732, 3743, 3823, 3831, 3833, 3834, 3853, 3873, 3890, 3920, 3935, 3964, 3984, 3998, 4068, 4080, 4084, 4087\n",
      "\n",
      "Active Outputs SDR( 64, 64 ) 48, 50, 177, 406, 598, 936, 1012, 1151, 1183, 1302, 1334, 1364, 1399, 1594, 1885, 1934, 1971, 2068, 2078, 2120, 2128, 2219, 2305, 2312, 2345, 2398, 2399, 2462, 2663, 2743, 2755, 2767, 2824, 2871, 3016, 3020, 3029, 3070, 3182, 3199, 3224, 3231, 3238, 3246, 3297, 3332, 3358, 3365, 3465, 3468, 3502, 3505, 3508, 3510, 3540, 3568, 3574, 3575, 3645, 3668, 3672, 3716, 3852, 3864, 3878, 3896, 3905, 3918, 3928, 3932, 3946, 3984, 4000, 4014, 4022, 4026, 4028, 4063, 4066, 4069, 4084\n",
      "\n",
      "Active Outputs SDR( 64, 64 ) 111, 247, 286, 300, 413, 425, 482, 502, 597, 687, 724, 804, 905, 1003, 1148, 1192, 1236, 1307, 1308, 1435, 1476, 1489, 1532, 1591, 1658, 1791, 1901, 2120, 2258, 2327, 2352, 2397, 2411, 2453, 2468, 2535, 2566, 2579, 2665, 2728, 2761, 2788, 2953, 2970, 2985, 3042, 3052, 3066, 3105, 3115, 3120, 3132, 3175, 3192, 3221, 3260, 3282, 3307, 3312, 3315, 3331, 3369, 3438, 3477, 3506, 3522, 3536, 3543, 3570, 3574, 3587, 3623, 3694, 3859, 3863, 3888, 3913, 3925, 3943, 4026, 4053\n",
      "\n"
     ]
    }
   ],
   "source": [
    "for i in range(3):\n",
    "    inputSDR.randomize( .02 )\n",
    "    sp.compute(inputSDR, True, activeSDR)\n",
    "    print(\"Active Outputs \" + str(activeSDR))\n",
    "    print(\"\")"
   ]
  },
  {
   "cell_type": "code",
   "execution_count": 3,
   "metadata": {},
   "outputs": [
    {
     "name": "stdout",
     "output_type": "stream",
     "text": [
      "Spatial Pooler Connections:\n",
      "    Inputs (1024) ~> Outputs (4096) via Segments (4096)\n",
      "    Segments on Cell Min/Mean/Max 1 / 1 / 1\n",
      "    Potential Synapses on Segment Min/Mean/Max 512 / 512 / 512\n",
      "    Connected Synapses on Segment Min/Mean/Max 218 / 256.018 / 301\n",
      "    Synapses Dead (0.00228548%) Saturated (1.43051e-05%)\n",
      "    Synapses pruned (0%) Segments pruned (0%)\n",
      "\n"
     ]
    }
   ],
   "source": [
    "print(sp)"
   ]
  },
  {
   "cell_type": "code",
   "execution_count": null,
   "metadata": {},
   "outputs": [],
   "source": []
  }
 ],
 "metadata": {
  "kernelspec": {
   "display_name": "Python 3.7.1 64-bit",
   "language": "python",
   "name": "python37164biteddaa04d9bd6403f87a9a26eeb0f918e"
  },
  "language_info": {
   "codemirror_mode": {
    "name": "ipython",
    "version": 3
   },
   "file_extension": ".py",
   "mimetype": "text/x-python",
   "name": "python",
   "nbconvert_exporter": "python",
   "pygments_lexer": "ipython3",
   "version": "3.7.1"
  }
 },
 "nbformat": 4,
 "nbformat_minor": 2
}
