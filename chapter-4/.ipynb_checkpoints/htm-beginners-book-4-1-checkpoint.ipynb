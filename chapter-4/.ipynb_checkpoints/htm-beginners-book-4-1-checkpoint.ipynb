{
 "cells": [
  {
   "cell_type": "markdown",
   "metadata": {},
   "source": [
    "## hello_sp.py\n",
    "\n",
    "このスクリプトは、以下の3つの入力値セットに対する空間プーラーの効果を示す3つの例を提供します。\n",
    "\n",
    "1. 3 つのランダムな入力値の出力 SDR を表示する。\n",
    "2. 同じ入力値から生成された 3 つの SDR を表示する。\n",
    "3. 元の入力ベクトルに10%と20%のノイズを追加して、わずかに異なる入力値で生成された3つのSDRを表示する。\n",
    "\n",
    "このスクリプトでは、入力に単純なバイナリ ベクトルを使用しています。\n",
    "\n",
    "この例を実行して出力を読んだ後、空間プーラーの入力と出力の関係を基本的に理解する必要があります。"
   ]
  },
  {
   "cell_type": "code",
   "execution_count": 1,
   "metadata": {},
   "outputs": [],
   "source": [
    "\"\"\"空間プーラーの動作を示す簡単なプログラム\"\"\"\n",
    "\n",
    "from htm.bindings.sdr import SDR\n",
    "from htm.algorithms import SpatialPooler as SP"
   ]
  },
  {
   "cell_type": "code",
   "execution_count": 2,
   "metadata": {},
   "outputs": [],
   "source": [
    "# Spatial Pooler と、それを使用するために必要な SDR データ構造を作成します\n",
    "\n",
    "inputSDR  = SDR( dimensions = (32, 32) )\n",
    "activeSDR = SDR( dimensions = (64, 64) )\n",
    "sp = SP(inputDimensions  = inputSDR.dimensions,\n",
    "        columnDimensions = activeSDR.dimensions,\n",
    "        localAreaDensity = 0.02,\n",
    "        globalInhibition = True,\n",
    "        seed             = 1,\n",
    "        synPermActiveInc   = 0.01,\n",
    "        synPermInactiveDec = 0.008)\n",
    "\n",
    "def run():\n",
    "    print(\"Running the Spatial Pooler ...\")\n",
    "    print(\"\")\n",
    "    sp.compute(inputSDR, True, activeSDR)\n",
    "    print(\"Active Outputs \" + str(activeSDR))\n",
    "    print(\"\")\n",
    "    \n",
    "    import numpy as np\n",
    "    import matplotlib.pyplot as plt\n",
    "    from IPython.display import display, clear_output\n",
    "    %matplotlib inline\n",
    "\n",
    "    #clear_output(wait = True)\n",
    "    #plt.cla\n",
    "    plt.imshow(activeSDR.dense)\n",
    "    plt.pause(0.01)"
   ]
  },
  {
   "cell_type": "code",
   "execution_count": 3,
   "metadata": {},
   "outputs": [
    {
     "name": "stdout",
     "output_type": "stream",
     "text": [
      "\n",
      "Hello Spatial Pooler.\n",
      "\n",
      "\n",
      "レッスン1）異なる入力は、異なる出力を与えます\n",
      "    3つのランダムな疎分散表現(SDR)を生成し、それぞれを実行します\n",
      "    空間プーラーを通して  出力アクティビティが毎回異なることを観察します\n",
      "\n",
      "----------------------------------------------------------------------\n",
      "Random Input SDR( 32, 32 ) 17, 33, 83, 93, 138, 142, 267, 273, 274, 298, 370, 416, 529, 573, 628, 782, 922, 926, 971, 974\n",
      "\n",
      "Running the Spatial Pooler ...\n",
      "\n",
      "Active Outputs SDR( 64, 64 ) 159, 238, 275, 418, 522, 545, 707, 803, 897, 949, 1151, 1172, 1209, 1233, 1254, 1257, 1287, 1321, 1333, 1601, 1624, 1635, 1689, 1822, 1882, 2004, 2034, 2045, 2065, 2117, 2133, 2166, 2283, 2334, 2542, 2711, 2739, 2837, 2908, 2916, 2965, 2997, 3060, 3071, 3072, 3124, 3133, 3202, 3250, 3279, 3292, 3318, 3319, 3358, 3362, 3374, 3380, 3441, 3470, 3534, 3539, 3548, 3549, 3557, 3573, 3586, 3611, 3614, 3631, 3654, 3712, 3719, 3731, 3766, 3863, 3864, 3964, 3988, 4006, 4032, 4094\n",
      "\n"
     ]
    },
    {
     "data": {
      "image/png": "[encoded data removed]",
      "text/plain": [
       "<Figure size 432x288 with 1 Axes>"
      ]
     },
     "metadata": {
      "needs_background": "light"
     },
     "output_type": "display_data"
    },
    {
     "name": "stdout",
     "output_type": "stream",
     "text": [
      "----------------------------------------------------------------------\n",
      "Random Input SDR( 32, 32 ) 106, 127, 206, 227, 264, 280, 295, 303, 308, 422, 448, 474, 625, 651, 661, 668, 707, 721, 857, 903\n",
      "\n",
      "Running the Spatial Pooler ...\n",
      "\n",
      "Active Outputs SDR( 64, 64 ) 144, 441, 668, 893, 1088, 1153, 1246, 1317, 1414, 1448, 1466, 1521, 1564, 1596, 1633, 1699, 1797, 1830, 1831, 1844, 1959, 2151, 2217, 2257, 2260, 2334, 2344, 2559, 2587, 2720, 2747, 2794, 2825, 2834, 2838, 2857, 2871, 2878, 2887, 2893, 2917, 2921, 2946, 2950, 2970, 3000, 3033, 3090, 3091, 3151, 3158, 3230, 3278, 3288, 3289, 3293, 3366, 3434, 3488, 3525, 3620, 3622, 3658, 3690, 3711, 3775, 3796, 3810, 3811, 3854, 3861, 3874, 3875, 3884, 3891, 3921, 3936, 3962, 3973, 4027, 4029\n",
      "\n"
     ]
    },
    {
     "data": {
      "image/png": "[encoded data removed]",
      "text/plain": [
       "<Figure size 432x288 with 1 Axes>"
      ]
     },
     "metadata": {
      "needs_background": "light"
     },
     "output_type": "display_data"
    },
    {
     "name": "stdout",
     "output_type": "stream",
     "text": [
      "----------------------------------------------------------------------\n",
      "Random Input SDR( 32, 32 ) 57, 85, 192, 214, 222, 233, 235, 354, 392, 527, 546, 614, 701, 722, 723, 746, 766, 824, 933, 997\n",
      "\n",
      "Running the Spatial Pooler ...\n",
      "\n",
      "Active Outputs SDR( 64, 64 ) 47, 71, 111, 234, 310, 364, 457, 527, 534, 593, 664, 670, 676, 678, 685, 857, 860, 956, 984, 1046, 1105, 1138, 1196, 1251, 1298, 1313, 1746, 2245, 2387, 2423, 2496, 2512, 2593, 2850, 2877, 2961, 3050, 3162, 3197, 3206, 3208, 3238, 3241, 3251, 3325, 3367, 3368, 3396, 3410, 3419, 3438, 3481, 3484, 3493, 3495, 3525, 3557, 3562, 3563, 3578, 3584, 3602, 3611, 3651, 3713, 3731, 3732, 3734, 3754, 3796, 3809, 3830, 3877, 3909, 3921, 3965, 3967, 3978, 4038, 4083, 4090\n",
      "\n"
     ]
    },
    {
     "data": {
      "image/png": "[encoded data removed]",
      "text/plain": [
       "<Figure size 432x288 with 1 Axes>"
      ]
     },
     "metadata": {
      "needs_background": "light"
     },
     "output_type": "display_data"
    },
    {
     "name": "stdout",
     "output_type": "stream",
     "text": [
      "Spatial Pooler Connections:\n",
      "    Inputs (1024) ~> Outputs (4096) via Segments (4096)\n",
      "    Segments on Cell Min/Mean/Max 1 / 1 / 1\n",
      "    Potential Synapses on Segment Min/Mean/Max 512 / 512 / 512\n",
      "    Connected Synapses on Segment Min/Mean/Max 218 / 256.023 / 301\n",
      "    Synapses Dead (0.00225019%) Saturated (8.10623e-06%)\n",
      "    Synapses pruned (0%) Segments pruned (0%)\n",
      "\n"
     ]
    }
   ],
   "source": [
    "# レッスン1 ランダム入力を試してみる\n",
    "print(\"\")\n",
    "print(\"Hello Spatial Pooler.\")\n",
    "print(\"\")\n",
    "print(\"\")\n",
    "print(\"レッスン1）異なる入力は、異なる出力を与えます\")\n",
    "print(\"    3つのランダムな疎分散表現(SDR)を生成し、それぞれを実行します\")\n",
    "print(\"    空間プーラーを通して  出力アクティビティが毎回異なることを観察します\")\n",
    "print(\"\")\n",
    "\n",
    "for i in range(3):\n",
    "    print(\"----------------------------------------------------------------------\")\n",
    "    inputSDR.randomize( .02 )\n",
    "    print(\"Random Input \" + str(inputSDR))\n",
    "    print(\"\")\n",
    "    \n",
    "    plt.imshow(inputSDR.dense)\n",
    "    plt.pause(0.01)\n",
    "    \n",
    "    run()\n",
    "print(sp)"
   ]
  },
  {
   "cell_type": "code",
   "execution_count": 4,
   "metadata": {},
   "outputs": [
    {
     "name": "stdout",
     "output_type": "stream",
     "text": [
      "======================================================================\n",
      "\n",
      "\n",
      "レッスン2) 同一の入力は同一の出力を与える\n",
      "    入力SDRは、空間プーラーの前の実行で使用されたものと同じである\n",
      "\n",
      "Input SDR( 32, 32 ) 57, 85, 192, 214, 222, 233, 235, 354, 392, 527, 546, 614, 701, 722, 723, 746, 766, 824, 933, 997\n",
      "\n",
      "Running the Spatial Pooler ...\n",
      "\n",
      "Active Outputs SDR( 64, 64 ) 47, 71, 111, 234, 310, 364, 457, 527, 534, 593, 664, 670, 676, 678, 685, 857, 860, 956, 984, 1046, 1105, 1138, 1196, 1251, 1298, 1313, 1746, 2245, 2387, 2423, 2496, 2512, 2593, 2850, 2877, 2961, 3050, 3162, 3197, 3206, 3208, 3238, 3241, 3251, 3325, 3367, 3368, 3396, 3410, 3419, 3438, 3481, 3484, 3493, 3495, 3525, 3557, 3562, 3563, 3578, 3584, 3602, 3611, 3651, 3713, 3731, 3732, 3734, 3754, 3796, 3809, 3830, 3877, 3909, 3921, 3965, 3967, 3978, 4038, 4083, 4090\n",
      "\n"
     ]
    },
    {
     "data": {
      "image/png": "[encoded data removed]",
      "text/plain": [
       "<Figure size 432x288 with 1 Axes>"
      ]
     },
     "metadata": {
      "needs_background": "light"
     },
     "output_type": "display_data"
    }
   ],
   "source": [
    "# レッスン２ 同一の入力を試す\n",
    "print(\"=\" * 70)\n",
    "print(\"\")\n",
    "print(\"\")\n",
    "print(\"レッスン2) 同一の入力は同一の出力を与える\")\n",
    "print(\"    入力SDRは、空間プーラーの前の実行で使用されたものと同じである\")\n",
    "print(\"\")\n",
    "print(\"Input \" + str(inputSDR))\n",
    "print(\"\")\n",
    "run()"
   ]
  },
  {
   "cell_type": "code",
   "execution_count": 5,
   "metadata": {},
   "outputs": [
    {
     "name": "stdout",
     "output_type": "stream",
     "text": [
      "======================================================================\n",
      "\n",
      "\n",
      "レッスン3）似たような入力は似たような出力を与えます\n",
      "          今は入力SDRを少し変えています\n",
      "          1を0に、0を1に少しずつ変えていきます\n",
      "          結果として得られるSDRは、元のSDRと類似していますが、同一ではありません\n",
      "\n",
      "前の実行から入力SDRに10%のノイズを追加します\n",
      "Input SDR( 32, 32 ) 57, 85, 192, 222, 235, 354, 392, 448, 527, 546, 614, 676, 701, 722, 723, 746, 766, 824, 933, 997\n",
      "\n",
      "Running the Spatial Pooler ...\n",
      "\n",
      "Active Outputs SDR( 64, 64 ) 71, 111, 234, 310, 332, 457, 527, 534, 593, 664, 676, 678, 685, 860, 976, 984, 1046, 1109, 1138, 1196, 1251, 1298, 1313, 1387, 1564, 1592, 1693, 1746, 2084, 2113, 2245, 2316, 2387, 2423, 2496, 2512, 2593, 2666, 2850, 3000, 3046, 3050, 3064, 3197, 3206, 3208, 3238, 3262, 3368, 3394, 3396, 3408, 3410, 3470, 3481, 3484, 3493, 3497, 3557, 3562, 3563, 3578, 3584, 3602, 3611, 3651, 3678, 3731, 3732, 3734, 3809, 3830, 3846, 3921, 3946, 3965, 3967, 3978, 4038, 4083, 4090\n",
      "\n"
     ]
    },
    {
     "data": {
      "image/png": "[encoded data removed]",
      "text/plain": [
       "<Figure size 432x288 with 1 Axes>"
      ]
     },
     "metadata": {
      "needs_background": "light"
     },
     "output_type": "display_data"
    },
    {
     "name": "stdout",
     "output_type": "stream",
     "text": [
      "出力SDRがほとんど変化していないことに注目してください\n",
      "\n",
      "\n",
      "入力SDRにさらに20%のノイズを追加\n",
      "Input SDR( 32, 32 ) 57, 85, 188, 192, 235, 354, 363, 380, 392, 448, 527, 614, 676, 701, 722, 746, 754, 766, 824, 933\n",
      "\n",
      "Running the Spatial Pooler ...\n",
      "\n",
      "Active Outputs SDR( 64, 64 ) 82, 332, 362, 364, 366, 468, 486, 527, 570, 593, 647, 664, 676, 678, 731, 976, 985, 1046, 1138, 1251, 1297, 1298, 1313, 1356, 1552, 1556, 1564, 1606, 1693, 1750, 1946, 2006, 2027, 2113, 2316, 2320, 2387, 2416, 2496, 2507, 2512, 2545, 2593, 2637, 2823, 2828, 2927, 2947, 2974, 3000, 3050, 3064, 3094, 3120, 3197, 3238, 3497, 3545, 3557, 3578, 3584, 3611, 3651, 3654, 3678, 3731, 3732, 3825, 3830, 3832, 3879, 3921, 3927, 3967, 3978, 3989, 4038, 4059, 4068, 4083, 4090\n",
      "\n"
     ]
    },
    {
     "data": {
      "image/png": "[encoded data removed]",
      "text/plain": [
       "<Figure size 432x288 with 1 Axes>"
      ]
     },
     "metadata": {
      "needs_background": "light"
     },
     "output_type": "display_data"
    },
    {
     "name": "stdout",
     "output_type": "stream",
     "text": [
      "今までの出力SDRとは大きく異なります\n",
      "しかし、出力の間にはまだ似たようなものがあります\n",
      "\n",
      "End.\n"
     ]
    }
   ],
   "source": [
    "# レッスン3、似たような入力を試してみる\n",
    "print(\"=\" * 70)\n",
    "print(\"\")\n",
    "print(\"\")\n",
    "print(\"レッスン3）似たような入力は似たような出力を与えます\")\n",
    "print(\"          今は入力SDRを少し変えています\")\n",
    "print(\"          1を0に、0を1に少しずつ変えていきます\")\n",
    "print(\"          結果として得られるSDRは、元のSDRと類似していますが、同一ではありません\")\n",
    "print(\"\")\n",
    "\n",
    "print(\"前の実行から入力SDRに10%のノイズを追加します\")\n",
    "inputSDR.addNoise(0.10)\n",
    "print(\"Input \" + str(inputSDR))\n",
    "print(\"\")\n",
    "run()\n",
    "print(\"出力SDRがほとんど変化していないことに注目してください\")\n",
    "print(\"\")\n",
    "print(\"\")\n",
    "print(\"入力SDRにさらに20%のノイズを追加\")\n",
    "inputSDR.addNoise(0.2)\n",
    "print(\"Input \" + str(inputSDR))\n",
    "print(\"\")\n",
    "run()\n",
    "print(\"今までの出力SDRとは大きく異なります\")\n",
    "print(\"しかし、出力の間にはまだ似たようなものがあります\")\n",
    "print(\"\")\n",
    "print(\"End.\")"
   ]
  },
  {
   "cell_type": "code",
   "execution_count": null,
   "metadata": {},
   "outputs": [],
   "source": []
  },
  {
   "cell_type": "code",
   "execution_count": null,
   "metadata": {},
   "outputs": [],
   "source": []
  },
  {
   "cell_type": "code",
   "execution_count": null,
   "metadata": {},
   "outputs": [],
   "source": []
  }
 ],
 "metadata": {
  "kernelspec": {
   "display_name": "Python 3.7.1 64-bit",
   "language": "python",
   "name": "python37164biteddaa04d9bd6403f87a9a26eeb0f918e"
  },
  "language_info": {
   "codemirror_mode": {
    "name": "ipython",
    "version": 3
   },
   "file_extension": ".py",
   "mimetype": "text/x-python",
   "name": "python",
   "nbconvert_exporter": "python",
   "pygments_lexer": "ipython3",
   "version": "3.7.1"
  }
 },
 "nbformat": 4,
 "nbformat_minor": 2
}
