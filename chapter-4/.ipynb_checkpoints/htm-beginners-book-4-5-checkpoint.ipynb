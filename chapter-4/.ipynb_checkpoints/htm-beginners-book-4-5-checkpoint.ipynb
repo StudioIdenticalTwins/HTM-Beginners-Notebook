{
 "cells": [
  {
   "cell_type": "code",
   "execution_count": 1,
   "metadata": {},
   "outputs": [],
   "source": [
    "import numpy as np\n",
    "from htm.bindings.encoders import ScalarEncoder, ScalarEncoderParameters\n",
    "from htm.bindings.sdr import SDR\n",
    "from htm.algorithms import SpatialPooler as SP\n",
    "from htm.bindings.algorithms import Classifier\n",
    "\n",
    "categories = {\"cat\":0, \"dog\":1, \"monkey\":2, \"slow loris\":3}\n",
    "\n",
    "scalarEncoderParams = ScalarEncoderParameters()\n",
    "scalarEncoderParams.minimum = 0\n",
    "scalarEncoderParams.maximum = 4\n",
    "scalarEncoderParams.activeBits = 3\n",
    "scalarEncoderParams.category = True\n",
    "\n",
    "enc = ScalarEncoder(scalarEncoderParams)"
   ]
  },
  {
   "cell_type": "code",
   "execution_count": 2,
   "metadata": {},
   "outputs": [
    {
     "name": "stdout",
     "output_type": "stream",
     "text": [
      "cat =  SDR( 15 ) 0, 1, 2\n",
      "dog =  SDR( 15 ) 3, 4, 5\n",
      "monkey =  SDR( 15 ) 6, 7, 8\n",
      "slow loris = SDR( 15 ) 9, 10, 11\n"
     ]
    }
   ],
   "source": [
    "print (\"cat = \", enc.encode(0))\n",
    "print (\"dog = \", enc.encode(1))\n",
    "print (\"monkey = \", enc.encode(2))\n",
    "print (\"slow loris =\", enc.encode(3))"
   ]
  },
  {
   "cell_type": "code",
   "execution_count": 3,
   "metadata": {},
   "outputs": [],
   "source": [
    "inputSDR  = SDR( dimensions = (15, ) )\n",
    "activeSDR = SDR( dimensions = (256, ) )\n",
    "sp = SP(inputDimensions  = inputSDR.dimensions,\n",
    "        columnDimensions = activeSDR.dimensions,\n",
    "        localAreaDensity = 0.02,\n",
    "        globalInhibition = True,\n",
    "        seed             = 1,\n",
    "        synPermActiveInc   = 0.01,\n",
    "        synPermInactiveDec = 0.008)"
   ]
  },
  {
   "cell_type": "code",
   "execution_count": 4,
   "metadata": {},
   "outputs": [],
   "source": [
    "clsr = Classifier()"
   ]
  },
  {
   "cell_type": "code",
   "execution_count": 5,
   "metadata": {},
   "outputs": [
    {
     "name": "stdout",
     "output_type": "stream",
     "text": [
      "Active Outputs:  SDR( 256 ) 63, 77, 118, 250, 255\n",
      "Classifier learn:  cat\n",
      "Active Outputs:  SDR( 256 ) 137, 165, 244, 245, 251\n",
      "Classifier learn:  dog\n",
      "Active Outputs:  SDR( 256 ) 9, 96, 97, 238, 243\n",
      "Classifier learn:  monkey\n",
      "Active Outputs:  SDR( 256 ) 96, 165, 171, 228, 253\n",
      "Classifier learn:  slow loris\n",
      "Active Outputs:  SDR( 256 ) 63, 77, 118, 250, 255\n",
      "Classifier learn:  cat\n",
      "Active Outputs:  SDR( 256 ) 137, 165, 244, 245, 251\n",
      "Classifier learn:  dog\n",
      "Active Outputs:  SDR( 256 ) 9, 96, 97, 238, 243\n",
      "Classifier learn:  monkey\n",
      "Active Outputs:  SDR( 256 ) 96, 165, 171, 228, 253\n",
      "Classifier learn:  slow loris\n",
      "Active Outputs:  SDR( 256 ) 63, 77, 118, 250, 255\n",
      "Classifier learn:  cat\n",
      "Active Outputs:  SDR( 256 ) 137, 165, 244, 245, 251\n",
      "Classifier learn:  dog\n",
      "Active Outputs:  SDR( 256 ) 9, 96, 97, 238, 243\n",
      "Classifier learn:  monkey\n",
      "Active Outputs:  SDR( 256 ) 96, 165, 171, 228, 253\n",
      "Classifier learn:  slow loris\n",
      "Active Outputs:  SDR( 256 ) 63, 77, 118, 250, 255\n",
      "Classifier learn:  cat\n",
      "Active Outputs:  SDR( 256 ) 137, 165, 244, 245, 251\n",
      "Classifier learn:  dog\n",
      "Active Outputs:  SDR( 256 ) 9, 96, 97, 238, 243\n",
      "Classifier learn:  monkey\n",
      "Active Outputs:  SDR( 256 ) 96, 165, 171, 228, 253\n",
      "Classifier learn:  slow loris\n",
      "Active Outputs:  SDR( 256 ) 63, 77, 118, 250, 255\n",
      "Classifier learn:  cat\n",
      "Active Outputs:  SDR( 256 ) 137, 165, 244, 245, 251\n",
      "Classifier learn:  dog\n",
      "Active Outputs:  SDR( 256 ) 9, 96, 97, 238, 243\n",
      "Classifier learn:  monkey\n",
      "Active Outputs:  SDR( 256 ) 96, 165, 171, 228, 253\n",
      "Classifier learn:  slow loris\n",
      "Active Outputs:  SDR( 256 ) 63, 77, 118, 250, 255\n",
      "Classifier learn:  cat\n",
      "Active Outputs:  SDR( 256 ) 137, 165, 244, 245, 251\n",
      "Classifier learn:  dog\n",
      "Active Outputs:  SDR( 256 ) 9, 96, 97, 238, 243\n",
      "Classifier learn:  monkey\n",
      "Active Outputs:  SDR( 256 ) 96, 165, 171, 228, 253\n",
      "Classifier learn:  slow loris\n",
      "Active Outputs:  SDR( 256 ) 63, 77, 118, 250, 255\n",
      "Classifier learn:  cat\n",
      "Active Outputs:  SDR( 256 ) 137, 165, 244, 245, 251\n",
      "Classifier learn:  dog\n",
      "Active Outputs:  SDR( 256 ) 9, 96, 97, 238, 243\n",
      "Classifier learn:  monkey\n",
      "Active Outputs:  SDR( 256 ) 96, 165, 171, 228, 253\n",
      "Classifier learn:  slow loris\n",
      "Active Outputs:  SDR( 256 ) 63, 77, 118, 250, 255\n",
      "Classifier learn:  cat\n",
      "Active Outputs:  SDR( 256 ) 137, 165, 244, 245, 251\n",
      "Classifier learn:  dog\n",
      "Active Outputs:  SDR( 256 ) 9, 96, 97, 238, 243\n",
      "Classifier learn:  monkey\n",
      "Active Outputs:  SDR( 256 ) 96, 165, 171, 228, 253\n",
      "Classifier learn:  slow loris\n",
      "Active Outputs:  SDR( 256 ) 63, 77, 118, 250, 255\n",
      "Classifier learn:  cat\n",
      "Active Outputs:  SDR( 256 ) 137, 165, 244, 245, 251\n",
      "Classifier learn:  dog\n",
      "Active Outputs:  SDR( 256 ) 9, 96, 97, 238, 243\n",
      "Classifier learn:  monkey\n",
      "Active Outputs:  SDR( 256 ) 96, 165, 171, 228, 253\n",
      "Classifier learn:  slow loris\n",
      "Active Outputs:  SDR( 256 ) 63, 77, 118, 250, 255\n",
      "Classifier learn:  cat\n",
      "Active Outputs:  SDR( 256 ) 137, 165, 244, 245, 251\n",
      "Classifier learn:  dog\n",
      "Active Outputs:  SDR( 256 ) 9, 96, 97, 238, 243\n",
      "Classifier learn:  monkey\n",
      "Active Outputs:  SDR( 256 ) 96, 165, 171, 228, 253\n",
      "Classifier learn:  slow loris\n"
     ]
    }
   ],
   "source": [
    "for i in range(10):\n",
    "    for i in range(4):\n",
    "        inputSDR=enc.encode(i)\n",
    "        sp.compute(inputSDR, True, activeSDR)\n",
    "        print(\"Active Outputs: \",activeSDR)\n",
    "        clsr.learn( activeSDR, list(categories.values())[i]  )\n",
    "        print(\"Classifier learn: \",list(categories)[i] )"
   ]
  },
  {
   "cell_type": "code",
   "execution_count": 7,
   "metadata": {},
   "outputs": [
    {
     "name": "stdout",
     "output_type": "stream",
     "text": [
      "Active Outputs:  SDR( 256 ) 63, 77, 118, 250, 255\n",
      "PDF:  [0.258488742996381, 0.24717042140781767, 0.24717042140781767, 0.24717042140781767]\n",
      "predict index:  cat\n",
      "Active Outputs:  SDR( 256 ) 137, 165, 244, 245, 251\n",
      "PDF:  [0.24595064934189895, 0.25848448968204585, 0.24655581844884514, 0.24900903993259643]\n",
      "predict index:  dog\n",
      "Active Outputs:  SDR( 256 ) 9, 96, 97, 238, 243\n",
      "PDF:  [0.24615101958766583, 0.2461476989908926, 0.2586946942936358, 0.24900661536158644]\n",
      "predict index:  monkey\n",
      "Active Outputs:  SDR( 256 ) 96, 165, 171, 228, 253\n",
      "PDF:  [0.2455704956417759, 0.24800775860730567, 0.24812887543982481, 0.25829288536580647]\n",
      "predict index:  slow loris\n"
     ]
    }
   ],
   "source": [
    "for i in range(4):\n",
    "    inputSDR=enc.encode(i)\n",
    "    sp.compute(inputSDR, False, activeSDR)\n",
    "    print(\"Active Outputs: \",activeSDR)\n",
    "    pdf = clsr.infer( activeSDR )\n",
    "    print(\"PDF: \",pdf)\n",
    "    predict = list(categories)[np.argmax( pdf )]  \n",
    "    print(\"predict index: \",predict)"
   ]
  },
  {
   "cell_type": "code",
   "execution_count": 10,
   "metadata": {},
   "outputs": [
    {
     "name": "stdout",
     "output_type": "stream",
     "text": [
      "SDR( 15 ) 0, 1, 4\n"
     ]
    }
   ],
   "source": [
    "catdog=[1,1,0,0,1,0,0,0,0,0,0,0,0,0,0]\n",
    "inputSDR = SDR(dimensions = (15, ))\n",
    "inputSDR.dense = np.array(catdog)\n",
    "print(inputSDR)"
   ]
  },
  {
   "cell_type": "code",
   "execution_count": 11,
   "metadata": {},
   "outputs": [
    {
     "name": "stdout",
     "output_type": "stream",
     "text": [
      "Active Outputs:  SDR( 256 ) 23, 158, 246, 251, 255\n",
      "PDF:  [0.2509958897823586, 0.2512442096420467, 0.2488813317531423, 0.24887856245584714]\n",
      "predict index:  dog\n"
     ]
    }
   ],
   "source": [
    "sp.compute(inputSDR, False, activeSDR)\n",
    "print(\"Active Outputs: \",activeSDR)\n",
    "pdf = clsr.infer( activeSDR )\n",
    "print(\"PDF: \",pdf)\n",
    "predict = list(categories)[np.argmax( pdf )]  \n",
    "print(\"predict index: \",predict)"
   ]
  },
  {
   "cell_type": "code",
   "execution_count": null,
   "metadata": {},
   "outputs": [],
   "source": []
  }
 ],
 "metadata": {
  "kernelspec": {
   "display_name": "Python 3.7.1 64-bit",
   "language": "python",
   "name": "python37164biteddaa04d9bd6403f87a9a26eeb0f918e"
  },
  "language_info": {
   "codemirror_mode": {
    "name": "ipython",
    "version": 3
   },
   "file_extension": ".py",
   "mimetype": "text/x-python",
   "name": "python",
   "nbconvert_exporter": "python",
   "pygments_lexer": "ipython3",
   "version": "3.7.1"
  }
 },
 "nbformat": 4,
 "nbformat_minor": 2
}
