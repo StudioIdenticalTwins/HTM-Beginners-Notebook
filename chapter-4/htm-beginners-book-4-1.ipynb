{
 "cells": [
  {
   "cell_type": "markdown",
   "metadata": {},
   "source": [
    "## SPの実装方法"
   ]
  },
  {
   "cell_type": "code",
   "execution_count": 1,
   "metadata": {},
   "outputs": [],
   "source": [
    "from htm.bindings.sdr import SDR\n",
    "from htm.algorithms import SpatialPooler as SP\n",
    "\n",
    "inputSDR  = SDR( dimensions = (32, 32) )\n",
    "activeSDR = SDR( dimensions = (64, 64) )\n",
    "sp = SP(inputDimensions  = inputSDR.dimensions,\n",
    "        columnDimensions = activeSDR.dimensions,\n",
    "        localAreaDensity = 0.02,\n",
    "        globalInhibition = True,\n",
    "        seed             = 1,\n",
    "        synPermActiveInc   = 0.01,\n",
    "        synPermInactiveDec = 0.008)"
   ]
  },
  {
   "cell_type": "code",
   "execution_count": 9,
   "metadata": {},
   "outputs": [
    {
     "name": "stdout",
     "output_type": "stream",
     "text": [
      "Active Outputs SDR( 64, 64 ) 91, 100, 356, 445, 471, 532, 629, 639, 903, 973, 1030, 1081, 1110, 1138, 1163, 1205, 1306, 1459, 1842, 1860, 1885, 1947, 1949, 1972, 2035, 2044, 2071, 2103, 2176, 2292, 2294, 2839, 2863, 2987, 3007, 3008, 3015, 3016, 3038, 3041, 3044, 3070, 3081, 3172, 3194, 3259, 3318, 3321, 3349, 3364, 3376, 3384, 3428, 3488, 3496, 3530, 3571, 3584, 3602, 3637, 3664, 3674, 3703, 3725, 3744, 3746, 3750, 3754, 3786, 3796, 3858, 3898, 3935, 3973, 4019, 4029, 4033, 4041, 4046, 4054, 4086\n",
      "\n"
     ]
    },
    {
     "data": {
      "image/png": "[encoded data removed]",
      "text/plain": [
       "<Figure size 432x288 with 1 Axes>"
      ]
     },
     "metadata": {
      "needs_background": "light"
     },
     "output_type": "display_data"
    },
    {
     "name": "stdout",
     "output_type": "stream",
     "text": [
      "Active Outputs SDR( 64, 64 ) 33, 36, 180, 228, 235, 291, 593, 688, 731, 740, 782, 817, 862, 1012, 1014, 1079, 1109, 1143, 1154, 1235, 1246, 1370, 1445, 1505, 1643, 1752, 1849, 1973, 1976, 1980, 1994, 2220, 2253, 2500, 2738, 2779, 2784, 2786, 2788, 2801, 2959, 3068, 3082, 3109, 3120, 3132, 3154, 3234, 3294, 3310, 3326, 3348, 3378, 3403, 3428, 3444, 3445, 3450, 3500, 3507, 3509, 3515, 3556, 3582, 3584, 3586, 3596, 3622, 3637, 3645, 3695, 3716, 3745, 3816, 3855, 3860, 3870, 3888, 3952, 3981, 4070\n",
      "\n"
     ]
    },
    {
     "data": {
      "image/png": "[encoded data removed]",
      "text/plain": [
       "<Figure size 432x288 with 1 Axes>"
      ]
     },
     "metadata": {
      "needs_background": "light"
     },
     "output_type": "display_data"
    },
    {
     "name": "stdout",
     "output_type": "stream",
     "text": [
      "Active Outputs SDR( 64, 64 ) 119, 151, 249, 462, 511, 627, 631, 738, 779, 1116, 1266, 1289, 1415, 1422, 1432, 1437, 1470, 1575, 1649, 1740, 1749, 1760, 1859, 1906, 2144, 2165, 2167, 2186, 2291, 2410, 2530, 2667, 2686, 2745, 2781, 2794, 2841, 2866, 2873, 2914, 3037, 3147, 3164, 3246, 3258, 3273, 3306, 3340, 3359, 3376, 3398, 3407, 3409, 3413, 3430, 3515, 3535, 3570, 3623, 3626, 3654, 3673, 3677, 3726, 3735, 3780, 3785, 3792, 3807, 3837, 3857, 3885, 3926, 3954, 4003, 4018, 4025, 4041, 4060, 4073, 4078\n",
      "\n"
     ]
    },
    {
     "data": {
      "image/png": "[encoded data removed]",
      "text/plain": [
       "<Figure size 432x288 with 1 Axes>"
      ]
     },
     "metadata": {
      "needs_background": "light"
     },
     "output_type": "display_data"
    }
   ],
   "source": [
    "import matplotlib\n",
    "import matplotlib.pyplot as plt\n",
    "\n",
    "for i in range(3):\n",
    "    inputSDR.randomize( .02 )\n",
    "    sp.compute(inputSDR, True, activeSDR)\n",
    "    print(\"Active Outputs \" + str(activeSDR))\n",
    "    print(\"\")\n",
    "\n",
    "    sampleSDR=activeSDR.dense.reshape(64,64)\n",
    "    plt.imshow(sampleSDR, cmap = \"Blues\")\n",
    "    plt.show()"
   ]
  },
  {
   "cell_type": "code",
   "execution_count": 3,
   "metadata": {},
   "outputs": [
    {
     "name": "stdout",
     "output_type": "stream",
     "text": [
      "Spatial Pooler Connections:\n",
      "    Inputs (1024) ~> Outputs (4096) via Segments (4096)\n",
      "    Segments on Cell Min/Mean/Max 1 / 1 / 1\n",
      "    Potential Synapses on Segment Min/Mean/Max 512 / 512 / 512\n",
      "    Connected Synapses on Segment Min/Mean/Max 218 / 256.021 / 301\n",
      "    Synapses Dead (0.00229979%) Saturated (1.28746e-05%)\n",
      "    Synapses pruned (0%) Segments pruned (0%)\n",
      "\n"
     ]
    }
   ],
   "source": [
    "print(sp)"
   ]
  },
  {
   "cell_type": "code",
   "execution_count": 8,
   "metadata": {},
   "outputs": [
    {
     "data": {
      "image/png": "[encoded data removed]",
      "text/plain": [
       "<Figure size 432x288 with 1 Axes>"
      ]
     },
     "metadata": {
      "needs_background": "light"
     },
     "output_type": "display_data"
    }
   ],
   "source": []
  },
  {
   "cell_type": "code",
   "execution_count": null,
   "metadata": {},
   "outputs": [],
   "source": []
  }
 ],
 "metadata": {
  "kernelspec": {
   "display_name": "Python 3.7.1 64-bit",
   "language": "python",
   "name": "python37164biteddaa04d9bd6403f87a9a26eeb0f918e"
  },
  "language_info": {
   "codemirror_mode": {
    "name": "ipython",
    "version": 3
   },
   "file_extension": ".py",
   "mimetype": "text/x-python",
   "name": "python",
   "nbconvert_exporter": "python",
   "pygments_lexer": "ipython3",
   "version": "3.7.1"
  }
 },
 "nbformat": 4,
 "nbformat_minor": 2
}
