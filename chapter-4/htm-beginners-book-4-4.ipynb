{
 "cells": [
  {
   "cell_type": "markdown",
   "metadata": {},
   "source": [
    " # Classifierアルゴリズム\n",
    " \n",
    " ## `Classifier()`\n",
    " \n",
    "SDR 分類器は、単層の分類ネットワークの形をしています。SDRを入力として受け取り、カテゴリの予測分布を出力します。\n",
    " \n",
    "カテゴリは、符号なし整数でラベル付けされます。 他のデータ型は、列挙するか、正整数に変換する必要があります。 出力単位は、最大カテゴリラベルの数だけあります。\n",
    "\n",
    "推論の間、出力は最初にすべての入力の加重和を行い、その後、カテゴリーラベルの予測分布を得るためにソフトマックス非線形関数を実行することによって計算されます。\n",
    "\n",
    "学習中、入力ユニットと出力ユニット間の接続重みは、モデルの尤度を最大化するように調整される。"
   ]
  },
  {
   "cell_type": "markdown",
   "metadata": {},
   "source": [
    "### メソッド\n",
    "\n",
    "`infer(...)`：\n",
    "\n",
    "引数パターンは、アクティブな入力ビットを含む SDRです。\n",
    "\n",
    "PDF（Probablility Distribution Function）は、カテゴリの確率分布関数を返します。PDF は、合計が 1 になる確率のリストです。\n",
    "\n",
    "このリストの**各インデックスはカテゴリのラベル**であり、**各値はそのカテゴリの尤度**である。確率が最も高いカテゴリを見つけるには、`numpy.argmax`を使用してください。"
   ]
  },
  {
   "cell_type": "markdown",
   "metadata": {},
   "source": [
    "## カテゴリ分類器"
   ]
  },
  {
   "cell_type": "code",
   "execution_count": 20,
   "metadata": {},
   "outputs": [
    {
     "name": "stdout",
     "output_type": "stream",
     "text": [
      "----------------------------------------------------------------------\n",
      "inputData:  SDR( 1000 ) 0, 157, 167, 182, 218, 301, 483, 491, 500, 631, 646, 778, 784, 785, 828, 842, 883, 893, 909, 958\n",
      "----------------------------------------------------------------------\n",
      "PDF:  [0.248743755155006, 0.248743755155006, 0.248743755155006, 0.2537687125734917]\n",
      "----------------------------------------------------------------------\n",
      "predict index:  3\n",
      "----------------------------------------------------------------------\n",
      "predict lebel:  D\n"
     ]
    }
   ],
   "source": [
    "import numpy as np\n",
    "from htm.bindings.sdr import SDR\n",
    "from htm.bindings.algorithms import Classifier\n",
    "\n",
    "categories = { 'A': 0, 'B': 1, 'C': 2, 'D': 3 }\n",
    "\n",
    "# ランダムなSDRを作成し、カテゴリに関連付けます。\n",
    "inputData  = SDR( dimensions = (1000 , ) ).randomize( 0.02 )\n",
    "print(\"-\"*70 )\n",
    "print(\"inputData: \",inputData)\n",
    "clsr = Classifier()\n",
    "clsr.learn( inputData, categories['D'] )\n",
    "print(\"-\"*70 )\n",
    "print(\"PDF: \",clsr.infer( inputData ) )\n",
    "print(\"-\"*70 )\n",
    "predict = np.argmax( clsr.infer( inputData ) )  #->  categories['D']\n",
    "print(\"predict index: \",predict)\n",
    "\n",
    "predict_key = [k for k, v in categories.items() if v == predict]\n",
    "print(\"-\"*70 )\n",
    "print(\"predict lebel: \",predict_key[0])"
   ]
  },
  {
   "cell_type": "code",
   "execution_count": 21,
   "metadata": {},
   "outputs": [
    {
     "data": {
      "image/png": "[encoded data removed]",
      "text/plain": [
       "<Figure size 432x288 with 1 Axes>"
      ]
     },
     "metadata": {
      "needs_background": "light"
     },
     "output_type": "display_data"
    }
   ],
   "source": [
    "import matplotlib.pyplot as plt\n",
    "plt.plot(clsr.infer( inputData ))\n",
    "plt.show()"
   ]
  },
  {
   "cell_type": "markdown",
   "metadata": {},
   "source": [
    "## スカラー分類器"
   ]
  },
  {
   "cell_type": "code",
   "execution_count": 19,
   "metadata": {},
   "outputs": [
    {
     "name": "stdout",
     "output_type": "stream",
     "text": [
      "----------------------------------------------------------------------\n",
      "inputData:  SDR( 1000 ) 22, 26, 74, 135, 137, 204, 237, 450, 570, 596, 627, 651, 665, 741, 762, 809, 832, 867, 953, 997\n",
      "----------------------------------------------------------------------\n",
      "PDF:  [0.14244605336420796, 0.14244605336420796, 0.14244605336420796, 0.14244605336420796, 0.14244605336420796, 0.14244605336420796, 0.1453236546617378]\n",
      "----------------------------------------------------------------------\n",
      "predict :  560\n"
     ]
    }
   ],
   "source": [
    "import numpy as np\n",
    "from htm.bindings.sdr import SDR\n",
    "from htm.bindings.algorithms import Classifier\n",
    "\n",
    "clsr = Classifier()\n",
    "\n",
    "# スカラー値を推定します． \n",
    "# Classifierはカテゴリしか受け付けないので、\n",
    "# 最小値を引き算して解像度で割ることで、\n",
    "# 実数値の入力をビン(別名バケツ)に入れてください。\n",
    "scalar     = 567.8\n",
    "minimum    = 500\n",
    "resolution = 10\n",
    "\n",
    "inputData  = SDR( dimensions = (1000 , ) ).randomize( 0.02 )\n",
    "print(\"-\"*70 )\n",
    "print(\"inputData: \",inputData)\n",
    "clsr.learn( inputData, int((scalar - minimum) / resolution) )\n",
    "print(\"-\"*70 )\n",
    "print(\"PDF: \",clsr.infer( inputData ) )\n",
    "predict = np.argmax( clsr.infer( inputData ) ) * resolution + minimum  #->  560\n",
    "print(\"-\"*70 )\n",
    "print(\"predict : \",predict)"
   ]
  },
  {
   "cell_type": "code",
   "execution_count": 10,
   "metadata": {},
   "outputs": [
    {
     "data": {
      "image/png": "[encoded data removed]",
      "text/plain": [
       "<Figure size 432x288 with 1 Axes>"
      ]
     },
     "metadata": {
      "needs_background": "light"
     },
     "output_type": "display_data"
    }
   ],
   "source": [
    "plt.plot(clsr.infer( inputData ))\n",
    "plt.show()"
   ]
  },
  {
   "cell_type": "code",
   "execution_count": null,
   "metadata": {},
   "outputs": [],
   "source": []
  }
 ],
 "metadata": {
  "kernelspec": {
   "display_name": "Python 3.7.1 64-bit",
   "language": "python",
   "name": "python37164biteddaa04d9bd6403f87a9a26eeb0f918e"
  },
  "language_info": {
   "codemirror_mode": {
    "name": "ipython",
    "version": 3
   },
   "file_extension": ".py",
   "mimetype": "text/x-python",
   "name": "python",
   "nbconvert_exporter": "python",
   "pygments_lexer": "ipython3",
   "version": "3.7.1"
  }
 },
 "nbformat": 4,
 "nbformat_minor": 2
}
