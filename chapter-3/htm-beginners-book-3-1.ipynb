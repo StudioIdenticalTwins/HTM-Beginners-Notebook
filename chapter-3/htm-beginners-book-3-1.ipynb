{
 "cells": [
  {
   "cell_type": "markdown",
   "metadata": {},
   "source": [
    "## Encoders（エンコーダー）\n",
    "\n",
    "すべてのエンコーダーが持つべき重要な特性がいくつかあります。\n",
    "\n",
    "- 意味的類似性：類似した入力は高いオーバーラップを持っている必要があります。 \n",
    "- 安定性：エンコード中に入力の表現が変化しないこと。\n",
    "- 分散性：出力SDR は、 すべての入力に対して同じ疎分散度を持ち、ノイズとサブサンプリングを処理するのに十分なアクティブビットを持つ必要があ り ます。\n",
    "\n",
    "エンコーダーの主なクラスは以下のとおりです。\n",
    "\n",
    "- ScalarEncoder - スカラエンコーダー\n",
    "- RDSE - ランダム分散スカラーエンコーダ (RDSE)\n",
    "- DateEncoder - 日付エンコーダー\n",
    "\n",
    "NuPICからの変更点として、カテゴリークラスはなくなり、ScalarEncoder もしくは RDSE クラスのメソッドで category を指定するようになりました。"
   ]
  },
  {
   "cell_type": "code",
   "execution_count": 7,
   "metadata": {},
   "outputs": [
    {
     "name": "stdout",
     "output_type": "stream",
     "text": [
      "Help on module htm.bindings.encoders in htm.bindings.encoders:\r\n",
      "\r\n",
      "N\bNA\bAM\bME\bE\r\n",
      "    htm.bindings.encoders - Encoders convert values into sparse distributed representation.\r\n",
      "\r\n",
      "D\bDE\bES\bSC\bCR\bRI\bIP\bPT\bTI\bIO\bON\bN\r\n",
      "    There are several critical properties which all encoders must have:\r\n",
      "    \r\n",
      "        1) Semantic similarity:  Similar inputs should have high overlap.  Overlap\r\n",
      "        decreases smoothly as inputs become less similar.  Dissimilar inputs have\r\n",
      "        very low overlap so that the output representations are not easily confused.\r\n",
      "    \r\n",
      "        2) Stability:  The representation for an input does not change during the\r\n",
      "        lifetime of the encoder.\r\n",
      "    \r\n",
      "        3) Sparsity: The output SDR should have a similar sparsity for all inputs and\r\n",
      "        have enough active bits to handle noise and subsampling.\r\n",
      "    \r\n",
      "    Reference: https://arxiv.org/pdf/1602.05925.pdf\r\n",
      "    \r\n",
      "    \r\n",
      "    CategoryEncoders:\r\n",
      "    \r\n",
      "        To encode categories of input, make a ScalarEncoder or a Random Distributed\r\n",
      "    Scalar Encoder (RDSE), and set the parameter category=True.  Then enumerate your\r\n",
      "    categories into integers before encoding them.\r\n",
      "\r\n",
      "C\bCL\bLA\bAS\bSS\bSE\bES\bS\r\n",
      "    pybind11_builtins.pybind11_object(builtins.object)\r\n",
      "        DateEncoder\r\n",
      "        DateEncoderParameters\r\n",
      "        RDSE\r\n",
      "        RDSE_Parameters\r\n",
      "        ScalarEncoder\r\n",
      "        ScalarEncoderParameters\r\n",
      "        SimHashDocumentEncoder\r\n",
      "        SimHashDocumentEncoderParameters\r\n",
      "    \r\n",
      "    class D\bDa\bat\bte\beE\bEn\bnc\bco\bod\bde\ber\br(pybind11_builtins.pybind11_object)\r\n",
      "     |  * The DateEncoder encodes up to 6 attributes of a timestamp value into an array of 0's and 1's.\r\n",
      "     |  \r\n",
      "     |  The input is a timestamp which is unix date/time; an integral value representing the number of\r\n",
      "     |  seconds elapsed since 00:00 hours, Jan 1, 1970 UTC (the unix EPOCH).  Some platforms (unix and linux)\r\n",
      "     |  allow negitive numbers as the timestamp which allows time before EPOCH to be expressed.\r\n",
      "     |  However some platforms (windows) allow only positive numbers.  If the type time_t on your computer\r\n",
      "     |  is is 32bits then the timestamp will not allow dates after Jan 18, 2038. By default, on windows\r\n",
      "     |  it is 64bit but on some older 32bit linux machines time_t is 32bit. google \"Y2K38\".\r\n",
      "     |  \r\n",
      "     |  The output is an array containing 0's except for a contiguous block of 1's for each\r\n",
      "     |  attribute member. This is held in an SDR container although technically this is not\r\n",
      "     |  a sparse representation. It is normally passed to a SpatialPooler which will turn\r\n",
      "     |  this into a true sparse representation.\r\n",
      "     |  \r\n",
      "     |  Method resolution order:\r\n",
      "     |      DateEncoder\r\n",
      "     |      pybind11_builtins.pybind11_object\r\n",
      "     |      builtins.object\r\n",
      "     |  \r\n",
      "     |  Methods defined here:\r\n",
      "     |  \r\n",
      "     |  _\b__\b_i\bin\bni\bit\bt_\b__\b_(...)\r\n",
      "     |      __init__(self: htm.bindings.encoders.DateEncoder, arg0: htm.bindings.encoders.DateEncoderParameters) -> None\r\n",
      "     |  \r\n",
      "     |  e\ben\bnc\bco\bod\bde\be(...)\r\n",
      "     |      encode(*args, **kwargs)\r\n",
      "     |      Overloaded function.\r\n",
      "     |      \r\n",
      "     |      1. encode(self: htm.bindings.encoders.DateEncoder, arg0: datetime.datetime) -> htm::SparseDistributedRepresentation\r\n",
      "     |      \r\n",
      "     |      Encodes a .py datetime.datetime into an SDR structure. \r\n",
      "     |      \r\n",
      "     |      2. encode(self: htm.bindings.encoders.DateEncoder, arg0: datetime.datetime, arg1: htm::SparseDistributedRepresentation) -> htm::SparseDistributedRepresentation\r\n",
      "     |      \r\n",
      "     |      Encodes a .py datetime.datetime into an SDR structure.\r\n",
      "     |  \r\n",
      "     |  ----------------------------------------------------------------------\r\n",
      "     |  Data descriptors defined here:\r\n",
      "     |  \r\n",
      "     |  d\bdi\bim\bme\ben\bns\bsi\bio\bon\bns\bs\r\n",
      "     |  \r\n",
      "     |  p\bpa\bar\bra\bam\bme\bet\bte\ber\brs\bs\r\n",
      "     |      Contains the parameter structure which this encoder uses internally. All\r\n",
      "     |      fields are filled in.\r\n",
      "     |  \r\n",
      "     |  s\bsi\biz\bze\be\r\n",
      "     |  \r\n",
      "     |  ----------------------------------------------------------------------\r\n",
      "     |  Static methods inherited from pybind11_builtins.pybind11_object:\r\n",
      "     |  \r\n",
      "     |  _\b__\b_n\bne\bew\bw_\b__\b_(*args, **kwargs) from pybind11_builtins.pybind11_type\r\n",
      "     |      Create and return a new object.  See help(type) for accurate signature.\r\n",
      "    \r\n",
      "    class D\bDa\bat\bte\beE\bEn\bnc\bco\bod\bde\ber\brP\bPa\bar\bra\bam\bme\bet\bte\ber\brs\bs(pybind11_builtins.pybind11_object)\r\n",
      "     |  The DateEncoderParameters structure is used to pass configuration parameters to \r\n",
      "     |  the DateEncoder. These Six (6) members define the total number of bits in the output.\r\n",
      "     |      Members:  season, dayOfWeek, weekend, holiday, timeOfDay, customDays\r\n",
      "     |  \r\n",
      "     |  Each member is a separate attribute of a date/time that can be activated\r\n",
      "     |  by providing a width parameter and sometimes a radius parameter.\r\n",
      "     |  Each is implemented separately using a ScalarEncoder and the results\r\n",
      "     |  are concatinated together.\r\n",
      "     |  \r\n",
      "     |  The width attribute determines the number of bits to be used for each member.\r\n",
      "     |  and 0 means don't use.  The width is like a weighting to indicate the relitive importance\r\n",
      "     |  of this member to the overall data value.\r\n",
      "     |  \r\n",
      "     |  The radius attribute indicates the size of the bucket; the quantization size.\r\n",
      "     |  All values in the same bucket generate the same pattern.\r\n",
      "     |  \r\n",
      "     |  To avoid problems with leap year, consider a year to have 366 days.\r\n",
      "     |  The timestamp will be converted to components such as time and dst based on \r\n",
      "     |  local timezone and location (see localtime()).\r\n",
      "     |  \r\n",
      "     |  Method resolution order:\r\n",
      "     |      DateEncoderParameters\r\n",
      "     |      pybind11_builtins.pybind11_object\r\n",
      "     |      builtins.object\r\n",
      "     |  \r\n",
      "     |  Methods defined here:\r\n",
      "     |  \r\n",
      "     |  _\b__\b_i\bin\bni\bit\bt_\b__\b_(...)\r\n",
      "     |      __init__(self: htm.bindings.encoders.DateEncoderParameters) -> None\r\n",
      "     |  \r\n",
      "     |  ----------------------------------------------------------------------\r\n",
      "     |  Data descriptors defined here:\r\n",
      "     |  \r\n",
      "     |  c\bcu\bus\bst\bto\bom\bm_\b_d\bda\bay\bys\bs\r\n",
      "     |      (vector of strings) The custom days list is a vector of strings. Each string can be something like \"Monday\" or \"mon\", or \r\n",
      "     |      a list like \"mon,wed,fri\".\r\n",
      "     |  \r\n",
      "     |  c\bcu\bus\bst\bto\bom\bm_\b_w\bwi\bid\bdt\bth\bh\r\n",
      "     |      (int) How many bits to apply to custom days.  A way to custom encode specific groups of days of the week as a category.\r\n",
      "     |  \r\n",
      "     |  d\bda\bay\byO\bOf\bfW\bWe\bee\bek\bk_\b_r\bra\bad\bdi\biu\bus\bs\r\n",
      "     |      (double) how many days in a bucket. Default is 1.0 days.\r\n",
      "     |  \r\n",
      "     |  d\bda\bay\byO\bOf\bfW\bWe\bee\bek\bk_\b_w\bwi\bid\bdt\bth\bh\r\n",
      "     |      how many bits to apply to day of week.\r\n",
      "     |  \r\n",
      "     |  h\bho\bol\bli\bid\bda\bay\by_\b_d\bda\bat\bte\bes\bs\r\n",
      "     |      Each holiday is either [month, day] or [year, month, day].\r\n",
      "     |      The former will use the same month day every year eg: [12, 25] for Christmas.\r\n",
      "     |      The latter will be a one off holiday eg: [2018, 4, 1] for Easter Sunday 2018.\r\n",
      "     |  \r\n",
      "     |  h\bho\bol\bli\bid\bda\bay\by_\b_w\bwi\bid\bdt\bth\bh\r\n",
      "     |      How many bits to apply to a holiday attribute.\r\n",
      "     |  \r",
      "\r\n",
      "     |  s\bse\bea\bas\bso\bon\bn_\b_r\bra\bad\bdi\biu\bus\bs\r\n",
      "     |      season_radius\r\n",
      "     |  \r\n",
      "     |  s\bse\bea\bas\bso\bon\bn_\b_w\bwi\bid\bdt\bth\bh\r\n",
      "     |      (int)how many bits to apply to season.\r\n",
      "     |  \r\n",
      "     |  t\bti\bim\bme\beO\bOf\bfD\bDa\bay\by_\b_r\bra\bad\bdi\biu\bus\bs\r\n",
      "     |      (double) How many hrs are in a bucket. Default is every 4 hrs is a bucket.  Use 0.25f for 15min buckets, etc.\r\n",
      "     |  \r\n",
      "     |  t\bti\bim\bme\beO\bOf\bfD\bDa\bay\by_\b_w\bwi\bid\bdt\bth\bh\r\n",
      "     |      How many bits to apply to time-of-day attribute.\r\n",
      "     |  \r\n",
      "     |  v\bve\ber\brb\bbo\bos\bse\be\r\n",
      "     |      (bool)when true, displays some debug info for each time member that is actuvated.\r\n",
      "     |  \r\n",
      "     |  w\bwe\bee\bek\bke\ben\bnd\bd_\b_w\bwi\bid\bdt\bth\bh\r\n",
      "     |      How many bits to apply to the weekend attribute.\r\n",
      "     |  \r\n",
      "     |  ----------------------------------------------------------------------\r\n",
      "     |  Static methods inherited from pybind11_builtins.pybind11_object:\r\n",
      "     |  \r\n",
      "     |  _\b__\b_n\bne\bew\bw_\b__\b_(*args, **kwargs) from pybind11_builtins.pybind11_type\r\n",
      "     |      Create and return a new object.  See help(type) for accurate signature.\r\n",
      "    \r\n",
      "    class R\bRD\bDS\bSE\bE(pybind11_builtins.pybind11_object)\r\n",
      "     |  Encodes a real number as a set of randomly generated activations.\r\n",
      "     |  \r\n",
      "     |  The Random Distributed Scalar Encoder (RDSE) encodes a numeric scalar (floating\r\n",
      "     |  point) value into an SDR.  The RDSE is more flexible than the ScalarEncoder.\r\n",
      "     |  This encoder does not need to know the minimum and maximum of the input\r\n",
      "     |  range.  It does not assign an input->output mapping at construction.  Instead\r\n",
      "     |  the encoding is determined at runtime.\r\n",
      "     |  \r\n",
      "     |  Note: This implementation differs from Numenta's original RDSE.  The original\r\n",
      "     |  RDSE saved all associations between inputs and active bits for the lifetime\r\n",
      "     |  of the encoder.  This allowed it to guarantee a good set of random\r\n",
      "     |  activations which didn't conflict with any previous encoding.  It also allowed\r\n",
      "     |  the encoder to decode an SDR into the input value which likely created it.\r\n",
      "     |  This RDSE does not save the association between inputs and active bits.  This\r\n",
      "     |  is faster and uses less memory.  It relies on the random & distributed nature\r\n",
      "     |  of SDRs to prevent conflicts between different encodings.  This method does\r\n",
      "     |  not allow for decoding SDRs into the inputs which likely created it.\r\n",
      "     |  \r\n",
      "     |  To inspect this run:\r\n",
      "     |  $ python -m htm.examples.encoders.rdse --help\r\n",
      "     |  \r\n",
      "     |  Method resolution order:\r\n",
      "     |      RDSE\r\n",
      "     |      pybind11_builtins.pybind11_object\r\n",
      "     |      builtins.object\r\n",
      "     |  \r\n",
      "     |  Methods defined here:\r\n",
      "     |  \r\n",
      "     |  _\b__\b_g\bge\bet\bts\bst\bta\bat\bte\be_\b__\b_(...)\r\n",
      "     |      __getstate__(self: htm.bindings.encoders.RDSE) -> bytes\r\n",
      "     |  \r\n",
      "     |  _\b__\b_i\bin\bni\bit\bt_\b__\b_(...)\r\n",
      "     |      __init__(self: htm.bindings.encoders.RDSE, arg0: htm.bindings.encoders.RDSE_Parameters) -> None\r\n",
      "     |  \r\n",
      "     |  _\b__\b_s\bse\bet\bts\bst\bta\bat\bte\be_\b__\b_(...)\r\n",
      "     |      __setstate__(self: htm.bindings.encoders.RDSE, arg0: bytes) -> None\r\n",
      "     |  \r\n",
      "     |  e\ben\bnc\bco\bod\bde\be(...)\r\n",
      "     |      encode(*args, **kwargs)\r\n",
      "     |      Overloaded function.\r\n",
      "     |      \r\n",
      "     |      1. encode(self: htm.bindings.encoders.RDSE, arg0: float, arg1: htm::SparseDistributedRepresentation) -> None\r\n",
      "     |      \r\n",
      "     |      2. encode(self: htm.bindings.encoders.RDSE, arg0: float) -> htm::SparseDistributedRepresentation\r\n",
      "     |  \r\n",
      "     |  l\blo\boa\bad\bdF\bFr\bro\bom\bmF\bFi\bil\ble\be(...)\r\n",
      "     |      loadFromFile(self: htm.bindings.encoders.RDSE, arg0: str) -> None\r\n",
      "     |  \r\n",
      "     |  l\blo\boa\bad\bdF\bFr\bro\bom\bmS\bSt\btr\bri\bin\bng\bg(...)\r\n",
      "     |      loadFromString(self: htm.bindings.encoders.RDSE, arg0: bytes) -> None\r\n",
      "     |  \r\n",
      "     |  s\bsa\bav\bve\beT\bTo\boF\bFi\bil\ble\be(...)\r\n",
      "     |      saveToFile(self: htm.bindings.encoders.RDSE, arg0: str) -> None\r\n",
      "     |  \r\n",
      "     |  w\bwr\bri\bit\bte\beT\bTo\boS\bSt\btr\bri\bin\bng\bg(...)\r\n",
      "     |      writeToString(self: htm.bindings.encoders.RDSE) -> bytes\r\n",
      "     |  \r\n",
      "     |  ----------------------------------------------------------------------\r\n",
      "     |  Data descriptors defined here:\r\n",
      "     |  \r\n",
      "     |  d\bdi\bim\bme\ben\bns\bsi\bio\bon\bns\bs\r\n",
      "     |  \r\n",
      "     |  p\bpa\bar\bra\bam\bme\bet\bte\ber\brs\bs\r\n",
      "     |      Contains the parameter structure which this encoder uses internally. All\r\n",
      "     |      fields are filled in automatically.\r\n",
      "     |  \r\n",
      "     |  s\bsi\biz\bze\be\r\n",
      "     |  \r\n",
      "     |  ----------------------------------------------------------------------\r\n",
      "     |  Static methods inherited from pybind11_builtins.pybind11_object:\r\n",
      "     |  \r\n",
      "     |  _\b__\b_n\bne\bew\bw_\b__\b_(*args, **kwargs) from pybind11_builtins.pybind11_type\r\n",
      "     |      Create and return a new object.  See help(type) for accurate signature.\r\n",
      "    \r\n",
      "    class R\bRD\bDS\bSE\bE_\b_P\bPa\bar\bra\bam\bme\bet\bte\ber\brs\bs(pybind11_builtins.pybind11_object)\r\n",
      "     |  Parameters for the RandomDistributedScalarEncoder (RDSE)\r\n",
      "     |  \r\n",
      "     |  Members \"activeBits\" & \"sparsity\" are mutually exclusive, specify exactly one\r\n",
      "     |  of them.\r\n",
      "     |  \r\n",
      "     |  Members \"radius\", \"resolution\", and \"category\" are mutually exclusive, specify\r\n",
      "     |  exactly one of them.\r\n",
      "     |  \r\n",
      "     |  Method resolution order:\r\n",
      "     |      RDSE_Parameters\r\n",
      "     |      pybind11_builtins.pybind11_object\r\n",
      "     |      builtins.object\r\n",
      "     |  \r\n",
      "     |  Methods defined here:\r\n",
      "     |  \r\n",
      "     |  _\b__\b_i\bin\bni\bit\bt_\b__\b_(...)\r\n",
      "     |      __init__(self: htm.bindings.encoders.RDSE_Parameters) -> None\r\n",
      "     |  \r\n",
      "     |  ----------------------------------------------------------------------\r\n",
      "     |  Data descriptors defined here:\r\n",
      "     |  \r\n",
      "     |  a\bac\bct\bti\biv\bve\beB\bBi\bit\bts\bs\r\n",
      "     |      Member \"activeBits\" is the number of true bits in the encoded output SDR.\r\n",
      "     |  \r\n",
      "     |  c\bca\bat\bte\beg\bgo\bor\bry\by\r\n",
      "     |      Member \"category\" means that the inputs are enumerated categories.\r\n",
      "     |      If true then this encoder will only encode unsigned integers, and all\r\n",
      "     |      inputs will have unique / non-overlapping representations.\r\n",
      "     |  \r\n",
      "     |  r\bra\bad\bdi\biu\bus\bs\r\n",
      "     |      Two inputs separated by more than the radius will have non-overlapping\r\n",
      "     |      representations. Two inputs separated by less than the radius will in general\r\n",
      "     |      overlap in at least some of their bits. You can think of this as the radius of\r\n",
      "     |      the input.\r\n",
      "     |  \r\n",
      "     |  r\bre\bes\bso\bol\blu\but\bti\bio\bon\bn\r\n",
      "     |      Two inputs separated by greater than, or equal to the resolution are\r\n",
      "     |      guaranteed to have different representations.\r\n",
      "     |  \r\n",
      "     |  s\bse\bee\bed\bd\r\n",
      "     |      Member \"seed\" forces different encoders to produce different outputs, even if\r\n",
      "     |      the inputs and all other parameters are the same.  Two encoders with the same\r\n",
      "     |      seed, parameters, and input will produce identical outputs.\r\n",
      "     |      \r\n",
      "     |      The seed 0 is special.  Seed 0 is replaced with a random number.\r\n",
      "     |  \r\n",
      "     |  s\bsi\biz\bze\be\r\n",
      "     |      Member \"size\" is the total number of bits in the encoded output SDR.\r\n",
      "     |  \r\n",
      "     |  s\bsp\bpa\bar\brs\bsi\bit\bty\by\r\n",
      "     |      Member \"sparsity\" is the fraction of bits in the encoded output which this\r\n",
      "     |      encoder will activate. This is an alternative way to specify the member\r\n",
      "     |      \"activeBits\".\r\n",
      "     |  \r\n",
      "     |  ----------------------------------------------------------------------\r\n",
      "     |  Static methods inherited from pybind11_builtins.pybind11_object:\r\n",
      "     |  \r\n",
      "     |  _\b__\b_n\bne\bew\bw_\b__\b_(*args, **kwargs) from pybind11_builtins.pybind11_type\r\n",
      "     |      Create and return a new object.  See help(type) for accurate signature.\r\n",
      "    \r\n",
      "    class S\bSc\bca\bal\bla\bar\brE\bEn\bnc\bco\bod\bde\ber\br(pybind11_builtins.pybind11_object)\r\n",
      "     |  Encodes a real number as a contiguous block of 1's.\r\n",
      "     |  \r\n",
      "     |  The ScalarEncoder encodes a numeric (floating point) value into an array of\r\n",
      "     |  bits. The output is 0's except for a contiguous block of 1's. The location of\r\n",
      "     |  this contiguous block varies continuously with the input value.\r\n",
      "     |  \r\n",
      "     |  To inspect this run:\r\n",
      "     |  $ python -m htm.examples.encoders.scalar_encoder --help\r\n",
      "     |  \r\n",
      "     |  Method resolution order:\r\n",
      "     |      ScalarEncoder\r\n",
      "     |      pybind11_builtins.pybind11_object\r\n",
      "     |      builtins.object\r\n",
      "     |  \r\n",
      "     |  Methods defined here:\r\n",
      "     |  \r\n",
      "     |  _\b__\b_i\bin\bni\bit\bt_\b__\b_(...)\r\n",
      "     |      __init__(self: htm.bindings.encoders.ScalarEncoder, arg0: htm.bindings.encoders.ScalarEncoderParameters) -> None\r\n",
      "     |  \r\n",
      "     |  e\ben\bnc\bco\bod\bde\be(...)\r\n",
      "     |      encode(*args, **kwargs)\r\n",
      "     |      Overloaded function.\r\n",
      "     |      \r\n",
      "     |      1. encode(self: htm.bindings.encoders.ScalarEncoder, arg0: float, arg1: htm::SparseDistributedRepresentation) -> None\r\n",
      "     |      \r\n",
      "     |      2. encode(self: htm.bindings.encoders.ScalarEncoder, arg0: float) -> htm::SparseDistributedRepresentation\r\n",
      "     |  \r\n",
      "     |  ----------------------------------------------------------------------\r\n",
      "     |  Data descriptors defined here:\r\n",
      "     |  \r\n",
      "     |  d\bdi\bim\bme\ben\bns\bsi\bio\bon\bns\bs\r\n",
      "     |  \r\n",
      "     |  p\bpa\bar\bra\bam\bme\bet\bte\ber\brs\bs\r\n",
      "     |      Contains the parameter structure which this encoder uses internally. All\r\n",
      "     |      fields are filled in automatically.\r\n",
      "     |  \r\n",
      "     |  s\bsi\biz\bze\be\r\n",
      "     |  \r\n",
      "     |  ----------------------------------------------------------------------\r\n",
      "     |  Static methods inherited from pybind11_builtins.pybind11_object:\r\n",
      "     |  \r\n",
      "     |  _\b__\b_n\bne\bew\bw_\b__\b_(*args, **kwargs) from pybind11_builtins.pybind11_type\r\n",
      "     |      Create and return a new object.  See help(type) for accurate signature.\r\n",
      "    \r\n",
      "    class S\bSc\bca\bal\bla\bar\brE\bEn\bnc\bco\bod\bde\ber\brP\bPa\bar\bra\bam\bme\bet\bte\ber\brs\bs(pybind11_builtins.pybind11_object)\r\n",
      "     |  The following four (4) members define the total number of bits in the output:\r\n",
      "     |       size,\r\n",
      "     |       radius,\r\n",
      "     |       category,\r\n",
      "     |       resolution.\r\n",
      "     |  \r\n",
      "     |  These are mutually exclusive and only one of them should be non-zero when\r\n",
      "     |  constructing the encoder.\r\n",
      "     |  \r\n",
      "     |  Method resolution order:\r\n",
      "     |      ScalarEncoderParameters\r\n",
      "     |      pybind11_builtins.pybind11_object\r\n",
      "     |      builtins.object\r\n",
      "     |  \r\n",
      "     |  Methods defined here:\r\n",
      "     |  \r\n",
      "     |  _\b__\b_i\bin\bni\bit\bt_\b__\b_(...)\r\n",
      "     |      __init__(self: htm.bindings.encoders.ScalarEncoderParameters) -> None\r\n",
      "     |  \r\n",
      "     |  ----------------------------------------------------------------------\r\n",
      "     |  Data descriptors defined here:\r\n",
      "     |  \r\n",
      "     |  a\bac\bct\bti\biv\bve\beB\bBi\bit\bts\bs\r\n",
      "     |      This is the number of true bits in the encoded output SDR. The output\r\n",
      "     |      encodings will have a contiguous block of this many 1's.\r\n",
      "     |  \r\n",
      "     |  c\bca\bat\bte\beg\bgo\bor\bry\by\r\n",
      "     |      This means that the inputs are enumerated categories.\r\n",
      "     |      If true then this encoder will only encode unsigned integers, and all inputs\r\n",
      "     |      will have unique / non-overlapping representations.\r\n",
      "     |  \r\n",
      "     |  c\bcl\bli\bip\bpI\bIn\bnp\bpu\but\bt\r\n",
      "     |      This determines whether to allow input values outside the\r\n",
      "     |      range [minimum, maximum].\r\n",
      "     |      If true, the input will be clipped into the range [minimum, maximum].\r\n",
      "     |      If false, inputs outside of the range will raise an error.\r\n",
      "     |  \r\n",
      "     |  m\bma\bax\bxi\bim\bmu\bum\bm\r\n",
      "     |      This defines the range of the input signal. These endpoints are inclusive.\r\n",
      "     |  \r\n",
      "     |  m\bmi\bin\bni\bim\bmu\bum\bm\r\n",
      "     |      This defines the range of the input signal. These endpoints are inclusive.\r\n",
      "     |  \r\n",
      "     |  p\bpe\ber\bri\bio\bod\bdi\bic\bc\r\n",
      "     |      This controls what happens near the edges of the input range.\r\n",
      "     |      \r\n",
      "     |      If true, then the minimum & maximum input values are adjacent and the first and\r\n",
      "     |      last bits of the output SDR are also adjacent.  The contiguous block of 1's\r\n",
      "     |      wraps around the end back to the beginning.\r\n",
      "     |      \r\n",
      "     |      If false, then minimum & maximum input values are the endpoints of the input\r\n",
      "     |      range, are not adjacent, and activity does not wrap around.\r\n",
      "     |  \r\n",
      "     |  r\bra\bad\bdi\biu\bus\bs\r\n",
      "     |      Two inputs separated by more than the radius have non-overlapping\r\n",
      "     |      representations. Two inputs separated by less than the radius will in general\r\n",
      "     |      overlap in at least some of their bits. You can think of this as the radius of\r\n",
      "     |      the input.\r\n",
      "     |  \r\n",
      "     |  r\bre\bes\bso\bol\blu\but\bti\bio\bon\bn\r\n",
      "     |      Two inputs separated by greater than, or equal to the resolution are guaranteed\r\n",
      "     |      to have different representations.\r\n",
      "     |  \r\n",
      "     |  s\bsi\biz\bze\be\r\n",
      "     |      This is the total number of bits in the encoded output SDR.\r\n",
      "     |  \r\n",
      "     |  s\bsp\bpa\bar\brs\bsi\bit\bty\by\r\n",
      "     |      This is an alternative way to specify the the number of active bits.\r\n",
      "     |      Sparsity requires that the size to also be specified.\r\n",
      "     |      Specify only one of: activeBits or sparsity.\r\n",
      "     |  \r\n",
      "     |  ----------------------------------------------------------------------\r\n",
      "     |  Static methods inherited from pybind11_builtins.pybind11_object:\r\n",
      "     |  \r\n",
      "     |  _\b__\b_n\bne\bew\bw_\b__\b_(*args, **kwargs) from pybind11_builtins.pybind11_type\r\n",
      "     |      Create and return a new object.  See help(type) for accurate signature.\r\n",
      "    \r\n",
      "    class S\bSi\bim\bmH\bHa\bas\bsh\bhD\bDo\boc\bcu\bum\bme\ben\bnt\btE\bEn\bnc\bco\bod\bde\ber\br(pybind11_builtins.pybind11_object)\r\n",
      "     |  Encodes a document text into a distributed spray of 1's.\r\n",
      "     |  \r\n",
      "     |  The SimHashDocumentEncoder encodes a document (array of strings) value into an\r\n",
      "     |  array of bits. The output is 0's except for a sparse distribution spray of 1's.\r\n",
      "     |  Similar document encodings will share similar representations, and vice versa.\r\n",
      "     |  Unicode is supported. No lookup tables are used.\r\n",
      "     |  \r\n",
      "     |  \"Similarity\" here refers to bitwise similarity (small hamming distance,\r\n",
      "     |  high overlap), not semantic similarity (encodings for \"apple\" and\r\n",
      "     |  \"computer\" will have no relation here.) For document encodings which are\r\n",
      "     |  also semantic, please try Cortical.io and their Semantic Folding tech.\r\n",
      "     |  \r\n",
      "     |  Definition of Terms:\r\n",
      "     |    - A \"corpus\" is a collection of \"documents\".\r\n",
      "     |    - A \"document\" is made up of \"tokens\" (or \"words\").\r\n",
      "     |    - A \"token\" is made up of \"characters\" (or \"letters\").\r\n",
      "     |  \r\n",
      "     |  For details on the SimHash Algorithm itself, please see source code file:\r\n",
      "     |    - SimHashDocumentEncoder.README.md\r\n",
      "     |  \r\n",
      "     |  To inspect this run:\r\n",
      "     |  $ python -m htm.examples.encoders.simhash_document_encoder --help\r\n",
      "     |  \r\n",
      "     |  Python Code Example:\r\n",
      "     |      from htm.bindings.encoders import SimHashDocumentEncoder\r\n",
      "     |      from htm.bindings.encoders import SimHashDocumentEncoderParameters\r\n",
      "     |      from htm.bindings.sdr import SDR\r\n",
      "     |  \r\n",
      "     |      params = SimHashDocumentEncoderParameters()\r\n",
      "     |      params.size = 400\r\n",
      "     |      params.activeBits = 21\r\n",
      "     |  \r\n",
      "     |      output = SDR(params.size)\r\n",
      "     |      encoder = SimHashDocumentEncoder(params)\r\n",
      "     |  \r\n",
      "     |      # call style: output is reference\r\n",
      "     |      encoder.encode([ \"bravo\", \"delta\", \"echo\" ], output)\r\n",
      "     |      encoder.encode(\"bravo delta echo\", output)\r\n",
      "     |  \r\n",
      "     |      # call style: output is returned\r\n",
      "     |      other = encoder.encode([ \"bravo\", \"delta\", \"echo\" ])\r\n",
      "     |      other = encoder.encode(\"bravo delta echo\")\r\n",
      "     |  \r\n",
      "     |  Method resolution order:\r\n",
      "     |      SimHashDocumentEncoder\r\n",
      "     |      pybind11_builtins.pybind11_object\r\n",
      "     |      builtins.object\r\n",
      "     |  \r\n",
      "     |  Methods defined here:\r\n",
      "     |  \r\n",
      "     |  _\b__\b_g\bge\bet\bts\bst\bta\bat\bte\be_\b__\b_(...)\r\n",
      "     |      __getstate__(self: htm.bindings.encoders.SimHashDocumentEncoder) -> bytes\r\n",
      "     |  \r\n",
      "     |  _\b__\b_i\bin\bni\bit\bt_\b__\b_(...)\r\n",
      "     |      __init__(self: htm.bindings.encoders.SimHashDocumentEncoder, arg0: htm.bindings.encoders.SimHashDocumentEncoderParameters) -> None\r\n",
      "     |  \r\n",
      "     |  _\b__\b_s\bse\bet\bts\bst\bta\bat\bte\be_\b__\b_(...)\r\n",
      "     |      __setstate__(self: htm.bindings.encoders.SimHashDocumentEncoder, arg0: bytes) -> None\r\n",
      "     |      \r\n",
      "     |      \r\n",
      "     |      De/Serialize with Python Pickle.\r\n",
      "     |  \r\n",
      "     |  e\ben\bnc\bco\bod\bde\be(...)\r\n",
      "     |      encode(*args, **kwargs)\r\n",
      "     |      Overloaded function.\r\n",
      "     |      \r\n",
      "     |      1. encode(self: htm.bindings.encoders.SimHashDocumentEncoder, arg0: str, arg1: htm::SparseDistributedRepresentation) -> None\r\n",
      "     |      \r\n",
      "     |      2. encode(self: htm.bindings.encoders.SimHashDocumentEncoder, arg0: List[str], arg1: htm::SparseDistributedRepresentation) -> None\r\n",
      "     |      \r\n",
      "     |      3. encode(self: htm.bindings.encoders.SimHashDocumentEncoder, arg0: str) -> htm::SparseDistributedRepresentation\r\n",
      "     |      \r\n",
      "     |      \r\n",
      "     |      Encode (Alternate calling style: Simple string method).\r\n",
      "     |      Simple alternate calling pattern using only a single longer string. Takes input\r\n",
      "     |      as a long python string, which will automatically be tokenized (split on\r\n",
      "     |      whitespace). Ex: \"alpha bravo delta echo\".\r\n",
      "     |      \r\n",
      "     |      \r\n",
      "     |      4. encode(self: htm.bindings.encoders.SimHashDocumentEncoder, arg0: List[str]) -> htm::SparseDistributedRepresentation\r\n",
      "     |      \r\n",
      "     |      \r\n",
      "     |      Encode (Main calling style).\r\n",
      "     |      Each token will be hashed with SHA3+SHAKE256 to get a binary digest output of\r\n",
      "     |      desired `size`. These vectors will be stored in a matrix for the next step of\r\n",
      "     |      processing. Weights from the `vocabulary` are added in during hashing and\r\n",
      "     |      simhashing. After the loop, we SimHash the matrix of hashes, resulting in an\r\n",
      "     |      output SDR. If param \"tokenSimilarity\" is set, we'll also loop and hash through\r\n",
      "     |      all the letters in the tokens. Takes input in a python list of\r\n",
      "     |      strings (tokens).\r\n",
      "     |        Ex: [ \"alpha\", \"bravo\", \"delta\", \"echo\" ].\r\n",
      "     |      Documents can contain any number of tokens > 0. Token order in the document is\r\n",
      "     |        ignored and does not effect the output encoding. Tokens in the `vocabulary`\r\n",
      "     |        will be weighted, while others may be encoded depending on the\r\n",
      "     |        `encodeOrphans` param. Tokens in the `exclude` list will always be discarded.\r\n",
      "     |  \r\n",
      "     |  l\blo\boa\bad\bdF\bFr\bro\bom\bmF\bFi\bil\ble\be(...)\r\n",
      "     |      loadFromFile(self: htm.bindings.encoders.SimHashDocumentEncoder, arg0: str) -> None\r\n",
      "     |      \r\n",
      "     |      \r\n",
      "     |      Deserialize file contents into current object.\r\n",
      "     |  \r\n",
      "     |  l\blo\boa\bad\bdF\bFr\bro\bom\bmS\bSt\btr\bri\bin\bng\bg(...)\r\n",
      "     |      loadFromString(self: htm.bindings.encoders.SimHashDocumentEncoder, arg0: bytes) -> None\r\n",
      "     |      \r\n",
      "     |      \r\n",
      "     |      Deserialize bytestring into current object.\r\n",
      "     |  \r\n",
      "     |  s\bsa\bav\bve\beT\bTo\boF\bFi\bil\ble\be(...)\r\n",
      "     |      saveToFile(self: htm.bindings.encoders.SimHashDocumentEncoder, arg0: str) -> None\r\n",
      "     |      \r\n",
      "     |      \r\n",
      "     |      Serialize current encoder instance out to a file.\r\n",
      "     |  \r\n",
      "     |  w\bwr\bri\bit\bte\beT\bTo\boS\bSt\btr\bri\bin\bng\bg(...)\r\n",
      "     |      writeToString(self: htm.bindings.encoders.SimHashDocumentEncoder) -> bytes\r\n",
      "     |      \r\n",
      "     |      \r\n",
      "     |      Serialize current encoder instance out to a bytestring.\r\n",
      "     |  \r\n",
      "     |  ----------------------------------------------------------------------\r\n",
      "     |  Data descriptors defined here:\r\n",
      "     |  \r\n",
      "     |  d\bdi\bim\bme\ben\bns\bsi\bio\bon\bns\bs\r\n",
      "     |      This is the total number of bits in the encoded output SDR.\r\n",
      "     |  \r\n",
      "     |  p\bpa\bar\bra\bam\bme\bet\bte\ber\brs\bs\r\n",
      "     |      Contains the parameter structure which this encoder uses internally. All fields\r\n",
      "     |      are filled in automatically.\r\n",
      "     |  \r\n",
      "     |  s\bsi\biz\bze\be\r\n",
      "     |      This is the total number of bits in the encoded output SDR.\r\n",
      "     |  \r\n",
      "     |  ----------------------------------------------------------------------\r\n",
      "     |  Static methods inherited from pybind11_builtins.pybind11_object:\r\n",
      "     |  \r\n",
      "     |  _\b__\b_n\bne\bew\bw_\b__\b_(*args, **kwargs) from pybind11_builtins.pybind11_type\r\n",
      "     |      Create and return a new object.  See help(type) for accurate signature.\r\n",
      "    \r\n",
      "    class S\bSi\bim\bmH\bHa\bas\bsh\bhD\bDo\boc\bcu\bum\bme\ben\bnt\btE\bEn\bnc\bco\bod\bde\ber\brP\bPa\bar\bra\bam\bme\bet\bte\ber\brs\bs(pybind11_builtins.pybind11_object)\r\n",
      "     |  Parameters for the SimHashDocumentEncoder.\r\n",
      "     |  \r\n",
      "     |  Method resolution order:\r\n",
      "     |      SimHashDocumentEncoderParameters\r\n",
      "     |      pybind11_builtins.pybind11_object\r\n",
      "     |      builtins.object\r\n",
      "     |  \r\n",
      "     |  Methods defined here:\r\n",
      "     |  \r\n",
      "     |  _\b__\b_i\bin\bni\bit\bt_\b__\b_(...)\r\n",
      "     |      __init__(self: htm.bindings.encoders.SimHashDocumentEncoderParameters) -> None\r\n",
      "     |  \r\n",
      "     |  ----------------------------------------------------------------------\r\n",
      "     |  Data descriptors defined here:\r\n",
      "     |  \r\n",
      "     |  a\bac\bct\bti\biv\bve\beB\bBi\bit\bts\bs\r\n",
      "     |      This is the number of true bits in the encoded output SDR. The output encoding\r\n",
      "     |      will have a distribution of this many 1's. Specify only one of: activeBits\r\n",
      "     |      or sparsity.\r\n",
      "     |  \r\n",
      "     |  c\bca\bas\bse\beS\bSe\ben\bns\bsi\bit\bti\biv\bvi\bit\bty\by\r\n",
      "     |      Should capitalized English letters (A-Z) have different influence on our output\r\n",
      "     |      than their lower-cased (a-z) counterparts? Or the same influence on output?\r\n",
      "     |        If TRUE:  \"DOGS\" and \"dogs\" will have completely different encodings.\r\n",
      "     |        If FALSE: \"DOGS\" and \"dogs\" will share the same encoding (Default).\r\n",
      "     |  \r\n",
      "     |  e\ben\bnc\bco\bod\bde\beO\bOr\brp\bph\bha\ban\bns\bs\r\n",
      "     |      If param `vocabulary` is set, should we `encode()` tokens not in our\r\n",
      "     |      `vocabulary` (\"orphan\" tokens)?\r\n",
      "     |        If True: Unrecognized tokens will be added to our encoding\r\n",
      "     |          with weight=1. Our `vocabulary` is useful as a simple weight map.\r\n",
      "     |        If False (default): Unrecognized tokens will be discarded. Our `vocabulary`\r\n",
      "     |          now serves more like a whitelist (also with weights).\r\n",
      "     |        Any tokens in the `exclude` list will be discarded.\r\n",
      "     |  \r\n",
      "     |  e\bex\bxc\bcl\blu\bud\bde\bes\bs\r\n",
      "     |      List of tokens to discard when passed in to `encode()`. Terms in the\r\n",
      "     |      `vocabulary`, and orphan terms, will be ignored if excluded here. If\r\n",
      "     |      `tokenSimilarity` is enabled, you can also pass in single character (letter)\r\n",
      "     |      strings to discard.\r\n",
      "     |  \r\n",
      "     |  f\bfr\bre\beq\bqu\bue\ben\bnc\bcy\byC\bCe\bei\bil\bli\bin\bng\bg\r\n",
      "     |      The max number of times a token can be repeated in a document. Occurances of\r\n",
      "     |      the token beyond this number will be discarded. A setting of 1 will act as\r\n",
      "     |      token de-duplication, guaranteeing each token in a document is unique. Inverse\r\n",
      "     |      to param `frequencyFloor`.\r\n",
      "     |        If param `tokenSimilarity` is on, this will be the max number of times a\r\n",
      "     |        char/letter can be repeated in a token. Occurances of the character beyond\r\n",
      "     |        this number will be discarded. A setting of 1 will act as character\r\n",
      "     |        de-duplication, guaranteeing each character in a token is unique.\r\n",
      "     |  \r\n",
      "     |  f\bfr\bre\beq\bqu\bue\ben\bnc\bcy\byF\bFl\blo\boo\bor\br\r\n",
      "     |      If this option is set, a token will be ignored until it occurs this many times\r\n",
      "     |      in the document. Occurances of the token before this number will be discarded.\r\n",
      "     |      Inverse to param `frequencyCeiling`.\r\n",
      "     |  \r\n",
      "     |  s\bsi\biz\bze\be\r\n",
      "     |      This is the total number of bits in the encoded output SDR.\r\n",
      "     |  \r\n",
      "     |  s\bsp\bpa\bar\brs\bsi\bit\bty\by\r\n",
      "     |      This is an alternate way (percentage) to specify the the number of active bits.\r\n",
      "     |      Specify only one of: activeBits or sparsity.\r\n",
      "     |  \r\n",
      "     |  t\bto\bok\bke\ben\bnS\bSi\bim\bmi\bil\bla\bar\bri\bit\bty\by\r\n",
      "     |      This allows similar tokens (\"cat\", \"cats\") to also be represented similarly,\r\n",
      "     |      at the cost of document similarity accuracy. Default is FALSE (providing better\r\n",
      "     |      document-level similarity, at the expense of token-level similarity). This\r\n",
      "     |      could be use to meaningfully encode plurals and mis-spellings as similar. It\r\n",
      "     |      may also be hacked to create a complex dimensional category encoder. Results\r\n",
      "     |      are heavily dependent on the content of your input data.\r\n",
      "     |        If TRUE: Similar tokens (\"cat\", \"cats\") will have similar influence on the\r\n",
      "     |          output simhash. This benefit comes with the cost of a reduction in\r\n",
      "     |          document-level similarity accuracy. Param `frequencyCeiling` is also\r\n",
      "     |          available for use with this.\r\n",
      "     |        If FALSE: Similar tokens (\"cat\", \"cats\") will have individually unique and\r\n",
      "     |          unrelated influence on the output simhash encoding, thus losing token-level\r\n",
      "     |          similarity and increasing document-level similarity.\r\n",
      "     |  \r\n",
      "     |  v\bvo\boc\bca\bab\bbu\bul\bla\bar\bry\by\r\n",
      "     |      Map of possible document tokens with weights.\r\n",
      "     |          ex: {{ \"what\", 3 }, { \"is\", 1 }, { \"up\", 2 }}.\r\n",
      "     |        If `encodeOrphans` is True, this will be useful like a simple weight\r\n",
      "     |          map. If `encodeOrphans` is False, this will be more useful as a\r\n",
      "     |          whitelist (still with weights).\r\n",
      "     |        If `tokenSimilarity` is enabled, you can also pass in single\r\n",
      "     |          character (letter) strings to weight.\r\n",
      "     |        Any tokens in the `exclude` list will be discarded.\r\n",
      "     |  \r\n",
      "     |  ----------------------------------------------------------------------\r\n",
      "     |  Static methods inherited from pybind11_builtins.pybind11_object:\r\n",
      "     |  \r\n",
      "     |  _\b__\b_n\bne\bew\bw_\b__\b_(*args, **kwargs) from pybind11_builtins.pybind11_type\r\n",
      "     |      Create and return a new object.  See help(type) for accurate signature.\r\n",
      "\r\n",
      "F\bFI\bIL\bLE\bE\r\n",
      "    /usr/local/lib/python3.7/site-packages/htm.core-2.1.1-py3.7-macosx-10.14-x86_64.egg/htm/bindings/encoders.cpython-37m-darwin.so\r\n",
      "\r\n",
      "\r\n",
      "No Python documentation found for 'ScalarEncoderParameters'.\r\n",
      "Use help() to get the interactive help utility.\r\n",
      "Use help(str) for help on the str class.\r\n",
      "\r\n"
     ]
    }
   ],
   "source": [
    "!python3 -m pydoc htm.bindings.encoders. ScalarEncoderParameters"
   ]
  },
  {
   "cell_type": "code",
   "execution_count": 1,
   "metadata": {},
   "outputs": [],
   "source": [
    "import numpy as np"
   ]
  },
  {
   "cell_type": "markdown",
   "metadata": {},
   "source": [
    "### ScalarEncoder（スカラーエンコーダー）\n",
    "\n",
    "ScalarEncoder は数値（浮動小数点）をビットの配列にエンコードします。出力は1の連続するブロックを除いて0です。この連続ブロックの位置は入力値によって連続的に変化します。\n",
    "\n",
    "エンコーダは内部的に使用するパラメータ構造が含まれており、すべてのフィールドは自動的に入力されます。"
   ]
  },
  {
   "cell_type": "code",
   "execution_count": 2,
   "metadata": {},
   "outputs": [],
   "source": [
    "from htm.bindings.encoders import ScalarEncoder, ScalarEncoderParameters\n",
    "from htm.bindings.sdr import SDR"
   ]
  },
  {
   "cell_type": "markdown",
   "metadata": {},
   "source": [
    "**パラメータ**\n",
    "\n",
    "- activeBits - エンコードされた出力 SDR の真のビット数です。\n",
    "- category - 入力が列挙されたカテゴリであることを意味します。true の場合、このエンコーダは符号なし整数のみをエンコードし、すべての入力は一意で重複しない表現になります。\n",
    "- clipInput - これは、入力値を [最小値、最大値] の範囲外の値を許可するかどうかを決定します。trueの場合、入力は範囲[最小値、最大値]にクリップされます。\n",
    "- maximum - 入力信号の範囲を定義します。これらのエンドポイントは包括的です。\n",
    "- minimum - 入力信号の範囲を定義します。これらのエンドポイントは包括的です。\n",
    "- periodic - これは、入力範囲のエッジ付近で何が起こるかを制御します。 true の場合、入力値の最小値と最大値は隣接し、出力 SDR の最初のビットと最後のビットも隣接します。 1 の連続したブロックは、末尾から先頭へと回り込みます。\n",
    "- radius - 半径以上で区切られた2つの入力は、重複しない表現になります。\n",
    "- resolution - 解像度以上で区切られた2つの入力は、異なる表現を持つことが保証されています\n",
    "- size - エンコードされた出力 SDR の総ビット数です。\n",
    "- sparsity - これはアクティブビット数を指定する別の方法です。sparsityの場合はサイズも指定する必要があります。activeBitsかsparsityのどちらか一方のみを指定してください。"
   ]
  },
  {
   "cell_type": "code",
   "execution_count": 3,
   "metadata": {},
   "outputs": [
    {
     "name": "stdout",
     "output_type": "stream",
     "text": [
      "3 = SDR( 24 ) 0, 1, 2\n",
      "4 = SDR( 24 ) 0, 1, 2\n",
      "5 = SDR( 24 ) 1, 2, 3\n"
     ]
    }
   ],
   "source": [
    "scalarEncoderParams = ScalarEncoderParameters()\n",
    "scalarEncoderParams.minimum = 2.5\n",
    "scalarEncoderParams.maximum = 97.5\n",
    "scalarEncoderParams.activeBits = 3\n",
    "scalarEncoderParams.size = 24\n",
    "scalarEncoderParams.clipInput  = True\n",
    "\n",
    "enc = ScalarEncoder(scalarEncoderParams)\n",
    "\n",
    "print (\"3 =\", enc.encode(3))\n",
    "print (\"4 =\", enc.encode(4))\n",
    "print (\"5 =\", enc.encode(5))"
   ]
  },
  {
   "cell_type": "code",
   "execution_count": 4,
   "metadata": {},
   "outputs": [
    {
     "name": "stdout",
     "output_type": "stream",
     "text": [
      "3 = [1 1 1 0 0 0 0 0 0 0 0 0 0 0 0 0 0 0 0 0 0 0 0 0]\n",
      "4 = [1 1 1 0 0 0 0 0 0 0 0 0 0 0 0 0 0 0 0 0 0 0 0 0]\n",
      "5 = [0 1 1 1 0 0 0 0 0 0 0 0 0 0 0 0 0 0 0 0 0 0 0 0]\n"
     ]
    }
   ],
   "source": [
    "print (\"3 =\", enc.encode(3).dense)\n",
    "print (\"4 =\", enc.encode(4).dense)\n",
    "print (\"5 =\", enc.encode(5).dense)"
   ]
  },
  {
   "cell_type": "code",
   "execution_count": 7,
   "metadata": {},
   "outputs": [
    {
     "name": "stdout",
     "output_type": "stream",
     "text": [
      "[[1 1 1 ... 0 0 0]\n",
      " [0 1 1 ... 0 0 0]\n",
      " [0 1 1 ... 0 0 0]\n",
      " ...\n",
      " [0 0 0 ... 1 1 0]\n",
      " [0 0 0 ... 1 1 0]\n",
      " [0 0 0 ... 1 1 1]]\n"
     ]
    },
    {
     "data": {
      "image/png": "[encoded data removed]",
      "text/plain": [
       "<Figure size 432x288 with 1 Axes>"
      ]
     },
     "metadata": {
      "needs_background": "light"
     },
     "output_type": "display_data"
    }
   ],
   "source": [
    "n_samples = (enc.parameters.maximum - enc.parameters.minimum) / enc.parameters.resolution\n",
    "# エイリアシング（折り返し雑音）やアーチファクト（ノイズ）を避けるために、必要以上に多くのサンプルを使用します。\n",
    "oversample = 2 \n",
    "n_samples  = int(round( oversample * n_samples ))\n",
    "\n",
    "sdrs = []\n",
    "for i in np.linspace(enc.parameters.minimum, enc.parameters.maximum, n_samples):\n",
    "  sdrs.append( enc.encode( i ).dense )\n",
    "\n",
    "print(np.array(sdrs))\n",
    "\n",
    "import matplotlib.pyplot as plt\n",
    "%matplotlib inline\n",
    "\n",
    "plt.imshow(np.array(sdrs), cmap = \"Greens\", aspect=0.5)\n",
    "plt.show()"
   ]
  },
  {
   "cell_type": "code",
   "execution_count": 8,
   "metadata": {},
   "outputs": [
    {
     "name": "stdout",
     "output_type": "stream",
     "text": [
      "100  = SDR( 24 ) 21, 22, 23\n",
      "1000 = SDR( 24 ) 21, 22, 23\n"
     ]
    }
   ],
   "source": [
    "# maxmumをエンコードします。\n",
    "print (\"100  =\", enc.encode(100))\n",
    "\n",
    "# より大きな数値が同じエンコーディングを取得することを確認してください。\n",
    "print (\"1000 =\", enc.encode(1000))"
   ]
  },
  {
   "cell_type": "markdown",
   "metadata": {},
   "source": [
    "### RandomDistributedScalarEncoder（ランダム分散スカラーエンコーダー）\n",
    "\n",
    "ランダム分散スカラーエンコーダ（RDSE）は、数値スカラー（浮動小数点）値をSDRにエンコードします。 RDSE は ScalarEncoder よりも柔軟性があります。\n",
    "\n",
    "このエンコーダは、入力範囲の最小値と最大値を知る必要がありません。\n",
    "\n",
    "これは、構築時に input->output マッピングを割り当てません。 その代わり、エンコーディングは実行時に決定されます。\n",
    "\n",
    "これにより、以前のエンコーディングと競合しないランダムなアクティブビットのセットを保証することができました。\n",
    "\n",
    "また、エンコーダは SDR を作成した可能性の高い入力値にデコードすることができます。\n",
    "このRDSEは、入力とアクティブビット間の関連付けを保存しません。 この方が高速で、使用するメモリも少なくて済みます。"
   ]
  },
  {
   "cell_type": "code",
   "execution_count": 9,
   "metadata": {},
   "outputs": [],
   "source": [
    "from htm.bindings.encoders import RDSE, RDSE_Parameters\n",
    "from htm.bindings.sdr import SDR"
   ]
  },
  {
   "cell_type": "markdown",
   "metadata": {},
   "source": [
    "**パラメータ**\n",
    "\n",
    "- activeBits - エンコードされた出力 SDR の真のビット数です。\n",
    "- category - 入力が列挙されたカテゴリであることを意味します。true の場合、このエンコーダは符号なし整数のみをエンコードし、すべての入力は一意で重複しない表現になります。\n",
    "- radius - 半径以上で区切られた2つの入力は、重複しない表現になります。\n",
    "- resolution - 解像度以上で区切られた2つの入力は、異なる表現を持つことが保証されています。\n",
    "- seed - 入力と他のすべてのパラメータが同じであっても、異なるエンコーダが異なる出力を生成することを強制します。 同じシード、パラメータ、入力を持つ 2 つのエンコーダは、同じ出力を生成します。\n",
    "- size - エンコードされた出力 SDR の総ビット数です。\n",
    "- sparsity - これはアクティブビット数を指定する別の方法です。sparsityの場合はサイズも指定する必要があります。activeBitsかsparsityのどちらか一方のみを指定してください。"
   ]
  },
  {
   "cell_type": "code",
   "execution_count": 10,
   "metadata": {},
   "outputs": [
    {
     "name": "stdout",
     "output_type": "stream",
     "text": [
      "3 =    SDR( 24 ) 2, 12, 13\n",
      "4 =    SDR( 24 ) 2, 12, 13\n",
      "5 =    SDR( 24 ) 2, 7, 13\n",
      "---\n",
      "100 =  SDR( 24 ) 0, 18, 23\n",
      "1000 = SDR( 24 ) 7, 17, 22\n"
     ]
    }
   ],
   "source": [
    "RDSE_Parameters = RDSE_Parameters()\n",
    "RDSE_Parameters.activeBits = 3\n",
    "RDSE_Parameters.resolution = 5\n",
    "RDSE_Parameters.size       = 24\n",
    "\n",
    "enc = RDSE( RDSE_Parameters )\n",
    "\n",
    "print (\"3 =   \", enc.encode(3))\n",
    "print (\"4 =   \", enc.encode(4))\n",
    "print (\"5 =   \", enc.encode(5))\n",
    "print (\"---\")\n",
    "print (\"100 = \", enc.encode(100))\n",
    "print (\"1000 =\", enc.encode(1000))"
   ]
  },
  {
   "cell_type": "code",
   "execution_count": 11,
   "metadata": {},
   "outputs": [
    {
     "name": "stdout",
     "output_type": "stream",
     "text": [
      "3 =    [0 0 1 0 0 0 0 0 0 0 0 0 1 1 0 0 0 0 0 0 0 0 0 0]\n",
      "4 =    [0 0 1 0 0 0 0 0 0 0 0 0 1 1 0 0 0 0 0 0 0 0 0 0]\n",
      "5 =    [0 0 1 0 0 0 0 1 0 0 0 0 0 1 0 0 0 0 0 0 0 0 0 0]\n",
      "---\n",
      "100 =  [1 0 0 0 0 0 0 0 0 0 0 0 0 0 0 0 0 0 1 0 0 0 0 1]\n",
      "1000 = [0 0 0 0 0 0 0 1 0 0 0 0 0 0 0 0 0 1 0 0 0 0 1 0]\n"
     ]
    }
   ],
   "source": [
    "print (\"3 =   \", enc.encode(3).dense)\n",
    "print (\"4 =   \", enc.encode(4).dense)\n",
    "print (\"5 =   \", enc.encode(5).dense)\n",
    "print (\"---\")\n",
    "print (\"100 = \", enc.encode(100).dense)\n",
    "print (\"1000 =\", enc.encode(1000).dense)"
   ]
  },
  {
   "cell_type": "code",
   "execution_count": 12,
   "metadata": {},
   "outputs": [
    {
     "data": {
      "image/png": "[encoded data removed]",
      "text/plain": [
       "<Figure size 432x288 with 1 Axes>"
      ]
     },
     "metadata": {
      "needs_background": "light"
     },
     "output_type": "display_data"
    }
   ],
   "source": [
    "args_maximum =97.5\n",
    "args_minimum=2.5\n",
    "\n",
    "n_samples = (args_maximum - args_minimum) / enc.parameters.resolution\n",
    "oversample = 2 # Use more samples than needed to avoid aliasing & artifacts.\n",
    "n_samples  = int(round( oversample * n_samples ))\n",
    "\n",
    "sdrs = []\n",
    "for i in np.linspace(args_minimum, args_maximum, n_samples):\n",
    "  sdrs.append( enc.encode( i ).dense )\n",
    "\n",
    "#print(np.array(sdrs))\n",
    "\n",
    "import matplotlib.pyplot as plt\n",
    "%matplotlib inline\n",
    "\n",
    "plt.imshow(np.array(sdrs), cmap = \"Greens\", aspect=0.5)\n",
    "plt.show()"
   ]
  },
  {
   "cell_type": "markdown",
   "metadata": {},
   "source": [
    "### DateEncoder（日付エンコーダ）\n",
    "\n",
    "日付エンコーダは、時刻と日付をエンコードします。 日付エンコーダへの入力は datetime.datetime オブジェクトです。\n",
    "\n",
    "出力はいくつかのサブエンコーディングを連結したもので、それぞれが日付の異なる側面をエンコードしています。\n",
    "\n",
    "どのサブエンコーディングが存在するか、そしてそれらのサブエンコーディングの詳細は DateEncoder のコンストラクタで指定します。"
   ]
  },
  {
   "cell_type": "code",
   "execution_count": 13,
   "metadata": {},
   "outputs": [],
   "source": [
    "import datetime\n",
    "from htm.encoders.date import DateEncoder"
   ]
  },
  {
   "cell_type": "markdown",
   "metadata": {},
   "source": [
    "**コンストラクタ**\n",
    "\n",
    "- season ：季節の幅を表現します。デフォルトの1シーズン=91.5日です。\n",
    "- dayOfWeek ：平日の日数を表現します。デフォルトは1日です。\n",
    "- weekend ：週末かどうか。0または1のビットで表現します。 （注意）実装では、金曜日の午後6時から日曜日の午前0時まで。\n",
    "- holiday ：休日かどうか。0または1のビットで表現します。\n",
    "- timeOfday ：一日の時間を表現します。"
   ]
  },
  {
   "cell_type": "code",
   "execution_count": 14,
   "metadata": {},
   "outputs": [
    {
     "name": "stdout",
     "output_type": "stream",
     "text": [
      "now =        SDR( 16 ) 5, 6, 7, 8\n",
      "next month = SDR( 16 ) 7, 8, 9, 10\n",
      "xmas =       SDR( 16 ) 0, 1, 2, 3\n"
     ]
    }
   ],
   "source": [
    "dateEncoder = DateEncoder(season  = 4) \n",
    "\n",
    "now = datetime.datetime.strptime(\"2019-05-02 13:08:58\", \"%Y-%m-%d %H:%M:%S\")\n",
    "print (\"now =       \", dateEncoder.encode(now))\n",
    "\n",
    "nextMonth = datetime.datetime.strptime(\"2019-06-02 13:08:58\", \"%Y-%m-%d %H:%M:%S\")\n",
    "print (\"next month =\", dateEncoder.encode(nextMonth))\n",
    "\n",
    "xmas = datetime.datetime.strptime(\"2019-12-25 13:08:58\", \"%Y-%m-%d %H:%M:%S\")\n",
    "print (\"xmas =      \", dateEncoder.encode(xmas))"
   ]
  },
  {
   "cell_type": "code",
   "execution_count": 15,
   "metadata": {},
   "outputs": [
    {
     "name": "stdout",
     "output_type": "stream",
     "text": [
      "now =        [0 0 0 0 0 1 1 1 1 0 0 0 0 0 0 0]\n",
      "next month = [0 0 0 0 0 0 0 1 1 1 1 0 0 0 0 0]\n",
      "xmas =       [1 1 1 1 0 0 0 0 0 0 0 0 0 0 0 0]\n"
     ]
    }
   ],
   "source": [
    "print (\"now =       \", dateEncoder.encode(now).dense)\n",
    "print (\"next month =\", dateEncoder.encode(nextMonth).dense)\n",
    "print (\"xmas =      \", dateEncoder.encode(xmas).dense)"
   ]
  },
  {
   "cell_type": "code",
   "execution_count": 16,
   "metadata": {},
   "outputs": [
    {
     "name": "stdout",
     "output_type": "stream",
     "text": [
      "now =        SDR( 63 ) 15, 16, 17, 18, 19, 35, 36, 52, 53, 54, 55\n",
      "next month = SDR( 63 ) 30, 31, 32, 33, 34, 37, 38, 52, 53, 54, 55\n",
      "xmas =       SDR( 63 ) 10, 11, 12, 13, 14, 35, 36, 52, 53, 54, 55\n"
     ]
    }
   ],
   "source": [
    "dateEncoder = DateEncoder(dayOfWeek  = 5, weekend=2, timeOfDay=4) \n",
    "\n",
    "now = datetime.datetime.strptime(\"2019-05-02 13:08:58\", \"%Y-%m-%d %H:%M:%S\")\n",
    "print (\"now =       \", dateEncoder.encode(now))\n",
    "\n",
    "nextMonth = datetime.datetime.strptime(\"2019-06-02 13:08:58\", \"%Y-%m-%d %H:%M:%S\")\n",
    "print (\"next month =\", dateEncoder.encode(nextMonth))\n",
    "\n",
    "xmas = datetime.datetime.strptime(\"2019-12-25 13:08:58\", \"%Y-%m-%d %H:%M:%S\")\n",
    "print (\"xmas =      \", dateEncoder.encode(xmas))"
   ]
  },
  {
   "cell_type": "code",
   "execution_count": 17,
   "metadata": {},
   "outputs": [
    {
     "name": "stdout",
     "output_type": "stream",
     "text": [
      "now =        [0 0 0 0 0 0 0 0 0 0 0 0 0 0 0 1 1 1 1 1 0 0 0 0 0 0 0 0 0 0 0 0 0 0 0 1 1\n",
      " 0 0 0 0 0 0 0 0 0 0 0 0 0 0 0 1 1 1 1 0 0 0 0 0 0 0]\n",
      "next month = [0 0 0 0 0 0 0 0 0 0 0 0 0 0 0 0 0 0 0 0 0 0 0 0 0 0 0 0 0 0 1 1 1 1 1 0 0\n",
      " 1 1 0 0 0 0 0 0 0 0 0 0 0 0 0 1 1 1 1 0 0 0 0 0 0 0]\n",
      "xmas =       [0 0 0 0 0 0 0 0 0 0 1 1 1 1 1 0 0 0 0 0 0 0 0 0 0 0 0 0 0 0 0 0 0 0 0 1 1\n",
      " 0 0 0 0 0 0 0 0 0 0 0 0 0 0 0 1 1 1 1 0 0 0 0 0 0 0]\n"
     ]
    }
   ],
   "source": [
    "print (\"now =       \", dateEncoder.encode(now).dense)\n",
    "print (\"next month =\", dateEncoder.encode(nextMonth).dense)\n",
    "print (\"xmas =      \", dateEncoder.encode(xmas).dense)"
   ]
  },
  {
   "cell_type": "code",
   "execution_count": 22,
   "metadata": {},
   "outputs": [
    {
     "name": "stdout",
     "output_type": "stream",
     "text": [
      "[[0 0 0 0 0 0 0 0 0 0 0 0 0 0 0 1 1 1 1 1 0 0 0 0 0 0 0 0 0 0 0 0 0 0 0 1\n",
      "  1 0 0 0 0 0 0 0 0 0 0 0 0 0 0 0 1 1 1 1 0 0 0 0 0 0 0]]\n"
     ]
    },
    {
     "data": {
      "image/png": "[encoded data removed]",
      "text/plain": [
       "<Figure size 432x288 with 1 Axes>"
      ]
     },
     "metadata": {
      "needs_background": "light"
     },
     "output_type": "display_data"
    }
   ],
   "source": [
    "import matplotlib.pyplot as plt\n",
    "%matplotlib inline\n",
    "\n",
    "sampleSDR=np.reshape(dateEncoder.encode(now).dense,(1,dateEncoder.encode(now).dense.shape[0]))\n",
    "print(sampleSDR)\n",
    "\n",
    "plt.imshow(sampleSDR, cmap = \"Greens\", aspect=4)\n",
    "plt.show()"
   ]
  },
  {
   "cell_type": "code",
   "execution_count": 23,
   "metadata": {},
   "outputs": [
    {
     "name": "stdout",
     "output_type": "stream",
     "text": [
      "[[0 0 0 0 0 0 0 0 0 0 0 0 0 0 0 1 1 1 1 1 0 0 0 0 0 0 0 0 0 0 0 0 0 0 0 1\n",
      "  1 0 0 0 0 0 0 0 0 0 0 0 0 0 0 0 1 1 1 1 0 0 0 0 0 0 0]]\n"
     ]
    },
    {
     "data": {
      "image/png": "[encoded data removed]",
      "text/plain": [
       "<Figure size 432x288 with 1 Axes>"
      ]
     },
     "metadata": {
      "needs_background": "light"
     },
     "output_type": "display_data"
    },
    {
     "name": "stdout",
     "output_type": "stream",
     "text": [
      "[[0 0 0 0 0 0 0 0 0 0 1 1 1 1 1 0 0 0 0 0 0 0 0 0 0 0 0 0 0 0 0 0 0 0 0 1\n",
      "  1 0 0 0 0 0 0 0 0 0 0 0 0 0 0 0 1 1 1 1 0 0 0 0 0 0 0]]\n"
     ]
    },
    {
     "data": {
      "image/png": "[encoded data removed]",
      "text/plain": [
       "<Figure size 432x288 with 1 Axes>"
      ]
     },
     "metadata": {
      "needs_background": "light"
     },
     "output_type": "display_data"
    },
    {
     "name": "stdout",
     "output_type": "stream",
     "text": [
      "[[0 0 0 0 0 0 0 0 0 0 1 1 1 1 1 0 0 0 0 0 0 0 0 0 0 0 0 0 0 0 0 0 0 0 0 1\n",
      "  1 0 0 0 0 0 0 0 0 0 0 0 0 0 0 0 1 1 1 1 0 0 0 0 0 0 0]]\n"
     ]
    },
    {
     "data": {
      "image/png": "[encoded data removed]",
      "text/plain": [
       "<Figure size 432x288 with 1 Axes>"
      ]
     },
     "metadata": {
      "needs_background": "light"
     },
     "output_type": "display_data"
    }
   ],
   "source": [
    "import matplotlib.pyplot as plt\n",
    "%matplotlib inline\n",
    "\n",
    "nowSDR = dateEncoder.encode(now)\n",
    "sampleSDR = nowSDR.dense.reshape(1,nowSDR.dense.shape[0])\n",
    "\n",
    "print(sampleSDR)\n",
    "\n",
    "plt.imshow(sampleSDR, cmap = \"Greens\", aspect=4)\n",
    "plt.show()\n",
    "\n",
    "nextMonthSDR = dateEncoder.encode(xmas)\n",
    "sampleSDR = nextMonthSDR.dense.reshape(1,nextMonthSDR.dense.shape[0])\n",
    "\n",
    "print(sampleSDR)\n",
    "\n",
    "plt.imshow(sampleSDR, cmap = \"Greens\", aspect=4)\n",
    "plt.show()\n",
    "\n",
    "xmasSDR = dateEncoder.encode(xmas)\n",
    "sampleSDR = xmasSDR.dense.reshape(1,xmasSDR.dense.shape[0])\n",
    "\n",
    "print(sampleSDR)\n",
    "\n",
    "plt.imshow(sampleSDR, cmap = \"Greens\", aspect=4)\n",
    "plt.show()"
   ]
  },
  {
   "cell_type": "markdown",
   "metadata": {},
   "source": [
    "### CategoryEncoders（カテゴリエンコーダー）\n",
    "\n",
    "入力のカテゴリをエンコードするには、ScalarEncoderまたはRandom Distributed Scalar Encoder (RDSE)を作成し、パラメータ category=True を設定します。 \n",
    "\n",
    "そして、エンコードする前にカテゴリを整数に列挙します。"
   ]
  },
  {
   "cell_type": "code",
   "execution_count": 24,
   "metadata": {},
   "outputs": [],
   "source": [
    "from htm.bindings.encoders import ScalarEncoder, ScalarEncoderParameters\n",
    "from htm.bindings.sdr import SDR\n",
    "import numpy as np"
   ]
  },
  {
   "cell_type": "markdown",
   "metadata": {},
   "source": [
    "**パラメータ**\n",
    "- ```category``` – 離散的な文字列カテゴリのリスト"
   ]
  },
  {
   "cell_type": "code",
   "execution_count": 25,
   "metadata": {},
   "outputs": [
    {
     "name": "stdout",
     "output_type": "stream",
     "text": [
      "cat =        SDR( 18 ) 3, 4, 5\n",
      "dog =        SDR( 18 ) 6, 7, 8\n",
      "monkey =     SDR( 18 ) 9, 10, 11\n",
      "slow loris = SDR( 18 ) 12, 13, 14\n"
     ]
    }
   ],
   "source": [
    "categories = (\"unknown\",\"cat\", \"dog\", \"monkey\", \"slow loris\")\n",
    "\n",
    "scalarEncoderParams = ScalarEncoderParameters()\n",
    "scalarEncoderParams.minimum = 0\n",
    "scalarEncoderParams.maximum = 5\n",
    "scalarEncoderParams.activeBits = 3\n",
    "scalarEncoderParams.category = True\n",
    "\n",
    "enc = ScalarEncoder(scalarEncoderParams)\n",
    "\n",
    "print (\"cat =       \", enc.encode(1))\n",
    "print (\"dog =       \", enc.encode(2))\n",
    "print (\"monkey =    \", enc.encode(3))\n",
    "print (\"slow loris =\", enc.encode(4))"
   ]
  },
  {
   "cell_type": "code",
   "execution_count": 26,
   "metadata": {},
   "outputs": [
    {
     "name": "stdout",
     "output_type": "stream",
     "text": [
      "cat =        [0 0 0 1 1 1 0 0 0 0 0 0 0 0 0 0 0 0]\n",
      "dog =        [0 0 0 0 0 0 1 1 1 0 0 0 0 0 0 0 0 0]\n",
      "monkey =     [0 0 0 0 0 0 0 0 0 1 1 1 0 0 0 0 0 0]\n",
      "slow loris = [0 0 0 0 0 0 0 0 0 0 0 0 1 1 1 0 0 0]\n"
     ]
    }
   ],
   "source": [
    "print (\"cat =       \", enc.encode(1).dense)\n",
    "print (\"dog =       \", enc.encode(2).dense)\n",
    "print (\"monkey =    \", enc.encode(3).dense)\n",
    "print (\"slow loris =\", enc.encode(4).dense)"
   ]
  },
  {
   "cell_type": "code",
   "execution_count": 27,
   "metadata": {},
   "outputs": [
    {
     "data": {
      "image/png": "[encoded data removed]",
      "text/plain": [
       "<Figure size 432x288 with 1 Axes>"
      ]
     },
     "metadata": {
      "needs_background": "light"
     },
     "output_type": "display_data"
    }
   ],
   "source": [
    "n_samples = int(enc.parameters.maximum - enc.parameters.minimum + 1)\n",
    "\n",
    "sdrs = []\n",
    "for i in np.linspace(enc.parameters.minimum, enc.parameters.maximum, n_samples):\n",
    "  sdrs.append( enc.encode( i ).dense )\n",
    "\n",
    "#print(np.array(sdrs))\n",
    "\n",
    "import matplotlib.pyplot as plt\n",
    "%matplotlib inline\n",
    "\n",
    "plt.imshow(np.array(sdrs), cmap = \"Greens\")\n",
    "plt.show()"
   ]
  },
  {
   "cell_type": "code",
   "execution_count": 12,
   "metadata": {},
   "outputs": [
    {
     "name": "stdout",
     "output_type": "stream",
     "text": [
      "SDR( 15 ) 0, 1, 2\n"
     ]
    }
   ],
   "source": [
    "print (enc.encode(categories.index(\"unknown\")+1))"
   ]
  },
  {
   "cell_type": "code",
   "execution_count": 13,
   "metadata": {},
   "outputs": [
    {
     "ename": "AttributeError",
     "evalue": "'htm.bindings.encoders.ScalarEncoder' object has no attribute 'decode'",
     "output_type": "error",
     "traceback": [
      "\u001b[0;31m---------------------------------------------------------------------------\u001b[0m",
      "\u001b[0;31mAttributeError\u001b[0m                            Traceback (most recent call last)",
      "\u001b[0;32m<ipython-input-13-8ffe166ceaa3>\u001b[0m in \u001b[0;36m<module>\u001b[0;34m\u001b[0m\n\u001b[0;32m----> 1\u001b[0;31m \u001b[0mprint\u001b[0m \u001b[0;34m(\u001b[0m\u001b[0menc\u001b[0m\u001b[0;34m.\u001b[0m\u001b[0mdecode\u001b[0m\u001b[0;34m(\u001b[0m\u001b[0mcategories\u001b[0m\u001b[0;34m.\u001b[0m\u001b[0mindex\u001b[0m\u001b[0;34m(\u001b[0m\u001b[0;34m\"cat\"\u001b[0m\u001b[0;34m)\u001b[0m\u001b[0;34m+\u001b[0m\u001b[0;36m1\u001b[0m\u001b[0;34m)\u001b[0m\u001b[0;34m)\u001b[0m\u001b[0;34m\u001b[0m\u001b[0;34m\u001b[0m\u001b[0m\n\u001b[0m",
      "\u001b[0;31mAttributeError\u001b[0m: 'htm.bindings.encoders.ScalarEncoder' object has no attribute 'decode'"
     ]
    }
   ],
   "source": [
    "print (enc.decode(categories.index(\"cat\")+1))"
   ]
  },
  {
   "cell_type": "code",
   "execution_count": 14,
   "metadata": {},
   "outputs": [
    {
     "ename": "NameError",
     "evalue": "name 'numpy' is not defined",
     "output_type": "error",
     "traceback": [
      "\u001b[0;31m---------------------------------------------------------------------------\u001b[0m",
      "\u001b[0;31mNameError\u001b[0m                                 Traceback (most recent call last)",
      "\u001b[0;32m<ipython-input-14-6e31e4ecb898>\u001b[0m in \u001b[0;36m<module>\u001b[0;34m\u001b[0m\n\u001b[0;32m----> 1\u001b[0;31m \u001b[0mcatdog\u001b[0m \u001b[0;34m=\u001b[0m \u001b[0mnumpy\u001b[0m\u001b[0;34m.\u001b[0m\u001b[0marray\u001b[0m\u001b[0;34m(\u001b[0m\u001b[0;34m[\u001b[0m\u001b[0;36m0\u001b[0m\u001b[0;34m,\u001b[0m \u001b[0;36m0\u001b[0m\u001b[0;34m,\u001b[0m \u001b[0;36m0\u001b[0m\u001b[0;34m,\u001b[0m \u001b[0;36m1\u001b[0m\u001b[0;34m,\u001b[0m \u001b[0;36m0\u001b[0m\u001b[0;34m,\u001b[0m \u001b[0;36m1\u001b[0m\u001b[0;34m,\u001b[0m \u001b[0;36m0\u001b[0m\u001b[0;34m,\u001b[0m \u001b[0;36m1\u001b[0m\u001b[0;34m,\u001b[0m \u001b[0;36m1\u001b[0m\u001b[0;34m,\u001b[0m \u001b[0;36m0\u001b[0m\u001b[0;34m,\u001b[0m \u001b[0;36m0\u001b[0m\u001b[0;34m,\u001b[0m \u001b[0;36m0\u001b[0m\u001b[0;34m,\u001b[0m \u001b[0;36m0\u001b[0m\u001b[0;34m,\u001b[0m \u001b[0;36m0\u001b[0m\u001b[0;34m,\u001b[0m \u001b[0;36m0\u001b[0m\u001b[0;34m]\u001b[0m\u001b[0;34m)\u001b[0m\u001b[0;34m\u001b[0m\u001b[0;34m\u001b[0m\u001b[0m\n\u001b[0m\u001b[1;32m      2\u001b[0m \u001b[0mprint\u001b[0m \u001b[0;34m(\u001b[0m\u001b[0menc\u001b[0m\u001b[0;34m.\u001b[0m\u001b[0mdecode\u001b[0m\u001b[0;34m(\u001b[0m\u001b[0mcatdog\u001b[0m\u001b[0;34m)\u001b[0m\u001b[0;34m)\u001b[0m\u001b[0;34m\u001b[0m\u001b[0;34m\u001b[0m\u001b[0m\n",
      "\u001b[0;31mNameError\u001b[0m: name 'numpy' is not defined"
     ]
    }
   ],
   "source": [
    "catdog = numpy.array([0, 0, 0, 1, 0, 1, 0, 1, 1, 0, 0, 0, 0, 0, 0])\n",
    "print (enc.decode(catdog))"
   ]
  },
  {
   "cell_type": "code",
   "execution_count": null,
   "metadata": {},
   "outputs": [],
   "source": []
  }
 ],
 "metadata": {
  "kernelspec": {
   "display_name": "Python 3.7.1 64-bit",
   "language": "python",
   "name": "python37164biteddaa04d9bd6403f87a9a26eeb0f918e"
  },
  "language_info": {
   "codemirror_mode": {
    "name": "ipython",
    "version": 3
   },
   "file_extension": ".py",
   "mimetype": "text/x-python",
   "name": "python",
   "nbconvert_exporter": "python",
   "pygments_lexer": "ipython3",
   "version": "3.7.1"
  }
 },
 "nbformat": 4,
 "nbformat_minor": 2
}
