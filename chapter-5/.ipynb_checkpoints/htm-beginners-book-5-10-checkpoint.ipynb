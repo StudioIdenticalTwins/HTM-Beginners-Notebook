{
 "cells": [
  {
   "cell_type": "markdown",
   "metadata": {},
   "source": [
    "## Pitch Names Classifier"
   ]
  },
  {
   "cell_type": "code",
   "execution_count": 1,
   "metadata": {},
   "outputs": [],
   "source": [
    "import numpy as np\n",
    "\n",
    "from htm.bindings.sdr import SDR\n",
    "from htm.bindings.encoders import ScalarEncoder, ScalarEncoderParameters\n",
    "from htm.algorithms import SpatialPooler as SP\n",
    "from htm.algorithms import TemporalMemory as TM\n",
    "from htm.bindings.algorithms import Classifier\n",
    "from htm.bindings.algorithms import Predictor\n",
    "\n",
    "import matplotlib\n",
    "import matplotlib.pyplot as plt\n",
    "from IPython.display import display, clear_output"
   ]
  },
  {
   "cell_type": "code",
   "execution_count": 2,
   "metadata": {},
   "outputs": [
    {
     "name": "stdout",
     "output_type": "stream",
     "text": [
      "6\n",
      "A:  SDR( 18 ) 0, 1, 2\n",
      "B:  SDR( 18 ) 3, 4, 5\n",
      "C:  SDR( 18 ) 6, 7, 8\n",
      "D:  SDR( 18 ) 9, 10, 11\n",
      "X:  SDR( 18 ) 12, 13, 14\n",
      "Y:  SDR( 18 ) 15, 16, 17\n"
     ]
    }
   ],
   "source": [
    "pitchNames = (\"A\",\"B\",\"C\",\"D\",\"X\",\"Y\")\n",
    "print(len(pitchNames))\n",
    "\n",
    "scalarEncoderParams = ScalarEncoderParameters()\n",
    "scalarEncoderParams.minimum = 0\n",
    "scalarEncoderParams.maximum = len(pitchNames)-1\n",
    "scalarEncoderParams.activeBits = 3\n",
    "scalarEncoderParams.category = True\n",
    "\n",
    "enc = ScalarEncoder(scalarEncoderParams)\n",
    "\n",
    "print (\"A: \", enc.encode(0))\n",
    "print (\"B: \", enc.encode(1))\n",
    "print (\"C: \", enc.encode(2))\n",
    "print (\"D: \", enc.encode(3))\n",
    "print (\"X: \", enc.encode(4))\n",
    "print (\"Y: \", enc.encode(5))\n",
    "#print (\"?: \", enc.encode(6))"
   ]
  },
  {
   "cell_type": "code",
   "execution_count": 3,
   "metadata": {},
   "outputs": [
    {
     "data": {
      "image/png": "[encoded data removed]",
      "text/plain": [
       "<Figure size 432x288 with 1 Axes>"
      ]
     },
     "metadata": {
      "needs_background": "light"
     },
     "output_type": "display_data"
    }
   ],
   "source": [
    "n_samples = int(enc.parameters.maximum - enc.parameters.minimum + 1)\n",
    "\n",
    "sdrs = []\n",
    "for i in np.linspace(enc.parameters.minimum, enc.parameters.maximum, n_samples):\n",
    "    sdrs.append( enc.encode( i ).dense )\n",
    "\n",
    "    clear_output(wait = True)\n",
    "    plt.cla\n",
    "    plt.imshow(np.array(sdrs), cmap = \"Greens\")\n",
    "    plt.show()"
   ]
  },
  {
   "cell_type": "code",
   "execution_count": 4,
   "metadata": {},
   "outputs": [
    {
     "name": "stdout",
     "output_type": "stream",
     "text": [
      "Spatial Pooler Connections:\n",
      "    Inputs (18) ~> Outputs (576) via Segments (576)\n",
      "    Segments on Cell Min/Mean/Max 1 / 1 / 1\n",
      "    Potential Synapses on Segment Min/Mean/Max 9 / 9 / 9\n",
      "    Connected Synapses on Segment Min/Mean/Max 0 / 4.43576 / 9\n",
      "    Synapses Dead (0%) Saturated (0%)\n",
      "    Synapses pruned (0%) Segments pruned (0%)\n",
      "\n"
     ]
    }
   ],
   "source": [
    "inputSDR  = SDR( dimensions = (18, ) )\n",
    "activeSDR = SDR( dimensions = (576,) )\n",
    "sp = SP(inputDimensions  = inputSDR.dimensions,\n",
    "        columnDimensions = activeSDR.dimensions,\n",
    "        localAreaDensity = 0.02,\n",
    "        globalInhibition = True,\n",
    "        seed             = 1,\n",
    "        synPermActiveInc   = 0.01,\n",
    "        synPermInactiveDec = 0.008)\n",
    "\n",
    "print(sp)"
   ]
  },
  {
   "cell_type": "code",
   "execution_count": 5,
   "metadata": {},
   "outputs": [],
   "source": [
    "clsr = Classifier()"
   ]
  },
  {
   "cell_type": "code",
   "execution_count": 6,
   "metadata": {},
   "outputs": [
    {
     "name": "stdout",
     "output_type": "stream",
     "text": [
      "Temporal Memory Connections:\n",
      "    Inputs (0) ~> Outputs (4608) via Segments (0)\n",
      "    Segments on Cell Min/Mean/Max 0 / 0 / 0\n",
      "    Potential Synapses on Segment Min/Mean/Max 4294967295 / nan / 0\n",
      "    Connected Synapses on Segment Min/Mean/Max 65535 / nan / 0\n",
      "    Synapses Dead (nan%) Saturated (nan%)\n",
      "    Synapses pruned (nan%) Segments pruned (nan%)\n",
      "\n"
     ]
    }
   ],
   "source": [
    "tm = TM(\n",
    "    columnDimensions = (576,),\n",
    "    cellsPerColumn=8,\n",
    "    initialPermanence=0.5,\n",
    "    connectedPermanence=0.5,\n",
    "    minThreshold=8,\n",
    "    maxNewSynapseCount=20,\n",
    "    permanenceIncrement=0.1,\n",
    "    permanenceDecrement=0.0,\n",
    "    activationThreshold=8,\n",
    ")\n",
    "print(tm)"
   ]
  },
  {
   "cell_type": "code",
   "execution_count": 7,
   "metadata": {},
   "outputs": [
    {
     "data": {
      "image/png": "[encoded data removed]",
      "text/plain": [
       "<Figure size 432x288 with 1 Axes>"
      ]
     },
     "metadata": {
      "needs_background": "light"
     },
     "output_type": "display_data"
    }
   ],
   "source": [
    "for i in range(len(pitchNames)):\n",
    "    inputSDR = enc.encode(i)\n",
    "    print(\"input SDR: \",inputSDR)\n",
    "    sp.compute(inputSDR, True, activeSDR)\n",
    "    print(\"Active SDR: \",activeSDR)\n",
    "    clsr.learn( activeSDR.addNoise(0.2), i )\n",
    "    print(\"Classifier learn: \",i)\n",
    "    print(\"\")\n",
    "\n",
    "    clear_output(wait = True)\n",
    "    plt.cla\n",
    "    sampleSDR=activeSDR.dense.reshape(24,24)\n",
    "    plt.imshow(sampleSDR, cmap = \"Blues\")\n",
    "    plt.pause(0.01)"
   ]
  },
  {
   "cell_type": "code",
   "execution_count": 8,
   "metadata": {},
   "outputs": [],
   "source": [
    "#phrase1=\"ABCD\"\n",
    "#phrase1=[0,1,2,3]\n",
    "#phrase2=\"XBCY\"\n",
    "#phrase2=[4,1,2,5]\n",
    "\n",
    "phrase=[0,1,2,3,4,1,2,5]"
   ]
  },
  {
   "cell_type": "code",
   "execution_count": 9,
   "metadata": {},
   "outputs": [
    {
     "name": "stdout",
     "output_type": "stream",
     "text": [
      "[0, 1, 2, 3, 4, 1, 2, 5, 0, 1, 2, 3, 4, 1, 2, 5, 0, 1, 2, 3, 4, 1, 2, 5, 0, 1, 2, 3, 4, 1, 2, 5, 0, 1, 2, 3, 4, 1, 2, 5, 0, 1, 2, 3, 4, 1, 2, 5, 0, 1, 2, 3, 4, 1, 2, 5, 0, 1, 2, 3, 4, 1, 2, 5, 0, 1, 2, 3, 4, 1, 2, 5, 0, 1, 2, 3, 4, 1, 2, 5]\n"
     ]
    }
   ],
   "source": [
    "seq=[]\n",
    "for i in range(10):\n",
    "    seq.extend(phrase)\n",
    "print(seq)\n",
    "\n",
    "predictor = Predictor( steps=[1,2,3,4], alpha=0.1)\n",
    "predictor_resolution = 1"
   ]
  },
  {
   "cell_type": "code",
   "execution_count": 10,
   "metadata": {},
   "outputs": [
    {
     "name": "stdout",
     "output_type": "stream",
     "text": [
      "{1: [nan, 0, 0, 0, 4, 2, 3, 3, 1, 2, 5, 4, 1, 2, 3, 0, 1, 2, 5, 4, 1, 2, 3, 0, 1, 2, 5, 4, 1, 2, 3, 0, 1, 2, 5, 4, 1, 2, 3, 0, 1, 2, 5, 4, 1, 2, 3, 0, 1, 2, 5, 4, 1, 2, 3, 0, 1, 2, 5, 4, 1, 2, 3, 0, 1, 2, 5, 4, 1, 2, 3, 0, 1, 2, 5, 4, 1, 2, 3, 0], 2: [nan, nan, 0, 0, 4, 3, 4, 4, 2, 5, 0, 1, 2, 5, 4, 1, 2, 3, 0, 1, 2, 5, 4, 1, 2, 3, 0, 1, 2, 5, 4, 1, 2, 3, 0, 1, 2, 5, 4, 1, 2, 3, 0, 1, 2, 5, 4, 1, 2, 3, 0, 1, 2, 5, 4, 1, 2, 3, 0, 1, 2, 5, 4, 1, 2, 3, 0, 1, 2, 5, 4, 1, 2, 3, 0, 1, 2, 5, 4, 1], 3: [nan, nan, nan, 0, 0, 4, 1, 1, 3, 0, 1, 2, 5, 0, 1, 2, 3, 4, 1, 2, 5, 0, 1, 2, 3, 4, 1, 2, 5, 0, 1, 2, 3, 4, 1, 2, 5, 0, 1, 2, 3, 4, 1, 2, 5, 0, 1, 2, 3, 4, 1, 2, 5, 0, 1, 2, 3, 4, 1, 2, 5, 0, 1, 2, 3, 4, 1, 2, 5, 0, 1, 2, 3, 4, 1, 2, 5, 0, 1, 2], 4: [nan, nan, nan, nan, 0, 1, 2, 2, 4, 1, 2, 5, 0, 1, 2, 3, 4, 1, 2, 5, 0, 1, 2, 3, 4, 1, 2, 5, 0, 1, 2, 3, 4, 1, 2, 5, 0, 1, 2, 3, 4, 1, 2, 5, 0, 1, 2, 3, 4, 1, 2, 5, 0, 1, 2, 3, 4, 1, 2, 5, 0, 1, 2, 3, 4, 1, 2, 5, 0, 1, 2, 3, 4, 1, 2, 5, 0, 1, 2, 3], 5: [nan, nan, nan, nan, nan, 0, 0, 5, 1, 2, 5, 0, 1, 2, 3, 4, 1, 2, 5, 0, 1, 2, 3, 4, 1, 2, 5, 0, 1, 2, 3, 4, 1, 2, 5, 0, 1, 2, 3, 4, 1, 2, 5, 0, 1, 2, 3, 4, 1, 2, 5, 0, 1, 2, 3, 4, 1, 2, 5, 0, 1, 2, 3, 4, 1, 2, 5, 0, 1, 2, 3, 4, 1, 2, 5, 0, 1, 2, 3, 4]}\n"
     ]
    }
   ],
   "source": [
    "predictions = {1: [], 2: [], 3: [], 4: []}\n",
    "for i in range(len(seq)):\n",
    "    inputSDR = enc.encode(seq[i])\n",
    "    sp.compute(inputSDR, True, activeSDR)\n",
    "\n",
    "    tm.compute( activeSDR, learn=True)\n",
    "    \n",
    "    predictor.learn(i, tm.getActiveCells(), int(seq[i] / predictor_resolution))\n",
    "\n",
    "    pdf = predictor.infer( tm.getActiveCells() )\n",
    "    for n in (1,2,3,4):\n",
    "        if pdf[n]:\n",
    "            predictions[n].append( np.argmax( pdf[n] ) * predictor_resolution )\n",
    "        else:\n",
    "            predictions[n].append(float('nan'))\n",
    "print(predictions)"
   ]
  },
  {
   "cell_type": "code",
   "execution_count": 11,
   "metadata": {},
   "outputs": [
    {
     "name": "stdout",
     "output_type": "stream",
     "text": [
      "{1: [3, 4, 1, 2, 5], 2: [4, 1, 2, 5, 4], 3: [1, 2, 5, 0, 1], 4: [2, 5, 0, 1, 2], 5: [5, 0, 1, 2, 5]}\n"
     ]
    }
   ],
   "source": [
    "test=[0,1,2,3]\n",
    "#test=[4,1,2,5]\n",
    "\n",
    "test_predictions = {1: [], 2: [], 3: [], 4: []}\n",
    "for j in range(len(test)):\n",
    "    inputSDR = enc.encode(test[j])\n",
    "    sp.compute(inputSDR, True, activeSDR)\n",
    "\n",
    "    tm.compute( activeSDR, learn=False)\n",
    "    \n",
    "    predictor.learn(j+len(seq), tm.getActiveCells(), int(test[j] / predictor_resolution))\n",
    "\n",
    "    pdf = predictor.infer( tm.getActiveCells() )\n",
    "    for n in (1,2,3,4):\n",
    "        if pdf[n]:\n",
    "            test_predictions[n].append( np.argmax( pdf[n] ) * predictor_resolution )\n",
    "        else:\n",
    "            test_predictions[n].append(float('nan'))\n",
    "print(test_predictions)"
   ]
  },
  {
   "cell_type": "code",
   "execution_count": null,
   "metadata": {},
   "outputs": [],
   "source": [
    "[\"C\",\"C\",\"G\",\"G\",\"A\",\"A\",\"G\",\"F\",\"F\",\"E\",\"E\",\"D\",\"D\",\"C\"]"
   ]
  },
  {
   "cell_type": "code",
   "execution_count": null,
   "metadata": {},
   "outputs": [],
   "source": [
    "[\"C\",\"G\",\"G\",\"G\",\"A\",\"A\",\"G\",\"F\",\"F\",\"E\",\"E\",\"D\",\"D\",\"C\"]"
   ]
  }
 ],
 "metadata": {
  "kernelspec": {
   "display_name": "Python 3.7.1 64-bit",
   "language": "python",
   "name": "python37164biteddaa04d9bd6403f87a9a26eeb0f918e"
  },
  "language_info": {
   "codemirror_mode": {
    "name": "ipython",
    "version": 3
   },
   "file_extension": ".py",
   "mimetype": "text/x-python",
   "name": "python",
   "nbconvert_exporter": "python",
   "pygments_lexer": "ipython3",
   "version": "3.7.1"
  }
 },
 "nbformat": 4,
 "nbformat_minor": 2
}
