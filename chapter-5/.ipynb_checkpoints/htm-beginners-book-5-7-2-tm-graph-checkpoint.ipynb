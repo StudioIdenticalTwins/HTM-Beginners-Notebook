{
 "cells": [
  {
   "cell_type": "markdown",
   "metadata": {},
   "source": [
    "## Pitch Names Classifier"
   ]
  },
  {
   "cell_type": "code",
   "execution_count": 1,
   "metadata": {},
   "outputs": [],
   "source": [
    "import numpy as np\n",
    "\n",
    "from htm.bindings.sdr import SDR\n",
    "from htm.bindings.encoders import ScalarEncoder, ScalarEncoderParameters\n",
    "from htm.algorithms import SpatialPooler as SP\n",
    "from htm.algorithms import TemporalMemory as TM\n",
    "from htm.bindings.algorithms import Classifier\n",
    "\n",
    "import matplotlib\n",
    "import matplotlib.pyplot as plt\n",
    "from IPython.display import display, clear_output"
   ]
  },
  {
   "cell_type": "code",
   "execution_count": 2,
   "metadata": {},
   "outputs": [
    {
     "name": "stdout",
     "output_type": "stream",
     "text": [
      "C:  SDR( 21 ) 0, 1, 2\n",
      "D:  SDR( 21 ) 3, 4, 5\n",
      "E:  SDR( 21 ) 6, 7, 8\n",
      "F:  SDR( 21 ) 9, 10, 11\n",
      "G:  SDR( 21 ) 12, 13, 14\n",
      "A:  SDR( 21 ) 15, 16, 17\n",
      "B:  SDR( 21 ) 18, 19, 20\n"
     ]
    }
   ],
   "source": [
    "pitchNames = (\"C\",\"D\",\"E\",\"F\",\"G\",\"A\",\"B\")\n",
    "\n",
    "scalarEncoderParams = ScalarEncoderParameters()\n",
    "scalarEncoderParams.minimum = 0\n",
    "scalarEncoderParams.maximum = 6\n",
    "scalarEncoderParams.activeBits = 3\n",
    "scalarEncoderParams.category = True\n",
    "\n",
    "enc = ScalarEncoder(scalarEncoderParams)\n",
    "\n",
    "print (\"C: \", enc.encode(0))\n",
    "print (\"D: \", enc.encode(1))\n",
    "print (\"E: \", enc.encode(2))\n",
    "print (\"F: \", enc.encode(3))\n",
    "print (\"G: \", enc.encode(4))\n",
    "print (\"A: \", enc.encode(5))\n",
    "print (\"B: \", enc.encode(6))"
   ]
  },
  {
   "cell_type": "code",
   "execution_count": 3,
   "metadata": {},
   "outputs": [
    {
     "data": {
      "image/png": "[encoded data removed]",
      "text/plain": [
       "<Figure size 432x288 with 1 Axes>"
      ]
     },
     "metadata": {
      "needs_background": "light"
     },
     "output_type": "display_data"
    }
   ],
   "source": [
    "n_samples = int(enc.parameters.maximum - enc.parameters.minimum + 1)\n",
    "\n",
    "sdrs = []\n",
    "for i in np.linspace(enc.parameters.minimum, enc.parameters.maximum, n_samples):\n",
    "    sdrs.append( enc.encode( i ).dense )\n",
    "\n",
    "    clear_output(wait = True)\n",
    "    plt.cla\n",
    "    plt.imshow(np.array(sdrs), cmap = \"Greens\")\n",
    "    plt.show()"
   ]
  },
  {
   "cell_type": "code",
   "execution_count": 4,
   "metadata": {},
   "outputs": [
    {
     "name": "stdout",
     "output_type": "stream",
     "text": [
      "Spatial Pooler Connections:\n",
      "    Inputs (21) ~> Outputs (576) via Segments (576)\n",
      "    Segments on Cell Min/Mean/Max 1 / 1 / 1\n",
      "    Potential Synapses on Segment Min/Mean/Max 11 / 11 / 11\n",
      "    Connected Synapses on Segment Min/Mean/Max 1 / 5.44097 / 10\n",
      "    Synapses Dead (0%) Saturated (0%)\n",
      "    Synapses pruned (0%) Segments pruned (0%)\n",
      "\n"
     ]
    }
   ],
   "source": [
    "inputSDR  = SDR( dimensions = (21, ) )\n",
    "activeSDR = SDR( dimensions = (576,) )\n",
    "sp = SP(inputDimensions  = inputSDR.dimensions,\n",
    "        columnDimensions = activeSDR.dimensions,\n",
    "        localAreaDensity = 0.02,\n",
    "        globalInhibition = True,\n",
    "        seed             = 1,\n",
    "        synPermActiveInc   = 0.01,\n",
    "        synPermInactiveDec = 0.008)\n",
    "\n",
    "print(sp)"
   ]
  },
  {
   "cell_type": "code",
   "execution_count": 5,
   "metadata": {},
   "outputs": [],
   "source": [
    "clsr = Classifier()"
   ]
  },
  {
   "cell_type": "code",
   "execution_count": 6,
   "metadata": {},
   "outputs": [
    {
     "name": "stdout",
     "output_type": "stream",
     "text": [
      "Temporal Memory Connections:\n",
      "    Inputs (0) ~> Outputs (4608) via Segments (0)\n",
      "    Segments on Cell Min/Mean/Max 0 / 0 / 0\n",
      "    Potential Synapses on Segment Min/Mean/Max 4294967295 / nan / 0\n",
      "    Connected Synapses on Segment Min/Mean/Max 65535 / nan / 0\n",
      "    Synapses Dead (nan%) Saturated (nan%)\n",
      "    Synapses pruned (nan%) Segments pruned (nan%)\n",
      "\n"
     ]
    }
   ],
   "source": [
    "tm = TM(\n",
    "    columnDimensions = (576,),\n",
    "    cellsPerColumn=8,\n",
    "    initialPermanence=0.5,\n",
    "    connectedPermanence=0.5,\n",
    "    minThreshold=8,\n",
    "    maxNewSynapseCount=20,\n",
    "    permanenceIncrement=0.1,\n",
    "    permanenceDecrement=0.0,\n",
    "    activationThreshold=8,\n",
    ")\n",
    "print(tm)"
   ]
  },
  {
   "cell_type": "code",
   "execution_count": 7,
   "metadata": {},
   "outputs": [
    {
     "data": {
      "image/png": "[encoded data removed]",
      "text/plain": [
       "<Figure size 432x288 with 1 Axes>"
      ]
     },
     "metadata": {
      "needs_background": "light"
     },
     "output_type": "display_data"
    }
   ],
   "source": [
    "for i in range(len(pitchNames)):\n",
    "    inputSDR = enc.encode(i)\n",
    "    print(\"input SDR: \",inputSDR)\n",
    "    sp.compute(inputSDR, True, activeSDR)\n",
    "    print(\"Active SDR: \",activeSDR)\n",
    "    clsr.learn( activeSDR.addNoise(0.2), i )\n",
    "    print(\"Classifier learn: \",i)\n",
    "    print(\"\")\n",
    "\n",
    "    clear_output(wait = True)\n",
    "    plt.cla\n",
    "    sampleSDR=activeSDR.dense.reshape(24,24)\n",
    "    plt.imshow(sampleSDR, cmap = \"Blues\")\n",
    "    plt.pause(0.01)"
   ]
  },
  {
   "cell_type": "code",
   "execution_count": 8,
   "metadata": {},
   "outputs": [],
   "source": [
    "#seq = [\"C\",\"C\",\"G\",\"G\",\"A\",\"A\",\"G\",\"F\",\"F\",\"E\",\"E\",\"D\",\"D\",\"C\"]\n",
    "seq=[0,0,4,4,5,5,4,3,3,2,2,1,1,0]\n",
    "\n",
    "#seq_clsr = Classifier()"
   ]
  },
  {
   "cell_type": "code",
   "execution_count": 10,
   "metadata": {},
   "outputs": [
    {
     "ename": "AttributeError",
     "evalue": "'AxesSubplot' object has no property 'figsize'",
     "output_type": "error",
     "traceback": [
      "\u001b[0;31m---------------------------------------------------------------------------\u001b[0m",
      "\u001b[0;31mAttributeError\u001b[0m                            Traceback (most recent call last)",
      "\u001b[0;32m<ipython-input-10-521bf042bc2d>\u001b[0m in \u001b[0;36m<module>\u001b[0;34m\u001b[0m\n\u001b[1;32m     32\u001b[0m         \u001b[0;32mfor\u001b[0m \u001b[0mj\u001b[0m \u001b[0;32min\u001b[0m \u001b[0mrange\u001b[0m\u001b[0;34m(\u001b[0m\u001b[0;36m24\u001b[0m\u001b[0;34m)\u001b[0m\u001b[0;34m:\u001b[0m\u001b[0;34m\u001b[0m\u001b[0;34m\u001b[0m\u001b[0m\n\u001b[1;32m     33\u001b[0m             \u001b[0;31m#plot = plt.figure(figsize=(6,6),dpi=50)\u001b[0m\u001b[0;34m\u001b[0m\u001b[0;34m\u001b[0m\u001b[0;34m\u001b[0m\u001b[0m\n\u001b[0;32m---> 34\u001b[0;31m             \u001b[0mplt\u001b[0m\u001b[0;34m.\u001b[0m\u001b[0msubplot\u001b[0m\u001b[0;34m(\u001b[0m\u001b[0;36m6\u001b[0m\u001b[0;34m,\u001b[0m\u001b[0;36m4\u001b[0m\u001b[0;34m,\u001b[0m\u001b[0mj\u001b[0m\u001b[0;34m+\u001b[0m\u001b[0;36m1\u001b[0m\u001b[0;34m,\u001b[0m\u001b[0mfigsize\u001b[0m\u001b[0;34m=\u001b[0m\u001b[0;34m(\u001b[0m\u001b[0;36m4\u001b[0m\u001b[0;34m,\u001b[0m\u001b[0;36m4\u001b[0m\u001b[0;34m)\u001b[0m\u001b[0;34m)\u001b[0m\u001b[0;34m\u001b[0m\u001b[0;34m\u001b[0m\u001b[0m\n\u001b[0m\u001b[1;32m     35\u001b[0m             \u001b[0mplt\u001b[0m\u001b[0;34m.\u001b[0m\u001b[0mimshow\u001b[0m\u001b[0;34m(\u001b[0m\u001b[0mreshapeActiveCells\u001b[0m\u001b[0;34m[\u001b[0m\u001b[0mj\u001b[0m\u001b[0;34m]\u001b[0m\u001b[0;34m,\u001b[0m \u001b[0mcmap\u001b[0m \u001b[0;34m=\u001b[0m \u001b[0;34m\"Purples\"\u001b[0m\u001b[0;34m)\u001b[0m\u001b[0;34m\u001b[0m\u001b[0;34m\u001b[0m\u001b[0m\n\u001b[1;32m     36\u001b[0m         \u001b[0mplt\u001b[0m\u001b[0;34m.\u001b[0m\u001b[0mpause\u001b[0m\u001b[0;34m(\u001b[0m\u001b[0;36m0.01\u001b[0m\u001b[0;34m)\u001b[0m\u001b[0;34m\u001b[0m\u001b[0;34m\u001b[0m\u001b[0m\n",
      "\u001b[0;32m/usr/local/lib/python3.7/site-packages/matplotlib/pyplot.py\u001b[0m in \u001b[0;36msubplot\u001b[0;34m(*args, **kwargs)\u001b[0m\n\u001b[1;32m   1028\u001b[0m \u001b[0;34m\u001b[0m\u001b[0m\n\u001b[1;32m   1029\u001b[0m     \u001b[0mfig\u001b[0m \u001b[0;34m=\u001b[0m \u001b[0mgcf\u001b[0m\u001b[0;34m(\u001b[0m\u001b[0;34m)\u001b[0m\u001b[0;34m\u001b[0m\u001b[0;34m\u001b[0m\u001b[0m\n\u001b[0;32m-> 1030\u001b[0;31m     \u001b[0ma\u001b[0m \u001b[0;34m=\u001b[0m \u001b[0mfig\u001b[0m\u001b[0;34m.\u001b[0m\u001b[0madd_subplot\u001b[0m\u001b[0;34m(\u001b[0m\u001b[0;34m*\u001b[0m\u001b[0margs\u001b[0m\u001b[0;34m,\u001b[0m \u001b[0;34m**\u001b[0m\u001b[0mkwargs\u001b[0m\u001b[0;34m)\u001b[0m\u001b[0;34m\u001b[0m\u001b[0;34m\u001b[0m\u001b[0m\n\u001b[0m\u001b[1;32m   1031\u001b[0m     \u001b[0mbbox\u001b[0m \u001b[0;34m=\u001b[0m \u001b[0ma\u001b[0m\u001b[0;34m.\u001b[0m\u001b[0mbbox\u001b[0m\u001b[0;34m\u001b[0m\u001b[0;34m\u001b[0m\u001b[0m\n\u001b[1;32m   1032\u001b[0m     \u001b[0mbyebye\u001b[0m \u001b[0;34m=\u001b[0m \u001b[0;34m[\u001b[0m\u001b[0;34m]\u001b[0m\u001b[0;34m\u001b[0m\u001b[0;34m\u001b[0m\u001b[0m\n",
      "\u001b[0;32m/usr/local/lib/python3.7/site-packages/matplotlib/figure.py\u001b[0m in \u001b[0;36madd_subplot\u001b[0;34m(self, *args, **kwargs)\u001b[0m\n\u001b[1;32m   1417\u001b[0m                     \u001b[0mself\u001b[0m\u001b[0;34m.\u001b[0m\u001b[0m_axstack\u001b[0m\u001b[0;34m.\u001b[0m\u001b[0mremove\u001b[0m\u001b[0;34m(\u001b[0m\u001b[0max\u001b[0m\u001b[0;34m)\u001b[0m\u001b[0;34m\u001b[0m\u001b[0;34m\u001b[0m\u001b[0m\n\u001b[1;32m   1418\u001b[0m \u001b[0;34m\u001b[0m\u001b[0m\n\u001b[0;32m-> 1419\u001b[0;31m             \u001b[0ma\u001b[0m \u001b[0;34m=\u001b[0m \u001b[0msubplot_class_factory\u001b[0m\u001b[0;34m(\u001b[0m\u001b[0mprojection_class\u001b[0m\u001b[0;34m)\u001b[0m\u001b[0;34m(\u001b[0m\u001b[0mself\u001b[0m\u001b[0;34m,\u001b[0m \u001b[0;34m*\u001b[0m\u001b[0margs\u001b[0m\u001b[0;34m,\u001b[0m \u001b[0;34m**\u001b[0m\u001b[0mkwargs\u001b[0m\u001b[0;34m)\u001b[0m\u001b[0;34m\u001b[0m\u001b[0;34m\u001b[0m\u001b[0m\n\u001b[0m\u001b[1;32m   1420\u001b[0m \u001b[0;34m\u001b[0m\u001b[0m\n\u001b[1;32m   1421\u001b[0m         \u001b[0;32mreturn\u001b[0m \u001b[0mself\u001b[0m\u001b[0;34m.\u001b[0m\u001b[0m_add_axes_internal\u001b[0m\u001b[0;34m(\u001b[0m\u001b[0mkey\u001b[0m\u001b[0;34m,\u001b[0m \u001b[0ma\u001b[0m\u001b[0;34m)\u001b[0m\u001b[0;34m\u001b[0m\u001b[0;34m\u001b[0m\u001b[0m\n",
      "\u001b[0;32m/usr/local/lib/python3.7/site-packages/matplotlib/axes/_subplots.py\u001b[0m in \u001b[0;36m__init__\u001b[0;34m(self, fig, *args, **kwargs)\u001b[0m\n\u001b[1;32m     74\u001b[0m \u001b[0;34m\u001b[0m\u001b[0m\n\u001b[1;32m     75\u001b[0m         \u001b[0;31m# _axes_class is set in the subplot_class_factory\u001b[0m\u001b[0;34m\u001b[0m\u001b[0;34m\u001b[0m\u001b[0;34m\u001b[0m\u001b[0m\n\u001b[0;32m---> 76\u001b[0;31m         \u001b[0mself\u001b[0m\u001b[0;34m.\u001b[0m\u001b[0m_axes_class\u001b[0m\u001b[0;34m.\u001b[0m\u001b[0m__init__\u001b[0m\u001b[0;34m(\u001b[0m\u001b[0mself\u001b[0m\u001b[0;34m,\u001b[0m \u001b[0mfig\u001b[0m\u001b[0;34m,\u001b[0m \u001b[0mself\u001b[0m\u001b[0;34m.\u001b[0m\u001b[0mfigbox\u001b[0m\u001b[0;34m,\u001b[0m \u001b[0;34m**\u001b[0m\u001b[0mkwargs\u001b[0m\u001b[0;34m)\u001b[0m\u001b[0;34m\u001b[0m\u001b[0;34m\u001b[0m\u001b[0m\n\u001b[0m\u001b[1;32m     77\u001b[0m         \u001b[0;31m# add a layout box to this, for both the full axis, and the poss\u001b[0m\u001b[0;34m\u001b[0m\u001b[0;34m\u001b[0m\u001b[0;34m\u001b[0m\u001b[0m\n\u001b[1;32m     78\u001b[0m         \u001b[0;31m# of the axis.  We need both because the axes may become smaller\u001b[0m\u001b[0;34m\u001b[0m\u001b[0;34m\u001b[0m\u001b[0;34m\u001b[0m\u001b[0m\n",
      "\u001b[0;32m/usr/local/lib/python3.7/site-packages/matplotlib/axes/_base.py\u001b[0m in \u001b[0;36m__init__\u001b[0;34m(self, fig, rect, facecolor, frameon, sharex, sharey, label, xscale, yscale, **kwargs)\u001b[0m\n\u001b[1;32m    466\u001b[0m             \u001b[0mself\u001b[0m\u001b[0;34m.\u001b[0m\u001b[0mset_yscale\u001b[0m\u001b[0;34m(\u001b[0m\u001b[0myscale\u001b[0m\u001b[0;34m)\u001b[0m\u001b[0;34m\u001b[0m\u001b[0;34m\u001b[0m\u001b[0m\n\u001b[1;32m    467\u001b[0m \u001b[0;34m\u001b[0m\u001b[0m\n\u001b[0;32m--> 468\u001b[0;31m         \u001b[0mself\u001b[0m\u001b[0;34m.\u001b[0m\u001b[0mupdate\u001b[0m\u001b[0;34m(\u001b[0m\u001b[0mkwargs\u001b[0m\u001b[0;34m)\u001b[0m\u001b[0;34m\u001b[0m\u001b[0;34m\u001b[0m\u001b[0m\n\u001b[0m\u001b[1;32m    469\u001b[0m \u001b[0;34m\u001b[0m\u001b[0m\n\u001b[1;32m    470\u001b[0m         \u001b[0;32mif\u001b[0m \u001b[0mself\u001b[0m\u001b[0;34m.\u001b[0m\u001b[0mxaxis\u001b[0m \u001b[0;32mis\u001b[0m \u001b[0;32mnot\u001b[0m \u001b[0;32mNone\u001b[0m\u001b[0;34m:\u001b[0m\u001b[0;34m\u001b[0m\u001b[0;34m\u001b[0m\u001b[0m\n",
      "\u001b[0;32m/usr/local/lib/python3.7/site-packages/matplotlib/artist.py\u001b[0m in \u001b[0;36mupdate\u001b[0;34m(self, props)\u001b[0m\n\u001b[1;32m   1004\u001b[0m \u001b[0;34m\u001b[0m\u001b[0m\n\u001b[1;32m   1005\u001b[0m         \u001b[0;32mwith\u001b[0m \u001b[0mcbook\u001b[0m\u001b[0;34m.\u001b[0m\u001b[0m_setattr_cm\u001b[0m\u001b[0;34m(\u001b[0m\u001b[0mself\u001b[0m\u001b[0;34m,\u001b[0m \u001b[0meventson\u001b[0m\u001b[0;34m=\u001b[0m\u001b[0;32mFalse\u001b[0m\u001b[0;34m)\u001b[0m\u001b[0;34m:\u001b[0m\u001b[0;34m\u001b[0m\u001b[0;34m\u001b[0m\u001b[0m\n\u001b[0;32m-> 1006\u001b[0;31m             \u001b[0mret\u001b[0m \u001b[0;34m=\u001b[0m \u001b[0;34m[\u001b[0m\u001b[0m_update_property\u001b[0m\u001b[0;34m(\u001b[0m\u001b[0mself\u001b[0m\u001b[0;34m,\u001b[0m \u001b[0mk\u001b[0m\u001b[0;34m,\u001b[0m \u001b[0mv\u001b[0m\u001b[0;34m)\u001b[0m \u001b[0;32mfor\u001b[0m \u001b[0mk\u001b[0m\u001b[0;34m,\u001b[0m \u001b[0mv\u001b[0m \u001b[0;32min\u001b[0m \u001b[0mprops\u001b[0m\u001b[0;34m.\u001b[0m\u001b[0mitems\u001b[0m\u001b[0;34m(\u001b[0m\u001b[0;34m)\u001b[0m\u001b[0;34m]\u001b[0m\u001b[0;34m\u001b[0m\u001b[0;34m\u001b[0m\u001b[0m\n\u001b[0m\u001b[1;32m   1007\u001b[0m \u001b[0;34m\u001b[0m\u001b[0m\n\u001b[1;32m   1008\u001b[0m         \u001b[0;32mif\u001b[0m \u001b[0mlen\u001b[0m\u001b[0;34m(\u001b[0m\u001b[0mret\u001b[0m\u001b[0;34m)\u001b[0m\u001b[0;34m:\u001b[0m\u001b[0;34m\u001b[0m\u001b[0;34m\u001b[0m\u001b[0m\n",
      "\u001b[0;32m/usr/local/lib/python3.7/site-packages/matplotlib/artist.py\u001b[0m in \u001b[0;36m<listcomp>\u001b[0;34m(.0)\u001b[0m\n\u001b[1;32m   1004\u001b[0m \u001b[0;34m\u001b[0m\u001b[0m\n\u001b[1;32m   1005\u001b[0m         \u001b[0;32mwith\u001b[0m \u001b[0mcbook\u001b[0m\u001b[0;34m.\u001b[0m\u001b[0m_setattr_cm\u001b[0m\u001b[0;34m(\u001b[0m\u001b[0mself\u001b[0m\u001b[0;34m,\u001b[0m \u001b[0meventson\u001b[0m\u001b[0;34m=\u001b[0m\u001b[0;32mFalse\u001b[0m\u001b[0;34m)\u001b[0m\u001b[0;34m:\u001b[0m\u001b[0;34m\u001b[0m\u001b[0;34m\u001b[0m\u001b[0m\n\u001b[0;32m-> 1006\u001b[0;31m             \u001b[0mret\u001b[0m \u001b[0;34m=\u001b[0m \u001b[0;34m[\u001b[0m\u001b[0m_update_property\u001b[0m\u001b[0;34m(\u001b[0m\u001b[0mself\u001b[0m\u001b[0;34m,\u001b[0m \u001b[0mk\u001b[0m\u001b[0;34m,\u001b[0m \u001b[0mv\u001b[0m\u001b[0;34m)\u001b[0m \u001b[0;32mfor\u001b[0m \u001b[0mk\u001b[0m\u001b[0;34m,\u001b[0m \u001b[0mv\u001b[0m \u001b[0;32min\u001b[0m \u001b[0mprops\u001b[0m\u001b[0;34m.\u001b[0m\u001b[0mitems\u001b[0m\u001b[0;34m(\u001b[0m\u001b[0;34m)\u001b[0m\u001b[0;34m]\u001b[0m\u001b[0;34m\u001b[0m\u001b[0;34m\u001b[0m\u001b[0m\n\u001b[0m\u001b[1;32m   1007\u001b[0m \u001b[0;34m\u001b[0m\u001b[0m\n\u001b[1;32m   1008\u001b[0m         \u001b[0;32mif\u001b[0m \u001b[0mlen\u001b[0m\u001b[0;34m(\u001b[0m\u001b[0mret\u001b[0m\u001b[0;34m)\u001b[0m\u001b[0;34m:\u001b[0m\u001b[0;34m\u001b[0m\u001b[0;34m\u001b[0m\u001b[0m\n",
      "\u001b[0;32m/usr/local/lib/python3.7/site-packages/matplotlib/artist.py\u001b[0m in \u001b[0;36m_update_property\u001b[0;34m(self, k, v)\u001b[0m\n\u001b[1;32m   1000\u001b[0m                 \u001b[0;32mif\u001b[0m \u001b[0;32mnot\u001b[0m \u001b[0mcallable\u001b[0m\u001b[0;34m(\u001b[0m\u001b[0mfunc\u001b[0m\u001b[0;34m)\u001b[0m\u001b[0;34m:\u001b[0m\u001b[0;34m\u001b[0m\u001b[0;34m\u001b[0m\u001b[0m\n\u001b[1;32m   1001\u001b[0m                     raise AttributeError('{!r} object has no property {!r}'\n\u001b[0;32m-> 1002\u001b[0;31m                                          .format(type(self).__name__, k))\n\u001b[0m\u001b[1;32m   1003\u001b[0m                 \u001b[0;32mreturn\u001b[0m \u001b[0mfunc\u001b[0m\u001b[0;34m(\u001b[0m\u001b[0mv\u001b[0m\u001b[0;34m)\u001b[0m\u001b[0;34m\u001b[0m\u001b[0;34m\u001b[0m\u001b[0m\n\u001b[1;32m   1004\u001b[0m \u001b[0;34m\u001b[0m\u001b[0m\n",
      "\u001b[0;31mAttributeError\u001b[0m: 'AxesSubplot' object has no property 'figsize'"
     ]
    },
    {
     "data": {
      "text/plain": [
       "<Figure size 432x288 with 0 Axes>"
      ]
     },
     "metadata": {},
     "output_type": "display_data"
    }
   ],
   "source": [
    "batch=3\n",
    "for n in range(batch):    \n",
    "    for i in range(len(seq)):\n",
    "        inputSDR = enc.encode(seq[i])\n",
    "        print(\"input SDR: \",inputSDR)\n",
    "        sp.compute(inputSDR, True, activeSDR)\n",
    "        print(\"Active SDR: \",activeSDR)\n",
    "        #seq_clsr.learn( activeSDR, i )\n",
    "        #print(\"Classifier learn: \",i)\n",
    "        print(\"\")\n",
    "\n",
    "        #sampleSDR=activeSDR.dense.reshape(24,24)\n",
    "        #plt.imshow(sampleSDR, cmap = \"Blues\")\n",
    "        #plt.pause(0.01)\n",
    "\n",
    "        tm.compute( activeSDR, learn=True)\n",
    "        tm.activateDendrites(True)\n",
    "\n",
    "        activeColumnsIndices   = [tm.columnForCell(i) for i in tm.getActiveCells().sparse]\n",
    "        predictedColumnIndices = [tm.columnForCell(i) for i in tm.getPredictiveCells().sparse]\n",
    "        \n",
    "        print(\"test0\", tm.getPredictiveCells())\n",
    "        print(\"test1\", tm.getPredictiveCells().sparse)\n",
    "        print(\"test2\",predictedColumnIndices)\n",
    "        print(\"test3\", np.array(set(predictedColumnIndices)))\n",
    "        print(\"test4\", np.array(sorted(set(predictedColumnIndices))))\n",
    "        \n",
    "        reshapeActiveCells =tm.getActiveCells().dense.reshape(24,8,24)\n",
    "        for j in range(24):\n",
    "            plt.subplot(6,4,j+1)\n",
    "            plt.imshow(reshapeActiveCells[j], cmap = \"Purples\")\n",
    "        plt.show()\n",
    "\n",
    "        reshapePredictCells =tm.getPredictiveCells().dense.reshape(24,8,24)\n",
    "        for j in range(24):\n",
    "            plt.subplot(6,4,j+1)\n",
    "            plt.imshow(reshapePredictCells[j], cmap = \"Reds\")\n",
    "        plt.show()\n",
    "\n",
    "        active_sdr = SDR( tm.numberOfColumns() )\n",
    "        active_sdr.sparse  = np.array(sorted(set(activeColumnsIndices)))\n",
    "        print(\"-\"*70 )\n",
    "        print(\"Active sdr: \", active_sdr)\n",
    "        \n",
    "        sampleSDR=active_sdr.dense.reshape(24,24)\n",
    "        plt.imshow(sampleSDR, cmap = \"Purples\")\n",
    "        plt.pause(0.01)\n",
    "\n",
    "        predict_sdr = SDR( tm.numberOfColumns() )\n",
    "        predict_sdr.sparse  = np.array(sorted(set(predictedColumnIndices)))\n",
    "        print(\"-\"*70 )\n",
    "        print(\"Predicted sdr: \",predict_sdr)\n",
    "        \n",
    "        sampleSDR=predict_sdr.dense.reshape(24,24)\n",
    "        plt.imshow(sampleSDR, cmap = \"Reds\")\n",
    "        plt.pause(0.01)\n",
    "\n",
    "        if  len(predict_sdr.sparse) == 0:\n",
    "            tm_predict = \"nan\"\n",
    "            tm_pitchNames = \"nan\"      \n",
    "        else:\n",
    "            tm_predict = np.argmax( clsr.infer( predict_sdr) ) \n",
    "            tm_pitchNames = pitchNames[tm_predict]\n",
    "\n",
    "        print(\"-\"*70 )\n",
    "        print(\"PDF: \",clsr.infer( predict_sdr) )\n",
    "        print(\"-\"*70 )\n",
    "\n",
    "        print(\"predict index: \",tm_predict)\n",
    "        print(\"-\"*70 )\n",
    "        print(\"predict label: \",tm_pitchNames)\n",
    "\n",
    "        print(\"\")\n",
    "\n",
    "        \n",
    "        #clear_output(wait = True)\n",
    "        #plt.cla\n",
    "        #sampleSDR=predict_sdr.dense.reshape(24,24)\n",
    "        #plt.imshow(sampleSDR, cmap = \"Reds\")\n",
    "        #plt.pause(0.01)"
   ]
  },
  {
   "cell_type": "code",
   "execution_count": 10,
   "metadata": {},
   "outputs": [
    {
     "name": "stdout",
     "output_type": "stream",
     "text": [
      "---  0  ---\n",
      "input SDR:  SDR( 21 ) 0, 1, 2\n",
      "Active SDR:  SDR( 576 ) 62, 113, 121, 222, 243, 320, 409, 453, 478, 567, 572\n",
      "\n",
      "SDR( 576, 8 ) 496, 904, 968, 1776, 1944, 2560, 3272, 3624, 3824, 4536, 4576\n",
      "SDR( 576, 8 ) 312, 480, 496, 552, 904, 968, 1688, 1776, 1944, 2560, 3056, 3272, 3624, 3824, 4072, 4184, 4320, 4416, 4448, 4536, 4576, 4584\n",
      "----------------------------------------------------------------------\n",
      "Active sdr:  SDR( 576 ) 62, 113, 121, 222, 243, 320, 409, 453, 478, 567, 572\n",
      "----------------------------------------------------------------------\n",
      "Predicted sdr:  SDR( 576 ) 39, 60, 62, 69, 113, 121, 211, 222, 243, 320, 382, 409, 453, 478, 509, 523, 540, 552, 556, 567, 572, 573\n",
      "----------------------------------------------------------------------\n",
      "PDF:  [0.14245725433800124, 0.14259952626239747, 0.14267069163622728, 0.142575772751671, 0.14386474045032369, 0.14297555743420357, 0.14285646075682604]\n",
      "----------------------------------------------------------------------\n",
      "predict index:  4\n",
      "----------------------------------------------------------------------\n",
      "predict label:  G\n",
      "\n"
     ]
    },
    {
     "data": {
      "image/png": "[encoded data removed]",
      "text/plain": [
       "<Figure size 432x288 with 1 Axes>"
      ]
     },
     "metadata": {
      "needs_background": "light"
     },
     "output_type": "display_data"
    },
    {
     "name": "stdout",
     "output_type": "stream",
     "text": [
      "---  1  ---\n",
      "input SDR:  SDR( 21 ) 0, 1, 2\n",
      "Active SDR:  SDR( 576 ) 62, 113, 121, 222, 243, 320, 409, 453, 478, 567, 572\n",
      "\n",
      "SDR( 576, 8 ) 496, 904, 968, 1776, 1944, 2560, 3272, 3624, 3824, 4536, 4576\n",
      "SDR( 576, 8 ) 312, 480, 496, 552, 904, 968, 1688, 1776, 1944, 2560, 3056, 3272, 3624, 3824, 4072, 4184, 4320, 4416, 4448, 4536, 4576, 4584\n",
      "----------------------------------------------------------------------\n",
      "Active sdr:  SDR( 576 ) 62, 113, 121, 222, 243, 320, 409, 453, 478, 567, 572\n",
      "----------------------------------------------------------------------\n",
      "Predicted sdr:  SDR( 576 ) 39, 60, 62, 69, 113, 121, 211, 222, 243, 320, 382, 409, 453, 478, 509, 523, 540, 552, 556, 567, 572, 573\n",
      "----------------------------------------------------------------------\n",
      "PDF:  [0.14245725433800124, 0.14259952626239747, 0.14267069163622728, 0.142575772751671, 0.14386474045032369, 0.14297555743420357, 0.14285646075682604]\n",
      "----------------------------------------------------------------------\n",
      "predict index:  4\n",
      "----------------------------------------------------------------------\n",
      "predict label:  G\n",
      "\n"
     ]
    },
    {
     "data": {
      "image/png": "[encoded data removed]",
      "text/plain": [
       "<Figure size 432x288 with 1 Axes>"
      ]
     },
     "metadata": {
      "needs_background": "light"
     },
     "output_type": "display_data"
    },
    {
     "name": "stdout",
     "output_type": "stream",
     "text": [
      "---  2  ---\n",
      "input SDR:  SDR( 21 ) 12, 13, 14\n",
      "Active SDR:  SDR( 576 ) 39, 60, 69, 211, 382, 509, 523, 540, 552, 556, 573\n",
      "\n",
      "SDR( 576, 8 ) 312, 480, 552, 1688, 3056, 4072, 4184, 4320, 4416, 4448, 4584\n",
      "SDR( 576, 8 ) 313, 481, 553, 1689, 3057, 4073, 4185, 4321, 4417, 4449, 4585\n",
      "----------------------------------------------------------------------\n",
      "Active sdr:  SDR( 576 ) 39, 60, 69, 211, 382, 509, 523, 540, 552, 556, 573\n",
      "----------------------------------------------------------------------\n",
      "Predicted sdr:  SDR( 576 ) 39, 60, 69, 211, 382, 509, 523, 540, 552, 556, 573\n",
      "----------------------------------------------------------------------\n",
      "PDF:  [0.14245725433800124, 0.14259952626239747, 0.14267069163622728, 0.142575772751671, 0.14386474045032369, 0.14297555743420357, 0.14285646075682604]\n",
      "----------------------------------------------------------------------\n",
      "predict index:  4\n",
      "----------------------------------------------------------------------\n",
      "predict label:  G\n",
      "\n"
     ]
    },
    {
     "data": {
      "image/png": "[encoded data removed]",
      "text/plain": [
       "<Figure size 432x288 with 1 Axes>"
      ]
     },
     "metadata": {
      "needs_background": "light"
     },
     "output_type": "display_data"
    },
    {
     "name": "stdout",
     "output_type": "stream",
     "text": [
      "---  3  ---\n",
      "input SDR:  SDR( 21 ) 12, 13, 14\n",
      "Active SDR:  SDR( 576 ) 39, 60, 69, 211, 382, 509, 523, 540, 552, 556, 573\n",
      "\n",
      "SDR( 576, 8 ) 313, 481, 553, 1689, 3057, 4073, 4185, 4321, 4417, 4449, 4585\n",
      "SDR( 576, 8 ) 568, 960, 1352, 1648, 1744, 2168, 2496, 2504, 2688, 3368, 4585\n",
      "----------------------------------------------------------------------\n",
      "Active sdr:  SDR( 576 ) 39, 60, 69, 211, 382, 509, 523, 540, 552, 556, 573\n",
      "----------------------------------------------------------------------\n",
      "Predicted sdr:  SDR( 576 ) 71, 120, 169, 206, 218, 271, 312, 313, 336, 421, 573\n",
      "----------------------------------------------------------------------\n",
      "PDF:  [0.14253081689668565, 0.1425307884427364, 0.1426731267052533, 0.14272066372210662, 0.14275629477805785, 0.1439318818474216, 0.14285643062630607]\n",
      "----------------------------------------------------------------------\n",
      "predict index:  5\n",
      "----------------------------------------------------------------------\n",
      "predict label:  A\n",
      "\n"
     ]
    },
    {
     "data": {
      "image/png": "[encoded data removed]",
      "text/plain": [
       "<Figure size 432x288 with 1 Axes>"
      ]
     },
     "metadata": {
      "needs_background": "light"
     },
     "output_type": "display_data"
    },
    {
     "name": "stdout",
     "output_type": "stream",
     "text": [
      "---  4  ---\n",
      "input SDR:  SDR( 21 ) 15, 16, 17\n",
      "Active SDR:  SDR( 576 ) 71, 120, 169, 206, 218, 271, 312, 313, 336, 421, 573\n",
      "\n",
      "SDR( 576, 8 ) 568, 960, 1352, 1648, 1744, 2168, 2496, 2504, 2688, 3368, 4585\n",
      "SDR( 576, 8 ) 569, 961, 1353, 1649, 1745, 2169, 2497, 2505, 2689, 3369, 4586\n",
      "----------------------------------------------------------------------\n",
      "Active sdr:  SDR( 576 ) 71, 120, 169, 206, 218, 271, 312, 313, 336, 421, 573\n",
      "----------------------------------------------------------------------\n",
      "Predicted sdr:  SDR( 576 ) 71, 120, 169, 206, 218, 271, 312, 313, 336, 421, 573\n",
      "----------------------------------------------------------------------\n",
      "PDF:  [0.14253081689668565, 0.1425307884427364, 0.1426731267052533, 0.14272066372210662, 0.14275629477805785, 0.1439318818474216, 0.14285643062630607]\n",
      "----------------------------------------------------------------------\n",
      "predict index:  5\n",
      "----------------------------------------------------------------------\n",
      "predict label:  A\n",
      "\n"
     ]
    },
    {
     "data": {
      "image/png": "[encoded data removed]",
      "text/plain": [
       "<Figure size 432x288 with 1 Axes>"
      ]
     },
     "metadata": {
      "needs_background": "light"
     },
     "output_type": "display_data"
    },
    {
     "name": "stdout",
     "output_type": "stream",
     "text": [
      "---  5  ---\n",
      "input SDR:  SDR( 21 ) 15, 16, 17\n",
      "Active SDR:  SDR( 576 ) 71, 120, 169, 206, 218, 271, 312, 313, 336, 421, 573\n",
      "\n",
      "SDR( 576, 8 ) 569, 961, 1353, 1649, 1745, 2169, 2497, 2505, 2689, 3369, 4586\n",
      "SDR( 576, 8 ) 314, 482, 554, 1690, 3058, 4074, 4186, 4322, 4418, 4450, 4586\n",
      "----------------------------------------------------------------------\n",
      "Active sdr:  SDR( 576 ) 71, 120, 169, 206, 218, 271, 312, 313, 336, 421, 573\n",
      "----------------------------------------------------------------------\n",
      "Predicted sdr:  SDR( 576 ) 39, 60, 69, 211, 382, 509, 523, 540, 552, 556, 573\n",
      "----------------------------------------------------------------------\n",
      "PDF:  [0.14245725433800124, 0.14259952626239747, 0.14267069163622728, 0.142575772751671, 0.14386474045032369, 0.14297555743420357, 0.14285646075682604]\n",
      "----------------------------------------------------------------------\n",
      "predict index:  4\n",
      "----------------------------------------------------------------------\n",
      "predict label:  G\n",
      "\n"
     ]
    },
    {
     "data": {
      "image/png": "[encoded data removed]",
      "text/plain": [
       "<Figure size 432x288 with 1 Axes>"
      ]
     },
     "metadata": {
      "needs_background": "light"
     },
     "output_type": "display_data"
    },
    {
     "name": "stdout",
     "output_type": "stream",
     "text": [
      "---  6  ---\n",
      "input SDR:  SDR( 21 ) 12, 13, 14\n",
      "Active SDR:  SDR( 576 ) 39, 60, 69, 211, 382, 509, 523, 540, 552, 556, 573\n",
      "\n",
      "SDR( 576, 8 ) 314, 482, 554, 1690, 3058, 4074, 4186, 4322, 4418, 4450, 4586\n",
      "SDR( 576, 8 ) 440, 1392, 2032, 2288, 2720, 2960, 3312, 4104, 4208, 4352, 4520\n",
      "----------------------------------------------------------------------\n",
      "Active sdr:  SDR( 576 ) 39, 60, 69, 211, 382, 509, 523, 540, 552, 556, 573\n",
      "----------------------------------------------------------------------\n",
      "Predicted sdr:  SDR( 576 ) 55, 174, 254, 286, 340, 370, 414, 513, 526, 544, 565\n",
      "----------------------------------------------------------------------\n",
      "PDF:  [0.14245254429847104, 0.1425950680995626, 0.14266609808429365, 0.14371635339983097, 0.1428566369485754, 0.1428566369485754, 0.1428566369485754]\n",
      "----------------------------------------------------------------------\n",
      "predict index:  3\n",
      "----------------------------------------------------------------------\n",
      "predict label:  F\n",
      "\n"
     ]
    },
    {
     "data": {
      "image/png": "[encoded data removed]",
      "text/plain": [
       "<Figure size 432x288 with 1 Axes>"
      ]
     },
     "metadata": {
      "needs_background": "light"
     },
     "output_type": "display_data"
    },
    {
     "name": "stdout",
     "output_type": "stream",
     "text": [
      "---  7  ---\n",
      "input SDR:  SDR( 21 ) 9, 10, 11\n",
      "Active SDR:  SDR( 576 ) 55, 174, 254, 286, 340, 370, 414, 513, 526, 544, 565\n",
      "\n",
      "SDR( 576, 8 ) 440, 1392, 2032, 2288, 2720, 2960, 3312, 4104, 4208, 4352, 4520\n",
      "SDR( 576, 8 ) 441, 1393, 2033, 2289, 2721, 2961, 3313, 4105, 4209, 4353, 4521\n",
      "----------------------------------------------------------------------\n",
      "Active sdr:  SDR( 576 ) 55, 174, 254, 286, 340, 370, 414, 513, 526, 544, 565\n",
      "----------------------------------------------------------------------\n",
      "Predicted sdr:  SDR( 576 ) 55, 174, 254, 286, 340, 370, 414, 513, 526, 544, 565\n",
      "----------------------------------------------------------------------\n",
      "PDF:  [0.14245254429847104, 0.1425950680995626, 0.14266609808429365, 0.14371635339983097, 0.1428566369485754, 0.1428566369485754, 0.1428566369485754]\n",
      "----------------------------------------------------------------------\n",
      "predict index:  3\n",
      "----------------------------------------------------------------------\n",
      "predict label:  F\n",
      "\n"
     ]
    },
    {
     "data": {
      "image/png": "[encoded data removed]",
      "text/plain": [
       "<Figure size 432x288 with 1 Axes>"
      ]
     },
     "metadata": {
      "needs_background": "light"
     },
     "output_type": "display_data"
    },
    {
     "name": "stdout",
     "output_type": "stream",
     "text": [
      "---  8  ---\n",
      "input SDR:  SDR( 21 ) 9, 10, 11\n",
      "Active SDR:  SDR( 576 ) 55, 174, 254, 286, 340, 370, 414, 513, 526, 544, 565\n",
      "\n",
      "SDR( 576, 8 ) 441, 1393, 2033, 2289, 2721, 2961, 3313, 4105, 4209, 4353, 4521\n",
      "SDR( 576, 8 ) 536, 824, 1464, 3520, 4336, 4360, 4368, 4376, 4464, 4568, 4587\n",
      "----------------------------------------------------------------------\n",
      "Active sdr:  SDR( 576 ) 55, 174, 254, 286, 340, 370, 414, 513, 526, 544, 565\n",
      "----------------------------------------------------------------------\n",
      "Predicted sdr:  SDR( 576 ) 67, 103, 183, 440, 542, 545, 546, 547, 558, 571, 573\n",
      "----------------------------------------------------------------------\n",
      "PDF:  [0.1423764783858811, 0.14237644992481838, 0.1436635833183937, 0.1428041936613007, 0.14294706332750648, 0.14297567466849753, 0.14285657789346543]\n",
      "----------------------------------------------------------------------\n",
      "predict index:  2\n",
      "----------------------------------------------------------------------\n",
      "predict label:  E\n",
      "\n"
     ]
    },
    {
     "data": {
      "image/png": "[encoded data removed]",
      "text/plain": [
       "<Figure size 432x288 with 1 Axes>"
      ]
     },
     "metadata": {
      "needs_background": "light"
     },
     "output_type": "display_data"
    },
    {
     "name": "stdout",
     "output_type": "stream",
     "text": [
      "---  9  ---\n",
      "input SDR:  SDR( 21 ) 6, 7, 8\n",
      "Active SDR:  SDR( 576 ) 67, 103, 183, 440, 535, 542, 545, 546, 547, 558, 571\n",
      "\n",
      "SDR( 576, 8 ) 536, 824, 1464, 3520, 4280, 4281, 4282, 4283, 4284, 4285, 4286, 4287, 4336, 4360, 4368, 4376, 4464, 4568\n",
      "SDR( 576, 8 ) 537, 825, 1465, 3521, 4337, 4361, 4369, 4377, 4465, 4569, 4588\n",
      "----------------------------------------------------------------------\n",
      "Active sdr:  SDR( 576 ) 67, 103, 183, 440, 535, 542, 545, 546, 547, 558, 571\n",
      "----------------------------------------------------------------------\n",
      "Predicted sdr:  SDR( 576 ) 67, 103, 183, 440, 542, 545, 546, 547, 558, 571, 573\n",
      "----------------------------------------------------------------------\n",
      "PDF:  [0.1423764783858811, 0.14237644992481838, 0.1436635833183937, 0.1428041936613007, 0.14294706332750648, 0.14297567466849753, 0.14285657789346543]\n",
      "----------------------------------------------------------------------\n",
      "predict index:  2\n",
      "----------------------------------------------------------------------\n",
      "predict label:  E\n",
      "\n"
     ]
    },
    {
     "data": {
      "image/png": "[encoded data removed]",
      "text/plain": [
       "<Figure size 432x288 with 1 Axes>"
      ]
     },
     "metadata": {
      "needs_background": "light"
     },
     "output_type": "display_data"
    },
    {
     "name": "stdout",
     "output_type": "stream",
     "text": [
      "---  10  ---\n",
      "input SDR:  SDR( 21 ) 6, 7, 8\n",
      "Active SDR:  SDR( 576 ) 67, 103, 183, 440, 535, 542, 545, 546, 547, 558, 571\n",
      "\n",
      "SDR( 576, 8 ) 537, 825, 1465, 3521, 4280, 4281, 4282, 4283, 4284, 4285, 4286, 4287, 4337, 4361, 4369, 4377, 4465, 4569\n",
      "SDR( 576, 8 ) 792, 1216, 2376, 2976, 3880, 4210, 4296, 4419, 4440, 4512, 4600\n",
      "----------------------------------------------------------------------\n",
      "Active sdr:  SDR( 576 ) 67, 103, 183, 440, 535, 542, 545, 546, 547, 558, 571\n",
      "----------------------------------------------------------------------\n",
      "Predicted sdr:  SDR( 576 ) 99, 152, 297, 372, 485, 526, 537, 552, 555, 564, 575\n",
      "----------------------------------------------------------------------\n",
      "PDF:  [0.14216658534527118, 0.14345181055965478, 0.14280772357134836, 0.14280774261872753, 0.1429506217958146, 0.14283630702174374, 0.14297921477752212]\n",
      "----------------------------------------------------------------------\n",
      "predict index:  1\n",
      "----------------------------------------------------------------------\n",
      "predict label:  D\n",
      "\n"
     ]
    },
    {
     "data": {
      "image/png": "[encoded data removed]",
      "text/plain": [
       "<Figure size 432x288 with 1 Axes>"
      ]
     },
     "metadata": {
      "needs_background": "light"
     },
     "output_type": "display_data"
    },
    {
     "name": "stdout",
     "output_type": "stream",
     "text": [
      "---  11  ---\n",
      "input SDR:  SDR( 21 ) 3, 4, 5\n",
      "Active SDR:  SDR( 576 ) 99, 152, 297, 372, 485, 526, 537, 552, 555, 564, 575\n",
      "\n",
      "SDR( 576, 8 ) 792, 1216, 2376, 2976, 3880, 4210, 4296, 4419, 4440, 4512, 4600\n",
      "SDR( 576, 8 ) 793, 1217, 2377, 2977, 3881, 4211, 4297, 4420, 4441, 4513, 4601\n",
      "----------------------------------------------------------------------\n",
      "Active sdr:  SDR( 576 ) 99, 152, 297, 372, 485, 526, 537, 552, 555, 564, 575\n",
      "----------------------------------------------------------------------\n",
      "Predicted sdr:  SDR( 576 ) 99, 152, 297, 372, 485, 526, 537, 552, 555, 564, 575\n",
      "----------------------------------------------------------------------\n",
      "PDF:  [0.14216658534527118, 0.14345181055965478, 0.14280772357134836, 0.14280774261872753, 0.1429506217958146, 0.14283630702174374, 0.14297921477752212]\n",
      "----------------------------------------------------------------------\n",
      "predict index:  1\n",
      "----------------------------------------------------------------------\n",
      "predict label:  D\n",
      "\n"
     ]
    },
    {
     "data": {
      "image/png": "[encoded data removed]",
      "text/plain": [
       "<Figure size 432x288 with 1 Axes>"
      ]
     },
     "metadata": {
      "needs_background": "light"
     },
     "output_type": "display_data"
    },
    {
     "name": "stdout",
     "output_type": "stream",
     "text": [
      "---  12  ---\n",
      "input SDR:  SDR( 21 ) 3, 4, 5\n",
      "Active SDR:  SDR( 576 ) 99, 152, 297, 372, 485, 526, 537, 552, 555, 564, 575\n",
      "\n",
      "SDR( 576, 8 ) 793, 1217, 2377, 2977, 3881, 4211, 4297, 4420, 4441, 4513, 4601\n",
      "SDR( 576, 8 ) 497, 905, 969, 1777, 1945, 2561, 3273, 3625, 3825, 4537, 4577\n",
      "----------------------------------------------------------------------\n",
      "Active sdr:  SDR( 576 ) 99, 152, 297, 372, 485, 526, 537, 552, 555, 564, 575\n",
      "----------------------------------------------------------------------\n",
      "Predicted sdr:  SDR( 576 ) 62, 113, 121, 222, 243, 320, 409, 453, 478, 567, 572\n",
      "----------------------------------------------------------------------\n",
      "PDF:  [0.14285714285714285, 0.14285714285714285, 0.14285714285714285, 0.14285714285714285, 0.14285714285714285, 0.14285714285714285, 0.14285714285714285]\n",
      "----------------------------------------------------------------------\n",
      "predict index:  0\n",
      "----------------------------------------------------------------------\n",
      "predict label:  C\n",
      "\n"
     ]
    },
    {
     "data": {
      "image/png": "[encoded data removed]",
      "text/plain": [
       "<Figure size 432x288 with 1 Axes>"
      ]
     },
     "metadata": {
      "needs_background": "light"
     },
     "output_type": "display_data"
    },
    {
     "name": "stdout",
     "output_type": "stream",
     "text": [
      "---  13  ---\n",
      "input SDR:  SDR( 21 ) 0, 1, 2\n",
      "Active SDR:  SDR( 576 ) 62, 113, 121, 222, 243, 320, 409, 453, 478, 567, 572\n",
      "\n",
      "SDR( 576, 8 ) 497, 905, 969, 1777, 1945, 2561, 3273, 3625, 3825, 4537, 4577\n",
      "SDR( 576, 8 ) 496, 904, 968, 1776, 1944, 2560, 3272, 3624, 3824, 4536, 4576\n",
      "----------------------------------------------------------------------\n",
      "Active sdr:  SDR( 576 ) 62, 113, 121, 222, 243, 320, 409, 453, 478, 567, 572\n",
      "----------------------------------------------------------------------\n",
      "Predicted sdr:  SDR( 576 ) 62, 113, 121, 222, 243, 320, 409, 453, 478, 567, 572\n",
      "----------------------------------------------------------------------\n",
      "PDF:  [0.14285714285714285, 0.14285714285714285, 0.14285714285714285, 0.14285714285714285, 0.14285714285714285, 0.14285714285714285, 0.14285714285714285]\n",
      "----------------------------------------------------------------------\n",
      "predict index:  0\n",
      "----------------------------------------------------------------------\n",
      "predict label:  C\n",
      "\n"
     ]
    },
    {
     "data": {
      "image/png": "[encoded data removed]",
      "text/plain": [
       "<Figure size 432x288 with 1 Axes>"
      ]
     },
     "metadata": {
      "needs_background": "light"
     },
     "output_type": "display_data"
    }
   ],
   "source": [
    "for i in range(len(seq)):\n",
    "    print(\"--- \", i ,\" ---\")\n",
    "    inputSDR = enc.encode(seq[i])\n",
    "    print(\"input SDR: \",inputSDR)\n",
    "    sp.compute(inputSDR, True, activeSDR)\n",
    "    print(\"Active SDR: \",activeSDR)\n",
    "    print(\"\")\n",
    "\n",
    "    #sampleSDR=activeSDR.dense.reshape(24,24)\n",
    "    #plt.imshow(sampleSDR, cmap = \"Blues\")\n",
    "    #plt.pause(0.01)\n",
    "\n",
    "    tm.compute( activeSDR, learn=False)\n",
    "    tm.activateDendrites(True)\n",
    "    activeColumnsIndices   = [tm.columnForCell(i) for i in tm.getActiveCells().sparse]\n",
    "    predictedColumnIndices = [tm.columnForCell(i) for i in tm.getPredictiveCells().sparse]\n",
    "\n",
    "    print(tm.getActiveCells())\n",
    "    print(tm.getPredictiveCells())\n",
    "\n",
    "    active_sdr = SDR( tm.numberOfColumns() )\n",
    "    active_sdr.sparse  = np.array(sorted(set(activeColumnsIndices)))\n",
    "    print(\"-\"*70 )\n",
    "    print(\"Active sdr: \", active_sdr)\n",
    "\n",
    "    predict_sdr = SDR( tm.numberOfColumns() )\n",
    "    predict_sdr.sparse  = np.array(sorted(set(predictedColumnIndices)))\n",
    "    print(\"-\"*70 )\n",
    "    print(\"Predicted sdr: \",predict_sdr)\n",
    "\n",
    "    if  len(predict_sdr.sparse) == 0:\n",
    "        tm_predict = \"nan\"\n",
    "        tm_pitchNames = \"nan\"      \n",
    "    else:\n",
    "        tm_predict = np.argmax( clsr.infer( predict_sdr) ) \n",
    "        tm_pitchNames = pitchNames[tm_predict]\n",
    "\n",
    "    print(\"-\"*70 )\n",
    "    print(\"PDF: \",clsr.infer( predict_sdr) )\n",
    "    print(\"-\"*70 )\n",
    "\n",
    "    print(\"predict index: \",tm_predict)\n",
    "    print(\"-\"*70 )\n",
    "    print(\"predict label: \",tm_pitchNames)\n",
    "\n",
    "    print(\"\")\n",
    "\n",
    "    sampleSDR=predict_sdr.dense.reshape(24,24)\n",
    "    plt.imshow(sampleSDR, cmap = \"Reds\")\n",
    "    plt.pause(0.01)"
   ]
  },
  {
   "cell_type": "code",
   "execution_count": null,
   "metadata": {},
   "outputs": [],
   "source": [
    "[\"C\",\"C\",\"G\",\"G\",\"A\",\"A\",\"G\",\"F\",\"F\",\"E\",\"E\",\"D\",\"D\",\"C\"]"
   ]
  },
  {
   "cell_type": "code",
   "execution_count": null,
   "metadata": {},
   "outputs": [],
   "source": [
    "[\"C\",\"G\",\"G\",\"G\",\"A\",\"A\",\"G\",\"F\",\"F\",\"E\",\"E\",\"D\",\"D\",\"C\"]"
   ]
  }
 ],
 "metadata": {
  "kernelspec": {
   "display_name": "Python 3.7.1 64-bit",
   "language": "python",
   "name": "python37164biteddaa04d9bd6403f87a9a26eeb0f918e"
  },
  "language_info": {
   "codemirror_mode": {
    "name": "ipython",
    "version": 3
   },
   "file_extension": ".py",
   "mimetype": "text/x-python",
   "name": "python",
   "nbconvert_exporter": "python",
   "pygments_lexer": "ipython3",
   "version": "3.7.1"
  }
 },
 "nbformat": 4,
 "nbformat_minor": 2
}
