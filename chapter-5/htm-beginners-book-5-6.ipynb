{
 "cells": [
  {
   "cell_type": "markdown",
   "metadata": {},
   "source": [
    "## Pitch Names Classifier"
   ]
  },
  {
   "cell_type": "code",
   "execution_count": 1,
   "metadata": {},
   "outputs": [],
   "source": [
    "import numpy as np\n",
    "\n",
    "from htm.bindings.sdr import SDR\n",
    "from htm.bindings.encoders import ScalarEncoder, ScalarEncoderParameters\n",
    "from htm.algorithms import SpatialPooler as SP\n",
    "from htm.algorithms import TemporalMemory as TM\n",
    "from htm.bindings.algorithms import Classifier\n",
    "\n",
    "import matplotlib\n",
    "matplotlib.use('Agg')\n",
    "import matplotlib.pyplot as plt\n",
    "from IPython.display import display, clear_output\n",
    "%matplotlib inline"
   ]
  },
  {
   "cell_type": "code",
   "execution_count": 2,
   "metadata": {},
   "outputs": [
    {
     "name": "stdout",
     "output_type": "stream",
     "text": [
      "C:  SDR( 21 ) 0, 1, 2\n",
      "D:  SDR( 21 ) 3, 4, 5\n",
      "E:  SDR( 21 ) 6, 7, 8\n",
      "F:  SDR( 21 ) 9, 10, 11\n",
      "G:  SDR( 21 ) 12, 13, 14\n",
      "A:  SDR( 21 ) 15, 16, 17\n",
      "B:  SDR( 21 ) 18, 19, 20\n"
     ]
    }
   ],
   "source": [
    "pitchNames = (\"C\",\"D\",\"E\",\"F\",\"G\",\"A\",\"B\")\n",
    "\n",
    "scalarEncoderParams = ScalarEncoderParameters()\n",
    "scalarEncoderParams.minimum = 0\n",
    "scalarEncoderParams.maximum = 6\n",
    "scalarEncoderParams.activeBits = 3\n",
    "scalarEncoderParams.category = True\n",
    "\n",
    "enc = ScalarEncoder(scalarEncoderParams)\n",
    "\n",
    "print (\"C: \", enc.encode(0))\n",
    "print (\"D: \", enc.encode(1))\n",
    "print (\"E: \", enc.encode(2))\n",
    "print (\"F: \", enc.encode(3))\n",
    "print (\"G: \", enc.encode(4))\n",
    "print (\"A: \", enc.encode(5))\n",
    "print (\"B: \", enc.encode(6))"
   ]
  },
  {
   "cell_type": "code",
   "execution_count": 3,
   "metadata": {},
   "outputs": [
    {
     "data": {
      "image/png": "[encoded data removed]",
      "text/plain": [
       "<Figure size 432x288 with 1 Axes>"
      ]
     },
     "metadata": {
      "needs_background": "light"
     },
     "output_type": "display_data"
    }
   ],
   "source": [
    "n_samples = int(enc.parameters.maximum - enc.parameters.minimum + 1)\n",
    "\n",
    "sdrs = []\n",
    "for i in np.linspace(enc.parameters.minimum, enc.parameters.maximum, n_samples):\n",
    "  sdrs.append( enc.encode( i ).dense )\n",
    "\n",
    "plt.imshow(np.array(sdrs), cmap = \"Greens\")\n",
    "plt.show()"
   ]
  },
  {
   "cell_type": "code",
   "execution_count": 4,
   "metadata": {},
   "outputs": [
    {
     "name": "stdout",
     "output_type": "stream",
     "text": [
      "Spatial Pooler Connections:\n",
      "    Inputs (21) ~> Outputs (576) via Segments (576)\n",
      "    Segments on Cell Min/Mean/Max 1 / 1 / 1\n",
      "    Potential Synapses on Segment Min/Mean/Max 11 / 11 / 11\n",
      "    Connected Synapses on Segment Min/Mean/Max 1 / 5.44097 / 10\n",
      "    Synapses Dead (0%) Saturated (0%)\n",
      "    Synapses pruned (0%) Segments pruned (0%)\n",
      "\n"
     ]
    }
   ],
   "source": [
    "inputSDR  = SDR( dimensions = (21, ) )\n",
    "activeSDR = SDR( dimensions = (576,) )\n",
    "sp = SP(inputDimensions  = inputSDR.dimensions,\n",
    "        columnDimensions = activeSDR.dimensions,\n",
    "        localAreaDensity = 0.02,\n",
    "        globalInhibition = True,\n",
    "        seed             = 1,\n",
    "        synPermActiveInc   = 0.01,\n",
    "        synPermInactiveDec = 0.008)\n",
    "\n",
    "print(sp)"
   ]
  },
  {
   "cell_type": "code",
   "execution_count": 5,
   "metadata": {},
   "outputs": [],
   "source": [
    "clsr = Classifier()"
   ]
  },
  {
   "cell_type": "code",
   "execution_count": 6,
   "metadata": {},
   "outputs": [
    {
     "name": "stdout",
     "output_type": "stream",
     "text": [
      "Temporal Memory Connections:\n",
      "    Inputs (0) ~> Outputs (6336) via Segments (0)\n",
      "    Segments on Cell Min/Mean/Max 0 / 0 / 0\n",
      "    Potential Synapses on Segment Min/Mean/Max 4294967295 / nan / 0\n",
      "    Connected Synapses on Segment Min/Mean/Max 65535 / nan / 0\n",
      "    Synapses Dead (nan%) Saturated (nan%)\n",
      "    Synapses pruned (nan%) Segments pruned (nan%)\n",
      "\n"
     ]
    }
   ],
   "source": [
    "tm = TM(\n",
    "    columnDimensions = (576,),\n",
    "    cellsPerColumn=11,\n",
    "    initialPermanence=0.5,\n",
    "    connectedPermanence=0.5,\n",
    "    minThreshold=8,\n",
    "    maxNewSynapseCount=20,\n",
    "    permanenceIncrement=0.1,\n",
    "    permanenceDecrement=0.0,\n",
    "    activationThreshold=8,\n",
    ")\n",
    "print(tm)"
   ]
  },
  {
   "cell_type": "code",
   "execution_count": 15,
   "metadata": {},
   "outputs": [
    {
     "name": "stdout",
     "output_type": "stream",
     "text": [
      "input SDR:  SDR( 21 ) 0, 1, 2\n",
      "Active SDR:  SDR( 576 ) 62, 113, 121, 222, 243, 320, 409, 453, 478, 567, 572\n",
      "Classifier learn:  0\n",
      "\n"
     ]
    },
    {
     "data": {
      "image/png": "[encoded data removed]",
      "text/plain": [
       "<Figure size 432x288 with 1 Axes>"
      ]
     },
     "metadata": {
      "needs_background": "light"
     },
     "output_type": "display_data"
    },
    {
     "name": "stdout",
     "output_type": "stream",
     "text": [
      "SDR( 576, 11 ) 1089, 1672, 3267, 4092, 5335, 5786, 5907, 6072, 6105, 6204, 6325\n",
      "\n",
      "input SDR:  SDR( 21 ) 3, 4, 5\n",
      "Active SDR:  SDR( 576 ) 99, 152, 297, 372, 485, 526, 537, 552, 555, 564, 575\n",
      "Classifier learn:  1\n",
      "\n"
     ]
    },
    {
     "data": {
      "image/png": "[encoded data removed]",
      "text/plain": [
       "<Figure size 432x288 with 1 Axes>"
      ]
     },
     "metadata": {
      "needs_background": "light"
     },
     "output_type": "display_data"
    },
    {
     "name": "stdout",
     "output_type": "stream",
     "text": [
      "SDR( 576, 11 ) 737, 1133, 2013, 4840, 5885, 5962, 5995, 6006, 6017, 6138, 6281, 6303\n",
      "\n",
      "input SDR:  SDR( 21 ) 6, 7, 8\n",
      "Active SDR:  SDR( 576 ) 67, 103, 183, 440, 535, 542, 545, 546, 547, 558, 571\n",
      "Classifier learn:  2\n",
      "\n"
     ]
    },
    {
     "data": {
      "image/png": "[encoded data removed]",
      "text/plain": [
       "<Figure size 432x288 with 1 Axes>"
      ]
     },
     "metadata": {
      "needs_background": "light"
     },
     "output_type": "display_data"
    },
    {
     "name": "stdout",
     "output_type": "stream",
     "text": [
      "SDR( 576, 11 ) 605, 1914, 2794, 3146, 3443, 3740, 4070, 4554, 5643, 5984, 6215\n",
      "\n",
      "input SDR:  SDR( 21 ) 9, 10, 11\n",
      "Active SDR:  SDR( 576 ) 55, 174, 254, 286, 313, 340, 370, 414, 513, 544, 565\n",
      "Classifier learn:  3\n",
      "\n"
     ]
    },
    {
     "data": {
      "image/png": "[encoded data removed]",
      "text/plain": [
       "<Figure size 432x288 with 1 Axes>"
      ]
     },
     "metadata": {
      "needs_background": "light"
     },
     "output_type": "display_data"
    },
    {
     "name": "stdout",
     "output_type": "stream",
     "text": [
      "SDR( 576, 11 ) 429, 660, 759, 2321, 4202, 5599, 5753, 5940, 6073, 6116, 6304\n",
      "\n",
      "input SDR:  SDR( 21 ) 12, 13, 14\n",
      "Active SDR:  SDR( 576 ) 39, 60, 69, 211, 382, 509, 523, 540, 552, 556, 573\n",
      "Classifier learn:  4\n",
      "\n"
     ]
    },
    {
     "data": {
      "image/png": "[encoded data removed]",
      "text/plain": [
       "<Figure size 432x288 with 1 Axes>"
      ]
     },
     "metadata": {
      "needs_background": "light"
     },
     "output_type": "display_data"
    },
    {
     "name": "stdout",
     "output_type": "stream",
     "text": [
      "SDR( 576, 11 ) 781, 1320, 1859, 2266, 2398, 2981, 3432, 3444, 3696, 4631, 6305\n",
      "\n",
      "input SDR:  SDR( 21 ) 15, 16, 17\n",
      "Active SDR:  SDR( 576 ) 71, 120, 169, 206, 218, 271, 312, 313, 336, 421, 573\n",
      "Classifier learn:  5\n",
      "\n"
     ]
    },
    {
     "data": {
      "image/png": "[encoded data removed]",
      "text/plain": [
       "<Figure size 432x288 with 1 Axes>"
      ]
     },
     "metadata": {
      "needs_background": "light"
     },
     "output_type": "display_data"
    },
    {
     "name": "stdout",
     "output_type": "stream",
     "text": [
      "SDR( 576, 11 ) 517, 1045, 1122, 1232, 2255, 2717, 3410, 3982, 4543, 5500, 6326\n",
      "\n",
      "input SDR:  SDR( 21 ) 18, 19, 20\n",
      "Active SDR:  SDR( 576 ) 47, 95, 102, 112, 205, 247, 310, 362, 413, 500, 575\n",
      "Classifier learn:  6\n",
      "\n"
     ]
    },
    {
     "data": {
      "image/png": "[encoded data removed]",
      "text/plain": [
       "<Figure size 432x288 with 1 Axes>"
      ]
     },
     "metadata": {
      "needs_background": "light"
     },
     "output_type": "display_data"
    },
    {
     "name": "stdout",
     "output_type": "stream",
     "text": [
      "SDR( 576, 11 ) 682, 1243, 1331, 2442, 2673, 3520, 4499, 4983, 5258, 6237, 6292\n",
      "\n",
      "input SDR:  SDR( 21 ) 0, 1, 2\n",
      "Active SDR:  SDR( 576 ) 62, 113, 121, 222, 243, 320, 409, 453, 478, 567, 572\n",
      "Classifier learn:  0\n",
      "\n"
     ]
    },
    {
     "data": {
      "image/png": "[encoded data removed]",
      "text/plain": [
       "<Figure size 432x288 with 1 Axes>"
      ]
     },
     "metadata": {
      "needs_background": "light"
     },
     "output_type": "display_data"
    },
    {
     "name": "stdout",
     "output_type": "stream",
     "text": [
      "SDR( 576, 11 ) 1089, 1672, 3267, 4092, 5335, 5786, 5907, 6072, 6105, 6204, 6325\n",
      "\n",
      "input SDR:  SDR( 21 ) 3, 4, 5\n",
      "Active SDR:  SDR( 576 ) 99, 152, 297, 372, 485, 526, 537, 552, 555, 564, 575\n",
      "Classifier learn:  1\n",
      "\n"
     ]
    },
    {
     "data": {
      "image/png": "[encoded data removed]",
      "text/plain": [
       "<Figure size 432x288 with 1 Axes>"
      ]
     },
     "metadata": {
      "needs_background": "light"
     },
     "output_type": "display_data"
    },
    {
     "name": "stdout",
     "output_type": "stream",
     "text": [
      "SDR( 576, 11 ) 737, 1133, 2013, 4840, 5885, 5962, 5995, 6006, 6017, 6138, 6281, 6303\n",
      "\n",
      "input SDR:  SDR( 21 ) 6, 7, 8\n",
      "Active SDR:  SDR( 576 ) 67, 103, 183, 440, 535, 542, 545, 546, 547, 558, 571\n",
      "Classifier learn:  2\n",
      "\n"
     ]
    },
    {
     "data": {
      "image/png": "[encoded data removed]",
      "text/plain": [
       "<Figure size 432x288 with 1 Axes>"
      ]
     },
     "metadata": {
      "needs_background": "light"
     },
     "output_type": "display_data"
    },
    {
     "name": "stdout",
     "output_type": "stream",
     "text": [
      "SDR( 576, 11 ) 605, 1914, 2794, 3146, 3443, 3740, 4070, 4554, 5643, 5984, 6215\n",
      "\n",
      "input SDR:  SDR( 21 ) 9, 10, 11\n",
      "Active SDR:  SDR( 576 ) 55, 174, 254, 286, 313, 340, 370, 414, 513, 544, 565\n",
      "Classifier learn:  3\n",
      "\n"
     ]
    },
    {
     "data": {
      "image/png": "[encoded data removed]",
      "text/plain": [
       "<Figure size 432x288 with 1 Axes>"
      ]
     },
     "metadata": {
      "needs_background": "light"
     },
     "output_type": "display_data"
    },
    {
     "name": "stdout",
     "output_type": "stream",
     "text": [
      "SDR( 576, 11 ) 429, 660, 759, 2321, 4202, 5599, 5753, 5940, 6073, 6116, 6304\n",
      "\n",
      "input SDR:  SDR( 21 ) 12, 13, 14\n",
      "Active SDR:  SDR( 576 ) 39, 60, 69, 211, 382, 509, 523, 540, 552, 556, 573\n",
      "Classifier learn:  4\n",
      "\n"
     ]
    },
    {
     "data": {
      "image/png": "[encoded data removed]",
      "text/plain": [
       "<Figure size 432x288 with 1 Axes>"
      ]
     },
     "metadata": {
      "needs_background": "light"
     },
     "output_type": "display_data"
    },
    {
     "name": "stdout",
     "output_type": "stream",
     "text": [
      "SDR( 576, 11 ) 781, 1320, 1859, 2266, 2398, 2981, 3432, 3444, 3696, 4631, 6305\n",
      "\n",
      "input SDR:  SDR( 21 ) 15, 16, 17\n",
      "Active SDR:  SDR( 576 ) 71, 120, 169, 206, 218, 271, 312, 313, 336, 421, 573\n",
      "Classifier learn:  5\n",
      "\n"
     ]
    },
    {
     "data": {
      "image/png": "[encoded data removed]",
      "text/plain": [
       "<Figure size 432x288 with 1 Axes>"
      ]
     },
     "metadata": {
      "needs_background": "light"
     },
     "output_type": "display_data"
    },
    {
     "name": "stdout",
     "output_type": "stream",
     "text": [
      "SDR( 576, 11 ) 517, 1045, 1122, 1232, 2255, 2717, 3410, 3982, 4543, 5500, 6326\n",
      "\n",
      "input SDR:  SDR( 21 ) 18, 19, 20\n",
      "Active SDR:  SDR( 576 ) 47, 95, 102, 112, 205, 247, 310, 362, 413, 500, 575\n",
      "Classifier learn:  6\n",
      "\n"
     ]
    },
    {
     "data": {
      "image/png": "[encoded data removed]",
      "text/plain": [
       "<Figure size 432x288 with 1 Axes>"
      ]
     },
     "metadata": {
      "needs_background": "light"
     },
     "output_type": "display_data"
    },
    {
     "name": "stdout",
     "output_type": "stream",
     "text": [
      "SDR( 576, 11 ) 682, 1243, 1331, 2442, 2673, 3520, 4499, 4983, 5258, 6237, 6292\n",
      "\n",
      "input SDR:  SDR( 21 ) 0, 1, 2\n",
      "Active SDR:  SDR( 576 ) 62, 113, 121, 222, 243, 320, 409, 453, 478, 567, 572\n",
      "Classifier learn:  0\n",
      "\n"
     ]
    },
    {
     "data": {
      "image/png": "[encoded data removed]",
      "text/plain": [
       "<Figure size 432x288 with 1 Axes>"
      ]
     },
     "metadata": {
      "needs_background": "light"
     },
     "output_type": "display_data"
    },
    {
     "name": "stdout",
     "output_type": "stream",
     "text": [
      "SDR( 576, 11 ) 1089, 1672, 3267, 4092, 5335, 5786, 5907, 6072, 6105, 6204, 6325\n",
      "\n",
      "input SDR:  SDR( 21 ) 3, 4, 5\n",
      "Active SDR:  SDR( 576 ) 99, 152, 297, 372, 485, 526, 537, 552, 555, 564, 575\n",
      "Classifier learn:  1\n",
      "\n"
     ]
    },
    {
     "data": {
      "image/png": "[encoded data removed]",
      "text/plain": [
       "<Figure size 432x288 with 1 Axes>"
      ]
     },
     "metadata": {
      "needs_background": "light"
     },
     "output_type": "display_data"
    },
    {
     "name": "stdout",
     "output_type": "stream",
     "text": [
      "SDR( 576, 11 ) 737, 1133, 2013, 4840, 5885, 5962, 5995, 6006, 6017, 6138, 6281, 6303\n",
      "\n",
      "input SDR:  SDR( 21 ) 6, 7, 8\n",
      "Active SDR:  SDR( 576 ) 67, 103, 183, 440, 535, 542, 545, 546, 547, 558, 571\n",
      "Classifier learn:  2\n",
      "\n"
     ]
    },
    {
     "data": {
      "image/png": "[encoded data removed]",
      "text/plain": [
       "<Figure size 432x288 with 1 Axes>"
      ]
     },
     "metadata": {
      "needs_background": "light"
     },
     "output_type": "display_data"
    },
    {
     "name": "stdout",
     "output_type": "stream",
     "text": [
      "SDR( 576, 11 ) 605, 1914, 2794, 3146, 3443, 3740, 4070, 4554, 5643, 5984, 6215\n",
      "\n",
      "input SDR:  SDR( 21 ) 9, 10, 11\n",
      "Active SDR:  SDR( 576 ) 55, 174, 254, 286, 313, 340, 370, 414, 513, 544, 565\n",
      "Classifier learn:  3\n",
      "\n"
     ]
    },
    {
     "data": {
      "image/png": "[encoded data removed]",
      "text/plain": [
       "<Figure size 432x288 with 1 Axes>"
      ]
     },
     "metadata": {
      "needs_background": "light"
     },
     "output_type": "display_data"
    },
    {
     "name": "stdout",
     "output_type": "stream",
     "text": [
      "SDR( 576, 11 ) 429, 660, 759, 2321, 4202, 5599, 5753, 5940, 6073, 6116, 6304\n",
      "\n",
      "input SDR:  SDR( 21 ) 12, 13, 14\n",
      "Active SDR:  SDR( 576 ) 39, 60, 69, 211, 382, 509, 523, 540, 552, 556, 573\n",
      "Classifier learn:  4\n",
      "\n"
     ]
    },
    {
     "data": {
      "image/png": "[encoded data removed]",
      "text/plain": [
       "<Figure size 432x288 with 1 Axes>"
      ]
     },
     "metadata": {
      "needs_background": "light"
     },
     "output_type": "display_data"
    },
    {
     "name": "stdout",
     "output_type": "stream",
     "text": [
      "SDR( 576, 11 ) 781, 1320, 1859, 2266, 2398, 2981, 3432, 3444, 3696, 4631, 6305\n",
      "\n",
      "input SDR:  SDR( 21 ) 15, 16, 17\n",
      "Active SDR:  SDR( 576 ) 71, 120, 169, 206, 218, 271, 312, 313, 336, 421, 573\n",
      "Classifier learn:  5\n",
      "\n"
     ]
    },
    {
     "data": {
      "image/png": "[encoded data removed]",
      "text/plain": [
       "<Figure size 432x288 with 1 Axes>"
      ]
     },
     "metadata": {
      "needs_background": "light"
     },
     "output_type": "display_data"
    },
    {
     "name": "stdout",
     "output_type": "stream",
     "text": [
      "SDR( 576, 11 ) 517, 1045, 1122, 1232, 2255, 2717, 3410, 3982, 4543, 5500, 6326\n",
      "\n",
      "input SDR:  SDR( 21 ) 18, 19, 20\n",
      "Active SDR:  SDR( 576 ) 47, 95, 102, 112, 205, 247, 310, 362, 413, 500, 575\n",
      "Classifier learn:  6\n",
      "\n"
     ]
    },
    {
     "data": {
      "image/png": "[encoded data removed]",
      "text/plain": [
       "<Figure size 432x288 with 1 Axes>"
      ]
     },
     "metadata": {
      "needs_background": "light"
     },
     "output_type": "display_data"
    },
    {
     "name": "stdout",
     "output_type": "stream",
     "text": [
      "SDR( 576, 11 ) 682, 1243, 1331, 2442, 2673, 3520, 4499, 4983, 5258, 6237, 6292\n",
      "\n",
      "input SDR:  SDR( 21 ) 0, 1, 2\n",
      "Active SDR:  SDR( 576 ) 62, 113, 121, 222, 243, 320, 409, 453, 478, 567, 572\n",
      "Classifier learn:  0\n",
      "\n"
     ]
    },
    {
     "data": {
      "image/png": "[encoded data removed]",
      "text/plain": [
       "<Figure size 432x288 with 1 Axes>"
      ]
     },
     "metadata": {
      "needs_background": "light"
     },
     "output_type": "display_data"
    },
    {
     "name": "stdout",
     "output_type": "stream",
     "text": [
      "SDR( 576, 11 ) 1089, 1672, 3267, 4092, 5335, 5786, 5907, 6072, 6105, 6204, 6325\n",
      "\n",
      "input SDR:  SDR( 21 ) 3, 4, 5\n",
      "Active SDR:  SDR( 576 ) 99, 152, 297, 372, 485, 526, 537, 552, 555, 564, 575\n",
      "Classifier learn:  1\n",
      "\n"
     ]
    },
    {
     "data": {
      "image/png": "[encoded data removed]",
      "text/plain": [
       "<Figure size 432x288 with 1 Axes>"
      ]
     },
     "metadata": {
      "needs_background": "light"
     },
     "output_type": "display_data"
    },
    {
     "name": "stdout",
     "output_type": "stream",
     "text": [
      "SDR( 576, 11 ) 737, 1133, 2013, 4840, 5885, 5962, 5995, 6006, 6017, 6138, 6281, 6303\n",
      "\n",
      "input SDR:  SDR( 21 ) 6, 7, 8\n",
      "Active SDR:  SDR( 576 ) 67, 103, 183, 440, 535, 542, 545, 546, 547, 558, 571\n",
      "Classifier learn:  2\n",
      "\n"
     ]
    },
    {
     "data": {
      "image/png": "[encoded data removed]",
      "text/plain": [
       "<Figure size 432x288 with 1 Axes>"
      ]
     },
     "metadata": {
      "needs_background": "light"
     },
     "output_type": "display_data"
    },
    {
     "name": "stdout",
     "output_type": "stream",
     "text": [
      "SDR( 576, 11 ) 605, 1914, 2794, 3146, 3443, 3740, 4070, 4554, 5643, 5984, 6215\n",
      "\n",
      "input SDR:  SDR( 21 ) 9, 10, 11\n",
      "Active SDR:  SDR( 576 ) 55, 174, 254, 286, 313, 340, 370, 414, 513, 544, 565\n",
      "Classifier learn:  3\n",
      "\n"
     ]
    },
    {
     "data": {
      "image/png": "[encoded data removed]",
      "text/plain": [
       "<Figure size 432x288 with 1 Axes>"
      ]
     },
     "metadata": {
      "needs_background": "light"
     },
     "output_type": "display_data"
    },
    {
     "name": "stdout",
     "output_type": "stream",
     "text": [
      "SDR( 576, 11 ) 429, 660, 759, 2321, 4202, 5599, 5753, 5940, 6073, 6116, 6304\n",
      "\n",
      "input SDR:  SDR( 21 ) 12, 13, 14\n",
      "Active SDR:  SDR( 576 ) 39, 60, 69, 211, 382, 509, 523, 540, 552, 556, 573\n",
      "Classifier learn:  4\n",
      "\n"
     ]
    },
    {
     "data": {
      "image/png": "[encoded data removed]",
      "text/plain": [
       "<Figure size 432x288 with 1 Axes>"
      ]
     },
     "metadata": {
      "needs_background": "light"
     },
     "output_type": "display_data"
    },
    {
     "name": "stdout",
     "output_type": "stream",
     "text": [
      "SDR( 576, 11 ) 781, 1320, 1859, 2266, 2398, 2981, 3432, 3444, 3696, 4631, 6305\n",
      "\n",
      "input SDR:  SDR( 21 ) 15, 16, 17\n",
      "Active SDR:  SDR( 576 ) 71, 120, 169, 206, 218, 271, 312, 313, 336, 421, 573\n",
      "Classifier learn:  5\n",
      "\n"
     ]
    },
    {
     "data": {
      "image/png": "[encoded data removed]",
      "text/plain": [
       "<Figure size 432x288 with 1 Axes>"
      ]
     },
     "metadata": {
      "needs_background": "light"
     },
     "output_type": "display_data"
    },
    {
     "name": "stdout",
     "output_type": "stream",
     "text": [
      "SDR( 576, 11 ) 517, 1045, 1122, 1232, 2255, 2717, 3410, 3982, 4543, 5500, 6326\n",
      "\n",
      "input SDR:  SDR( 21 ) 18, 19, 20\n",
      "Active SDR:  SDR( 576 ) 47, 95, 102, 112, 205, 247, 310, 362, 413, 500, 575\n",
      "Classifier learn:  6\n",
      "\n"
     ]
    },
    {
     "data": {
      "image/png": "[encoded data removed]",
      "text/plain": [
       "<Figure size 432x288 with 1 Axes>"
      ]
     },
     "metadata": {
      "needs_background": "light"
     },
     "output_type": "display_data"
    },
    {
     "name": "stdout",
     "output_type": "stream",
     "text": [
      "SDR( 576, 11 ) 682, 1243, 1331, 2442, 2673, 3520, 4499, 4983, 5258, 6237, 6292\n",
      "\n",
      "input SDR:  SDR( 21 ) 0, 1, 2\n",
      "Active SDR:  SDR( 576 ) 62, 113, 121, 222, 243, 320, 409, 453, 478, 567, 572\n",
      "Classifier learn:  0\n",
      "\n"
     ]
    },
    {
     "data": {
      "image/png": "[encoded data removed]",
      "text/plain": [
       "<Figure size 432x288 with 1 Axes>"
      ]
     },
     "metadata": {
      "needs_background": "light"
     },
     "output_type": "display_data"
    },
    {
     "name": "stdout",
     "output_type": "stream",
     "text": [
      "SDR( 576, 11 ) 1089, 1672, 3267, 4092, 5335, 5786, 5907, 6072, 6105, 6204, 6325\n",
      "\n",
      "input SDR:  SDR( 21 ) 3, 4, 5\n",
      "Active SDR:  SDR( 576 ) 99, 152, 297, 372, 485, 526, 537, 552, 555, 564, 575\n",
      "Classifier learn:  1\n",
      "\n"
     ]
    },
    {
     "data": {
      "image/png": "[encoded data removed]",
      "text/plain": [
       "<Figure size 432x288 with 1 Axes>"
      ]
     },
     "metadata": {
      "needs_background": "light"
     },
     "output_type": "display_data"
    },
    {
     "name": "stdout",
     "output_type": "stream",
     "text": [
      "SDR( 576, 11 ) 737, 1133, 2013, 4840, 5885, 5962, 5995, 6006, 6017, 6138, 6281, 6303\n",
      "\n",
      "input SDR:  SDR( 21 ) 6, 7, 8\n",
      "Active SDR:  SDR( 576 ) 67, 103, 183, 440, 535, 542, 545, 546, 547, 558, 571\n",
      "Classifier learn:  2\n",
      "\n"
     ]
    },
    {
     "data": {
      "image/png": "[encoded data removed]",
      "text/plain": [
       "<Figure size 432x288 with 1 Axes>"
      ]
     },
     "metadata": {
      "needs_background": "light"
     },
     "output_type": "display_data"
    },
    {
     "name": "stdout",
     "output_type": "stream",
     "text": [
      "SDR( 576, 11 ) 605, 1914, 2794, 3146, 3443, 3740, 4070, 4554, 5643, 5984, 6215\n",
      "\n",
      "input SDR:  SDR( 21 ) 9, 10, 11\n",
      "Active SDR:  SDR( 576 ) 55, 174, 254, 286, 313, 340, 370, 414, 513, 544, 565\n",
      "Classifier learn:  3\n",
      "\n"
     ]
    },
    {
     "data": {
      "image/png": "[encoded data removed]",
      "text/plain": [
       "<Figure size 432x288 with 1 Axes>"
      ]
     },
     "metadata": {
      "needs_background": "light"
     },
     "output_type": "display_data"
    },
    {
     "name": "stdout",
     "output_type": "stream",
     "text": [
      "SDR( 576, 11 ) 429, 660, 759, 2321, 4202, 5599, 5753, 5940, 6073, 6116, 6304\n",
      "\n",
      "input SDR:  SDR( 21 ) 12, 13, 14\n",
      "Active SDR:  SDR( 576 ) 39, 60, 69, 211, 382, 509, 523, 540, 552, 556, 573\n",
      "Classifier learn:  4\n",
      "\n"
     ]
    },
    {
     "data": {
      "image/png": "[encoded data removed]",
      "text/plain": [
       "<Figure size 432x288 with 1 Axes>"
      ]
     },
     "metadata": {
      "needs_background": "light"
     },
     "output_type": "display_data"
    },
    {
     "name": "stdout",
     "output_type": "stream",
     "text": [
      "SDR( 576, 11 ) 781, 1320, 1859, 2266, 2398, 2981, 3432, 3444, 3696, 4631, 6305\n",
      "\n",
      "input SDR:  SDR( 21 ) 15, 16, 17\n",
      "Active SDR:  SDR( 576 ) 71, 120, 169, 206, 218, 271, 312, 313, 336, 421, 573\n",
      "Classifier learn:  5\n",
      "\n"
     ]
    },
    {
     "data": {
      "image/png": "[encoded data removed]",
      "text/plain": [
       "<Figure size 432x288 with 1 Axes>"
      ]
     },
     "metadata": {
      "needs_background": "light"
     },
     "output_type": "display_data"
    },
    {
     "name": "stdout",
     "output_type": "stream",
     "text": [
      "SDR( 576, 11 ) 517, 1045, 1122, 1232, 2255, 2717, 3410, 3982, 4543, 5500, 6326\n",
      "\n",
      "input SDR:  SDR( 21 ) 18, 19, 20\n",
      "Active SDR:  SDR( 576 ) 47, 95, 102, 112, 205, 247, 310, 362, 413, 500, 575\n",
      "Classifier learn:  6\n",
      "\n"
     ]
    },
    {
     "data": {
      "image/png": "[encoded data removed]",
      "text/plain": [
       "<Figure size 432x288 with 1 Axes>"
      ]
     },
     "metadata": {
      "needs_background": "light"
     },
     "output_type": "display_data"
    },
    {
     "name": "stdout",
     "output_type": "stream",
     "text": [
      "SDR( 576, 11 ) 682, 1243, 1331, 2442, 2673, 3520, 4499, 4983, 5258, 6237, 6292\n",
      "\n",
      "input SDR:  SDR( 21 ) 0, 1, 2\n",
      "Active SDR:  SDR( 576 ) 62, 113, 121, 222, 243, 320, 409, 453, 478, 567, 572\n",
      "Classifier learn:  0\n",
      "\n"
     ]
    },
    {
     "data": {
      "image/png": "[encoded data removed]",
      "text/plain": [
       "<Figure size 432x288 with 1 Axes>"
      ]
     },
     "metadata": {
      "needs_background": "light"
     },
     "output_type": "display_data"
    },
    {
     "name": "stdout",
     "output_type": "stream",
     "text": [
      "SDR( 576, 11 ) 1089, 1672, 3267, 4092, 5335, 5786, 5907, 6072, 6105, 6204, 6325\n",
      "\n",
      "input SDR:  SDR( 21 ) 3, 4, 5\n",
      "Active SDR:  SDR( 576 ) 99, 152, 297, 372, 485, 526, 537, 552, 555, 564, 575\n",
      "Classifier learn:  1\n",
      "\n"
     ]
    },
    {
     "data": {
      "image/png": "[encoded data removed]",
      "text/plain": [
       "<Figure size 432x288 with 1 Axes>"
      ]
     },
     "metadata": {
      "needs_background": "light"
     },
     "output_type": "display_data"
    },
    {
     "name": "stdout",
     "output_type": "stream",
     "text": [
      "SDR( 576, 11 ) 737, 1133, 2013, 4840, 5885, 5962, 5995, 6006, 6017, 6138, 6281, 6303\n",
      "\n",
      "input SDR:  SDR( 21 ) 6, 7, 8\n",
      "Active SDR:  SDR( 576 ) 67, 103, 183, 440, 535, 542, 545, 546, 547, 558, 571\n",
      "Classifier learn:  2\n",
      "\n"
     ]
    },
    {
     "data": {
      "image/png": "[encoded data removed]",
      "text/plain": [
       "<Figure size 432x288 with 1 Axes>"
      ]
     },
     "metadata": {
      "needs_background": "light"
     },
     "output_type": "display_data"
    },
    {
     "name": "stdout",
     "output_type": "stream",
     "text": [
      "SDR( 576, 11 ) 605, 1914, 2794, 3146, 3443, 3740, 4070, 4554, 5643, 5984, 6215\n",
      "\n",
      "input SDR:  SDR( 21 ) 9, 10, 11\n",
      "Active SDR:  SDR( 576 ) 55, 174, 254, 286, 313, 340, 370, 414, 513, 544, 565\n",
      "Classifier learn:  3\n",
      "\n"
     ]
    },
    {
     "data": {
      "image/png": "[encoded data removed]",
      "text/plain": [
       "<Figure size 432x288 with 1 Axes>"
      ]
     },
     "metadata": {
      "needs_background": "light"
     },
     "output_type": "display_data"
    },
    {
     "name": "stdout",
     "output_type": "stream",
     "text": [
      "SDR( 576, 11 ) 429, 660, 759, 2321, 4202, 5599, 5753, 5940, 6073, 6116, 6304\n",
      "\n",
      "input SDR:  SDR( 21 ) 12, 13, 14\n",
      "Active SDR:  SDR( 576 ) 39, 60, 69, 211, 382, 509, 523, 540, 552, 556, 573\n",
      "Classifier learn:  4\n",
      "\n"
     ]
    },
    {
     "data": {
      "image/png": "[encoded data removed]",
      "text/plain": [
       "<Figure size 432x288 with 1 Axes>"
      ]
     },
     "metadata": {
      "needs_background": "light"
     },
     "output_type": "display_data"
    },
    {
     "name": "stdout",
     "output_type": "stream",
     "text": [
      "SDR( 576, 11 ) 781, 1320, 1859, 2266, 2398, 2981, 3432, 3444, 3696, 4631, 6305\n",
      "\n",
      "input SDR:  SDR( 21 ) 15, 16, 17\n",
      "Active SDR:  SDR( 576 ) 71, 120, 169, 206, 218, 271, 312, 313, 336, 421, 573\n",
      "Classifier learn:  5\n",
      "\n"
     ]
    },
    {
     "data": {
      "image/png": "[encoded data removed]",
      "text/plain": [
       "<Figure size 432x288 with 1 Axes>"
      ]
     },
     "metadata": {
      "needs_background": "light"
     },
     "output_type": "display_data"
    },
    {
     "name": "stdout",
     "output_type": "stream",
     "text": [
      "SDR( 576, 11 ) 517, 1045, 1122, 1232, 2255, 2717, 3410, 3982, 4543, 5500, 6326\n",
      "\n",
      "input SDR:  SDR( 21 ) 18, 19, 20\n",
      "Active SDR:  SDR( 576 ) 47, 95, 102, 112, 205, 247, 310, 362, 413, 500, 575\n",
      "Classifier learn:  6\n",
      "\n"
     ]
    },
    {
     "data": {
      "image/png": "[encoded data removed]",
      "text/plain": [
       "<Figure size 432x288 with 1 Axes>"
      ]
     },
     "metadata": {
      "needs_background": "light"
     },
     "output_type": "display_data"
    },
    {
     "name": "stdout",
     "output_type": "stream",
     "text": [
      "SDR( 576, 11 ) 682, 1243, 1331, 2442, 2673, 3520, 4499, 4983, 5258, 6237, 6292\n",
      "\n",
      "input SDR:  SDR( 21 ) 0, 1, 2\n",
      "Active SDR:  SDR( 576 ) 62, 113, 121, 222, 243, 320, 409, 453, 478, 567, 572\n",
      "Classifier learn:  0\n",
      "\n"
     ]
    },
    {
     "data": {
      "image/png": "[encoded data removed]",
      "text/plain": [
       "<Figure size 432x288 with 1 Axes>"
      ]
     },
     "metadata": {
      "needs_background": "light"
     },
     "output_type": "display_data"
    },
    {
     "name": "stdout",
     "output_type": "stream",
     "text": [
      "SDR( 576, 11 ) 1089, 1672, 3267, 4092, 5335, 5786, 5907, 6072, 6105, 6204, 6325\n",
      "\n",
      "input SDR:  SDR( 21 ) 3, 4, 5\n",
      "Active SDR:  SDR( 576 ) 99, 152, 297, 372, 485, 526, 537, 552, 555, 564, 575\n",
      "Classifier learn:  1\n",
      "\n"
     ]
    },
    {
     "data": {
      "image/png": "[encoded data removed]",
      "text/plain": [
       "<Figure size 432x288 with 1 Axes>"
      ]
     },
     "metadata": {
      "needs_background": "light"
     },
     "output_type": "display_data"
    },
    {
     "name": "stdout",
     "output_type": "stream",
     "text": [
      "SDR( 576, 11 ) 737, 1133, 2013, 4840, 5885, 5962, 5995, 6006, 6017, 6138, 6281, 6303\n",
      "\n",
      "input SDR:  SDR( 21 ) 6, 7, 8\n",
      "Active SDR:  SDR( 576 ) 67, 103, 183, 440, 535, 542, 545, 546, 547, 558, 571\n",
      "Classifier learn:  2\n",
      "\n"
     ]
    },
    {
     "data": {
      "image/png": "[encoded data removed]",
      "text/plain": [
       "<Figure size 432x288 with 1 Axes>"
      ]
     },
     "metadata": {
      "needs_background": "light"
     },
     "output_type": "display_data"
    },
    {
     "name": "stdout",
     "output_type": "stream",
     "text": [
      "SDR( 576, 11 ) 605, 1914, 2794, 3146, 3443, 3740, 4070, 4554, 5643, 5984, 6215\n",
      "\n",
      "input SDR:  SDR( 21 ) 9, 10, 11\n",
      "Active SDR:  SDR( 576 ) 55, 174, 254, 286, 313, 340, 370, 414, 513, 544, 565\n",
      "Classifier learn:  3\n",
      "\n"
     ]
    },
    {
     "data": {
      "image/png": "[encoded data removed]",
      "text/plain": [
       "<Figure size 432x288 with 1 Axes>"
      ]
     },
     "metadata": {
      "needs_background": "light"
     },
     "output_type": "display_data"
    },
    {
     "name": "stdout",
     "output_type": "stream",
     "text": [
      "SDR( 576, 11 ) 429, 660, 759, 2321, 4202, 5599, 5753, 5940, 6073, 6116, 6304\n",
      "\n",
      "input SDR:  SDR( 21 ) 12, 13, 14\n",
      "Active SDR:  SDR( 576 ) 39, 60, 69, 211, 382, 509, 523, 540, 552, 556, 573\n",
      "Classifier learn:  4\n",
      "\n"
     ]
    },
    {
     "data": {
      "image/png": "[encoded data removed]",
      "text/plain": [
       "<Figure size 432x288 with 1 Axes>"
      ]
     },
     "metadata": {
      "needs_background": "light"
     },
     "output_type": "display_data"
    },
    {
     "name": "stdout",
     "output_type": "stream",
     "text": [
      "SDR( 576, 11 ) 781, 1320, 1859, 2266, 2398, 2981, 3432, 3444, 3696, 4631, 6305\n",
      "\n",
      "input SDR:  SDR( 21 ) 15, 16, 17\n",
      "Active SDR:  SDR( 576 ) 71, 120, 169, 206, 218, 271, 312, 313, 336, 421, 573\n",
      "Classifier learn:  5\n",
      "\n"
     ]
    },
    {
     "data": {
      "image/png": "[encoded data removed]",
      "text/plain": [
       "<Figure size 432x288 with 1 Axes>"
      ]
     },
     "metadata": {
      "needs_background": "light"
     },
     "output_type": "display_data"
    },
    {
     "name": "stdout",
     "output_type": "stream",
     "text": [
      "SDR( 576, 11 ) 517, 1045, 1122, 1232, 2255, 2717, 3410, 3982, 4543, 5500, 6326\n",
      "\n",
      "input SDR:  SDR( 21 ) 18, 19, 20\n",
      "Active SDR:  SDR( 576 ) 47, 95, 102, 112, 205, 247, 310, 362, 413, 500, 575\n",
      "Classifier learn:  6\n",
      "\n"
     ]
    },
    {
     "data": {
      "image/png": "[encoded data removed]",
      "text/plain": [
       "<Figure size 432x288 with 1 Axes>"
      ]
     },
     "metadata": {
      "needs_background": "light"
     },
     "output_type": "display_data"
    },
    {
     "name": "stdout",
     "output_type": "stream",
     "text": [
      "SDR( 576, 11 ) 682, 1243, 1331, 2442, 2673, 3520, 4499, 4983, 5258, 6237, 6292\n",
      "\n",
      "input SDR:  SDR( 21 ) 0, 1, 2\n",
      "Active SDR:  SDR( 576 ) 62, 113, 121, 222, 243, 320, 409, 453, 478, 567, 572\n",
      "Classifier learn:  0\n",
      "\n"
     ]
    },
    {
     "data": {
      "image/png": "[encoded data removed]",
      "text/plain": [
       "<Figure size 432x288 with 1 Axes>"
      ]
     },
     "metadata": {
      "needs_background": "light"
     },
     "output_type": "display_data"
    },
    {
     "name": "stdout",
     "output_type": "stream",
     "text": [
      "SDR( 576, 11 ) 1089, 1672, 3267, 4092, 5335, 5786, 5907, 6072, 6105, 6204, 6325\n",
      "\n",
      "input SDR:  SDR( 21 ) 3, 4, 5\n",
      "Active SDR:  SDR( 576 ) 99, 152, 297, 372, 485, 526, 537, 552, 555, 564, 575\n",
      "Classifier learn:  1\n",
      "\n"
     ]
    },
    {
     "data": {
      "image/png": "[encoded data removed]",
      "text/plain": [
       "<Figure size 432x288 with 1 Axes>"
      ]
     },
     "metadata": {
      "needs_background": "light"
     },
     "output_type": "display_data"
    },
    {
     "name": "stdout",
     "output_type": "stream",
     "text": [
      "SDR( 576, 11 ) 737, 1133, 2013, 4840, 5885, 5962, 5995, 6006, 6017, 6138, 6281, 6303\n",
      "\n",
      "input SDR:  SDR( 21 ) 6, 7, 8\n",
      "Active SDR:  SDR( 576 ) 67, 103, 183, 440, 535, 542, 545, 546, 547, 558, 571\n",
      "Classifier learn:  2\n",
      "\n"
     ]
    },
    {
     "data": {
      "image/png": "[encoded data removed]",
      "text/plain": [
       "<Figure size 432x288 with 1 Axes>"
      ]
     },
     "metadata": {
      "needs_background": "light"
     },
     "output_type": "display_data"
    },
    {
     "name": "stdout",
     "output_type": "stream",
     "text": [
      "SDR( 576, 11 ) 605, 1914, 2794, 3146, 3443, 3740, 4070, 4554, 5643, 5984, 6215\n",
      "\n",
      "input SDR:  SDR( 21 ) 9, 10, 11\n",
      "Active SDR:  SDR( 576 ) 55, 174, 254, 286, 313, 340, 370, 414, 513, 544, 565\n",
      "Classifier learn:  3\n",
      "\n"
     ]
    },
    {
     "data": {
      "image/png": "[encoded data removed]",
      "text/plain": [
       "<Figure size 432x288 with 1 Axes>"
      ]
     },
     "metadata": {
      "needs_background": "light"
     },
     "output_type": "display_data"
    },
    {
     "name": "stdout",
     "output_type": "stream",
     "text": [
      "SDR( 576, 11 ) 429, 660, 759, 2321, 4202, 5599, 5753, 5940, 6073, 6116, 6304\n",
      "\n",
      "input SDR:  SDR( 21 ) 12, 13, 14\n",
      "Active SDR:  SDR( 576 ) 39, 60, 69, 211, 382, 509, 523, 540, 552, 556, 573\n",
      "Classifier learn:  4\n",
      "\n"
     ]
    },
    {
     "data": {
      "image/png": "[encoded data removed]",
      "text/plain": [
       "<Figure size 432x288 with 1 Axes>"
      ]
     },
     "metadata": {
      "needs_background": "light"
     },
     "output_type": "display_data"
    },
    {
     "name": "stdout",
     "output_type": "stream",
     "text": [
      "SDR( 576, 11 ) 781, 1320, 1859, 2266, 2398, 2981, 3432, 3444, 3696, 4631, 6305\n",
      "\n",
      "input SDR:  SDR( 21 ) 15, 16, 17\n",
      "Active SDR:  SDR( 576 ) 71, 120, 169, 206, 218, 271, 312, 313, 336, 421, 573\n",
      "Classifier learn:  5\n",
      "\n"
     ]
    },
    {
     "data": {
      "image/png": "[encoded data removed]",
      "text/plain": [
       "<Figure size 432x288 with 1 Axes>"
      ]
     },
     "metadata": {
      "needs_background": "light"
     },
     "output_type": "display_data"
    },
    {
     "name": "stdout",
     "output_type": "stream",
     "text": [
      "SDR( 576, 11 ) 517, 1045, 1122, 1232, 2255, 2717, 3410, 3982, 4543, 5500, 6326\n",
      "\n",
      "input SDR:  SDR( 21 ) 18, 19, 20\n",
      "Active SDR:  SDR( 576 ) 47, 95, 102, 112, 205, 247, 310, 362, 413, 500, 575\n",
      "Classifier learn:  6\n",
      "\n"
     ]
    },
    {
     "data": {
      "image/png": "[encoded data removed]",
      "text/plain": [
       "<Figure size 432x288 with 1 Axes>"
      ]
     },
     "metadata": {
      "needs_background": "light"
     },
     "output_type": "display_data"
    },
    {
     "name": "stdout",
     "output_type": "stream",
     "text": [
      "SDR( 576, 11 ) 682, 1243, 1331, 2442, 2673, 3520, 4499, 4983, 5258, 6237, 6292\n",
      "\n",
      "input SDR:  SDR( 21 ) 0, 1, 2\n",
      "Active SDR:  SDR( 576 ) 62, 113, 121, 222, 243, 320, 409, 453, 478, 567, 572\n",
      "Classifier learn:  0\n",
      "\n"
     ]
    },
    {
     "data": {
      "image/png": "[encoded data removed]",
      "text/plain": [
       "<Figure size 432x288 with 1 Axes>"
      ]
     },
     "metadata": {
      "needs_background": "light"
     },
     "output_type": "display_data"
    },
    {
     "name": "stdout",
     "output_type": "stream",
     "text": [
      "SDR( 576, 11 ) 1089, 1672, 3267, 4092, 5335, 5786, 5907, 6072, 6105, 6204, 6325\n",
      "\n",
      "input SDR:  SDR( 21 ) 3, 4, 5\n",
      "Active SDR:  SDR( 576 ) 99, 152, 297, 372, 485, 526, 537, 552, 555, 564, 575\n",
      "Classifier learn:  1\n",
      "\n"
     ]
    },
    {
     "data": {
      "image/png": "[encoded data removed]",
      "text/plain": [
       "<Figure size 432x288 with 1 Axes>"
      ]
     },
     "metadata": {
      "needs_background": "light"
     },
     "output_type": "display_data"
    },
    {
     "name": "stdout",
     "output_type": "stream",
     "text": [
      "SDR( 576, 11 ) 737, 1133, 2013, 4840, 5885, 5962, 5995, 6006, 6017, 6138, 6281, 6303\n",
      "\n",
      "input SDR:  SDR( 21 ) 6, 7, 8\n",
      "Active SDR:  SDR( 576 ) 67, 103, 183, 440, 535, 542, 545, 546, 547, 558, 571\n",
      "Classifier learn:  2\n",
      "\n"
     ]
    },
    {
     "data": {
      "image/png": "[encoded data removed]",
      "text/plain": [
       "<Figure size 432x288 with 1 Axes>"
      ]
     },
     "metadata": {
      "needs_background": "light"
     },
     "output_type": "display_data"
    },
    {
     "name": "stdout",
     "output_type": "stream",
     "text": [
      "SDR( 576, 11 ) 605, 1914, 2794, 3146, 3443, 3740, 4070, 4554, 5643, 5984, 6215\n",
      "\n",
      "input SDR:  SDR( 21 ) 9, 10, 11\n",
      "Active SDR:  SDR( 576 ) 55, 174, 254, 286, 313, 340, 370, 414, 513, 544, 565\n",
      "Classifier learn:  3\n",
      "\n"
     ]
    },
    {
     "data": {
      "image/png": "[encoded data removed]",
      "text/plain": [
       "<Figure size 432x288 with 1 Axes>"
      ]
     },
     "metadata": {
      "needs_background": "light"
     },
     "output_type": "display_data"
    },
    {
     "name": "stdout",
     "output_type": "stream",
     "text": [
      "SDR( 576, 11 ) 429, 660, 759, 2321, 4202, 5599, 5753, 5940, 6073, 6116, 6304\n",
      "\n",
      "input SDR:  SDR( 21 ) 12, 13, 14\n",
      "Active SDR:  SDR( 576 ) 39, 60, 69, 211, 382, 509, 523, 540, 552, 556, 573\n",
      "Classifier learn:  4\n",
      "\n"
     ]
    },
    {
     "data": {
      "image/png": "[encoded data removed]",
      "text/plain": [
       "<Figure size 432x288 with 1 Axes>"
      ]
     },
     "metadata": {
      "needs_background": "light"
     },
     "output_type": "display_data"
    },
    {
     "name": "stdout",
     "output_type": "stream",
     "text": [
      "SDR( 576, 11 ) 781, 1320, 1859, 2266, 2398, 2981, 3432, 3444, 3696, 4631, 6305\n",
      "\n",
      "input SDR:  SDR( 21 ) 15, 16, 17\n",
      "Active SDR:  SDR( 576 ) 71, 120, 169, 206, 218, 271, 312, 313, 336, 421, 573\n",
      "Classifier learn:  5\n",
      "\n"
     ]
    },
    {
     "data": {
      "image/png": "[encoded data removed]",
      "text/plain": [
       "<Figure size 432x288 with 1 Axes>"
      ]
     },
     "metadata": {
      "needs_background": "light"
     },
     "output_type": "display_data"
    },
    {
     "name": "stdout",
     "output_type": "stream",
     "text": [
      "SDR( 576, 11 ) 517, 1045, 1122, 1232, 2255, 2717, 3410, 3982, 4543, 5500, 6326\n",
      "\n",
      "input SDR:  SDR( 21 ) 18, 19, 20\n",
      "Active SDR:  SDR( 576 ) 47, 95, 102, 112, 205, 247, 310, 362, 413, 500, 575\n",
      "Classifier learn:  6\n",
      "\n"
     ]
    },
    {
     "data": {
      "image/png": "[encoded data removed]",
      "text/plain": [
       "<Figure size 432x288 with 1 Axes>"
      ]
     },
     "metadata": {
      "needs_background": "light"
     },
     "output_type": "display_data"
    },
    {
     "name": "stdout",
     "output_type": "stream",
     "text": [
      "SDR( 576, 11 ) 682, 1243, 1331, 2442, 2673, 3520, 4499, 4983, 5258, 6237, 6292\n",
      "\n",
      "input SDR:  SDR( 21 ) 0, 1, 2\n",
      "Active SDR:  SDR( 576 ) 62, 113, 121, 222, 243, 320, 409, 453, 478, 567, 572\n",
      "Classifier learn:  0\n",
      "\n"
     ]
    },
    {
     "data": {
      "image/png": "[encoded data removed]",
      "text/plain": [
       "<Figure size 432x288 with 1 Axes>"
      ]
     },
     "metadata": {
      "needs_background": "light"
     },
     "output_type": "display_data"
    },
    {
     "name": "stdout",
     "output_type": "stream",
     "text": [
      "SDR( 576, 11 ) 1089, 1672, 3267, 4092, 5335, 5786, 5907, 6072, 6105, 6204, 6325\n",
      "\n",
      "input SDR:  SDR( 21 ) 3, 4, 5\n",
      "Active SDR:  SDR( 576 ) 99, 152, 297, 372, 485, 526, 537, 552, 555, 564, 575\n",
      "Classifier learn:  1\n",
      "\n"
     ]
    },
    {
     "data": {
      "image/png": "[encoded data removed]",
      "text/plain": [
       "<Figure size 432x288 with 1 Axes>"
      ]
     },
     "metadata": {
      "needs_background": "light"
     },
     "output_type": "display_data"
    },
    {
     "name": "stdout",
     "output_type": "stream",
     "text": [
      "SDR( 576, 11 ) 737, 1133, 2013, 4840, 5885, 5962, 5995, 6006, 6017, 6138, 6281, 6303\n",
      "\n",
      "input SDR:  SDR( 21 ) 6, 7, 8\n",
      "Active SDR:  SDR( 576 ) 67, 103, 183, 440, 535, 542, 545, 546, 547, 558, 571\n",
      "Classifier learn:  2\n",
      "\n"
     ]
    },
    {
     "data": {
      "image/png": "[encoded data removed]",
      "text/plain": [
       "<Figure size 432x288 with 1 Axes>"
      ]
     },
     "metadata": {
      "needs_background": "light"
     },
     "output_type": "display_data"
    },
    {
     "name": "stdout",
     "output_type": "stream",
     "text": [
      "SDR( 576, 11 ) 605, 1914, 2794, 3146, 3443, 3740, 4070, 4554, 5643, 5984, 6215\n",
      "\n",
      "input SDR:  SDR( 21 ) 9, 10, 11\n",
      "Active SDR:  SDR( 576 ) 55, 174, 254, 286, 313, 340, 370, 414, 513, 544, 565\n",
      "Classifier learn:  3\n",
      "\n"
     ]
    },
    {
     "data": {
      "image/png": "[encoded data removed]",
      "text/plain": [
       "<Figure size 432x288 with 1 Axes>"
      ]
     },
     "metadata": {
      "needs_background": "light"
     },
     "output_type": "display_data"
    },
    {
     "name": "stdout",
     "output_type": "stream",
     "text": [
      "SDR( 576, 11 ) 429, 660, 759, 2321, 4202, 5599, 5753, 5940, 6073, 6116, 6304\n",
      "\n",
      "input SDR:  SDR( 21 ) 12, 13, 14\n",
      "Active SDR:  SDR( 576 ) 39, 60, 69, 211, 382, 509, 523, 540, 552, 556, 573\n",
      "Classifier learn:  4\n",
      "\n"
     ]
    },
    {
     "data": {
      "image/png": "[encoded data removed]",
      "text/plain": [
       "<Figure size 432x288 with 1 Axes>"
      ]
     },
     "metadata": {
      "needs_background": "light"
     },
     "output_type": "display_data"
    },
    {
     "name": "stdout",
     "output_type": "stream",
     "text": [
      "SDR( 576, 11 ) 781, 1320, 1859, 2266, 2398, 2981, 3432, 3444, 3696, 4631, 6305\n",
      "\n",
      "input SDR:  SDR( 21 ) 15, 16, 17\n",
      "Active SDR:  SDR( 576 ) 71, 120, 169, 206, 218, 271, 312, 313, 336, 421, 573\n",
      "Classifier learn:  5\n",
      "\n"
     ]
    },
    {
     "data": {
      "image/png": "[encoded data removed]",
      "text/plain": [
       "<Figure size 432x288 with 1 Axes>"
      ]
     },
     "metadata": {
      "needs_background": "light"
     },
     "output_type": "display_data"
    },
    {
     "name": "stdout",
     "output_type": "stream",
     "text": [
      "SDR( 576, 11 ) 517, 1045, 1122, 1232, 2255, 2717, 3410, 3982, 4543, 5500, 6326\n",
      "\n",
      "input SDR:  SDR( 21 ) 18, 19, 20\n",
      "Active SDR:  SDR( 576 ) 47, 95, 102, 112, 205, 247, 310, 362, 413, 500, 575\n",
      "Classifier learn:  6\n",
      "\n"
     ]
    },
    {
     "data": {
      "image/png": "[encoded data removed]",
      "text/plain": [
       "<Figure size 432x288 with 1 Axes>"
      ]
     },
     "metadata": {
      "needs_background": "light"
     },
     "output_type": "display_data"
    },
    {
     "name": "stdout",
     "output_type": "stream",
     "text": [
      "SDR( 576, 11 ) 682, 1243, 1331, 2442, 2673, 3520, 4499, 4983, 5258, 6237, 6292\n",
      "\n",
      "Temporal Memory Connections:\n",
      "    Inputs (89) ~> Outputs (6336) via Segments (78)\n",
      "    Segments on Cell Min/Mean/Max 0 / 0.0123106 / 1\n",
      "    Potential Synapses on Segment Min/Mean/Max 11 / 12.4103 / 20\n",
      "    Connected Synapses on Segment Min/Mean/Max 11 / 12.4103 / 20\n",
      "    Synapses Dead (0%) Saturated (0.897727%)\n",
      "    Synapses pruned (0%) Segments pruned (0%)\n",
      "\n"
     ]
    }
   ],
   "source": [
    "batch=10\n",
    "for n in range(batch):    \n",
    "    for i in range(len(pitchNames)):\n",
    "        inputSDR = enc.encode(i)\n",
    "        print(\"input SDR: \",inputSDR)\n",
    "        sp.compute(inputSDR, True, activeSDR)\n",
    "        print(\"Active SDR: \",activeSDR)\n",
    "        clsr.learn( activeSDR, i )\n",
    "        print(\"Classifier learn: \",i)\n",
    "        print(\"\")\n",
    "\n",
    "        #clear_output(wait = True)\n",
    "        #plt.cla\n",
    "        sampleSDR=activeSDR.dense.reshape(24,24)\n",
    "        plt.imshow(sampleSDR, cmap = \"Blues\")\n",
    "        plt.pause(0.01)\n",
    "\n",
    "        tm.compute( activeSDR, learn=True)\n",
    "        tm.activateDendrites(True)\n",
    "        print(tm.getPredictiveCells())\n",
    "        print(\"\")\n",
    "print(tm)"
   ]
  },
  {
   "cell_type": "code",
   "execution_count": 16,
   "metadata": {},
   "outputs": [
    {
     "name": "stdout",
     "output_type": "stream",
     "text": [
      "---  0  ---\n",
      "input SDR:  SDR( 21 ) 0, 1, 2\n",
      "Active SDR:  SDR( 576 ) 62, 113, 121, 222, 243, 320, 409, 453, 478, 567, 572\n"
     ]
    },
    {
     "data": {
      "image/png": "[encoded data removed]",
      "text/plain": [
       "<Figure size 432x288 with 1 Axes>"
      ]
     },
     "metadata": {
      "needs_background": "light"
     },
     "output_type": "display_data"
    },
    {
     "name": "stdout",
     "output_type": "stream",
     "text": [
      "SDR( 576, 11 ) 682, 683, 684, 685, 686, 687, 688, 689, 690, 691, 692, 1243, 1244, 1245, 1246, 1247, 1248, 1249, 1250, 1251, 1252, 1253, 1331, 1332, 1333, 1334, 1335, 1336, 1337, 1338, 1339, 1340, 1341, 2442, 2443, 2444, 2445, 2446, 2447, 2448, 2449, 2450, 2451, 2452, 2673, 2674, 2675, 2676, 2677, 2678, 2679, 2680, 2681, 2682, 2683, 3520, 3521, 3522, 3523, 3524, 3525, 3526, 3527, 3528, 3529, 3530, 4499, 4500, 4501, 4502, 4503, 4504, 4505, 4506, 4507, 4508, 4509, 4983, 4984, 4985, 4986, 4987, 4988, 4989, 4990, 4991, 4992, 4993, 5258, 5259, 5260, 5261, 5262, 5263, 5264, 5265, 5266, 5267, 5268, 6237, 6238, 6239, 6240, 6241, 6242, 6243, 6244, 6245, 6246, 6247, 6292, 6293, 6294, 6295, 6296, 6297, 6298, 6299, 6300, 6301, 6302\n",
      "SDR( 576, 11 ) 1089, 1672, 3267, 4092, 5335, 5786, 5907, 6072, 6105, 6204, 6325\n",
      "----------------------------------------------------------------------\n",
      "Active sdr:  SDR( 576 ) 62, 113, 121, 222, 243, 320, 409, 453, 478, 567, 572\n",
      "----------------------------------------------------------------------\n",
      "Predicted sdr:  SDR( 576 ) 99, 152, 297, 372, 485, 526, 537, 552, 555, 564, 575\n",
      "----------------------------------------------------------------------\n",
      "PDF:  [0.131005945399646, 0.20045906290794455, 0.13167797245963325, 0.1316861789132905, 0.13672574576179217, 0.13169625283838926, 0.1367488168005249]\n",
      "----------------------------------------------------------------------\n",
      "predict index:  1\n",
      "----------------------------------------------------------------------\n",
      "predict label:  D\n",
      "\n"
     ]
    },
    {
     "data": {
      "image/png": "[encoded data removed]",
      "text/plain": [
       "<Figure size 432x288 with 1 Axes>"
      ]
     },
     "metadata": {
      "needs_background": "light"
     },
     "output_type": "display_data"
    },
    {
     "name": "stdout",
     "output_type": "stream",
     "text": [
      "---  1  ---\n",
      "input SDR:  SDR( 21 ) 3, 4, 5\n",
      "Active SDR:  SDR( 576 ) 99, 152, 297, 372, 485, 526, 537, 552, 555, 564, 575\n"
     ]
    },
    {
     "data": {
      "image/png": "[encoded data removed]",
      "text/plain": [
       "<Figure size 432x288 with 1 Axes>"
      ]
     },
     "metadata": {
      "needs_background": "light"
     },
     "output_type": "display_data"
    },
    {
     "name": "stdout",
     "output_type": "stream",
     "text": [
      "SDR( 576, 11 ) 1089, 1090, 1091, 1092, 1093, 1094, 1095, 1096, 1097, 1098, 1099, 1672, 1673, 1674, 1675, 1676, 1677, 1678, 1679, 1680, 1681, 1682, 3267, 3268, 3269, 3270, 3271, 3272, 3273, 3274, 3275, 3276, 3277, 4092, 4093, 4094, 4095, 4096, 4097, 4098, 4099, 4100, 4101, 4102, 5335, 5336, 5337, 5338, 5339, 5340, 5341, 5342, 5343, 5344, 5345, 5786, 5787, 5788, 5789, 5790, 5791, 5792, 5793, 5794, 5795, 5796, 5907, 5908, 5909, 5910, 5911, 5912, 5913, 5914, 5915, 5916, 5917, 6072, 6073, 6074, 6075, 6076, 6077, 6078, 6079, 6080, 6081, 6082, 6105, 6106, 6107, 6108, 6109, 6110, 6111, 6112, 6113, 6114, 6115, 6204, 6205, 6206, 6207, 6208, 6209, 6210, 6211, 6212, 6213, 6214, 6325, 6326, 6327, 6328, 6329, 6330, 6331, 6332, 6333, 6334, 6335\n",
      "SDR( 576, 11 ) 737, 1133, 2013, 4840, 5885, 5962, 5995, 6006, 6017, 6138, 6281, 6303\n",
      "----------------------------------------------------------------------\n",
      "Active sdr:  SDR( 576 ) 99, 152, 297, 372, 485, 526, 537, 552, 555, 564, 575\n",
      "----------------------------------------------------------------------\n",
      "Predicted sdr:  SDR( 576 ) 67, 103, 183, 440, 535, 542, 545, 546, 547, 558, 571, 573\n",
      "----------------------------------------------------------------------\n",
      "PDF:  [0.13116574437316858, 0.1311516515256108, 0.20083315297646295, 0.13160641845660692, 0.13677630167189073, 0.13680201754485685, 0.13166469255000646]\n",
      "----------------------------------------------------------------------\n",
      "predict index:  2\n",
      "----------------------------------------------------------------------\n",
      "predict label:  E\n",
      "\n"
     ]
    },
    {
     "data": {
      "image/png": "[encoded data removed]",
      "text/plain": [
       "<Figure size 432x288 with 1 Axes>"
      ]
     },
     "metadata": {
      "needs_background": "light"
     },
     "output_type": "display_data"
    },
    {
     "name": "stdout",
     "output_type": "stream",
     "text": [
      "---  2  ---\n",
      "input SDR:  SDR( 21 ) 6, 7, 8\n",
      "Active SDR:  SDR( 576 ) 67, 103, 183, 440, 535, 542, 545, 546, 547, 558, 571\n"
     ]
    },
    {
     "data": {
      "image/png": "[encoded data removed]",
      "text/plain": [
       "<Figure size 432x288 with 1 Axes>"
      ]
     },
     "metadata": {
      "needs_background": "light"
     },
     "output_type": "display_data"
    },
    {
     "name": "stdout",
     "output_type": "stream",
     "text": [
      "SDR( 576, 11 ) 737, 738, 739, 740, 741, 742, 743, 744, 745, 746, 747, 1133, 1134, 1135, 1136, 1137, 1138, 1139, 1140, 1141, 1142, 1143, 2013, 2014, 2015, 2016, 2017, 2018, 2019, 2020, 2021, 2022, 2023, 4840, 4841, 4842, 4843, 4844, 4845, 4846, 4847, 4848, 4849, 4850, 5885, 5886, 5887, 5888, 5889, 5890, 5891, 5892, 5893, 5894, 5895, 5962, 5963, 5964, 5965, 5966, 5967, 5968, 5969, 5970, 5971, 5972, 5995, 5996, 5997, 5998, 5999, 6000, 6001, 6002, 6003, 6004, 6005, 6006, 6007, 6008, 6009, 6010, 6011, 6012, 6013, 6014, 6015, 6016, 6017, 6018, 6019, 6020, 6021, 6022, 6023, 6024, 6025, 6026, 6027, 6138, 6139, 6140, 6141, 6142, 6143, 6144, 6145, 6146, 6147, 6148, 6281, 6282, 6283, 6284, 6285, 6286, 6287, 6288, 6289, 6290, 6291\n",
      "SDR( 576, 11 ) 605, 1914, 2794, 3146, 3443, 3740, 4070, 4554, 5643, 5984, 6215\n",
      "----------------------------------------------------------------------\n",
      "Active sdr:  SDR( 576 ) 67, 103, 183, 440, 535, 542, 545, 546, 547, 558, 571\n",
      "----------------------------------------------------------------------\n",
      "Predicted sdr:  SDR( 576 ) 55, 174, 254, 286, 313, 340, 370, 414, 513, 544, 565\n",
      "----------------------------------------------------------------------\n",
      "PDF:  [0.13199055287051553, 0.13199057941790907, 0.13198213378126758, 0.20196941054535203, 0.13231876531094394, 0.13739634904784714, 0.13235217980893038]\n",
      "----------------------------------------------------------------------\n",
      "predict index:  3\n",
      "----------------------------------------------------------------------\n",
      "predict label:  F\n",
      "\n"
     ]
    },
    {
     "data": {
      "image/png": "[encoded data removed]",
      "text/plain": [
       "<Figure size 432x288 with 1 Axes>"
      ]
     },
     "metadata": {
      "needs_background": "light"
     },
     "output_type": "display_data"
    },
    {
     "name": "stdout",
     "output_type": "stream",
     "text": [
      "---  3  ---\n",
      "input SDR:  SDR( 21 ) 9, 10, 11\n",
      "Active SDR:  SDR( 576 ) 55, 174, 254, 286, 313, 340, 370, 414, 513, 544, 565\n"
     ]
    },
    {
     "data": {
      "image/png": "[encoded data removed]",
      "text/plain": [
       "<Figure size 432x288 with 1 Axes>"
      ]
     },
     "metadata": {
      "needs_background": "light"
     },
     "output_type": "display_data"
    },
    {
     "name": "stdout",
     "output_type": "stream",
     "text": [
      "SDR( 576, 11 ) 605, 606, 607, 608, 609, 610, 611, 612, 613, 614, 615, 1914, 1915, 1916, 1917, 1918, 1919, 1920, 1921, 1922, 1923, 1924, 2794, 2795, 2796, 2797, 2798, 2799, 2800, 2801, 2802, 2803, 2804, 3146, 3147, 3148, 3149, 3150, 3151, 3152, 3153, 3154, 3155, 3156, 3443, 3444, 3445, 3446, 3447, 3448, 3449, 3450, 3451, 3452, 3453, 3740, 3741, 3742, 3743, 3744, 3745, 3746, 3747, 3748, 3749, 3750, 4070, 4071, 4072, 4073, 4074, 4075, 4076, 4077, 4078, 4079, 4080, 4554, 4555, 4556, 4557, 4558, 4559, 4560, 4561, 4562, 4563, 4564, 5643, 5644, 5645, 5646, 5647, 5648, 5649, 5650, 5651, 5652, 5653, 5984, 5985, 5986, 5987, 5988, 5989, 5990, 5991, 5992, 5993, 5994, 6215, 6216, 6217, 6218, 6219, 6220, 6221, 6222, 6223, 6224, 6225\n",
      "SDR( 576, 11 ) 429, 660, 759, 2321, 4202, 5599, 5753, 5940, 6073, 6116, 6304\n",
      "----------------------------------------------------------------------\n",
      "Active sdr:  SDR( 576 ) 55, 174, 254, 286, 313, 340, 370, 414, 513, 544, 565\n",
      "----------------------------------------------------------------------\n",
      "Predicted sdr:  SDR( 576 ) 39, 60, 69, 211, 382, 509, 523, 540, 552, 556, 573\n",
      "----------------------------------------------------------------------\n",
      "PDF:  [0.13108285411971768, 0.13609235705451592, 0.1329958613051387, 0.1311670502534351, 0.20072112715742824, 0.13648179338566213, 0.13145895964048654]\n",
      "----------------------------------------------------------------------\n",
      "predict index:  4\n",
      "----------------------------------------------------------------------\n",
      "predict label:  G\n",
      "\n"
     ]
    },
    {
     "data": {
      "image/png": "[encoded data removed]",
      "text/plain": [
       "<Figure size 432x288 with 1 Axes>"
      ]
     },
     "metadata": {
      "needs_background": "light"
     },
     "output_type": "display_data"
    },
    {
     "name": "stdout",
     "output_type": "stream",
     "text": [
      "---  4  ---\n",
      "input SDR:  SDR( 21 ) 12, 13, 14\n",
      "Active SDR:  SDR( 576 ) 39, 60, 69, 211, 382, 509, 523, 540, 552, 556, 573\n"
     ]
    },
    {
     "data": {
      "image/png": "[encoded data removed]",
      "text/plain": [
       "<Figure size 432x288 with 1 Axes>"
      ]
     },
     "metadata": {
      "needs_background": "light"
     },
     "output_type": "display_data"
    },
    {
     "name": "stdout",
     "output_type": "stream",
     "text": [
      "SDR( 576, 11 ) 429, 430, 431, 432, 433, 434, 435, 436, 437, 438, 439, 660, 661, 662, 663, 664, 665, 666, 667, 668, 669, 670, 759, 760, 761, 762, 763, 764, 765, 766, 767, 768, 769, 2321, 2322, 2323, 2324, 2325, 2326, 2327, 2328, 2329, 2330, 2331, 4202, 4203, 4204, 4205, 4206, 4207, 4208, 4209, 4210, 4211, 4212, 5599, 5600, 5601, 5602, 5603, 5604, 5605, 5606, 5607, 5608, 5609, 5753, 5754, 5755, 5756, 5757, 5758, 5759, 5760, 5761, 5762, 5763, 5940, 5941, 5942, 5943, 5944, 5945, 5946, 5947, 5948, 5949, 5950, 6072, 6073, 6074, 6075, 6076, 6077, 6078, 6079, 6080, 6081, 6082, 6116, 6117, 6118, 6119, 6120, 6121, 6122, 6123, 6124, 6125, 6126, 6303, 6304, 6305, 6306, 6307, 6308, 6309, 6310, 6311, 6312, 6313\n",
      "SDR( 576, 11 ) 781, 1320, 1859, 2266, 2398, 2981, 3432, 3444, 3696, 4631, 6305\n",
      "----------------------------------------------------------------------\n",
      "Active sdr:  SDR( 576 ) 39, 60, 69, 211, 382, 509, 523, 540, 552, 556, 573\n",
      "----------------------------------------------------------------------\n",
      "Predicted sdr:  SDR( 576 ) 71, 120, 169, 206, 218, 271, 312, 313, 336, 421, 573\n",
      "----------------------------------------------------------------------\n",
      "PDF:  [0.13114897883330315, 0.13113514156989717, 0.1330037789304259, 0.1362010896377718, 0.13623016368398572, 0.20081315293058707, 0.1314677381824653]\n",
      "----------------------------------------------------------------------\n",
      "predict index:  5\n",
      "----------------------------------------------------------------------\n",
      "predict label:  A\n",
      "\n"
     ]
    },
    {
     "data": {
      "image/png": "[encoded data removed]",
      "text/plain": [
       "<Figure size 432x288 with 1 Axes>"
      ]
     },
     "metadata": {
      "needs_background": "light"
     },
     "output_type": "display_data"
    },
    {
     "name": "stdout",
     "output_type": "stream",
     "text": [
      "---  5  ---\n",
      "input SDR:  SDR( 21 ) 15, 16, 17\n",
      "Active SDR:  SDR( 576 ) 71, 120, 169, 206, 218, 271, 312, 313, 336, 421, 573\n"
     ]
    },
    {
     "data": {
      "image/png": "[encoded data removed]",
      "text/plain": [
       "<Figure size 432x288 with 1 Axes>"
      ]
     },
     "metadata": {
      "needs_background": "light"
     },
     "output_type": "display_data"
    },
    {
     "name": "stdout",
     "output_type": "stream",
     "text": [
      "SDR( 576, 11 ) 781, 782, 783, 784, 785, 786, 787, 788, 789, 790, 791, 1320, 1321, 1322, 1323, 1324, 1325, 1326, 1327, 1328, 1329, 1330, 1859, 1860, 1861, 1862, 1863, 1864, 1865, 1866, 1867, 1868, 1869, 2266, 2267, 2268, 2269, 2270, 2271, 2272, 2273, 2274, 2275, 2276, 2398, 2399, 2400, 2401, 2402, 2403, 2404, 2405, 2406, 2407, 2408, 2981, 2982, 2983, 2984, 2985, 2986, 2987, 2988, 2989, 2990, 2991, 3432, 3433, 3434, 3435, 3436, 3437, 3438, 3439, 3440, 3441, 3442, 3443, 3444, 3445, 3446, 3447, 3448, 3449, 3450, 3451, 3452, 3453, 3696, 3697, 3698, 3699, 3700, 3701, 3702, 3703, 3704, 3705, 3706, 4631, 4632, 4633, 4634, 4635, 4636, 4637, 4638, 4639, 4640, 4641, 6303, 6304, 6305, 6306, 6307, 6308, 6309, 6310, 6311, 6312, 6313\n",
      "SDR( 576, 11 ) 517, 1045, 1122, 1232, 2255, 2717, 3410, 3982, 4543, 5500, 6326\n",
      "----------------------------------------------------------------------\n",
      "Active sdr:  SDR( 576 ) 71, 120, 169, 206, 218, 271, 312, 313, 336, 421, 573\n",
      "----------------------------------------------------------------------\n",
      "Predicted sdr:  SDR( 576 ) 47, 95, 102, 112, 205, 247, 310, 362, 413, 500, 575\n",
      "----------------------------------------------------------------------\n",
      "PDF:  [0.1320877809899085, 0.13713478062888473, 0.13214630890697168, 0.1321462906536908, 0.1321329656354683, 0.13214618390851957, 0.20220568526078497]\n",
      "----------------------------------------------------------------------\n",
      "predict index:  6\n",
      "----------------------------------------------------------------------\n",
      "predict label:  B\n",
      "\n"
     ]
    },
    {
     "data": {
      "image/png": "[encoded data removed]",
      "text/plain": [
       "<Figure size 432x288 with 1 Axes>"
      ]
     },
     "metadata": {
      "needs_background": "light"
     },
     "output_type": "display_data"
    },
    {
     "name": "stdout",
     "output_type": "stream",
     "text": [
      "---  6  ---\n",
      "input SDR:  SDR( 21 ) 18, 19, 20\n",
      "Active SDR:  SDR( 576 ) 47, 95, 102, 112, 205, 247, 310, 362, 413, 500, 575\n"
     ]
    },
    {
     "data": {
      "image/png": "[encoded data removed]",
      "text/plain": [
       "<Figure size 432x288 with 1 Axes>"
      ]
     },
     "metadata": {
      "needs_background": "light"
     },
     "output_type": "display_data"
    },
    {
     "name": "stdout",
     "output_type": "stream",
     "text": [
      "SDR( 576, 11 ) 517, 518, 519, 520, 521, 522, 523, 524, 525, 526, 527, 1045, 1046, 1047, 1048, 1049, 1050, 1051, 1052, 1053, 1054, 1055, 1122, 1123, 1124, 1125, 1126, 1127, 1128, 1129, 1130, 1131, 1132, 1232, 1233, 1234, 1235, 1236, 1237, 1238, 1239, 1240, 1241, 1242, 2255, 2256, 2257, 2258, 2259, 2260, 2261, 2262, 2263, 2264, 2265, 2717, 2718, 2719, 2720, 2721, 2722, 2723, 2724, 2725, 2726, 2727, 3410, 3411, 3412, 3413, 3414, 3415, 3416, 3417, 3418, 3419, 3420, 3982, 3983, 3984, 3985, 3986, 3987, 3988, 3989, 3990, 3991, 3992, 4543, 4544, 4545, 4546, 4547, 4548, 4549, 4550, 4551, 4552, 4553, 5500, 5501, 5502, 5503, 5504, 5505, 5506, 5507, 5508, 5509, 5510, 6325, 6326, 6327, 6328, 6329, 6330, 6331, 6332, 6333, 6334, 6335\n",
      "SDR( 576, 11 ) 682, 1243, 1331, 2442, 2673, 3520, 4499, 4983, 5258, 6237, 6292\n",
      "----------------------------------------------------------------------\n",
      "Active sdr:  SDR( 576 ) 47, 95, 102, 112, 205, 247, 310, 362, 413, 500, 575\n",
      "----------------------------------------------------------------------\n",
      "Predicted sdr:  SDR( 576 ) 62, 113, 121, 222, 243, 320, 409, 453, 478, 567, 572\n",
      "----------------------------------------------------------------------\n",
      "PDF:  [0.20155903310191767, 0.1330734907933701, 0.1330734907933701, 0.1330734907933701, 0.1330734907933701, 0.1330734907933701, 0.1330734907933701]\n",
      "----------------------------------------------------------------------\n",
      "predict index:  0\n",
      "----------------------------------------------------------------------\n",
      "predict label:  C\n",
      "\n"
     ]
    },
    {
     "data": {
      "image/png": "[encoded data removed]",
      "text/plain": [
       "<Figure size 432x288 with 1 Axes>"
      ]
     },
     "metadata": {
      "needs_background": "light"
     },
     "output_type": "display_data"
    }
   ],
   "source": [
    "for i in range(len(pitchNames)):\n",
    "    print(\"--- \", i ,\" ---\")\n",
    "    inputSDR = enc.encode(i)\n",
    "    print(\"input SDR: \",inputSDR)\n",
    "    sp.compute(inputSDR, False, activeSDR)\n",
    "    print(\"Active SDR: \",activeSDR)\n",
    "    \n",
    "    sampleSDR=activeSDR.dense.reshape(24,24)\n",
    "    plt.imshow(sampleSDR, cmap = \"Blues\")\n",
    "    plt.pause(0.01)\n",
    "\n",
    "    tm.reset()\n",
    "    tm.compute( activeSDR, learn=False)\n",
    "    tm.activateDendrites(True)\n",
    "    activeColumnsIndices   = [tm.columnForCell(i) for i in tm.getActiveCells().sparse]\n",
    "    predictedColumnIndices = [tm.columnForCell(i) for i in tm.getPredictiveCells().sparse]\n",
    "    \n",
    "    print(tm.getActiveCells())\n",
    "    print(tm.getPredictiveCells())\n",
    "\n",
    "    active_sdr = SDR( tm.numberOfColumns() )\n",
    "    active_sdr.sparse  = np.array(sorted(set(activeColumnsIndices)))\n",
    "    print(\"-\"*70 )\n",
    "    print(\"Active sdr: \", active_sdr)\n",
    "\n",
    "    predict_sdr = SDR( tm.numberOfColumns() )\n",
    "    predict_sdr.sparse  = np.array(sorted(set(predictedColumnIndices)))\n",
    "    print(\"-\"*70 )\n",
    "    print(\"Predicted sdr: \",predict_sdr)\n",
    "\n",
    "    print(\"-\"*70 )\n",
    "    print(\"PDF: \",clsr.infer( predict_sdr) )\n",
    "    print(\"-\"*70 )\n",
    "    tm_predict = np.argmax( clsr.infer( predict_sdr) ) \n",
    "    print(\"predict index: \",tm_predict)\n",
    "    print(\"-\"*70 )\n",
    "    print(\"predict label: \",pitchNames[tm_predict])\n",
    "\n",
    "    print(\"\")\n",
    "    \n",
    "    sampleSDR=predict_sdr.dense.reshape(24,24)\n",
    "    plt.imshow(sampleSDR, cmap = \"Reds\")\n",
    "    plt.pause(0.01)"
   ]
  },
  {
   "cell_type": "code",
   "execution_count": null,
   "metadata": {},
   "outputs": [],
   "source": []
  },
  {
   "cell_type": "code",
   "execution_count": null,
   "metadata": {},
   "outputs": [],
   "source": []
  },
  {
   "cell_type": "code",
   "execution_count": null,
   "metadata": {},
   "outputs": [],
   "source": []
  }
 ],
 "metadata": {
  "kernelspec": {
   "display_name": "Python 3.7.1 64-bit",
   "language": "python",
   "name": "python37164biteddaa04d9bd6403f87a9a26eeb0f918e"
  },
  "language_info": {
   "codemirror_mode": {
    "name": "ipython",
    "version": 3
   },
   "file_extension": ".py",
   "mimetype": "text/x-python",
   "name": "python",
   "nbconvert_exporter": "python",
   "pygments_lexer": "ipython3",
   "version": "3.7.1"
  }
 },
 "nbformat": 4,
 "nbformat_minor": 2
}
