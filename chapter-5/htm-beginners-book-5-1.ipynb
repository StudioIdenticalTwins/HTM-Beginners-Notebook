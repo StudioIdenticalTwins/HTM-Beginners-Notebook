{
 "cells": [
  {
   "cell_type": "code",
   "execution_count": 1,
   "metadata": {},
   "outputs": [
    {
     "name": "stdout",
     "output_type": "stream",
     "text": [
      "Temporal Memory Connections:\n",
      "    Inputs (0) ~> Outputs (50) via Segments (0)\n",
      "    Segments on Cell Min/Mean/Max 0 / 0 / 0\n",
      "    Potential Synapses on Segment Min/Mean/Max 4294967295 / nan / 0\n",
      "    Connected Synapses on Segment Min/Mean/Max 65535 / nan / 0\n",
      "    Synapses Dead (nan%) Saturated (nan%)\n",
      "    Synapses pruned (nan%) Segments pruned (nan%)\n",
      "\n"
     ]
    }
   ],
   "source": [
    "from htm.bindings.sdr import SDR\n",
    "from htm.algorithms import TemporalMemory as TM\n",
    "\n",
    "activeColumns = SDR( dimensions = (50,) )\n",
    "tm = TM(columnDimensions =  activeColumns.dense.shape,\n",
    "        cellsPerColumn=1,\n",
    "        initialPermanence=0.5,\n",
    "        connectedPermanence=0.5,\n",
    "        minThreshold=8,\n",
    "        maxNewSynapseCount=20,\n",
    "        permanenceIncrement=0.1,\n",
    "        permanenceDecrement=0.0,\n",
    "        activationThreshold=8,\n",
    "        )\n",
    "print(tm)"
   ]
  },
  {
   "cell_type": "code",
   "execution_count": 2,
   "metadata": {},
   "outputs": [
    {
     "name": "stdout",
     "output_type": "stream",
     "text": [
      "Input: A  Bits: SDR( 50 ) 0, 1, 2, 3, 4, 5, 6, 7, 8, 9\n",
      "Input: B  Bits: SDR( 50 ) 10, 11, 12, 13, 14, 15, 16, 17, 18, 19\n",
      "Input: C  Bits: SDR( 50 ) 20, 21, 22, 23, 24, 25, 26, 27, 28, 29\n",
      "Input: D  Bits: SDR( 50 ) 30, 31, 32, 33, 34, 35, 36, 37, 38, 39\n",
      "Input: E  Bits: SDR( 50 ) 40, 41, 42, 43, 44, 45, 46, 47, 48, 49\n"
     ]
    }
   ],
   "source": [
    "dataset = { inp : SDR( tm.numberOfColumns() ) for inp in \"ABCDE\" }\n",
    "\n",
    "dataset['A'].dense[0:10]  = 1 \n",
    "dataset['B'].dense[10:20] = 1 \n",
    "dataset['C'].dense[20:30] = 1\n",
    "dataset['D'].dense[30:40] = 1 \n",
    "dataset['E'].dense[40:50] = 1 \n",
    "\n",
    "for z in dataset.values():\n",
    "  z.dense = z.dense\n",
    "for inp in \"ABCDE\":\n",
    "  print(\"Input:\", inp, \" Bits:\", dataset[inp] )"
   ]
  },
  {
   "cell_type": "code",
   "execution_count": 3,
   "metadata": {},
   "outputs": [
    {
     "name": "stdout",
     "output_type": "stream",
     "text": [
      "SDR( 50, 1 )\n",
      "SDR( 50, 1 )\n",
      "SDR( 50, 1 )\n",
      "SDR( 50, 1 )\n",
      "SDR( 50, 1 )\n",
      "Temporal Memory Connections:\n",
      "    Inputs (40) ~> Outputs (50) via Segments (40)\n",
      "    Segments on Cell Min/Mean/Max 0 / 0.8 / 1\n",
      "    Potential Synapses on Segment Min/Mean/Max 10 / 10 / 10\n",
      "    Connected Synapses on Segment Min/Mean/Max 10 / 10 / 10\n",
      "    Synapses Dead (0%) Saturated (0%)\n",
      "    Synapses pruned (0%) Segments pruned (0%)\n",
      "\n"
     ]
    }
   ],
   "source": [
    "for inp in \"ABCDE\": \n",
    "  activeColumns = dataset[inp]\n",
    "  tm.compute(activeColumns, learn = True)\n",
    "  tm.activateDendrites(True)\n",
    "  print(tm.getPredictiveCells())\n",
    "print(tm)"
   ]
  },
  {
   "cell_type": "code",
   "execution_count": 4,
   "metadata": {},
   "outputs": [
    {
     "name": "stdout",
     "output_type": "stream",
     "text": [
      "SDR( 50, 1 ) 10, 11, 12, 13, 14, 15, 16, 17, 18, 19\n",
      "SDR( 50, 1 ) 20, 21, 22, 23, 24, 25, 26, 27, 28, 29\n",
      "SDR( 50, 1 ) 30, 31, 32, 33, 34, 35, 36, 37, 38, 39\n",
      "SDR( 50, 1 ) 40, 41, 42, 43, 44, 45, 46, 47, 48, 49\n",
      "SDR( 50, 1 ) 0, 1, 2, 3, 4, 5, 6, 7, 8, 9\n",
      "Temporal Memory Connections:\n",
      "    Inputs (50) ~> Outputs (50) via Segments (50)\n",
      "    Segments on Cell Min/Mean/Max 1 / 1 / 1\n",
      "    Potential Synapses on Segment Min/Mean/Max 10 / 10 / 10\n",
      "    Connected Synapses on Segment Min/Mean/Max 10 / 10 / 10\n",
      "    Synapses Dead (0%) Saturated (0%)\n",
      "    Synapses pruned (0%) Segments pruned (0%)\n",
      "\n"
     ]
    }
   ],
   "source": [
    "for inp in \"ABCDE\": \n",
    "  activeColumns = dataset[inp]\n",
    "  tm.compute(activeColumns, learn = True)\n",
    "  tm.activateDendrites(True)\n",
    "  print(tm.getPredictiveCells())\n",
    "print(tm)"
   ]
  },
  {
   "cell_type": "code",
   "execution_count": null,
   "metadata": {},
   "outputs": [],
   "source": []
  },
  {
   "cell_type": "code",
   "execution_count": null,
   "metadata": {},
   "outputs": [],
   "source": []
  }
 ],
 "metadata": {
  "kernelspec": {
   "display_name": "Python 3.7.1 64-bit",
   "language": "python",
   "name": "python37164biteddaa04d9bd6403f87a9a26eeb0f918e"
  },
  "language_info": {
   "codemirror_mode": {
    "name": "ipython",
    "version": 3
   },
   "file_extension": ".py",
   "mimetype": "text/x-python",
   "name": "python",
   "nbconvert_exporter": "python",
   "pygments_lexer": "ipython3",
   "version": "3.7.1"
  }
 },
 "nbformat": 4,
 "nbformat_minor": 2
}
