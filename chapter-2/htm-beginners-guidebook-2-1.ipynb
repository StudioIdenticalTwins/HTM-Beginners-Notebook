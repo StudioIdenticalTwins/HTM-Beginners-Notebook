{
 "cells": [
  {
   "cell_type": "markdown",
   "metadata": {},
   "source": [
    "## SDRのデータ形式"
   ]
  },
  {
   "cell_type": "markdown",
   "metadata": {},
   "source": [
    "### ドキュメント"
   ]
  },
  {
   "cell_type": "code",
   "execution_count": 1,
   "metadata": {},
   "outputs": [
    {
     "name": "stdout",
     "output_type": "stream",
     "text": [
      "Help on class SDR in htm.bindings.sdr:\r\n",
      "\r\n",
      "h\bht\btm\bm.\b.b\bbi\bin\bnd\bdi\bin\bng\bgs\bs.\b.s\bsd\bdr\br.\b.S\bSD\bDR\bR = class SDR(pybind11_builtins.pybind11_object)\r\n",
      " |  Sparse Distributed Representation\r\n",
      " |  \r\n",
      " |  This class manages the specification and momentary value of a Sparse Distributed\r\n",
      " |  Representation (SDR).  An SDR is a group of boolean values which represent the\r\n",
      " |  state of a group of neurons or their associated processes.\r\n",
      " |  \r\n",
      " |  SDR's have three commonly used data formats which are:\r\n",
      " |  *   dense\r\n",
      " |  *   sparse\r\n",
      " |  *   coordinates\r\n",
      " |  The SDR class has three magic properties, one for each of these data formats.\r\n",
      " |  These properties are the primary way of accessing the SDR's data.  When these\r\n",
      " |  properties are read from, the data is automatically converted to the requested\r\n",
      " |  format and is cached so getting a value in one format many times incurs no extra\r\n",
      " |  performance cost.  Assigning to the SDR via any one of these properties clears\r\n",
      " |  the cached values and causes them to be recomputed as needed.\r\n",
      " |  \r\n",
      " |  Example usage:\r\n",
      " |      # Make an SDR with 9 values, arranged in a (3 x 3) grid.\r\n",
      " |      X = SDR(dimensions = (3, 3))\r\n",
      " |  \r\n",
      " |      # These three statements are equivalent.\r\n",
      " |      X.dense  = [[0, 1, 0],\r\n",
      " |                  [0, 1, 0],\r\n",
      " |                  [0, 0, 1]]\r\n",
      " |      X.sparse = [ 1, 4, 8 ]\r\n",
      " |      X.coordinates = [[0, 1, 2], [1, 1, 2]]\r\n",
      " |  \r\n",
      " |      # Access data in any format, SDR will automatically convert data formats,\r\n",
      " |      # even if it was not the format used by the most recent assignment to the\r\n",
      " |      # SDR.\r\n",
      " |      X.dense  -> [[ 0, 1, 0 ],\r\n",
      " |                   [ 0, 1, 0 ],\r\n",
      " |                   [ 0, 0, 1 ]]\r\n",
      " |      x.sparse -> [ 1, 4, 8 ]\r\n",
      " |      X.coordinates -> [[ 0, 1, 2 ], [1, 1, 2 ]]\r\n",
      " |  \r\n",
      " |      # Data format conversions are cached, and when an SDR value changes the\r\n",
      " |      # cache is cleared.\r\n",
      " |      X.sparse = [1, 2, 3] # Assign new data to the SDR, clearing the cache.\r\n",
      " |      X.dense     # This line will convert formats.\r\n",
      " |      X.dense     # This line will resuse the result of the previous line\r\n",
      " |  \r\n",
      " |  Assigning a value to the SDR requires copying the data from Python into C++. To\r\n",
      " |  avoid this copy operation: modify sdr.dense inplace, and assign it to itself.\r\n",
      " |  This class will detect that it's being given it's own data and will omit the\r\n",
      " |  copy operation.\r\n",
      " |  \r\n",
      " |  Example Usage of In-Place Assignment:\r\n",
      " |      X    = SDR((1000, 1000))   # Initial value is all zeros\r\n",
      " |      data = X.dense\r\n",
      " |      data[  0,   4] = 1\r\n",
      " |      data[444, 444] = 1\r\n",
      " |      X.dense = data\r\n",
      " |      X.sparse -> [ 4, 444444 ]\r\n",
      " |  \r\n",
      " |  Data Validity Warning:  After assigning a new value to the SDR, all existing\r\n",
      " |  numpy arrays of data are invalid.  In order to get the latest copy of the data,\r\n",
      " |  re-access the data from the SDR.  Examples:\r\n",
      " |      A = SDR( dimensions )\r\n",
      " |      out_of_date = A.dense\r\n",
      " |      A.sparse = []\r\n",
      " |      # The variable \"out_of_date\" is now liable to be overwritten.\r\n",
      " |      A.dense = out_of_date   # This does not work, since the data is invalid.\r\n",
      " |  \r\n",
      " |  Method resolution order:\r\n",
      " |      SDR\r\n",
      " |      pybind11_builtins.pybind11_object\r\n",
      " |      builtins.object\r\n",
      " |  \r\n",
      " |  Methods defined here:\r\n",
      " |  \r\n",
      " |  _\b__\b_e\beq\bq_\b__\b_(...)\r\n",
      " |      __eq__(self: htm.bindings.sdr.SDR, arg0: htm.bindings.sdr.SDR) -> bool\r\n",
      " |  \r\n",
      " |  _\b__\b_g\bge\bet\bts\bst\bta\bat\bte\be_\b__\b_(...)\r\n",
      " |      __getstate__(self: htm.bindings.sdr.SDR) -> bytes\r\n",
      " |  \r\n",
      " |  _\b__\b_i\bin\bni\bit\bt_\b__\b_(...)\r\n",
      " |      __init__(*args, **kwargs)\r\n",
      " |      Overloaded function.\r\n",
      " |      \r\n",
      " |      1. __init__(self: htm.bindings.sdr.SDR, dimensions: List[int]) -> None\r\n",
      " |      \r\n",
      " |      Create an SDR object.  The initial value is all zeros.\r\n",
      " |      \r\n",
      " |      Argument dimensions is a list of dimension sizes, defining the shape of the SDR.\r\n",
      " |      The product of the dimensions must be greater than zero.\r\n",
      " |      \r\n",
      " |      2. __init__(self: htm.bindings.sdr.SDR, dimensions: int) -> None\r\n",
      " |      \r\n",
      " |      Create an SDR object.  The initial value is all zeros.\r\n",
      " |      \r\n",
      " |      Argument dimensions is a single integer dimension size, defining a 1-dimensional\r\n",
      " |      SDR.  Must be greater than zero.\r\n",
      " |      \r\n",
      " |      3. __init__(self: htm.bindings.sdr.SDR, sdr: htm.bindings.sdr.SDR) -> None\r\n",
      " |      \r\n",
      " |      Initialize this SDR as a deep copy of the given SDR.  This SDR and the given\r\n",
      " |      SDR will have no shared data and they can be modified without affecting each\r\n",
      " |      other.\r\n",
      " |  \r\n",
      " |  _\b__\b_n\bne\be_\b__\b_(...)\r\n",
      " |      __ne__(self: htm.bindings.sdr.SDR, arg0: htm.bindings.sdr.SDR) -> bool\r\n",
      " |  \r\n",
      " |  _\b__\b_s\bse\bet\bts\bst\bta\bat\bte\be_\b__\b_(...)\r\n",
      " |      __setstate__(self: htm.bindings.sdr.SDR, arg0: bytes) -> None\r\n",
      " |  \r\n",
      " |  _\b__\b_s\bst\btr\br_\b__\b_(...)\r\n",
      " |      __str__(self: htm.bindings.sdr.SDR) -> object\r\n",
      " |  \r\n",
      " |  a\bad\bdd\bdN\bNo\boi\bis\bse\be(...)\r\n",
      " |      addNoise(self: htm.bindings.sdr.SDR, fractionNoise: float, seed: int = 0) -> htm.bindings.sdr.SDR\r\n",
      " |      \r\n",
      " |      Modify the SDR by moving a fraction of the active bits to different\r\n",
      " |      locations.  This method does not change the sparsity of the SDR, it moves\r\n",
      " |      the locations of the true values.  The resulting SDR has a controlled\r\n",
      " |      amount of overlap with the original.\r\n",
      " |      \r\n",
      " |      Argument fractionNoise is the fraction of active bits to swap out.  The original\r\n",
      " |      and resulting SDRs have the following relationship:\r\n",
      " |          originalSDR.getOverlap( newSDR ) / sparsity == 1 - fractionNoise\r\n",
      " |      \r\n",
      " |      Optional argument seed is used for the random number generator.  Seed 0 is\r\n",
      " |      special, it is replaced with the system time.  The default seed is 0.\r\n",
      " |  \r\n",
      " |  c\bco\bon\bnc\bca\bat\bte\ben\bna\bat\bte\be(...)\r\n",
      " |      concatenate(*args, **kwargs)\r\n",
      " |      Overloaded function.\r\n",
      " |      \r\n",
      " |      1. concatenate(self: htm.bindings.sdr.SDR, input1: htm.bindings.sdr.SDR, input2: htm.bindings.sdr.SDR, axis: int = 0) -> htm.bindings.sdr.SDR\r\n",
      " |      \r\n",
      " |      Concatenates SDRs and stores the result in this SDR.\r\n",
      " |      \r\n",
      " |      This method has two overloads:\r\n",
      " |          1) Accepts two SDRs, for convenience.\r\n",
      " |          2) Accepts a list of SDRs, must contain at least two SDRs, can\r\n",
      " |             contain as many SDRs as needed.\r\n",
      " |      \r\n",
      " |      Argument axis: This can concatenate along any axis, as long as the\r\n",
      " |      result has the same dimensions as this SDR.  The default axis is 0.\r\n",
      " |      \r\n",
      " |      The output is stored in this SDR.  This method modifies this SDR\r\n",
      " |      and discards its current value!\r\n",
      " |      \r\n",
      " |      Example Usage:\r\n",
      " |          A = SDR( 10 )\r\n",
      " |          B = SDR( 10 )\r\n",
      " |          C = SDR( 20 )\r\n",
      " |          A.sparse = [0, 1, 2]\r\n",
      " |          B.sparse = [0, 1, 2]\r\n",
      " |          C.concatenate( A, B )\r\n",
      " |          C.sparse == [0, 1, 2, 10, 11, 12]\r\n",
      " |      \r\n",
      " |      \r\n",
      " |      2. concatenate(self: htm.bindings.sdr.SDR, inputs: List[htm.bindings.sdr.SDR], axis: int = 0) -> htm.bindings.sdr.SDR\r\n",
      " |  \r\n",
      " |  f\bfl\bla\bat\btt\bte\ben\bn(...)\r\n",
      " |      flatten(self: htm.bindings.sdr.SDR) -> htm.bindings.sdr.SDR\r\n",
      " |      \r\n",
      " |      Change the dimensions of the SDR into one big dimension.\r\n",
      " |  \r\n",
      " |  g\bge\bet\btO\bOv\bve\ber\brl\bla\bap\bp(...)\r\n",
      " |      getOverlap(self: htm.bindings.sdr.SDR, arg0: htm.bindings.sdr.SDR) -> int\r\n",
      " |      \r\n",
      " |      Calculates the number of true bits which both SDRs have in common.\r\n",
      " |  \r\n",
      " |  g\bge\bet\btS\bSp\bpa\bar\brs\bsi\bit\bty\by(...)\r\n",
      " |      getSparsity(self: htm.bindings.sdr.SDR) -> float\r\n",
      " |      \r\n",
      " |      Calculates the sparsity of the SDR, which is the fraction of bits which are\r\n",
      " |      true out of the total number of bits in the SDR.\r\n",
      " |      I.E.  sparsity = sdr.getSum() / sdr.size\r\n",
      " |  \r\n",
      " |  g\bge\bet\btS\bSu\bum\bm(...)\r\n",
      " |      getSum(self: htm.bindings.sdr.SDR) -> int\r\n",
      " |      \r\n",
      " |      Calculates the number of true values in the SDR.\r\n",
      " |  \r\n",
      " |  i\bin\bnt\bte\ber\brs\bse\bec\bct\bti\bio\bon\bn(...)\r\n",
      " |      intersection(*args, **kwargs)\r\n",
      " |      Overloaded function.\r\n",
      " |      \r\n",
      " |      1. intersection(self: htm.bindings.sdr.SDR, arg0: htm.bindings.sdr.SDR, arg1: htm.bindings.sdr.SDR) -> htm.bindings.sdr.SDR\r\n",
      " |      \r\n",
      " |      This method calculates the set intersection of the active bits in each input\r\n",
      " |      SDR.\r\n",
      " |      \r\n",
      " |      This method has two overloads:\r\n",
      " |          1) Accepts two SDRs, for convenience.\r\n",
      " |          2) Accepts a list of SDRs, must contain at least two SDRs, can contain as\r\n",
      " |             many SDRs as needed.\r\n",
      " |      \r\n",
      " |      In both cases the output is stored in this SDR.  This method modifies this SDR\r\n",
      " |      and discards its current value!\r\n",
      " |      \r\n",
      " |      Example Usage:\r\n",
      " |          A = SDR( 10 )\r\n",
      " |          B = SDR( 10 )\r\n",
      " |          X = SDR( 10 )\r\n",
      " |          A.sparse = [0, 1, 2, 3]\r\n",
      " |          B.sparse =       [2, 3, 4, 5]\r\n",
      " |          X.intersection( A, B )\r\n",
      " |          X.sparse -> [2, 3]\r\n",
      " |      \r\n",
      " |      \r\n",
      " |      2. intersection(self: htm.bindings.sdr.SDR, arg0: List[htm.bindings.sdr.SDR]) -> htm.bindings.sdr.SDR\r\n",
      " |  \r\n",
      " |  k\bki\bil\bll\blC\bCe\bel\bll\bls\bs(...)\r\n",
      " |      killCells(self: htm.bindings.sdr.SDR, fraction: float, seed: int = 0) -> htm.bindings.sdr.SDR\r\n",
      " |      \r\n",
      " |      Modify the SDR by setting a fraction of the bits to zero.\r\n",
      " |      \r\n",
      " |      Argument fraction must be between 0 and 1 (inclusive).  This fraction of the\r\n",
      " |      cells in the SDR will be set to zero, regardless of their current state.\r\n",
      " |      \r\n",
      " |      Argument seed is for a random number generator.  If not given, this uses the\r\n",
      " |      magic seed 0.  Use the same seed to consistently kill the same cells.\r\n",
      " |  \r\n",
      " |  r\bra\ban\bnd\bdo\bom\bmi\biz\bze\be(...)\r\n",
      " |      randomize(*args, **kwargs)\r\n",
      " |      Overloaded function.\r\n",
      " |      \r\n",
      " |      1. randomize(self: htm.bindings.sdr.SDR, sparsity: float, seed: int = 0) -> htm.bindings.sdr.SDR\r\n",
      " |      \r\n",
      " |      Make a random SDR, overwriting the current value of the SDR.  The result has\r\n",
      " |      uniformly random activations.\r\n",
      " |      \r\n",
      " |      Argument sparsity is the fraction of bits to set to true.  After calling this\r\n",
      " |      method sdr.getSparsity() will return this sparsity, rounded to the nearest\r\n",
      " |      fraction of self.size.\r\n",
      " |      \r\n",
      " |      Optional argument seed is used for the random number generator.  Seed 0 is\r\n",
      " |      special, it is replaced with the system time  The default seed is 0.\r\n",
      " |      \r\n",
      " |      2. randomize(self: htm.bindings.sdr.SDR, sparsity: float, rng: htm.bindings.math.Random) -> htm.bindings.sdr.SDR\r\n",
      " |      \r\n",
      " |      This overload accepts Random Number Generators (RNG) intead of a random seed.\r\n",
      " |      RNGs must be instances of \"htm.bindings.math.Random\".\r\n",
      " |  \r\n",
      " |  r\bre\bes\bsh\bha\bap\bpe\be(...)\r\n",
      " |      reshape(self: htm.bindings.sdr.SDR, arg0: List[int]) -> htm.bindings.sdr.SDR\r\n",
      " |      \r\n",
      " |      Change the dimensions of the SDR.  The total size must not change.\r\n",
      " |  \r\n",
      " |  s\bse\bet\btS\bSD\bDR\bR(...)\r\n",
      " |      setSDR(self: htm.bindings.sdr.SDR, arg0: htm.bindings.sdr.SDR) -> htm.bindings.sdr.SDR\r\n",
      " |      \r\n",
      " |      Deep Copy the given SDR to this SDR.  This overwrites the current value of this\r\n",
      " |      SDR.  This SDR and the given SDR will have no shared data and they can be\r\n",
      " |      modified without affecting each other.\r\n",
      " |  \r\n",
      " |  u\bun\bni\bio\bon\bn(...)\r\n",
      " |      union(*args, **kwargs)\r\n",
      " |      Overloaded function.\r\n",
      " |      \r\n",
      " |      1. union(self: htm.bindings.sdr.SDR, arg0: htm.bindings.sdr.SDR, arg1: htm.bindings.sdr.SDR) -> htm.bindings.sdr.SDR\r\n",
      " |      \r\n",
      " |      This method calculates the set union of the active bits in each input SDR.\r\n",
      " |      \r\n",
      " |      The output is stored in this SDR.  This method discards the SDRs current value!\r\n",
      " |      \r\n",
      " |      Example Usage:\r\n",
      " |          A = SDR( 10 )\r\n",
      " |          B = SDR( 10 )\r\n",
      " |          U = SDR( 10 )\r\n",
      " |          A.sparse = [0, 1, 2, 3]\r\n",
      " |          B.sparse =       [2, 3, 4, 5]\r\n",
      " |          U.union( A, B )\r\n",
      " |          U.sparse -> [0, 1, 2, 3, 4, 5]\r\n",
      " |      \r\n",
      " |      \r\n",
      " |      2. union(self: htm.bindings.sdr.SDR, arg0: List[htm.bindings.sdr.SDR]) -> htm.bindings.sdr.SDR\r\n",
      " |  \r\n",
      " |  z\bze\ber\bro\bo(...)\r\n",
      " |      zero(self: htm.bindings.sdr.SDR) -> htm.bindings.sdr.SDR\r\n",
      " |      \r\n",
      " |      Set all of the values in the SDR to false.  This method overwrites the SDRs\r\n",
      " |      current value.\r\n",
      " |  \r\n",
      " |  ----------------------------------------------------------------------\r\n",
      " |  Data descriptors defined here:\r\n",
      " |  \r\n",
      " |  c\bco\boo\bor\brd\bdi\bin\bna\bat\bte\bes\bs\r\n",
      " |      List of numpy arrays, containing the coordinates of only the true values in\r\n",
      " |      the SDR.  This is a list of lists: the outter list contains an entry for each\r\n",
      " |      dimension in the SDR. The inner lists contain the coordinates of each true bit.\r\n",
      " |      The inner lists run in parallel. This format is useful because it contains the\r\n",
      " |      location of each true bit inside of the SDR's dimensional space.\r\n",
      " |      \r\n",
      " |      Coordinate data must be sorted and contain no duplicates.\r\n",
      " |  \r\n",
      " |  d\bde\ben\bns\bse\be\r\n",
      " |      A numpy array of boolean values, representing all of the bits in the SDR.\r\n",
      " |      This format allows random-access queries of the SDRs values.\r\n",
      " |      \r\n",
      " |      After modifying this array you MUST assign the array back into the SDR, in order\r\n",
      " |      to notify the SDR that its dense array has changed and its cached data is out of\r\n",
      " |      date.  If you did't copy this data, then SDR won't copy either.\r\n",
      " |  \r\n",
      " |  d\bdi\bim\bme\ben\bns\bsi\bio\bon\bns\bs\r\n",
      " |      A list of dimensions of the SDR.\r\n",
      " |  \r\n",
      " |  s\bsi\biz\bze\be\r\n",
      " |      The total number of boolean values in the SDR.\r\n",
      " |  \r\n",
      " |  s\bsp\bpa\bar\brs\bse\be\r\n",
      " |      A numpy array containing the indices of only the true values in the SDR.\r\n",
      " |      These are indices into the flattened SDR. This format allows for quickly\r\n",
      " |      accessing all of the true bits in the SDR.\r\n",
      " |      \r\n",
      " |      Sparse data must contain no duplicates.\r\n",
      " |  \r\n",
      " |  ----------------------------------------------------------------------\r\n",
      " |  Static methods inherited from pybind11_builtins.pybind11_object:\r\n",
      " |  \r\n",
      " |  _\b__\b_n\bne\bew\bw_\b__\b_(*args, **kwargs) from pybind11_builtins.pybind11_type\r\n",
      " |      Create and return a new object.  See help(type) for accurate signature.\r\n",
      "\r\n"
     ]
    }
   ],
   "source": [
    "!python3 -m pydoc htm.bindings.sdr.SDR"
   ]
  },
  {
   "cell_type": "markdown",
   "metadata": {},
   "source": [
    "### サンプルコード"
   ]
  },
  {
   "cell_type": "code",
   "execution_count": 2,
   "metadata": {},
   "outputs": [],
   "source": [
    "from htm.bindings.sdr import SDR\n",
    "import numpy as np # SDRはすべてのnumpy配列を使用します"
   ]
  },
  {
   "cell_type": "code",
   "execution_count": 3,
   "metadata": {},
   "outputs": [
    {
     "name": "stdout",
     "output_type": "stream",
     "text": [
      "SDR( 3, 3 )\n"
     ]
    }
   ],
   "source": [
    "# 9つの値を持つSDRを作成し、(3 x 3)グリッドに配置する\n",
    "X = SDR(dimensions = (3, 3))\n",
    "print(X)"
   ]
  },
  {
   "cell_type": "code",
   "execution_count": 4,
   "metadata": {},
   "outputs": [
    {
     "name": "stdout",
     "output_type": "stream",
     "text": [
      "[[0 1 0]\n",
      " [0 1 0]\n",
      " [0 0 1]]\n",
      "\n",
      "[1 4 8]\n",
      "\n",
      "[array([0, 1, 2], dtype=uint32), array([1, 1, 2], dtype=uint32)]\n"
     ]
    }
   ],
   "source": [
    "# この3つの記述は等価です\n",
    "X.dense  = np.array([[0, 1, 0], [0, 1, 0], [0, 0, 1]])\n",
    "X.sparse = np.array([ 1, 4, 8 ])\n",
    "X.coordinates = np.array([[0, 1, 2], [1, 1, 2]])\n",
    "\n",
    "print(X.dense)\n",
    "print(\"\")\n",
    "print(X.sparse)\n",
    "print(\"\")\n",
    "print(X.coordinates)"
   ]
  },
  {
   "cell_type": "markdown",
   "metadata": {},
   "source": [
    "### サンプルの可視化"
   ]
  },
  {
   "cell_type": "code",
   "execution_count": 5,
   "metadata": {},
   "outputs": [
    {
     "data": {
      "image/png": "[encoded data removed]",
      "text/plain": [
       "<Figure size 432x288 with 1 Axes>"
      ]
     },
     "metadata": {
      "needs_background": "light"
     },
     "output_type": "display_data"
    }
   ],
   "source": [
    "import matplotlib.pyplot as plt\n",
    "%matplotlib inline\n",
    "\n",
    "plt.imshow(X.dense, cmap = \"Greens\")\n",
    "plt.show()"
   ]
  },
  {
   "cell_type": "code",
   "execution_count": 6,
   "metadata": {},
   "outputs": [
    {
     "name": "stdout",
     "output_type": "stream",
     "text": [
      "[[0 1 0]\n",
      " [0 1 0]\n",
      " [0 0 1]]\n",
      "\n",
      "[1 4 8]\n",
      "\n",
      "[array([0, 1, 2], dtype=uint32), array([1, 1, 2], dtype=uint32)]\n"
     ]
    }
   ],
   "source": [
    "# 任意の形式でデータにアクセスした場合、SDRは自動的にデータ形式を変換します。\n",
    "X.dense ==  np.array([[0, 1, 0], [0, 1, 0], [0, 0, 1]])\n",
    "X.sparse == np.array([ 1, 4, 8 ])\n",
    "X.coordinates == np.array( [[0, 1, 2], [1, 1, 2]])\n",
    "\n",
    "print(X.dense)\n",
    "print(\"\")\n",
    "print(X.sparse)\n",
    "print(\"\")\n",
    "print(X.coordinates)"
   ]
  },
  {
   "cell_type": "code",
   "execution_count": 7,
   "metadata": {},
   "outputs": [
    {
     "name": "stdout",
     "output_type": "stream",
     "text": [
      "[1 2 3]\n",
      "\n",
      "[[0 1 1]\n",
      " [1 0 0]\n",
      " [0 0 0]]\n",
      "\n",
      "[[0 1 1]\n",
      " [1 0 0]\n",
      " [0 0 0]]\n"
     ]
    }
   ],
   "source": [
    "# データフォーマット変換はキャッシュされ, SDRの値が変更されるとキャッシュはクリアされます.\n",
    "X.sparse = [1, 2, 3] # 新しいデータをSDRに割り当て、キャッシュをクリアする。\n",
    "X.dense     # この行はフォーマットを変換します\n",
    "X.dense     # この行は前の行の結果を再利用します.\n",
    "\n",
    "print(X.sparse)\n",
    "print(\"\")\n",
    "print(X.dense)\n",
    "print(\"\")\n",
    "print(X.dense)"
   ]
  },
  {
   "cell_type": "code",
   "execution_count": 8,
   "metadata": {},
   "outputs": [
    {
     "name": "stdout",
     "output_type": "stream",
     "text": [
      "[0 0 0 1 0 1 0 1 1 0 0 0 0 0 0]\n"
     ]
    }
   ],
   "source": [
    "import numpy as np\n",
    "from htm.bindings.sdr import SDR\n",
    "\n",
    "sample=np.array([0, 0, 0, 1, 0, 1, 0, 1, 1, 0, 0, 0, 0, 0, 0])\n",
    "print(sample)"
   ]
  },
  {
   "cell_type": "code",
   "execution_count": 9,
   "metadata": {},
   "outputs": [
    {
     "name": "stdout",
     "output_type": "stream",
     "text": [
      "(15,)\n"
     ]
    }
   ],
   "source": [
    "print(sample.shape)"
   ]
  },
  {
   "cell_type": "code",
   "execution_count": 10,
   "metadata": {},
   "outputs": [
    {
     "name": "stdout",
     "output_type": "stream",
     "text": [
      "SDR( 15 )\n"
     ]
    }
   ],
   "source": [
    "inputSDR = SDR( sample.shape )\n",
    "print(inputSDR)"
   ]
  },
  {
   "cell_type": "code",
   "execution_count": 11,
   "metadata": {},
   "outputs": [
    {
     "name": "stdout",
     "output_type": "stream",
     "text": [
      "[0 0 0 1 0 1 0 1 1 0 0 0 0 0 0]\n",
      "15\n"
     ]
    }
   ],
   "source": [
    "inputSDR.dense=sample\n",
    "print(inputSDR.dense)\n",
    "print(inputSDR.dense.shape[0])"
   ]
  },
  {
   "cell_type": "code",
   "execution_count": 13,
   "metadata": {},
   "outputs": [
    {
     "name": "stdout",
     "output_type": "stream",
     "text": [
      "SDR( 15 ) 3, 5, 7, 8\n"
     ]
    }
   ],
   "source": [
    "print(inputSDR)"
   ]
  },
  {
   "cell_type": "code",
   "execution_count": 14,
   "metadata": {},
   "outputs": [
    {
     "name": "stdout",
     "output_type": "stream",
     "text": [
      "[[0 0 0 1 0 1 0 1 1 0 0 0 0 0 0]]\n"
     ]
    },
    {
     "data": {
      "image/png": "[encoded data removed]",
      "text/plain": [
       "<Figure size 432x288 with 1 Axes>"
      ]
     },
     "metadata": {
      "needs_background": "light"
     },
     "output_type": "display_data"
    }
   ],
   "source": [
    "import matplotlib.pyplot as plt\n",
    "%matplotlib inline\n",
    "sampleSDR=np.reshape(inputSDR.dense,(1,inputSDR.dense.shape[0]))\n",
    "print(sampleSDR)\n",
    "\n",
    "plt.imshow(sampleSDR, cmap = \"Greens\")\n",
    "plt.show()"
   ]
  },
  {
   "cell_type": "code",
   "execution_count": 15,
   "metadata": {},
   "outputs": [
    {
     "name": "stdout",
     "output_type": "stream",
     "text": [
      "[[0 0 0 1 0 1 0 1 1 0 0 0 0 0 0]]\n"
     ]
    },
    {
     "data": {
      "image/png": "[encoded data removed]",
      "text/plain": [
       "<Figure size 432x288 with 1 Axes>"
      ]
     },
     "metadata": {
      "needs_background": "light"
     },
     "output_type": "display_data"
    }
   ],
   "source": [
    "import matplotlib.pyplot as plt\n",
    "%matplotlib inline\n",
    "sampleSDR=inputSDR.dense.reshape(1,inputSDR.dense.shape[0])\n",
    "print(sampleSDR)\n",
    "\n",
    "plt.imshow(sampleSDR, cmap = \"Greens\")\n",
    "plt.show()"
   ]
  },
  {
   "cell_type": "markdown",
   "metadata": {},
   "source": [
    "## SDRの測定ツール"
   ]
  },
  {
   "cell_type": "markdown",
   "metadata": {},
   "source": [
    "### ドキュメント"
   ]
  },
  {
   "cell_type": "code",
   "execution_count": 1,
   "metadata": {},
   "outputs": [
    {
     "name": "stdout",
     "output_type": "stream",
     "text": [
      "Help on class Metrics in htm.bindings.sdr:\r\n",
      "\r\n",
      "h\bht\btm\bm.\b.b\bbi\bin\bnd\bdi\bin\bng\bgs\bs.\b.s\bsd\bdr\br.\b.M\bMe\bet\btr\bri\bic\bcs\bs = class Metrics(pybind11_builtins.pybind11_object)\r\n",
      " |  Measures an SDR.  This applies the following three metrics:\r\n",
      " |       Sparsity\r\n",
      " |       ActivationFrequency\r\n",
      " |       Overlap\r\n",
      " |  This accumulates measurements using an exponential moving average, and\r\n",
      " |  outputs a summary of results.\r\n",
      " |  \r\n",
      " |  Example Usage:\r\n",
      " |      A = SDR( dimensions = 2000 )\r\n",
      " |      M = Metrics( A, period = 1000 )\r\n",
      " |      A.randomize( 0.10 )\r\n",
      " |      for i in range( 20 ):\r\n",
      " |          A.addNoise( 0.55 )\r\n",
      " |  \r\n",
      " |      M.sparsity            -> Sparsity class instance\r\n",
      " |      M.activationFrequency -> ActivationFrequency class instance\r\n",
      " |      M.overlap             -> Overlap class instance\r\n",
      " |      str(M) -> SDR( 2000 )\r\n",
      " |                  Sparsity Min/Mean/Std/Max 0.1 / 0.1 / 0 / 0.1\r\n",
      " |                  Activation Frequency Min/Mean/Std/Max 0 / 0.1 / 0.100464 / 0.666667\r\n",
      " |                  Entropy 0.822222\r\n",
      " |                  Overlap Min/Mean/Std/Max 0.45 / 0.45 / 0 / 0.45\r\n",
      " |  \r\n",
      " |  Method resolution order:\r\n",
      " |      Metrics\r\n",
      " |      pybind11_builtins.pybind11_object\r\n",
      " |      builtins.object\r\n",
      " |  \r\n",
      " |  Methods defined here:\r\n",
      " |  \r\n",
      " |  _\b__\b_i\bin\bni\bit\bt_\b__\b_(...)\r\n",
      " |      __init__(*args, **kwargs)\r\n",
      " |      Overloaded function.\r\n",
      " |      \r\n",
      " |      1. __init__(self: htm.bindings.sdr.Metrics, sdr: htm.bindings.sdr.SDR, period: int) -> None\r\n",
      " |      \r\n",
      " |      Argument sdr is data source to track.  Add data to this Metrics instance\r\n",
      " |      by assigning to this SDR.\r\n",
      " |      \r\n",
      " |      Argument period is time constant for exponential moving average.\r\n",
      " |      \r\n",
      " |      2. __init__(self: htm.bindings.sdr.Metrics, dimensions: List[int], period: int) -> None\r\n",
      " |      \r\n",
      " |      Argument dimensions of SDR.  Add data to this Metrics instance\r\n",
      " |      by calling method metrics.addData( SDR ) with an SDR which has these dimensions.\r\n",
      " |      \r\n",
      " |      Argument period is time constant for exponential moving average.\r\n",
      " |  \r\n",
      " |  _\b__\b_s\bst\btr\br_\b__\b_(...)\r\n",
      " |      __str__(self: htm.bindings.sdr.Metrics) -> object\r\n",
      " |  \r\n",
      " |  a\bad\bdd\bdD\bDa\bat\bta\ba(...)\r\n",
      " |      addData(self: htm.bindings.sdr.Metrics, sdr: htm.bindings.sdr.SDR) -> None\r\n",
      " |      \r\n",
      " |      Add an SDR datum to these Metrics.  This method can only be called if\r\n",
      " |      Metrics was constructed with dimensions and NOT an SDR.\r\n",
      " |      \r\n",
      " |      Argument sdr is data source, its dimensions must be the same as this Metric's\r\n",
      " |      dimensions.\r\n",
      " |  \r\n",
      " |  r\bre\bes\bse\bet\bt(...)\r\n",
      " |      reset(self: htm.bindings.sdr.Metrics) -> None\r\n",
      " |      \r\n",
      " |      For use with time-series data sets.\r\n",
      " |  \r\n",
      " |  ----------------------------------------------------------------------\r\n",
      " |  Data descriptors defined here:\r\n",
      " |  \r\n",
      " |  a\bac\bct\bti\biv\bva\bat\bti\bio\bon\bnF\bFr\bre\beq\bqu\bue\ben\bnc\bcy\by\r\n",
      " |  \r\n",
      " |  d\bdi\bim\bme\ben\bns\bsi\bio\bon\bns\bs\r\n",
      " |  \r\n",
      " |  o\bov\bve\ber\brl\bla\bap\bp\r\n",
      " |  \r\n",
      " |  s\bsp\bpa\bar\brs\bsi\bit\bty\by\r\n",
      " |  \r\n",
      " |  ----------------------------------------------------------------------\r\n",
      " |  Static methods inherited from pybind11_builtins.pybind11_object:\r\n",
      " |  \r\n",
      " |  _\b__\b_n\bne\bew\bw_\b__\b_(*args, **kwargs) from pybind11_builtins.pybind11_type\r\n",
      " |      Create and return a new object.  See help(type) for accurate signature.\r\n",
      "\r\n"
     ]
    }
   ],
   "source": [
    "!python3 -m pydoc htm.bindings.sdr.Metrics"
   ]
  },
  {
   "cell_type": "code",
   "execution_count": 16,
   "metadata": {},
   "outputs": [
    {
     "name": "stdout",
     "output_type": "stream",
     "text": [
      "SDR( 2000 )\n",
      "    Sparsity Min/Mean/Std/Max 0.1 / 0.0999919 / 1.15105e-05 / 0.1\n",
      "\r",
      "    Activation Frequency Min/Mean/Std/Max 0 / 0.0999997 / 0.174163 / 1\n",
      "\r",
      "    Entropy 0.525727\n",
      "\r",
      "    Overlap Min/Mean/Std/Max 0.095 / 0.0974878 / 0.00248779 / 0.1\n"
     ]
    }
   ],
   "source": [
    "from htm.bindings.sdr import SDR, Metrics\n",
    "A = SDR( 2000 )\n",
    "M = Metrics( A, period = 1000 )  #  これは自動的に SDR A を追跡します\n",
    "for i in range( 3 ):\n",
    "    A.randomize( sparsity = .10 )\n",
    "    #print(A)\n",
    "print( M )"
   ]
  },
  {
   "cell_type": "code",
   "execution_count": 17,
   "metadata": {},
   "outputs": [
    {
     "name": "stdout",
     "output_type": "stream",
     "text": [
      "2000\n"
     ]
    },
    {
     "data": {
      "image/png": "[encoded data removed]",
      "text/plain": [
       "<Figure size 432x288 with 1 Axes>"
      ]
     },
     "metadata": {
      "needs_background": "light"
     },
     "output_type": "display_data"
    }
   ],
   "source": [
    "import numpy as np\n",
    "import matplotlib.pyplot as plt\n",
    "%matplotlib inline\n",
    "print(A.dense.shape[0])\n",
    "sampleSDR=np.reshape(A.dense,(40,50))\n",
    "#print(sampleSDR)\n",
    "\n",
    "plt.imshow(sampleSDR, cmap = \"Greens\")\n",
    "plt.show()"
   ]
  },
  {
   "cell_type": "code",
   "execution_count": 18,
   "metadata": {},
   "outputs": [
    {
     "name": "stdout",
     "output_type": "stream",
     "text": [
      "2000\n"
     ]
    },
    {
     "data": {
      "image/png": "[encoded data removed]",
      "text/plain": [
       "<Figure size 432x288 with 1 Axes>"
      ]
     },
     "metadata": {
      "needs_background": "light"
     },
     "output_type": "display_data"
    }
   ],
   "source": [
    "import numpy as np\n",
    "import matplotlib.pyplot as plt\n",
    "%matplotlib inline\n",
    "print(A.dense.shape[0])\n",
    "sampleSDR=A.dense.reshape(40,50)\n",
    "#print(sampleSDR)\n",
    "\n",
    "plt.imshow(sampleSDR, cmap = \"Greens\")\n",
    "plt.show()"
   ]
  },
  {
   "cell_type": "code",
   "execution_count": 21,
   "metadata": {},
   "outputs": [
    {
     "data": {
      "image/png": "[encoded data removed]",
      "text/plain": [
       "<Figure size 432x288 with 1 Axes>"
      ]
     },
     "metadata": {
      "needs_background": "light"
     },
     "output_type": "display_data"
    },
    {
     "name": "stdout",
     "output_type": "stream",
     "text": [
      "SDR( 2000 )\n",
      "    Sparsity Min/Mean/Std/Max 0.1 / 0.0999976 / 7.32675e-06 / 0.1\n",
      "\r",
      "    Activation Frequency Min/Mean/Std/Max 0 / 0.1 / 0.0962812 / 0.5\n",
      "\r",
      "    Entropy 0.81527\n",
      "\r",
      "    Overlap Min/Mean/Std/Max 0.08 / 0.103331 / 0.0135398 / 0.13\n"
     ]
    }
   ],
   "source": [
    "from htm.bindings.sdr import SDR, Metrics\n",
    "import numpy as np\n",
    "import matplotlib.pyplot as plt\n",
    "from IPython.display import display, clear_output\n",
    "%matplotlib inline\n",
    "\n",
    "A = SDR( 2000 )\n",
    "M = Metrics( A, period = 1000 )  #  これは自動的に SDR A を追跡します\n",
    "for i in range( 10 ):\n",
    "    A.randomize( sparsity = .10 )\n",
    "    sampleSDR=np.reshape(A.dense,(40,50))\n",
    "\n",
    "    clear_output(wait = True)\n",
    "    plt.cla\n",
    "    plt.imshow(sampleSDR, cmap = \"Greens\")\n",
    "    plt.pause(0.01)\n",
    "\n",
    "print( M )"
   ]
  },
  {
   "cell_type": "code",
   "execution_count": 22,
   "metadata": {},
   "outputs": [
    {
     "name": "stdout",
     "output_type": "stream",
     "text": [
      "SDR( 2000 )\n",
      "    Sparsity Min/Mean/Std/Max 0.1 / 0.0999989 / 5.20038e-06 / 0.1\n",
      "\r",
      "    Activation Frequency Min/Mean/Std/Max 0 / 0.100001 / 0.0959263 / 0.619048\n",
      "\r",
      "    Entropy 0.832841\n",
      "\r",
      "    Overlap Min/Mean/Std/Max 0.45 / 0.449998 / 1.06406e-05 / 0.45\n"
     ]
    }
   ],
   "source": [
    "A = SDR( dimensions = 2000 )\n",
    "M = Metrics( A, period = 1000 )\n",
    "A.randomize( 0.10 )\n",
    "for i in range( 20 ):\n",
    "    A.addNoise( 0.55 )\n",
    "print( M )"
   ]
  },
  {
   "cell_type": "markdown",
   "metadata": {},
   "source": [
    "## SDRのメトリクス"
   ]
  },
  {
   "cell_type": "markdown",
   "metadata": {},
   "source": [
    "### ドキュメント"
   ]
  },
  {
   "cell_type": "code",
   "execution_count": 2,
   "metadata": {},
   "outputs": [
    {
     "name": "stdout",
     "output_type": "stream",
     "text": [
      "Help on class Sparsity in htm.bindings.sdr:\r\n",
      "\r\n",
      "h\bht\btm\bm.\b.b\bbi\bin\bnd\bdi\bin\bng\bgs\bs.\b.s\bsd\bdr\br.\b.S\bSp\bpa\bar\brs\bsi\bit\bty\by = class Sparsity(MetricsHelper_)\r\n",
      " |  Measures the sparsity of an SDR.  This accumulates measurements using an\r\n",
      " |  exponential moving average, and outputs a summary of results.\r\n",
      " |  \r\n",
      " |  Example Usage:\r\n",
      " |      A = SDR( dimensions )\r\n",
      " |      B = Sparsity( A, period = 1000 )\r\n",
      " |      A.randomize( 0.01 )\r\n",
      " |      A.randomize( 0.15 )\r\n",
      " |      A.randomize( 0.05 )\r\n",
      " |      B.sparsity ->  0.05\r\n",
      " |      B.min()    ->  0.01\r\n",
      " |      B.max()    ->  0.15\r\n",
      " |      B.mean()   -> ~0.07\r\n",
      " |      B.std()    -> ~0.06\r\n",
      " |      str(B)     -> Sparsity Min/Mean/Std/Max 0.01 / 0.0700033 / 0.0588751 / 0.15\r\n",
      " |  \r\n",
      " |  Method resolution order:\r\n",
      " |      Sparsity\r\n",
      " |      MetricsHelper_\r\n",
      " |      pybind11_builtins.pybind11_object\r\n",
      " |      builtins.object\r\n",
      " |  \r\n",
      " |  Methods defined here:\r\n",
      " |  \r\n",
      " |  _\b__\b_i\bin\bni\bit\bt_\b__\b_(...)\r\n",
      " |      __init__(*args, **kwargs)\r\n",
      " |      Overloaded function.\r\n",
      " |      \r\n",
      " |      1. __init__(self: htm.bindings.sdr.Sparsity, sdr: htm.bindings.sdr.SDR, period: int) -> None\r\n",
      " |      \r\n",
      " |      Argument sdr is data source is to track.  Add data to this sparsity metric by\r\n",
      " |      assigning to this SDR.\r\n",
      " |      \r\n",
      " |      Argument period is time constant for exponential moving average.\r\n",
      " |      \r\n",
      " |      2. __init__(self: htm.bindings.sdr.Sparsity, dimensions: List[int], period: int) -> None\r\n",
      " |      \r\n",
      " |      Argument dimensions of SDR.  Add data to this sparsity metric by calling method\r\n",
      " |      sparsity.addData( SDR ) with an SDR which has these dimensions.\r\n",
      " |      \r\n",
      " |      Argument period is time constant for exponential moving average.\r\n",
      " |  \r\n",
      " |  _\b__\b_s\bst\btr\br_\b__\b_(...)\r\n",
      " |      __str__(self: htm.bindings.sdr.Sparsity) -> object\r\n",
      " |  \r\n",
      " |  m\bma\bax\bx(...)\r\n",
      " |      max(self: htm.bindings.sdr.Sparsity) -> float\r\n",
      " |      \r\n",
      " |      Maximum Sparsity\r\n",
      " |  \r\n",
      " |  m\bme\bea\ban\bn(...)\r\n",
      " |      mean(self: htm.bindings.sdr.Sparsity) -> float\r\n",
      " |      \r\n",
      " |      Average of Sparsity\r\n",
      " |  \r\n",
      " |  m\bmi\bin\bn(...)\r\n",
      " |      min(self: htm.bindings.sdr.Sparsity) -> float\r\n",
      " |      \r\n",
      " |      Minimum Sparsity\r\n",
      " |  \r\n",
      " |  s\bst\btd\bd(...)\r\n",
      " |      std(self: htm.bindings.sdr.Sparsity) -> float\r\n",
      " |      \r\n",
      " |      Standard Deviation of Sparsity\r\n",
      " |  \r\n",
      " |  ----------------------------------------------------------------------\r\n",
      " |  Data descriptors defined here:\r\n",
      " |  \r\n",
      " |  s\bsp\bpa\bar\brs\bsi\bit\bty\by\r\n",
      " |      Current Sparsity, or sparsity of most recently added SDR.\r\n",
      " |  \r\n",
      " |  ----------------------------------------------------------------------\r\n",
      " |  Methods inherited from MetricsHelper_:\r\n",
      " |  \r\n",
      " |  a\bad\bdd\bdD\bDa\bat\bta\ba(...)\r\n",
      " |      addData(self: htm.bindings.sdr.MetricsHelper_, arg0: htm.bindings.sdr.SDR) -> None\r\n",
      " |      \r\n",
      " |      Add an SDR datum to this Metric.  This method can only be called if the\r\n",
      " |      Metric was constructed with dimensions and NOT an SDR.\r\n",
      " |      \r\n",
      " |      Argument sdr is data source, its dimensions must be the same as this Metric's\r\n",
      " |      dimensions.\r\n",
      " |  \r\n",
      " |  ----------------------------------------------------------------------\r\n",
      " |  Data descriptors inherited from MetricsHelper_:\r\n",
      " |  \r\n",
      " |  d\bdi\bim\bme\ben\bns\bsi\bio\bon\bns\bs\r\n",
      " |      Shape of the SDR data source.\r\n",
      " |  \r\n",
      " |  p\bpe\ber\bri\bio\bod\bd\r\n",
      " |      Time constant for the exponential moving average which incorporate data into\r\n",
      " |      this measurement.  If there are fewer data samples than the period then a regular\r\n",
      " |      average is used instead of an exponential moving average.\r\n",
      " |  \r\n",
      " |  s\bsa\bam\bmp\bpl\ble\bes\bs\r\n",
      " |      Number of data samples received & incorporated into this measurement.\r\n",
      " |  \r\n",
      " |  ----------------------------------------------------------------------\r\n",
      " |  Static methods inherited from pybind11_builtins.pybind11_object:\r\n",
      " |  \r\n",
      " |  _\b__\b_n\bne\bew\bw_\b__\b_(*args, **kwargs) from pybind11_builtins.pybind11_type\r\n",
      " |      Create and return a new object.  See help(type) for accurate signature.\r\n",
      "\r\n"
     ]
    }
   ],
   "source": [
    "!python3 -m pydoc htm.bindings.sdr.Sparsity"
   ]
  },
  {
   "cell_type": "code",
   "execution_count": 3,
   "metadata": {},
   "outputs": [
    {
     "name": "stdout",
     "output_type": "stream",
     "text": [
      "Help on class ActivationFrequency in htm.bindings.sdr:\n",
      "\n",
      "htm.bindings.sdr.ActivationFrequency = class ActivationFrequency(MetricsHelper_)\n",
      " |  Measures the activation frequency of each value in an SDR.  This accumulates\n",
      " |  measurements using an exponential moving average, and outputs a summary of\n",
      " |  results.\n",
      " |  \n",
      " |  Activation frequencies are Real numbers in the range [0, 1], where zero\n",
      " |  indicates never active, and one indicates always active.\n",
      " |  Example Usage:\n",
      " |      A = SDR( 2 )\n",
      " |      B = ActivationFrequency( A, period = 1000 )\n",
      " |      A.dense = [0, 0]\n",
      " |      A.dense = [0, 1]\n",
      " |      A.dense = [1, 1]\n",
      " |      B.activationFrequency -> { 0.33, 0.66 }\n",
      " |      B.min()     -> 1/3\n",
      " |      B.max()     -> 2/3\n",
      " |      B.mean()    -> 1/2\n",
      " |      B.std()     -> ~0.16\n",
      " |      B.entropy() -> ~0.92\n",
      " |      str(B)      -> Activation Frequency Min/Mean/Std/Max 0.333333 / 0.5 / 0.166667 / 0.666667\n",
      " |                     Entropy 0.918296\n",
      " |  \n",
      " |  Method resolution order:\n",
      " |      ActivationFrequency\n",
      " |      MetricsHelper_\n",
      " |      pybind11_builtins.pybind11_object\n",
      " |      builtins.object\n",
      " |  \n",
      " |  Methods defined here:\n",
      " |  \n",
      " |  __init__(...)\n",
      " |      __init__(*args, **kwargs)\n",
      " |      Overloaded function.\n",
      " |      \n",
      " |      1. __init__(self: htm.bindings.sdr.ActivationFrequency, sdr: htm.bindings.sdr.SDR, period: int, initialValue: float = -1) -> None\n",
      " |      \n",
      " |      Argument sdr is data source to track.  Add data to this ActivationFrequency\n",
      " |      instance by assigning to this SDR.\n",
      " |      \n",
      " |      Argument period is time constant for exponential moving average.\n",
      " |      \n",
      " |      Argument initialValue is Optional.  Makes this ActivationFrequency instance\n",
      " |      think that it is the result of a long running process (even though it was just\n",
      " |      created).  This assigns an initial activation frequency to all bits in the SDR,\n",
      " |      and causes it to always use the exponential moving average instead of the\n",
      " |      regular average which is usually applied to the first \"period\" many samples.\n",
      " |      \n",
      " |      Note: This argument is useful for using this metric as part of boosting\n",
      " |            algorithms which seek to push the activation frequencies to a target\n",
      " |            value. These algorithms will overreact to the default early behavior of\n",
      " |            this class during the first \"period\" many samples.\n",
      " |      \n",
      " |      \n",
      " |      2. __init__(self: htm.bindings.sdr.ActivationFrequency, dimensions: List[int], period: int, initialValue: float = -1) -> None\n",
      " |      \n",
      " |      Argument dimensions of SDR.  Add data to this ActivationFrequency\n",
      " |      instance by calling method af.addData( SDR ) with an SDR which has\n",
      " |      these dimensions.\n",
      " |      \n",
      " |      Argument period is time constant for exponential moving average.\n",
      " |  \n",
      " |  __str__(...)\n",
      " |      __str__(self: htm.bindings.sdr.ActivationFrequency) -> object\n",
      " |  \n",
      " |  entropy(...)\n",
      " |      entropy(self: htm.bindings.sdr.ActivationFrequency) -> float\n",
      " |      \n",
      " |      Binary entropy is a measurement of information.  It measures how well the\n",
      " |      SDR utilizes its resources (bits).  A low entropy indicates that many\n",
      " |      bits in the SDR are under-utilized and do not transmit as much\n",
      " |      information as they could.  A high entropy indicates that the SDR\n",
      " |      optimally utilizes its resources.  The most optimal use of SDR resources\n",
      " |      is when all bits have an equal activation frequency.  For convenience,\n",
      " |      the entropy is scaled by the theoretical maximum into the range [0, 1].\n",
      " |      \n",
      " |      Returns binary entropy of SDR, scaled to range [0, 1].\n",
      " |  \n",
      " |  max(...)\n",
      " |      max(self: htm.bindings.sdr.ActivationFrequency) -> float\n",
      " |      \n",
      " |      Maximum of Activation Frequencies\n",
      " |  \n",
      " |  mean(...)\n",
      " |      mean(self: htm.bindings.sdr.ActivationFrequency) -> float\n",
      " |      \n",
      " |      Average of Activation Frequencies\n",
      " |  \n",
      " |  min(...)\n",
      " |      min(self: htm.bindings.sdr.ActivationFrequency) -> float\n",
      " |      \n",
      " |      Minimum of Activation Frequencies\n",
      " |  \n",
      " |  std(...)\n",
      " |      std(self: htm.bindings.sdr.ActivationFrequency) -> float\n",
      " |      \n",
      " |      Standard Deviation of Activation Frequencies\n",
      " |  \n",
      " |  ----------------------------------------------------------------------\n",
      " |  Data descriptors defined here:\n",
      " |  \n",
      " |  activationFrequency\n",
      " |      Data Buffer of Activation Frequencies\n",
      " |  \n",
      " |  ----------------------------------------------------------------------\n",
      " |  Methods inherited from MetricsHelper_:\n",
      " |  \n",
      " |  addData(...)\n",
      " |      addData(self: htm.bindings.sdr.MetricsHelper_, arg0: htm.bindings.sdr.SDR) -> None\n",
      " |      \n",
      " |      Add an SDR datum to this Metric.  This method can only be called if the\n",
      " |      Metric was constructed with dimensions and NOT an SDR.\n",
      " |      \n",
      " |      Argument sdr is data source, its dimensions must be the same as this Metric's\n",
      " |      dimensions.\n",
      " |  \n",
      " |  ----------------------------------------------------------------------\n",
      " |  Data descriptors inherited from MetricsHelper_:\n",
      " |  \n",
      " |  dimensions\n",
      " |      Shape of the SDR data source.\n",
      " |  \n",
      " |  period\n",
      " |      Time constant for the exponential moving average which incorporate data into\n",
      " |      this measurement.  If there are fewer data samples than the period then a regular\n",
      " |      average is used instead of an exponential moving average.\n",
      " |  \n",
      " |  samples\n",
      " |      Number of data samples received & incorporated into this measurement.\n",
      " |  \n",
      " |  ----------------------------------------------------------------------\n",
      " |  Static methods inherited from pybind11_builtins.pybind11_object:\n",
      " |  \n",
      " |  __new__(*args, **kwargs) from pybind11_builtins.pybind11_type\n",
      " |      Create and return a new object.  See help(type) for accurate signature.\n",
      "\n"
     ]
    }
   ],
   "source": [
    "!python3 -m pydoc htm.bindings.sdr.ActivationFrequency"
   ]
  },
  {
   "cell_type": "code",
   "execution_count": 4,
   "metadata": {},
   "outputs": [
    {
     "name": "stdout",
     "output_type": "stream",
     "text": [
      "Help on class Overlap in htm.bindings.sdr:\r\n",
      "\r\n",
      "h\bht\btm\bm.\b.b\bbi\bin\bnd\bdi\bin\bng\bgs\bs.\b.s\bsd\bdr\br.\b.O\bOv\bve\ber\brl\bla\bap\bp = class Overlap(MetricsHelper_)\r\n",
      " |  Measures the overlap between successive assignments to an SDR.  This class\r\n",
      " |  accumulates measurements using an exponential moving average, and outputs a\r\n",
      " |  summary of results.\r\n",
      " |  \r\n",
      " |  This class normalizes the overlap into the range [0, 1] by dividing by the\r\n",
      " |  number of active values.\r\n",
      " |  \r\n",
      " |  Example Usage:\r\n",
      " |      A = SDR( dimensions = 1000 )\r\n",
      " |      B = Overlap( A, period = 1000 )\r\n",
      " |      A.randomize( 0.20 )\r\n",
      " |      A.addNoise( 0.95 )  ->  5% overlap\r\n",
      " |      A.addNoise( 0.55 )  -> 45% overlap\r\n",
      " |      A.addNoise( 0.72 )  -> 28% overlap\r\n",
      " |      B.overlap   ->  0.28\r\n",
      " |      B.min()     ->  0.05\r\n",
      " |      B.max()     ->  0.45\r\n",
      " |      B.mean()    ->  0.26\r\n",
      " |      B.std()     -> ~0.16\r\n",
      " |      str(B)      -> Overlap Min/Mean/Std/Max 0.05 / 0.260016 / 0.16389 / 0.45\r\n",
      " |  \r\n",
      " |  Method resolution order:\r\n",
      " |      Overlap\r\n",
      " |      MetricsHelper_\r\n",
      " |      pybind11_builtins.pybind11_object\r\n",
      " |      builtins.object\r\n",
      " |  \r\n",
      " |  Methods defined here:\r\n",
      " |  \r\n",
      " |  _\b__\b_i\bin\bni\bit\bt_\b__\b_(...)\r\n",
      " |      __init__(*args, **kwargs)\r\n",
      " |      Overloaded function.\r\n",
      " |      \r\n",
      " |      1. __init__(self: htm.bindings.sdr.Overlap, sdr: htm.bindings.sdr.SDR, period: int) -> None\r\n",
      " |      \r\n",
      " |      Argument sdr is data source to track.  Add data to this Overlap instance\r\n",
      " |      by assigning to this SDR.\r\n",
      " |      \r\n",
      " |      Argument period is time constant for exponential moving average.\r\n",
      " |      \r\n",
      " |      2. __init__(self: htm.bindings.sdr.Overlap, dimensions: List[int], period: int) -> None\r\n",
      " |      \r\n",
      " |      Argument dimensions of SDR.  Add data to this Overlap instance\r\n",
      " |      by calling method overlap.addData( SDR ) with an SDR which has these dimensions.\r\n",
      " |      \r\n",
      " |      Argument period is time constant for exponential moving average.\r\n",
      " |  \r\n",
      " |  _\b__\b_s\bst\btr\br_\b__\b_(...)\r\n",
      " |      __str__(self: htm.bindings.sdr.Overlap) -> object\r\n",
      " |  \r\n",
      " |  m\bma\bax\bx(...)\r\n",
      " |      max(self: htm.bindings.sdr.Overlap) -> float\r\n",
      " |      \r\n",
      " |      Maximum Overlap\r\n",
      " |  \r\n",
      " |  m\bme\bea\ban\bn(...)\r\n",
      " |      mean(self: htm.bindings.sdr.Overlap) -> float\r\n",
      " |      \r\n",
      " |      Average Overlap\r\n",
      " |  \r\n",
      " |  m\bmi\bin\bn(...)\r\n",
      " |      min(self: htm.bindings.sdr.Overlap) -> float\r\n",
      " |      \r\n",
      " |      Minimum Overlap\r\n",
      " |  \r\n",
      " |  r\bre\bes\bse\bet\bt(...)\r\n",
      " |      reset(self: htm.bindings.sdr.Overlap) -> None\r\n",
      " |      \r\n",
      " |      For use with time-series data sets.\r\n",
      " |  \r\n",
      " |  s\bst\btd\bd(...)\r\n",
      " |      std(self: htm.bindings.sdr.Overlap) -> float\r\n",
      " |      \r\n",
      " |      Standard Deviation of Overlap\r\n",
      " |  \r\n",
      " |  ----------------------------------------------------------------------\r\n",
      " |  Data descriptors defined here:\r\n",
      " |  \r\n",
      " |  o\bov\bve\ber\brl\bla\bap\bp\r\n",
      " |      Overlap between the two most recently added SDRs.\r\n",
      " |  \r\n",
      " |  ----------------------------------------------------------------------\r\n",
      " |  Methods inherited from MetricsHelper_:\r\n",
      " |  \r\n",
      " |  a\bad\bdd\bdD\bDa\bat\bta\ba(...)\r\n",
      " |      addData(self: htm.bindings.sdr.MetricsHelper_, arg0: htm.bindings.sdr.SDR) -> None\r\n",
      " |      \r\n",
      " |      Add an SDR datum to this Metric.  This method can only be called if the\r\n",
      " |      Metric was constructed with dimensions and NOT an SDR.\r\n",
      " |      \r\n",
      " |      Argument sdr is data source, its dimensions must be the same as this Metric's\r\n",
      " |      dimensions.\r\n",
      " |  \r\n",
      " |  ----------------------------------------------------------------------\r\n",
      " |  Data descriptors inherited from MetricsHelper_:\r\n",
      " |  \r\n",
      " |  d\bdi\bim\bme\ben\bns\bsi\bio\bon\bns\bs\r\n",
      " |      Shape of the SDR data source.\r\n",
      " |  \r\n",
      " |  p\bpe\ber\bri\bio\bod\bd\r\n",
      " |      Time constant for the exponential moving average which incorporate data into\r\n",
      " |      this measurement.  If there are fewer data samples than the period then a regular\r\n",
      " |      average is used instead of an exponential moving average.\r\n",
      " |  \r\n",
      " |  s\bsa\bam\bmp\bpl\ble\bes\bs\r\n",
      " |      Number of data samples received & incorporated into this measurement.\r\n",
      " |  \r\n",
      " |  ----------------------------------------------------------------------\r\n",
      " |  Static methods inherited from pybind11_builtins.pybind11_object:\r\n",
      " |  \r\n",
      " |  _\b__\b_n\bne\bew\bw_\b__\b_(*args, **kwargs) from pybind11_builtins.pybind11_type\r\n",
      " |      Create and return a new object.  See help(type) for accurate signature.\r\n",
      "\r\n"
     ]
    }
   ],
   "source": [
    "!python3 -m pydoc htm.bindings.sdr.Overlap"
   ]
  },
  {
   "cell_type": "code",
   "execution_count": null,
   "metadata": {},
   "outputs": [],
   "source": []
  }
 ],
 "metadata": {
  "kernelspec": {
   "display_name": "Python 3.7.1 64-bit",
   "language": "python",
   "name": "python37164biteddaa04d9bd6403f87a9a26eeb0f918e"
  },
  "language_info": {
   "codemirror_mode": {
    "name": "ipython",
    "version": 3
   },
   "file_extension": ".py",
   "mimetype": "text/x-python",
   "name": "python",
   "nbconvert_exporter": "python",
   "pygments_lexer": "ipython3",
   "version": "3.7.1"
  }
 },
 "nbformat": 4,
 "nbformat_minor": 2
}
