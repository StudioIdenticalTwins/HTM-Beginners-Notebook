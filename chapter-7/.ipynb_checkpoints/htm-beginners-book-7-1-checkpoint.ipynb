{
 "cells": [
  {
   "cell_type": "markdown",
   "metadata": {},
   "source": [
    "## pretty_midi"
   ]
  },
  {
   "cell_type": "code",
   "execution_count": 10,
   "metadata": {},
   "outputs": [],
   "source": [
    "import pretty_midi\n",
    "# Create a PrettyMIDI object\n",
    "cello_c_chord = pretty_midi.PrettyMIDI()\n",
    "# Create an Instrument instance for a cello instrument\n",
    "cello_program = pretty_midi.instrument_name_to_program('Cello')\n",
    "cello = pretty_midi.Instrument(program=cello_program)\n",
    "# Iterate over note names, which will be converted to note number later\n",
    "for note_name in ['C4', 'C4', 'G5','G5','A5','A5','G5',]:\n",
    "    # Retrieve the MIDI note number for this note name\n",
    "    note_number = pretty_midi.note_name_to_number(note_name)\n",
    "    # Create a Note instance, starting at 0s and ending at .5s\n",
    "    note = pretty_midi.Note(\n",
    "        velocity=100, pitch=note_number, start=0, end=.5)\n",
    "    # Add it to our cello instrument\n",
    "    cello.notes.append(note)\n",
    "# Add the cello instrument to the PrettyMIDI object\n",
    "cello_c_chord.instruments.append(cello)\n",
    "# Write out the MIDI data\n",
    "cello_c_chord.write('cello-C-chord.mid')"
   ]
  },
  {
   "cell_type": "code",
   "execution_count": 11,
   "metadata": {},
   "outputs": [
    {
     "ename": "ValueError",
     "evalue": "Can't provide a global tempo estimate when there are fewer than two notes.",
     "output_type": "error",
     "traceback": [
      "\u001b[0;31m---------------------------------------------------------------------------\u001b[0m",
      "\u001b[0;31mValueError\u001b[0m                                Traceback (most recent call last)",
      "\u001b[0;32m<ipython-input-11-9979be4a50ea>\u001b[0m in \u001b[0;36m<module>\u001b[0;34m\u001b[0m\n\u001b[1;32m      3\u001b[0m \u001b[0mmidi_data\u001b[0m \u001b[0;34m=\u001b[0m \u001b[0mpretty_midi\u001b[0m\u001b[0;34m.\u001b[0m\u001b[0mPrettyMIDI\u001b[0m\u001b[0;34m(\u001b[0m\u001b[0;34m'cello-C-chord.mid'\u001b[0m\u001b[0;34m)\u001b[0m\u001b[0;34m\u001b[0m\u001b[0;34m\u001b[0m\u001b[0m\n\u001b[1;32m      4\u001b[0m \u001b[0;31m# Print an empirical estimate of its global tempo\u001b[0m\u001b[0;34m\u001b[0m\u001b[0;34m\u001b[0m\u001b[0;34m\u001b[0m\u001b[0m\n\u001b[0;32m----> 5\u001b[0;31m \u001b[0mprint\u001b[0m\u001b[0;34m(\u001b[0m\u001b[0mmidi_data\u001b[0m\u001b[0;34m.\u001b[0m\u001b[0mestimate_tempo\u001b[0m\u001b[0;34m(\u001b[0m\u001b[0;34m)\u001b[0m\u001b[0;34m)\u001b[0m\u001b[0;34m\u001b[0m\u001b[0;34m\u001b[0m\u001b[0m\n\u001b[0m\u001b[1;32m      6\u001b[0m \u001b[0;31m# Compute the relative amount of each semitone across the entire song, a proxy for key\u001b[0m\u001b[0;34m\u001b[0m\u001b[0;34m\u001b[0m\u001b[0;34m\u001b[0m\u001b[0m\n\u001b[1;32m      7\u001b[0m \u001b[0mtotal_velocity\u001b[0m \u001b[0;34m=\u001b[0m \u001b[0msum\u001b[0m\u001b[0;34m(\u001b[0m\u001b[0msum\u001b[0m\u001b[0;34m(\u001b[0m\u001b[0mmidi_data\u001b[0m\u001b[0;34m.\u001b[0m\u001b[0mget_chroma\u001b[0m\u001b[0;34m(\u001b[0m\u001b[0;34m)\u001b[0m\u001b[0;34m)\u001b[0m\u001b[0;34m)\u001b[0m\u001b[0;34m\u001b[0m\u001b[0;34m\u001b[0m\u001b[0m\n",
      "\u001b[0;32m/usr/local/lib/python3.7/site-packages/pretty_midi/pretty_midi.py\u001b[0m in \u001b[0;36mestimate_tempo\u001b[0;34m(self)\u001b[0m\n\u001b[1;32m    494\u001b[0m         \u001b[0mtempi\u001b[0m \u001b[0;34m=\u001b[0m \u001b[0mself\u001b[0m\u001b[0;34m.\u001b[0m\u001b[0mestimate_tempi\u001b[0m\u001b[0;34m(\u001b[0m\u001b[0;34m)\u001b[0m\u001b[0;34m[\u001b[0m\u001b[0;36m0\u001b[0m\u001b[0;34m]\u001b[0m\u001b[0;34m\u001b[0m\u001b[0;34m\u001b[0m\u001b[0m\n\u001b[1;32m    495\u001b[0m         \u001b[0;32mif\u001b[0m \u001b[0mtempi\u001b[0m\u001b[0;34m.\u001b[0m\u001b[0msize\u001b[0m \u001b[0;34m==\u001b[0m \u001b[0;36m0\u001b[0m\u001b[0;34m:\u001b[0m\u001b[0;34m\u001b[0m\u001b[0;34m\u001b[0m\u001b[0m\n\u001b[0;32m--> 496\u001b[0;31m             raise ValueError(\"Can't provide a global tempo estimate when there\"\n\u001b[0m\u001b[1;32m    497\u001b[0m                              \" are fewer than two notes.\")\n\u001b[1;32m    498\u001b[0m         \u001b[0;32mreturn\u001b[0m \u001b[0mtempi\u001b[0m\u001b[0;34m[\u001b[0m\u001b[0;36m0\u001b[0m\u001b[0;34m]\u001b[0m\u001b[0;34m\u001b[0m\u001b[0;34m\u001b[0m\u001b[0m\n",
      "\u001b[0;31mValueError\u001b[0m: Can't provide a global tempo estimate when there are fewer than two notes."
     ]
    }
   ],
   "source": [
    "import pretty_midi\n",
    "# Load MIDI file into PrettyMIDI object\n",
    "midi_data = pretty_midi.PrettyMIDI('cello-C-chord.mid')\n",
    "# Print an empirical estimate of its global tempo\n",
    "print(midi_data.estimate_tempo())\n",
    "# Compute the relative amount of each semitone across the entire song, a proxy for key\n",
    "total_velocity = sum(sum(midi_data.get_chroma()))\n",
    "print([sum(semitone)/total_velocity for semitone in midi_data.get_chroma()])\n",
    "# Shift all notes up by 5 semitones\n",
    "for instrument in midi_data.instruments:\n",
    "    # Don't want to shift drum notes\n",
    "    if not instrument.is_drum:\n",
    "        for note in instrument.notes:\n",
    "            note.pitch += 5\n",
    "# Synthesize the resulting MIDI data using sine waves\n",
    "audio_data = midi_data.synthesize()\n",
    "IPython.display.Audio(midi_data.synthesize(fs=16000), rate=16000)"
   ]
  },
  {
   "cell_type": "markdown",
   "metadata": {},
   "source": [
    "## misic21"
   ]
  },
  {
   "cell_type": "code",
   "execution_count": 54,
   "metadata": {},
   "outputs": [
    {
     "data": {
      "text/html": [
       "\n",
       "                <div id='midiPlayerDiv5621'></div>\n",
       "                <link rel=\"stylesheet\" href=\"//cuthbertLab.github.io/music21j/css/m21.css\"\n",
       "                    type=\"text/css\" />\n",
       "                <script>\n",
       "                require.config({\n",
       "                    paths: {'music21': '//cuthbertLab.github.io/music21j/src/music21'}\n",
       "                });\n",
       "                require(['music21'], function() {\n",
       "                               mp = new music21.miditools.MidiPlayer();\n",
       "                               mp.addPlayer('#midiPlayerDiv5621');\n",
       "                               mp.base64Load('data:audio/midi;base64,TVRoZAAAAAYAAQABBABNVHJrAAAAMQD/AwAA4ABAAJA8WogAgDwAAJA8WogAgDwAAJA8WogAgDwAAJA8WogAgDwAiAD/LwA=');\n",
       "                        });\n",
       "                </script>"
      ],
      "text/plain": [
       "<IPython.core.display.HTML object>"
      ]
     },
     "metadata": {},
     "output_type": "display_data"
    }
   ],
   "source": [
    "from music21 import note,stream,corpus,chord,environment,converter,midi\n",
    "\n",
    "stream1 = stream.Stream()\n",
    "note = note.Note(\"C4\", quarterLength = 1)\n",
    "stream1.repeatAppend(note, 4)\n",
    "stream1.show(\"midi\")"
   ]
  },
  {
   "cell_type": "code",
   "execution_count": 5,
   "metadata": {},
   "outputs": [
    {
     "name": "stdout",
     "output_type": "stream",
     "text": [
      "[<music21.note.Note C>, <music21.note.Note C>, <music21.note.Note C>, <music21.note.Note G>]\n"
     ]
    },
    {
     "data": {
      "text/html": [
       "\n",
       "                <div id='midiPlayerDiv10'></div>\n",
       "                <link rel=\"stylesheet\" href=\"//cuthbertLab.github.io/music21j/css/m21.css\"\n",
       "                    type=\"text/css\" />\n",
       "                <script>\n",
       "                require.config({\n",
       "                    paths: {'music21': '//cuthbertLab.github.io/music21j/src/music21'}\n",
       "                });\n",
       "                require(['music21'], function() {\n",
       "                               mp = new music21.miditools.MidiPlayer();\n",
       "                               mp.addPlayer('#midiPlayerDiv10');\n",
       "                               mp.base64Load('data:audio/midi;base64,TVRoZAAAAAYAAQABBABNVHJrAAAAFgD/AwAA4ABAAJA8WogAgDwAiAD/LwA=');\n",
       "                        });\n",
       "                </script>"
      ],
      "text/plain": [
       "<IPython.core.display.HTML object>"
      ]
     },
     "metadata": {},
     "output_type": "display_data"
    }
   ],
   "source": [
    "from music21 import note,stream,corpus,chord,environment,converter,midi\n",
    "\n",
    "stream2 = stream.Stream()\n",
    "n1 = note.Note(\"C4\")\n",
    "n4 = note.Note(\"G4\")\n",
    "noteList=[]\n",
    "noteList.append(n1)\n",
    "noteList.append(n1)\n",
    "noteList.append(n1)\n",
    "noteList.append(n4)\n",
    "print(noteList)\n",
    "stream2=noteList\n",
    "stream2.show(\"midi\")"
   ]
  },
  {
   "cell_type": "code",
   "execution_count": 59,
   "metadata": {},
   "outputs": [
    {
     "data": {
      "text/html": [
       "\n",
       "                <div id='midiPlayerDiv6411'></div>\n",
       "                <link rel=\"stylesheet\" href=\"//cuthbertLab.github.io/music21j/css/m21.css\"\n",
       "                    type=\"text/css\" />\n",
       "                <script>\n",
       "                require.config({\n",
       "                    paths: {'music21': '//cuthbertLab.github.io/music21j/src/music21'}\n",
       "                });\n",
       "                require(['music21'], function() {\n",
       "                               mp = new music21.miditools.MidiPlayer();\n",
       "                               mp.addPlayer('#midiPlayerDiv6411');\n",
       "                               mp.base64Load('data:audio/midi;base64,TVRoZAAAAAYAAQABBABNVHJrAAAAVAD/AwAA4ABAAP9YBAQCGAgAkDxaiACAPAAAkDxaiACAPAAAkENaiACAQwAAkENaiACAQwAAkEVaiACARQAAkEVaiACARQAAkENaiACAQwCIAP8vAA==');\n",
       "                        });\n",
       "                </script>"
      ],
      "text/plain": [
       "<IPython.core.display.HTML object>"
      ]
     },
     "metadata": {},
     "output_type": "display_data"
    },
    {
     "name": "stdout",
     "output_type": "stream",
     "text": [
      "<music21.stream.Part 0x117d23f98>\n"
     ]
    }
   ],
   "source": [
    "from music21 import note,stream,corpus,chord,environment,converter,midi\n",
    "stream2 = converter.parse('tinyNotation: 4/4 c4 c4 g4 g4 a4 a4 g4')\n",
    "stream2.show(\"midi\")"
   ]
  },
  {
   "cell_type": "code",
   "execution_count": null,
   "metadata": {},
   "outputs": [],
   "source": []
  },
  {
   "cell_type": "code",
   "execution_count": 27,
   "metadata": {},
   "outputs": [
    {
     "data": {
      "text/html": [
       "\n",
       "                <div id='midiPlayerDiv1334'></div>\n",
       "                <link rel=\"stylesheet\" href=\"//cuthbertLab.github.io/music21j/css/m21.css\"\n",
       "                    type=\"text/css\" />\n",
       "                <script>\n",
       "                require.config({\n",
       "                    paths: {'music21': '//cuthbertLab.github.io/music21j/src/music21'}\n",
       "                });\n",
       "                require(['music21'], function() {\n",
       "                               mp = new music21.miditools.MidiPlayer();\n",
       "                               mp.addPlayer('#midiPlayerDiv1334');\n",
       "                               mp.base64Load('data:audio/midi;base64,TVRoZAAAAAYAAQABBABNVHJrAAACgAD/AwVQaWFubwDAAADgAEAAwAAA/1EDCSfAAP9ZAgAAAP9YBAQCGAgAkDxFAJAwQYgAgDwAAJA8TIgAgDAAAIA8AACQQ1cAkDRMiACAQwAAkENRiACANAAAgEMAAJBFUACQNUyIAIBFAACQRU2IAIA1AACARQAAkENMAJA0TZAAgEMAAIA0AACQQUMAkDJMiACAQQAAkEFKiACAMgAAgEEAAJBASQCQMEuIAIBAAACQQEqIAIAwAACAQAAAkD5HAJA1UYgAgD4AAIA1AACQPk0AkDdOiACAPgAAgDcAAJA8RACQNEaIAIA0AACQMEiIAIA8AACAMAAAkENXAJA0VIgAgEMAAJBDTogAgDQAAIBDAACQQUQAkDVMiACAQQAAkEFIiACANQAAgEEAAJBASgCQN1OIAIBAAACQQEuIAIA3AACAQAAAkD5KAJA3TJAAgD4AAIA3AACQQ1cAkDRHiACAQwAAkENRiACANAAAgEMAAJBBRACQNU2IAIBBAACQQUuIAIA1AACAQQAAkEBNAJA3UIgAgEAAAJBATYgAgDcAAIBAAACQPkgAkDdKkACAPgAAgDcAAJA8SQCQMEmIAIA8AACQPEqIAIAwAACAPAAAkENVAJA0VYgAgEMAAJBDT4gAgDQAAIBDAACQRU8AkDVUiACARQAAkEVNiACANQAAgEUAAJBDRQCQNEqQAIBDAACANAAAkEFKAJAyT4gAgEEAAJBBTYgAgDIAAIBBAACQQEwAkDBKiACAQAAAkEBMiACAMAAAgEAAAJA+SQCQNVCIAIA+AACANQAAkD5NAJA3UYgAgD4AAIA3AACQPEcAkDBFkACAPAAAgDAAiAD/LwA=');\n",
       "                        });\n",
       "                </script>"
      ],
      "text/plain": [
       "<IPython.core.display.HTML object>"
      ]
     },
     "metadata": {},
     "output_type": "display_data"
    }
   ],
   "source": [
    "from music21 import converter, instrument, note, chord, stream\n",
    "import numpy as np\n",
    "nocturne = converter.parse('twinkle_twinkle.mid')\n",
    "nocturne.show(\"midi\")"
   ]
  },
  {
   "cell_type": "code",
   "execution_count": 28,
   "metadata": {},
   "outputs": [
    {
     "name": "stdout",
     "output_type": "stream",
     "text": [
      "<music21.stream.Score 0x11fa93a90>\n",
      "<music21.stream.iterator.RecursiveIterator for Part:Piano @:0>\n"
     ]
    }
   ],
   "source": [
    "nocturne = converter.parse('twinkle_twinkle.mid')\n",
    "\n",
    "parts = instrument.partitionByInstrument(nocturne)\n",
    "\n",
    "print(parts)\n",
    "\n",
    "notes_to_parse = parts.parts[0].recurse()  # 対象のパートを一つに絞る\n",
    "\n",
    "print(notes_to_parse)\n",
    "\n",
    "string_nocturne_notes = []\n",
    "\n",
    "for element in notes_to_parse:\n",
    "    if isinstance(element, note.Note):\n",
    "      string_nocturne_notes.append(str(element.pitch))\n",
    "    elif isinstance(element, chord.Chord):\n",
    "      string_nocturne_notes.append('.'.join(str(n) for n in element.normalOrder))"
   ]
  },
  {
   "cell_type": "code",
   "execution_count": 29,
   "metadata": {},
   "outputs": [
    {
     "name": "stdout",
     "output_type": "stream",
     "text": [
      "['C4', 'C3', 'C4', 'G4', 'E3', 'G4', 'A4', 'F3', 'A4', '4.7', 'F4', 'D3', 'F4', 'E4', 'C3', 'E4', '2.5', '2.7', 'C4', 'E3', 'C3', 'G4', 'E3', 'G4', 'F4', 'F3', 'F4', 'E4', 'G3', 'E4', '2.7', 'G4', 'E3', 'G4', 'F4', 'F3', 'F4', 'E4', 'G3', 'E4', '2.7', 'C4', 'C3', 'C4', 'G4', 'E3', 'G4', 'A4', 'F3', 'A4', '4.7', 'F4', 'D3', 'F4', 'E4', 'C3', 'E4', '2.5', '2.7', '0']\n"
     ]
    }
   ],
   "source": [
    "print(string_nocturne_notes)"
   ]
  },
  {
   "cell_type": "code",
   "execution_count": 30,
   "metadata": {},
   "outputs": [
    {
     "name": "stdout",
     "output_type": "stream",
     "text": [
      "['0', '2.5', '2.7', '4.7', 'A4', 'C3', 'C4', 'D3', 'E3', 'E4', 'F3', 'F4', 'G3', 'G4']\n"
     ]
    }
   ],
   "source": [
    "notenames = sorted(set(string_nocturne_notes)) #音名\n",
    "print(notenames)"
   ]
  },
  {
   "cell_type": "code",
   "execution_count": 31,
   "metadata": {},
   "outputs": [
    {
     "name": "stdout",
     "output_type": "stream",
     "text": [
      "{'0': 0, '2.5': 1, '2.7': 2, '4.7': 3, 'A4': 4, 'C3': 5, 'C4': 6, 'D3': 7, 'E3': 8, 'E4': 9, 'F3': 10, 'F4': 11, 'G3': 12, 'G4': 13}\n"
     ]
    }
   ],
   "source": [
    "note2int = dict((string_note, number) for number, string_note in enumerate(notenames))\n",
    "print(note2int)"
   ]
  },
  {
   "cell_type": "code",
   "execution_count": 32,
   "metadata": {},
   "outputs": [
    {
     "name": "stdout",
     "output_type": "stream",
     "text": [
      "[6, 5, 6, 13, 8, 13, 4, 10, 4, 3, 11, 7, 11, 9, 5, 9, 1, 2, 6, 8, 5, 13, 8, 13, 11, 10, 11, 9, 12, 9, 2, 13, 8, 13, 11, 10, 11, 9, 12, 9, 2, 6, 5, 6, 13, 8, 13, 4, 10, 4, 3, 11, 7, 11, 9, 5, 9, 1, 2, 0]\n"
     ]
    }
   ],
   "source": [
    "numerical_nocturne_notes = []\n",
    "for string_note in string_nocturne_notes:\n",
    "    numerical_nocturne_notes.append(note2int[string_note])\n",
    "    \n",
    "print(numerical_nocturne_notes)"
   ]
  },
  {
   "cell_type": "code",
   "execution_count": null,
   "metadata": {},
   "outputs": [],
   "source": []
  }
 ],
 "metadata": {
  "kernelspec": {
   "display_name": "Python 3.7.1 64-bit",
   "language": "python",
   "name": "python37164biteddaa04d9bd6403f87a9a26eeb0f918e"
  },
  "language_info": {
   "codemirror_mode": {
    "name": "ipython",
    "version": 3
   },
   "file_extension": ".py",
   "mimetype": "text/x-python",
   "name": "python",
   "nbconvert_exporter": "python",
   "pygments_lexer": "ipython3",
   "version": "3.7.1"
  }
 },
 "nbformat": 4,
 "nbformat_minor": 2
}
