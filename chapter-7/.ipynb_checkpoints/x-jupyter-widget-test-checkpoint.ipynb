{
 "cells": [
  {
   "cell_type": "code",
   "execution_count": 6,
   "metadata": {},
   "outputs": [],
   "source": [
    "from ipywidgets import *\n",
    "import ipywidgets as widgets"
   ]
  },
  {
   "cell_type": "code",
   "execution_count": 3,
   "metadata": {},
   "outputs": [
    {
     "data": {
      "application/vnd.jupyter.widget-view+json": {
       "model_id": "23237d330666497582eb14cd5135913d",
       "version_major": 2,
       "version_minor": 0
      },
      "text/plain": [
       "Button(description='Click Me!', style=ButtonStyle())"
      ]
     },
     "metadata": {},
     "output_type": "display_data"
    },
    {
     "data": {
      "application/vnd.jupyter.widget-view+json": {
       "model_id": "ca697f4536cd4f16b3394c8c986abc6e",
       "version_major": 2,
       "version_minor": 0
      },
      "text/plain": [
       "Output()"
      ]
     },
     "metadata": {},
     "output_type": "display_data"
    }
   ],
   "source": [
    "from IPython.display import display\n",
    "\n",
    "button = widgets.Button(description=\"Click Me!\")\n",
    "output = widgets.Output()\n",
    "\n",
    "display(button, output)\n",
    "\n",
    "def on_button_clicked(b):\n",
    "    with output:\n",
    "        print(\"Button clicked.\")\n",
    "\n",
    "button.on_click(on_button_clicked)"
   ]
  },
  {
   "cell_type": "code",
   "execution_count": 10,
   "metadata": {},
   "outputs": [],
   "source": [
    "from ipywidgets import Button, Layout, jslink, IntText, IntSlider\n",
    "\n",
    "def create_expanded_button(description, button_style):\n",
    "    return Button(description=description, button_style=button_style, layout=Layout(height='auto', width='auto'))\n",
    "\n",
    "top_left_button = create_expanded_button(\"Top left\", 'info')\n",
    "top_right_button = create_expanded_button(\"Top right\", 'success')\n",
    "bottom_left_button = create_expanded_button(\"Bottom left\", 'danger')\n",
    "bottom_right_button = create_expanded_button(\"Bottom right\", 'warning')\n",
    "\n",
    "top_left_text = IntText(description='Top left', layout=Layout(width='auto', height='auto'))\n",
    "top_right_text = IntText(description='Top right', layout=Layout(width='auto', height='auto'))\n",
    "bottom_left_slider = IntSlider(description='Bottom left', layout=Layout(width='auto', height='auto'))\n",
    "bottom_right_slider = IntSlider(description='Bottom right', layout=Layout(width='auto', height='auto'))"
   ]
  },
  {
   "cell_type": "code",
   "execution_count": 11,
   "metadata": {},
   "outputs": [
    {
     "data": {
      "application/vnd.jupyter.widget-view+json": {
       "model_id": "2a9e836cd5d847328018f7cd04a41b23",
       "version_major": 2,
       "version_minor": 0
      },
      "text/plain": [
       "TwoByTwoLayout(children=(Button(button_style='info', description='Top left', layout=Layout(grid_area='top-left…"
      ]
     },
     "metadata": {},
     "output_type": "display_data"
    }
   ],
   "source": [
    "from ipywidgets import Button, Layout, jslink, IntText, IntSlider\n",
    "from ipywidgets import TwoByTwoLayout\n",
    "\n",
    "TwoByTwoLayout(top_left=top_left_button,\n",
    "               top_right=top_right_button,\n",
    "               bottom_left=bottom_left_button,\n",
    "               bottom_right=bottom_right_button)"
   ]
  },
  {
   "cell_type": "code",
   "execution_count": 8,
   "metadata": {},
   "outputs": [
    {
     "data": {
      "application/vnd.jupyter.widget-view+json": {
       "model_id": "c21127c9708443bc9a49e662a57d70f8",
       "version_major": 2,
       "version_minor": 0
      },
      "text/plain": [
       "Button(description='(50% width, 80px height) button', layout=Layout(height='80px', width='50%'), style=ButtonS…"
      ]
     },
     "metadata": {},
     "output_type": "display_data"
    }
   ],
   "source": [
    "from ipywidgets import Button, Layout\n",
    "\n",
    "b = Button(description='(50% width, 80px height) button',\n",
    "           layout=Layout(width='50%', height='80px'))\n",
    "b"
   ]
  },
  {
   "cell_type": "code",
   "execution_count": 12,
   "metadata": {},
   "outputs": [],
   "source": [
    "from ipywidgets import AppLayout, Button, Layout"
   ]
  },
  {
   "cell_type": "code",
   "execution_count": 13,
   "metadata": {},
   "outputs": [
    {
     "data": {
      "application/vnd.jupyter.widget-view+json": {
       "model_id": "a6c2bb2fb6ec4b449c3dcf3e77ebbf30",
       "version_major": 2,
       "version_minor": 0
      },
      "text/plain": [
       "GridspecLayout(children=(Button(button_style='warning', description='Button 0 - 0', layout=Layout(grid_area='w…"
      ]
     },
     "metadata": {},
     "output_type": "display_data"
    }
   ],
   "source": [
    "from ipywidgets import GridspecLayout\n",
    "\n",
    "grid = GridspecLayout(4, 3)\n",
    "\n",
    "for i in range(4):\n",
    "    for j in range(3):\n",
    "        grid[i, j] = create_expanded_button('Button {} - {}'.format(i, j), 'warning')\n",
    "grid"
   ]
  },
  {
   "cell_type": "code",
   "execution_count": 14,
   "metadata": {},
   "outputs": [
    {
     "data": {
      "application/vnd.jupyter.widget-view+json": {
       "model_id": "101e341aea954df98f7e57f7916015a7",
       "version_major": 2,
       "version_minor": 0
      },
      "text/plain": [
       "GridspecLayout(children=(Button(button_style='warning', description='Button 0 - 0', layout=Layout(grid_area='w…"
      ]
     },
     "metadata": {},
     "output_type": "display_data"
    }
   ],
   "source": [
    "from ipywidgets import GridspecLayout\n",
    "\n",
    "grid = GridspecLayout(2, 8)\n",
    "\n",
    "for i in range(2):\n",
    "    for j in range(8):\n",
    "        grid[i, j] = create_expanded_button('Button {} - {}'.format(i, j), 'warning')\n",
    "grid"
   ]
  },
  {
   "cell_type": "code",
   "execution_count": 15,
   "metadata": {},
   "outputs": [
    {
     "data": {
      "application/vnd.jupyter.widget-view+json": {
       "model_id": "23d48f50bf4146d6abb8afe64e294907",
       "version_major": 2,
       "version_minor": 0
      },
      "text/plain": [
       "GridspecLayout(children=(Button(button_style='success', description='One', layout=Layout(grid_area='widget001'…"
      ]
     },
     "metadata": {},
     "output_type": "display_data"
    }
   ],
   "source": [
    "\n",
    "grid = GridspecLayout(4, 3, height='300px')\n",
    "grid[:3, 1:] = create_expanded_button('One', 'success')\n",
    "grid[:, 0] = create_expanded_button('Two', 'info')\n",
    "grid[3, 1] = create_expanded_button('Three', 'warning')\n",
    "grid[3, 2] = create_expanded_button('Four', 'danger')\n",
    "grid"
   ]
  },
  {
   "cell_type": "code",
   "execution_count": 30,
   "metadata": {},
   "outputs": [
    {
     "data": {
      "application/vnd.jupyter.widget-view+json": {
       "model_id": "ab38bf33d5cd4678a42d8ddf0a5bd16c",
       "version_major": 2,
       "version_minor": 0
      },
      "text/plain": [
       "GridspecLayout(children=(Button(button_style='warning', description='Button 0 - 7', layout=Layout(grid_area='w…"
      ]
     },
     "metadata": {},
     "output_type": "display_data"
    }
   ],
   "source": [
    "grid = GridspecLayout(2, 8, height='100px')\n",
    "for i in range(5):\n",
    "    grid[0, i] = create_expanded_button('Button {} - {}'.format(i, j), 'warning')\n",
    "grid\n",
    "for j in range(8):\n",
    "    grid[1, j] = create_expanded_button('Button {} - {}'.format(i, j), 'warning')\n",
    "grid"
   ]
  },
  {
   "cell_type": "code",
   "execution_count": 12,
   "metadata": {},
   "outputs": [],
   "source": [
    "import numpy as np\n",
    "import matplotlib.pyplot as plt\n",
    "from IPython.display import (\n",
    "    Audio, display, clear_output)\n",
    "from ipywidgets import widgets\n",
    "from functools import partial\n",
    "%matplotlib inline"
   ]
  },
  {
   "cell_type": "code",
   "execution_count": 13,
   "metadata": {},
   "outputs": [],
   "source": [
    "rate = 16000.\n",
    "duration = .25\n",
    "t = np.linspace(\n",
    "    0., duration, int(rate * duration))"
   ]
  },
  {
   "cell_type": "code",
   "execution_count": 14,
   "metadata": {},
   "outputs": [],
   "source": [
    "def synth(f):\n",
    "    x = np.sin(f * 2. * np.pi * t)\n",
    "    display(Audio(x, rate=rate, autoplay=True))"
   ]
  },
  {
   "cell_type": "code",
   "execution_count": 15,
   "metadata": {},
   "outputs": [
    {
     "data": {
      "text/html": [
       "\n",
       "                <audio  controls=\"controls\" autoplay=\"autoplay\">\n",
       "                    <source src=\"data:audio/wav;base64,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\" type=\"audio/wav\" />\n",
       "                    Your browser does not support the audio element.\n",
       "                </audio>\n",
       "              "
      ],
      "text/plain": [
       "<IPython.lib.display.Audio object>"
      ]
     },
     "metadata": {},
     "output_type": "display_data"
    }
   ],
   "source": [
    "synth(440)"
   ]
  },
  {
   "cell_type": "code",
   "execution_count": 30,
   "metadata": {},
   "outputs": [],
   "source": [
    "import numpy as np\n",
    "notes = 'C,C#,D,D#,E,F,F#,G,G#,A,A#,B,C'.split(',')\n",
    "freqs = 440. * 2**(np.arange(3, 3 + len(notes)) / 12.)\n",
    "notes = list(zip(notes, freqs))"
   ]
  },
  {
   "cell_type": "code",
   "execution_count": 33,
   "metadata": {},
   "outputs": [
    {
     "data": {
      "application/vnd.jupyter.widget-view+json": {
       "model_id": "14f649d52697460885a69b6fd0fdc6e8",
       "version_major": 2,
       "version_minor": 0
      },
      "text/plain": [
       "Box(children=(Button(description='C', layout=Layout(border='1px solid black', height='60px', width='30px'), st…"
      ]
     },
     "metadata": {},
     "output_type": "display_data"
    }
   ],
   "source": [
    "layout = widgets.Layout(\n",
    "    width='30px', height='60px',\n",
    "    border='1px solid black')\n",
    "\n",
    "buttons = []\n",
    "for note, f in notes:\n",
    "    button = widgets.Button(\n",
    "        description=note, layout=layout)\n",
    "\n",
    "    def on_button_clicked(f, b):\n",
    "        # When a button is clicked, we play the sound\n",
    "        # in a dedicated Output widget.\n",
    "        with widgets.Output():\n",
    "            synth(f)\n",
    "\n",
    "    button.on_click(partial(on_button_clicked, f))\n",
    "    buttons.append(button)\n",
    "\n",
    "# We place all buttons horizontally.\n",
    "widgets.Box(children=buttons)"
   ]
  },
  {
   "cell_type": "code",
   "execution_count": null,
   "metadata": {},
   "outputs": [],
   "source": []
  },
  {
   "cell_type": "code",
   "execution_count": 34,
   "metadata": {},
   "outputs": [],
   "source": [
    "notes=[\"C\",\"C#\",\"D\",\"D#\",\"E\",\"F\",\"F#\",\"G\",\"G#\",\"A\",\"A#\",\"B\",\"C\"]"
   ]
  },
  {
   "cell_type": "code",
   "execution_count": 61,
   "metadata": {},
   "outputs": [
    {
     "data": {
      "application/vnd.jupyter.widget-view+json": {
       "model_id": "203bc4b25e2d4f309cbc3dc809bea589",
       "version_major": 2,
       "version_minor": 0
      },
      "text/plain": [
       "Box(children=(Button(description='C', layout=Layout(border='1px solid black', height='60px', width='30px'), st…"
      ]
     },
     "metadata": {},
     "output_type": "display_data"
    }
   ],
   "source": [
    "layout = widgets.Layout(\n",
    "    width='30px', height='60px',\n",
    "    border='1px solid black')\n",
    "\n",
    "buttons = []\n",
    "for note in notes:\n",
    "    button = widgets.Button(\n",
    "        description=note, layout=layout)\n",
    "    \n",
    "    button.style.button_color = ('white', 'lightgray')['#' in note]\n",
    "\n",
    "    def on_button_clicked(b):\n",
    "        with widgets.Output():\n",
    "            print(\"Button clicked.\")\n",
    "\n",
    "    #button.on_click(partial(on_button_clicked, f))\n",
    "    button.on_click(on_button_clicked)\n",
    "    buttons.append(button)\n",
    "\n",
    "widgets.Box(children=buttons)"
   ]
  },
  {
   "cell_type": "code",
   "execution_count": null,
   "metadata": {},
   "outputs": [],
   "source": []
  },
  {
   "cell_type": "code",
   "execution_count": 55,
   "metadata": {},
   "outputs": [
    {
     "data": {
      "application/vnd.jupyter.widget-view+json": {
       "model_id": "d1ac3300c85942009767c4947c83e8de",
       "version_major": 2,
       "version_minor": 0
      },
      "text/plain": [
       "Button(description='Click Me!', style=ButtonStyle())"
      ]
     },
     "metadata": {},
     "output_type": "display_data"
    },
    {
     "data": {
      "application/vnd.jupyter.widget-view+json": {
       "model_id": "f909ab30d5bb41d6b49f538e77e378d4",
       "version_major": 2,
       "version_minor": 0
      },
      "text/plain": [
       "Output()"
      ]
     },
     "metadata": {},
     "output_type": "display_data"
    }
   ],
   "source": [
    "from IPython.display import display\n",
    "button = widgets.Button(description=\"Click Me!\")\n",
    "output = widgets.Output()\n",
    "\n",
    "display(button, output)\n",
    "\n",
    "def on_button_clicked(b):\n",
    "    with output:\n",
    "        print(\"Button clicked.\")\n",
    "\n",
    "button.on_click(on_button_clicked)"
   ]
  },
  {
   "cell_type": "code",
   "execution_count": null,
   "metadata": {},
   "outputs": [],
   "source": []
  },
  {
   "cell_type": "code",
   "execution_count": 111,
   "metadata": {},
   "outputs": [
    {
     "data": {
      "application/vnd.jupyter.widget-view+json": {
       "model_id": "a34c28010f0346f6a8a34e612bf75b65",
       "version_major": 2,
       "version_minor": 0
      },
      "text/plain": [
       "Box(children=(Button(description='C', layout=Layout(border='1px solid black', height='60px', width='30px'), st…"
      ]
     },
     "metadata": {},
     "output_type": "display_data"
    },
    {
     "data": {
      "application/vnd.jupyter.widget-view+json": {
       "model_id": "701303ba965743d2b531d96f02601b23",
       "version_major": 2,
       "version_minor": 0
      },
      "text/plain": [
       "Output()"
      ]
     },
     "metadata": {},
     "output_type": "display_data"
    }
   ],
   "source": [
    "from IPython.display import display\n",
    "import functools\n",
    "\n",
    "input_notes=[]\n",
    "\n",
    "notes=[\"C\",\"C#\",\"D\",\"D#\",\"E\",\"F\",\"F#\",\"G\",\"G#\",\"A\",\"A#\",\"B\",\"C\"]\n",
    "layout = widgets.Layout(\n",
    "    width='30px', height='60px',\n",
    "    border='1px solid black')\n",
    "\n",
    "output = widgets.Output()\n",
    "\n",
    "buttons = []\n",
    "for note in notes:\n",
    "    button = widgets.Button(\n",
    "        description=note, layout=layout)\n",
    "    \n",
    "    button.style.button_color = ('white', 'lightgray')['#' in note]\n",
    "    \n",
    "    def on_button_click(b, note):\n",
    "        with output:\n",
    "            print(note.description)\n",
    "            input_notes.append(note.description)\n",
    "            \n",
    "    button.on_click(functools.partial(on_button_click, note))\n",
    "\n",
    "    buttons.append(button)\n",
    "\n",
    "piano = widgets.Box(children=buttons)\n",
    "\n",
    "display(piano, output)"
   ]
  },
  {
   "cell_type": "code",
   "execution_count": 112,
   "metadata": {},
   "outputs": [
    {
     "name": "stdout",
     "output_type": "stream",
     "text": [
      "['C', 'C', 'G', 'G', 'A', 'A', 'G', 'F', 'F', 'E', 'E', 'D', 'D', 'C']\n"
     ]
    }
   ],
   "source": [
    "print(input_notes)"
   ]
  },
  {
   "cell_type": "code",
   "execution_count": 10,
   "metadata": {},
   "outputs": [
    {
     "data": {
      "application/vnd.jupyter.widget-view+json": {
       "model_id": "91480662211a4035a61eea7e56163203",
       "version_major": 2,
       "version_minor": 0
      },
      "text/plain": [
       "FloatSlider(value=1.0, description='QuaterLength', max=2.0)"
      ]
     },
     "metadata": {},
     "output_type": "display_data"
    }
   ],
   "source": [
    "import ipywidgets as widgets\n",
    "slider = widgets.FloatSlider(min=0.00, max=2.00, value=1.00, description='QuaterLength')\n",
    "\n",
    "display(slider)"
   ]
  },
  {
   "cell_type": "code",
   "execution_count": 20,
   "metadata": {},
   "outputs": [
    {
     "data": {
      "application/vnd.jupyter.widget-view+json": {
       "model_id": "287ade95bf6d4450b8c14cf2b10551b8",
       "version_major": 2,
       "version_minor": 0
      },
      "text/plain": [
       "FloatSlider(value=1.0, description='QuaterLength', max=2.0, readout_format='.3f', step=0.001)"
      ]
     },
     "metadata": {},
     "output_type": "display_data"
    }
   ],
   "source": [
    "import ipywidgets as widgets\n",
    "slider=widgets.FloatSlider(value=1.0, min=0, max=2.0, step=0.001, readout_format='.3f', description='QuaterLength')\n",
    "display(slider)"
   ]
  },
  {
   "cell_type": "code",
   "execution_count": 21,
   "metadata": {},
   "outputs": [
    {
     "data": {
      "application/vnd.jupyter.widget-view+json": {
       "model_id": "1b599a3b8d8b4d9d94c197efaf304840",
       "version_major": 2,
       "version_minor": 0
      },
      "text/plain": [
       "SelectionSlider(continuous_update=False, description='I like my eggs ...', index=1, options=('scrambled', 'sun…"
      ]
     },
     "metadata": {},
     "output_type": "display_data"
    }
   ],
   "source": [
    "import ipywidgets as widgets\n",
    "slider=widgets.SelectionSlider(\n",
    "    options=['scrambled', 'sunny side up', 'poached', 'over easy'],\n",
    "    value='sunny side up',\n",
    "    description='QuaterLength',\n",
    "    disabled=False,\n",
    "    continuous_update=False,\n",
    "    orientation='horizontal',\n",
    "    readout=True\n",
    ")\n",
    "display(slider)"
   ]
  },
  {
   "cell_type": "code",
   "execution_count": null,
   "metadata": {},
   "outputs": [],
   "source": []
  }
 ],
 "metadata": {
  "kernelspec": {
   "display_name": "Python 3.7.1 64-bit",
   "language": "python",
   "name": "python37164biteddaa04d9bd6403f87a9a26eeb0f918e"
  },
  "language_info": {
   "codemirror_mode": {
    "name": "ipython",
    "version": 3
   },
   "file_extension": ".py",
   "mimetype": "text/x-python",
   "name": "python",
   "nbconvert_exporter": "python",
   "pygments_lexer": "ipython3",
   "version": "3.7.1"
  }
 },
 "nbformat": 4,
 "nbformat_minor": 2
}
