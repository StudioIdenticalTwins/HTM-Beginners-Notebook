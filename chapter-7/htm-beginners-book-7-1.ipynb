{
 "cells": [
  {
   "cell_type": "markdown",
   "metadata": {},
   "source": [
    "## pretty_midi"
   ]
  },
  {
   "cell_type": "code",
   "execution_count": 10,
   "metadata": {},
   "outputs": [],
   "source": [
    "import pretty_midi\n",
    "# Create a PrettyMIDI object\n",
    "cello_c_chord = pretty_midi.PrettyMIDI()\n",
    "# Create an Instrument instance for a cello instrument\n",
    "cello_program = pretty_midi.instrument_name_to_program('Cello')\n",
    "cello = pretty_midi.Instrument(program=cello_program)\n",
    "# Iterate over note names, which will be converted to note number later\n",
    "for note_name in ['C4', 'C4', 'G5','G5','A5','A5','G5',]:\n",
    "    # Retrieve the MIDI note number for this note name\n",
    "    note_number = pretty_midi.note_name_to_number(note_name)\n",
    "    # Create a Note instance, starting at 0s and ending at .5s\n",
    "    note = pretty_midi.Note(\n",
    "        velocity=100, pitch=note_number, start=0, end=.5)\n",
    "    # Add it to our cello instrument\n",
    "    cello.notes.append(note)\n",
    "# Add the cello instrument to the PrettyMIDI object\n",
    "cello_c_chord.instruments.append(cello)\n",
    "# Write out the MIDI data\n",
    "cello_c_chord.write('cello-C-chord.mid')"
   ]
  },
  {
   "cell_type": "code",
   "execution_count": 11,
   "metadata": {},
   "outputs": [
    {
     "ename": "ValueError",
     "evalue": "Can't provide a global tempo estimate when there are fewer than two notes.",
     "output_type": "error",
     "traceback": [
      "\u001b[0;31m---------------------------------------------------------------------------\u001b[0m",
      "\u001b[0;31mValueError\u001b[0m                                Traceback (most recent call last)",
      "\u001b[0;32m<ipython-input-11-9979be4a50ea>\u001b[0m in \u001b[0;36m<module>\u001b[0;34m\u001b[0m\n\u001b[1;32m      3\u001b[0m \u001b[0mmidi_data\u001b[0m \u001b[0;34m=\u001b[0m \u001b[0mpretty_midi\u001b[0m\u001b[0;34m.\u001b[0m\u001b[0mPrettyMIDI\u001b[0m\u001b[0;34m(\u001b[0m\u001b[0;34m'cello-C-chord.mid'\u001b[0m\u001b[0;34m)\u001b[0m\u001b[0;34m\u001b[0m\u001b[0;34m\u001b[0m\u001b[0m\n\u001b[1;32m      4\u001b[0m \u001b[0;31m# Print an empirical estimate of its global tempo\u001b[0m\u001b[0;34m\u001b[0m\u001b[0;34m\u001b[0m\u001b[0;34m\u001b[0m\u001b[0m\n\u001b[0;32m----> 5\u001b[0;31m \u001b[0mprint\u001b[0m\u001b[0;34m(\u001b[0m\u001b[0mmidi_data\u001b[0m\u001b[0;34m.\u001b[0m\u001b[0mestimate_tempo\u001b[0m\u001b[0;34m(\u001b[0m\u001b[0;34m)\u001b[0m\u001b[0;34m)\u001b[0m\u001b[0;34m\u001b[0m\u001b[0;34m\u001b[0m\u001b[0m\n\u001b[0m\u001b[1;32m      6\u001b[0m \u001b[0;31m# Compute the relative amount of each semitone across the entire song, a proxy for key\u001b[0m\u001b[0;34m\u001b[0m\u001b[0;34m\u001b[0m\u001b[0;34m\u001b[0m\u001b[0m\n\u001b[1;32m      7\u001b[0m \u001b[0mtotal_velocity\u001b[0m \u001b[0;34m=\u001b[0m \u001b[0msum\u001b[0m\u001b[0;34m(\u001b[0m\u001b[0msum\u001b[0m\u001b[0;34m(\u001b[0m\u001b[0mmidi_data\u001b[0m\u001b[0;34m.\u001b[0m\u001b[0mget_chroma\u001b[0m\u001b[0;34m(\u001b[0m\u001b[0;34m)\u001b[0m\u001b[0;34m)\u001b[0m\u001b[0;34m)\u001b[0m\u001b[0;34m\u001b[0m\u001b[0;34m\u001b[0m\u001b[0m\n",
      "\u001b[0;32m/usr/local/lib/python3.7/site-packages/pretty_midi/pretty_midi.py\u001b[0m in \u001b[0;36mestimate_tempo\u001b[0;34m(self)\u001b[0m\n\u001b[1;32m    494\u001b[0m         \u001b[0mtempi\u001b[0m \u001b[0;34m=\u001b[0m \u001b[0mself\u001b[0m\u001b[0;34m.\u001b[0m\u001b[0mestimate_tempi\u001b[0m\u001b[0;34m(\u001b[0m\u001b[0;34m)\u001b[0m\u001b[0;34m[\u001b[0m\u001b[0;36m0\u001b[0m\u001b[0;34m]\u001b[0m\u001b[0;34m\u001b[0m\u001b[0;34m\u001b[0m\u001b[0m\n\u001b[1;32m    495\u001b[0m         \u001b[0;32mif\u001b[0m \u001b[0mtempi\u001b[0m\u001b[0;34m.\u001b[0m\u001b[0msize\u001b[0m \u001b[0;34m==\u001b[0m \u001b[0;36m0\u001b[0m\u001b[0;34m:\u001b[0m\u001b[0;34m\u001b[0m\u001b[0;34m\u001b[0m\u001b[0m\n\u001b[0;32m--> 496\u001b[0;31m             raise ValueError(\"Can't provide a global tempo estimate when there\"\n\u001b[0m\u001b[1;32m    497\u001b[0m                              \" are fewer than two notes.\")\n\u001b[1;32m    498\u001b[0m         \u001b[0;32mreturn\u001b[0m \u001b[0mtempi\u001b[0m\u001b[0;34m[\u001b[0m\u001b[0;36m0\u001b[0m\u001b[0;34m]\u001b[0m\u001b[0;34m\u001b[0m\u001b[0;34m\u001b[0m\u001b[0m\n",
      "\u001b[0;31mValueError\u001b[0m: Can't provide a global tempo estimate when there are fewer than two notes."
     ]
    }
   ],
   "source": [
    "import pretty_midi\n",
    "# Load MIDI file into PrettyMIDI object\n",
    "midi_data = pretty_midi.PrettyMIDI('cello-C-chord.mid')\n",
    "# Print an empirical estimate of its global tempo\n",
    "print(midi_data.estimate_tempo())\n",
    "# Compute the relative amount of each semitone across the entire song, a proxy for key\n",
    "total_velocity = sum(sum(midi_data.get_chroma()))\n",
    "print([sum(semitone)/total_velocity for semitone in midi_data.get_chroma()])\n",
    "# Shift all notes up by 5 semitones\n",
    "for instrument in midi_data.instruments:\n",
    "    # Don't want to shift drum notes\n",
    "    if not instrument.is_drum:\n",
    "        for note in instrument.notes:\n",
    "            note.pitch += 5\n",
    "# Synthesize the resulting MIDI data using sine waves\n",
    "audio_data = midi_data.synthesize()\n",
    "IPython.display.Audio(midi_data.synthesize(fs=16000), rate=16000)"
   ]
  },
  {
   "cell_type": "markdown",
   "metadata": {},
   "source": [
    "## misic21"
   ]
  },
  {
   "cell_type": "code",
   "execution_count": 54,
   "metadata": {},
   "outputs": [
    {
     "data": {
      "text/html": [
       "\n",
       "                <div id='midiPlayerDiv5621'></div>\n",
       "                <link rel=\"stylesheet\" href=\"//cuthbertLab.github.io/music21j/css/m21.css\"\n",
       "                    type=\"text/css\" />\n",
       "                <script>\n",
       "                require.config({\n",
       "                    paths: {'music21': '//cuthbertLab.github.io/music21j/src/music21'}\n",
       "                });\n",
       "                require(['music21'], function() {\n",
       "                               mp = new music21.miditools.MidiPlayer();\n",
       "                               mp.addPlayer('#midiPlayerDiv5621');\n",
       "                               mp.base64Load('data:audio/midi;base64,TVRoZAAAAAYAAQABBABNVHJrAAAAMQD/AwAA4ABAAJA8WogAgDwAAJA8WogAgDwAAJA8WogAgDwAAJA8WogAgDwAiAD/LwA=');\n",
       "                        });\n",
       "                </script>"
      ],
      "text/plain": [
       "<IPython.core.display.HTML object>"
      ]
     },
     "metadata": {},
     "output_type": "display_data"
    }
   ],
   "source": [
    "from music21 import note,stream,corpus,chord,environment,converter,midi\n",
    "\n",
    "stream1 = stream.Stream()\n",
    "note = note.Note(\"C4\", quarterLength = 1)\n",
    "stream1.repeatAppend(note, 4)\n",
    "stream1.show(\"midi\")"
   ]
  },
  {
   "cell_type": "code",
   "execution_count": 1,
   "metadata": {},
   "outputs": [
    {
     "ename": "StreamException",
     "evalue": "the object (<music21.note.Note C>, id()=4338933600) is already found in this Stream (<music21.stream.Stream 0x1029edf28>, id()=4338933544)",
     "output_type": "error",
     "traceback": [
      "\u001b[0;31m---------------------------------------------------------------------------\u001b[0m",
      "\u001b[0;31mStreamException\u001b[0m                           Traceback (most recent call last)",
      "\u001b[0;32m<ipython-input-1-6e65ea3cd07d>\u001b[0m in \u001b[0;36m<module>\u001b[0;34m\u001b[0m\n\u001b[1;32m     10\u001b[0m \u001b[0mnoteList\u001b[0m\u001b[0;34m.\u001b[0m\u001b[0mappend\u001b[0m\u001b[0;34m(\u001b[0m\u001b[0mn4\u001b[0m\u001b[0;34m)\u001b[0m\u001b[0;34m\u001b[0m\u001b[0;34m\u001b[0m\u001b[0m\n\u001b[1;32m     11\u001b[0m \u001b[0;34m\u001b[0m\u001b[0m\n\u001b[0;32m---> 12\u001b[0;31m \u001b[0mstream2\u001b[0m\u001b[0;34m.\u001b[0m\u001b[0mappend\u001b[0m\u001b[0;34m(\u001b[0m\u001b[0mnoteList\u001b[0m\u001b[0;34m)\u001b[0m\u001b[0;34m\u001b[0m\u001b[0;34m\u001b[0m\u001b[0m\n\u001b[0m\u001b[1;32m     13\u001b[0m \u001b[0mstream2\u001b[0m\u001b[0;34m.\u001b[0m\u001b[0mshow\u001b[0m\u001b[0;34m(\u001b[0m\u001b[0;34m\"midi\"\u001b[0m\u001b[0;34m)\u001b[0m\u001b[0;34m\u001b[0m\u001b[0;34m\u001b[0m\u001b[0m\n",
      "\u001b[0;32m/usr/local/lib/python3.7/site-packages/music21/stream/__init__.py\u001b[0m in \u001b[0;36mappend\u001b[0;34m(self, others)\u001b[0m\n\u001b[1;32m   1976\u001b[0m                     \u001b[0;34m'is not a Music21Object.  Use an ElementWrapper object '\u001b[0m \u001b[0;34m+\u001b[0m\u001b[0;34m\u001b[0m\u001b[0;34m\u001b[0m\u001b[0m\n\u001b[1;32m   1977\u001b[0m                     'if this is what you intend' )\n\u001b[0;32m-> 1978\u001b[0;31m             \u001b[0mself\u001b[0m\u001b[0;34m.\u001b[0m\u001b[0mcoreGuardBeforeAddElement\u001b[0m\u001b[0;34m(\u001b[0m\u001b[0me\u001b[0m\u001b[0;34m)\u001b[0m\u001b[0;34m\u001b[0m\u001b[0;34m\u001b[0m\u001b[0m\n\u001b[0m\u001b[1;32m   1979\u001b[0m             \u001b[0;31m# add this Stream as a location for the new elements, with the\u001b[0m\u001b[0;34m\u001b[0m\u001b[0;34m\u001b[0m\u001b[0;34m\u001b[0m\u001b[0m\n\u001b[1;32m   1980\u001b[0m             \u001b[0;31m# the offset set to the current highestTime\u001b[0m\u001b[0;34m\u001b[0m\u001b[0;34m\u001b[0m\u001b[0;34m\u001b[0m\u001b[0m\n",
      "\u001b[0;32m/usr/local/lib/python3.7/site-packages/music21/stream/core.py\u001b[0m in \u001b[0;36mcoreGuardBeforeAddElement\u001b[0;34m(self, element, checkRedundancy)\u001b[0m\n\u001b[1;32m    315\u001b[0m                             \u001b[0;34m'the object '\u001b[0m \u001b[0;34m+\u001b[0m\u001b[0;34m\u001b[0m\u001b[0;34m\u001b[0m\u001b[0m\n\u001b[1;32m    316\u001b[0m                             \u001b[0;34m'(%s, id()=%s) is already found in this Stream (%s, id()=%s)'\u001b[0m \u001b[0;34m%\u001b[0m\u001b[0;34m\u001b[0m\u001b[0;34m\u001b[0m\u001b[0m\n\u001b[0;32m--> 317\u001b[0;31m                                                     (element, id(element), self, id(self)))\n\u001b[0m\u001b[1;32m    318\u001b[0m                 \u001b[0;31m# something was old... delete from _offsetDict\u001b[0m\u001b[0;34m\u001b[0m\u001b[0;34m\u001b[0m\u001b[0;34m\u001b[0m\u001b[0m\n\u001b[1;32m    319\u001b[0m                 \u001b[0;31m# environLocal.warn('stale object')\u001b[0m\u001b[0;34m\u001b[0m\u001b[0;34m\u001b[0m\u001b[0;34m\u001b[0m\u001b[0m\n",
      "\u001b[0;31mStreamException\u001b[0m: the object (<music21.note.Note C>, id()=4338933600) is already found in this Stream (<music21.stream.Stream 0x1029edf28>, id()=4338933544)"
     ]
    }
   ],
   "source": [
    "from music21 import note,stream,corpus,chord,environment,converter,midi\n",
    "\n",
    "stream2 = stream.Stream()\n",
    "n1 = note.Note(\"C4\", quarterLength = 1)\n",
    "n4 = note.Note(\"G4\", quarterLength = 1)\n",
    "noteList=[]\n",
    "\n",
    "noteList.append(n1)\n",
    "noteList.append(n1)\n",
    "noteList.append(n4)\n",
    "\n",
    "stream2.append(noteList)\n",
    "stream2.show(\"midi\")"
   ]
  },
  {
   "cell_type": "code",
   "execution_count": 6,
   "metadata": {},
   "outputs": [
    {
     "name": "stdout",
     "output_type": "stream",
     "text": [
      "<music21.stream.Part 0x11300dd30>\n"
     ]
    },
    {
     "data": {
      "text/html": [
       "\n",
       "                <div id='midiPlayerDiv168'></div>\n",
       "                <link rel=\"stylesheet\" href=\"//cuthbertLab.github.io/music21j/css/m21.css\"\n",
       "                    type=\"text/css\" />\n",
       "                <script>\n",
       "                require.config({\n",
       "                    paths: {'music21': '//cuthbertLab.github.io/music21j/src/music21'}\n",
       "                });\n",
       "                require(['music21'], function() {\n",
       "                               mp = new music21.miditools.MidiPlayer();\n",
       "                               mp.addPlayer('#midiPlayerDiv168');\n",
       "                               mp.base64Load('data:audio/midi;base64,TVRoZAAAAAYAAQABBABNVHJrAAAAVAD/AwAA4ABAAP9YBAQCGAgAkDxaiACAPAAAkDxaiACAPAAAkENaiACAQwAAkENaiACAQwAAkEVaiACARQAAkEVaiACARQAAkENaiACAQwCIAP8vAA==');\n",
       "                        });\n",
       "                </script>"
      ],
      "text/plain": [
       "<IPython.core.display.HTML object>"
      ]
     },
     "metadata": {},
     "output_type": "display_data"
    }
   ],
   "source": [
    "from music21 import note,stream,corpus,chord,environment,converter,midi\n",
    "stream2 = converter.parse('tinyNotation: 4/4 c4 c4 g4 g4 a4 a4 g4')\n",
    "print(stream2)\n",
    "stream2.show(\"midi\")"
   ]
  },
  {
   "cell_type": "code",
   "execution_count": null,
   "metadata": {},
   "outputs": [],
   "source": []
  },
  {
   "cell_type": "code",
   "execution_count": 1,
   "metadata": {},
   "outputs": [
    {
     "data": {
      "text/html": [
       "\n",
       "                <div id='midiPlayerDiv517'></div>\n",
       "                <link rel=\"stylesheet\" href=\"//cuthbertLab.github.io/music21j/css/m21.css\"\n",
       "                    type=\"text/css\" />\n",
       "                <script>\n",
       "                require.config({\n",
       "                    paths: {'music21': '//cuthbertLab.github.io/music21j/src/music21'}\n",
       "                });\n",
       "                require(['music21'], function() {\n",
       "                               mp = new music21.miditools.MidiPlayer();\n",
       "                               mp.addPlayer('#midiPlayerDiv517');\n",
       "                               mp.base64Load('data:audio/midi;base64,TVRoZAAAAAYAAQABBABNVHJrAAACgAD/AwVQaWFubwDAAADgAEAAwAAA/1EDCSfAAP9ZAgAAAP9YBAQCGAgAkDxFAJAwQYgAgDwAAJA8TIgAgDAAAIA8AACQQ1cAkDRMiACAQwAAkENRiACANAAAgEMAAJBFUACQNUyIAIBFAACQRU2IAIA1AACARQAAkENMAJA0TZAAgEMAAIA0AACQQUMAkDJMiACAQQAAkEFKiACAMgAAgEEAAJBASQCQMEuIAIBAAACQQEqIAIAwAACAQAAAkD5HAJA1UYgAgD4AAIA1AACQPk0AkDdOiACAPgAAgDcAAJA8RACQNEaIAIA0AACQMEiIAIA8AACAMAAAkENXAJA0VIgAgEMAAJBDTogAgDQAAIBDAACQQUQAkDVMiACAQQAAkEFIiACANQAAgEEAAJBASgCQN1OIAIBAAACQQEuIAIA3AACAQAAAkD5KAJA3TJAAgD4AAIA3AACQQ1cAkDRHiACAQwAAkENRiACANAAAgEMAAJBBRACQNU2IAIBBAACQQUuIAIA1AACAQQAAkEBNAJA3UIgAgEAAAJBATYgAgDcAAIBAAACQPkgAkDdKkACAPgAAgDcAAJA8SQCQMEmIAIA8AACQPEqIAIAwAACAPAAAkENVAJA0VYgAgEMAAJBDT4gAgDQAAIBDAACQRU8AkDVUiACARQAAkEVNiACANQAAgEUAAJBDRQCQNEqQAIBDAACANAAAkEFKAJAyT4gAgEEAAJBBTYgAgDIAAIBBAACQQEwAkDBKiACAQAAAkEBMiACAMAAAgEAAAJA+SQCQNVCIAIA+AACANQAAkD5NAJA3UYgAgD4AAIA3AACQPEcAkDBFkACAPAAAgDAAiAD/LwA=');\n",
       "                        });\n",
       "                </script>"
      ],
      "text/plain": [
       "<IPython.core.display.HTML object>"
      ]
     },
     "metadata": {},
     "output_type": "display_data"
    }
   ],
   "source": [
    "from music21 import converter, instrument, note, chord, stream\n",
    "import numpy as np\n",
    "nocturne = converter.parse('twinkle_twinkle.mid')\n",
    "nocturne.show(\"midi\")"
   ]
  },
  {
   "cell_type": "code",
   "execution_count": 2,
   "metadata": {},
   "outputs": [
    {
     "name": "stdout",
     "output_type": "stream",
     "text": [
      "<music21.stream.Score 0x113974390>\n",
      "<music21.stream.iterator.RecursiveIterator for Part:Piano @:0>\n"
     ]
    }
   ],
   "source": [
    "nocturne = converter.parse('twinkle_twinkle.mid')\n",
    "\n",
    "parts = instrument.partitionByInstrument(nocturne)\n",
    "\n",
    "print(parts)\n",
    "\n",
    "notes_to_parse = parts.parts[0].recurse()  # 対象のパートを一つに絞る\n",
    "\n",
    "print(notes_to_parse)\n",
    "\n",
    "string_nocturne_notes = []\n",
    "\n",
    "for element in notes_to_parse:\n",
    "    if isinstance(element, note.Note):\n",
    "      string_nocturne_notes.append(str(element.pitch))\n",
    "    elif isinstance(element, chord.Chord):\n",
    "      string_nocturne_notes.append('.'.join(str(n) for n in element.normalOrder))"
   ]
  },
  {
   "cell_type": "code",
   "execution_count": 3,
   "metadata": {},
   "outputs": [
    {
     "name": "stdout",
     "output_type": "stream",
     "text": [
      "['C4', 'C3', 'C4', 'G4', 'E3', 'G4', 'A4', 'F3', 'A4', '4.7', 'F4', 'D3', 'F4', 'E4', 'C3', 'E4', '2.5', '2.7', 'C4', 'E3', 'C3', 'G4', 'E3', 'G4', 'F4', 'F3', 'F4', 'E4', 'G3', 'E4', '2.7', 'G4', 'E3', 'G4', 'F4', 'F3', 'F4', 'E4', 'G3', 'E4', '2.7', 'C4', 'C3', 'C4', 'G4', 'E3', 'G4', 'A4', 'F3', 'A4', '4.7', 'F4', 'D3', 'F4', 'E4', 'C3', 'E4', '2.5', '2.7', '0']\n"
     ]
    }
   ],
   "source": [
    "print(string_nocturne_notes)"
   ]
  },
  {
   "cell_type": "code",
   "execution_count": 4,
   "metadata": {},
   "outputs": [
    {
     "name": "stdout",
     "output_type": "stream",
     "text": [
      "['0', '2.5', '2.7', '4.7', 'A4', 'C3', 'C4', 'D3', 'E3', 'E4', 'F3', 'F4', 'G3', 'G4']\n"
     ]
    }
   ],
   "source": [
    "notenames = sorted(set(string_nocturne_notes)) #音名\n",
    "print(notenames)"
   ]
  },
  {
   "cell_type": "code",
   "execution_count": 5,
   "metadata": {},
   "outputs": [
    {
     "name": "stdout",
     "output_type": "stream",
     "text": [
      "{'0': 0, '2.5': 1, '2.7': 2, '4.7': 3, 'A4': 4, 'C3': 5, 'C4': 6, 'D3': 7, 'E3': 8, 'E4': 9, 'F3': 10, 'F4': 11, 'G3': 12, 'G4': 13}\n"
     ]
    }
   ],
   "source": [
    "note2int = dict((string_note, number) for number, string_note in enumerate(notenames))\n",
    "print(note2int)"
   ]
  },
  {
   "cell_type": "code",
   "execution_count": 6,
   "metadata": {},
   "outputs": [
    {
     "name": "stdout",
     "output_type": "stream",
     "text": [
      "[6, 5, 6, 13, 8, 13, 4, 10, 4, 3, 11, 7, 11, 9, 5, 9, 1, 2, 6, 8, 5, 13, 8, 13, 11, 10, 11, 9, 12, 9, 2, 13, 8, 13, 11, 10, 11, 9, 12, 9, 2, 6, 5, 6, 13, 8, 13, 4, 10, 4, 3, 11, 7, 11, 9, 5, 9, 1, 2, 0]\n"
     ]
    }
   ],
   "source": [
    "numerical_nocturne_notes = []\n",
    "for string_note in string_nocturne_notes:\n",
    "    numerical_nocturne_notes.append(note2int[string_note])\n",
    "    \n",
    "print(numerical_nocturne_notes)"
   ]
  },
  {
   "cell_type": "code",
   "execution_count": null,
   "metadata": {},
   "outputs": [],
   "source": []
  },
  {
   "cell_type": "code",
   "execution_count": 7,
   "metadata": {},
   "outputs": [],
   "source": [
    "def create_midi(prediction_output):\n",
    "    \"\"\" convert the output from the prediction to notes and create a midi file\n",
    "        from the notes \"\"\"\n",
    "    offset = 0\n",
    "    output_notes = []\n",
    "\n",
    "    # create note and chord objects based on the values generated by the model\n",
    "    for pattern in prediction_output:\n",
    "        # pattern is a chord\n",
    "        if ('.' in pattern) or pattern.isdigit():\n",
    "            notes_in_chord = pattern.split('.')\n",
    "            notes = []\n",
    "            for current_note in notes_in_chord:\n",
    "                new_note = note.Note(int(current_note))\n",
    "                new_note.storedInstrument = instrument.Piano()\n",
    "                notes.append(new_note)\n",
    "            new_chord = chord.Chord(notes)\n",
    "            new_chord.offset = offset\n",
    "            output_notes.append(new_chord)\n",
    "        # pattern is a note\n",
    "        else:\n",
    "            new_note = note.Note(pattern)\n",
    "            new_note.offset = offset\n",
    "            new_note.storedInstrument = instrument.Piano()\n",
    "            output_notes.append(new_note)\n",
    "\n",
    "        # increase offset each iteration so that notes do not stack\n",
    "        offset += 0.5\n",
    "\n",
    "    midi_stream = stream.Stream(output_notes)\n",
    "\n",
    "    midi_stream.write('midi', fp='test_output.mid')"
   ]
  },
  {
   "cell_type": "code",
   "execution_count": 8,
   "metadata": {},
   "outputs": [
    {
     "ename": "TypeError",
     "evalue": "argument of type 'int' is not iterable",
     "output_type": "error",
     "traceback": [
      "\u001b[0;31m---------------------------------------------------------------------------\u001b[0m",
      "\u001b[0;31mTypeError\u001b[0m                                 Traceback (most recent call last)",
      "\u001b[0;32m<ipython-input-8-ad98653e0aa2>\u001b[0m in \u001b[0;36m<module>\u001b[0;34m\u001b[0m\n\u001b[0;32m----> 1\u001b[0;31m \u001b[0mcreate_midi\u001b[0m\u001b[0;34m(\u001b[0m\u001b[0mnumerical_nocturne_notes\u001b[0m\u001b[0;34m)\u001b[0m\u001b[0;34m\u001b[0m\u001b[0;34m\u001b[0m\u001b[0m\n\u001b[0m",
      "\u001b[0;32m<ipython-input-7-51f14d864275>\u001b[0m in \u001b[0;36mcreate_midi\u001b[0;34m(prediction_output)\u001b[0m\n\u001b[1;32m      8\u001b[0m     \u001b[0;32mfor\u001b[0m \u001b[0mpattern\u001b[0m \u001b[0;32min\u001b[0m \u001b[0mprediction_output\u001b[0m\u001b[0;34m:\u001b[0m\u001b[0;34m\u001b[0m\u001b[0;34m\u001b[0m\u001b[0m\n\u001b[1;32m      9\u001b[0m         \u001b[0;31m# pattern is a chord\u001b[0m\u001b[0;34m\u001b[0m\u001b[0;34m\u001b[0m\u001b[0;34m\u001b[0m\u001b[0m\n\u001b[0;32m---> 10\u001b[0;31m         \u001b[0;32mif\u001b[0m \u001b[0;34m(\u001b[0m\u001b[0;34m'.'\u001b[0m \u001b[0;32min\u001b[0m \u001b[0mpattern\u001b[0m\u001b[0;34m)\u001b[0m \u001b[0;32mor\u001b[0m \u001b[0mpattern\u001b[0m\u001b[0;34m.\u001b[0m\u001b[0misdigit\u001b[0m\u001b[0;34m(\u001b[0m\u001b[0;34m)\u001b[0m\u001b[0;34m:\u001b[0m\u001b[0;34m\u001b[0m\u001b[0;34m\u001b[0m\u001b[0m\n\u001b[0m\u001b[1;32m     11\u001b[0m             \u001b[0mnotes_in_chord\u001b[0m \u001b[0;34m=\u001b[0m \u001b[0mpattern\u001b[0m\u001b[0;34m.\u001b[0m\u001b[0msplit\u001b[0m\u001b[0;34m(\u001b[0m\u001b[0;34m'.'\u001b[0m\u001b[0;34m)\u001b[0m\u001b[0;34m\u001b[0m\u001b[0;34m\u001b[0m\u001b[0m\n\u001b[1;32m     12\u001b[0m             \u001b[0mnotes\u001b[0m \u001b[0;34m=\u001b[0m \u001b[0;34m[\u001b[0m\u001b[0;34m]\u001b[0m\u001b[0;34m\u001b[0m\u001b[0;34m\u001b[0m\u001b[0m\n",
      "\u001b[0;31mTypeError\u001b[0m: argument of type 'int' is not iterable"
     ]
    }
   ],
   "source": [
    "create_midi(numerical_nocturne_notes)"
   ]
  },
  {
   "cell_type": "code",
   "execution_count": null,
   "metadata": {},
   "outputs": [],
   "source": []
  }
 ],
 "metadata": {
  "kernelspec": {
   "display_name": "Python 3.7.1 64-bit",
   "language": "python",
   "name": "python37164biteddaa04d9bd6403f87a9a26eeb0f918e"
  },
  "language_info": {
   "codemirror_mode": {
    "name": "ipython",
    "version": 3
   },
   "file_extension": ".py",
   "mimetype": "text/x-python",
   "name": "python",
   "nbconvert_exporter": "python",
   "pygments_lexer": "ipython3",
   "version": "3.7.1"
  }
 },
 "nbformat": 4,
 "nbformat_minor": 2
}
