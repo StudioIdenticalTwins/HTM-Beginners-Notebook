{
 "cells": [
  {
   "cell_type": "code",
   "execution_count": 16,
   "metadata": {},
   "outputs": [],
   "source": [
    "import numpy as np\n",
    "import wave\n",
    "import struct\n",
    "\n",
    "A=1\n",
    "fs = 44100\n",
    "sec = 0.5 #秒\n",
    "f0=261.626 #ド C4  \n",
    "f1=293.665 #レ D4  \n",
    "f2=329.628 #ミ E4  \n",
    "f3=349.228 #ファ  F   \n",
    "f4=391.995 #ソ G4  \n",
    "f5=440.000 #ラ A4  \n",
    "f6=493.883 #シ B4  \n",
    "f7=523.251 #ド C5\n",
    "f_list=(f0,f1,f2,f3,f4,f5,f6,f7)\n",
    "def create_wave(A,f0,fs,t):\n",
    "    point = np.arange(0,fs*t)\n",
    "    sin_wave =A* np.sin(2*np.pi*f0*point/fs)\n",
    "    sin_wave = [int(x * 32767.0) for x in sin_wave]\n",
    "    binwave = struct.pack(\"h\" * len(sin_wave), *sin_wave)\n",
    "    w = wave.Wave_write(\"./{}.wav\".format(f0))\n",
    "    p = (1, 2, fs, len(binwave), 'NONE', 'not compressed')\n",
    "    w.setparams(p)\n",
    "    w.writeframes(binwave)\n",
    "    w.close()\n",
    "for i in f_list:\n",
    "    f=i\n",
    "    create_wave(A, f, fs, sec)"
   ]
  },
  {
   "cell_type": "code",
   "execution_count": 44,
   "metadata": {},
   "outputs": [
    {
     "data": {
      "image/png": "[encoded data removed]",
      "text/plain": [
       "<Figure size 432x288 with 1 Axes>"
      ]
     },
     "metadata": {
      "needs_background": "light"
     },
     "output_type": "display_data"
    }
   ],
   "source": [
    "import soundfile as sf\n",
    "import numpy as np\n",
    "import matplotlib.pyplot as plt\n",
    "from scipy import fftpack\n",
    "\n",
    "fname = '261.626.wav'\n",
    "data, samplerate = sf.read(fname)\n",
    "\n",
    "\n",
    "X = fftpack.fft(data)\n",
    "freqList = fftpack.fftfreq(len(data), d=1.0/ samplerate)\n",
    "\n",
    "amplitude = [np.sqrt(c.real ** 2 + c.imag ** 2) for c in X]  # 振幅スペクトル\n",
    "\n",
    "# 波形を描画\n",
    "\n",
    "# 振幅スペクトルを描画\n",
    "plt.plot(freqList, amplitude)\n",
    "plt.axis([0, 25000, 0, 2000])\n",
    "plt.show()"
   ]
  },
  {
   "cell_type": "code",
   "execution_count": null,
   "metadata": {},
   "outputs": [],
   "source": []
  }
 ],
 "metadata": {
  "kernelspec": {
   "display_name": "Python 3.7.1 64-bit",
   "language": "python",
   "name": "python37164biteddaa04d9bd6403f87a9a26eeb0f918e"
  },
  "language_info": {
   "codemirror_mode": {
    "name": "ipython",
    "version": 3
   },
   "file_extension": ".py",
   "mimetype": "text/x-python",
   "name": "python",
   "nbconvert_exporter": "python",
   "pygments_lexer": "ipython3",
   "version": "3.7.1"
  }
 },
 "nbformat": 4,
 "nbformat_minor": 2
}
