{
 "cells": [
  {
   "cell_type": "markdown",
   "metadata": {},
   "source": [
    "## ISS Predictor"
   ]
  },
  {
   "cell_type": "code",
   "execution_count": 1,
   "metadata": {},
   "outputs": [],
   "source": [
    "import numpy as np\n",
    "\n",
    "from htm.bindings.sdr import SDR\n",
    "from htm.bindings.encoders import ScalarEncoder, ScalarEncoderParameters\n",
    "from htm.algorithms import SpatialPooler as SP\n",
    "from htm.algorithms import TemporalMemory as TM\n",
    "from htm.bindings.algorithms import Predictor\n",
    "\n",
    "import matplotlib\n",
    "import matplotlib.pyplot as plt\n",
    "from IPython.display import display, clear_output\n",
    "\n",
    "import json, urllib.request, time"
   ]
  },
  {
   "cell_type": "code",
   "execution_count": 2,
   "metadata": {},
   "outputs": [],
   "source": [
    "scalarEncoderParams = ScalarEncoderParameters()\n",
    "scalarEncoderParams.minimum = -180\n",
    "scalarEncoderParams.maximum = 180\n",
    "scalarEncoderParams.activeBits = 4\n",
    "scalarEncoderParams.size = 128\n",
    "scalarEncoderParams.clipInput  = True\n",
    "\n",
    "enc = ScalarEncoder(scalarEncoderParams)"
   ]
  },
  {
   "cell_type": "code",
   "execution_count": 3,
   "metadata": {},
   "outputs": [
    {
     "data": {
      "image/png": "[encoded data removed]",
      "text/plain": [
       "<Figure size 432x288 with 1 Axes>"
      ]
     },
     "metadata": {
      "needs_background": "light"
     },
     "output_type": "display_data"
    }
   ],
   "source": [
    "n_samples = int(enc.parameters.maximum - enc.parameters.minimum + 1)\n",
    "\n",
    "sdrs = []\n",
    "for i in np.linspace(enc.parameters.minimum, enc.parameters.maximum, n_samples):\n",
    "    sdrs.append( enc.encode( i ).dense )\n",
    "\n",
    "#clear_output(wait = True)\n",
    "#plt.cla\n",
    "plt.imshow(np.array(sdrs), cmap = \"Greens\")\n",
    "plt.show()"
   ]
  },
  {
   "cell_type": "code",
   "execution_count": 4,
   "metadata": {},
   "outputs": [
    {
     "name": "stdout",
     "output_type": "stream",
     "text": [
      "Spatial Pooler Connections:\n",
      "    Inputs (128) ~> Outputs (576) via Segments (576)\n",
      "    Segments on Cell Min/Mean/Max 1 / 1 / 1\n",
      "    Potential Synapses on Segment Min/Mean/Max 17 / 17 / 17\n",
      "    Connected Synapses on Segment Min/Mean/Max 3 / 8.3941 / 15\n",
      "    Synapses Dead (0%) Saturated (0%)\n",
      "    Synapses pruned (0%) Segments pruned (0%)\n",
      "\n"
     ]
    }
   ],
   "source": [
    "inputSDR  = SDR( dimensions = (128 ) )\n",
    "activeSDR = SDR( dimensions = (576) )\n",
    "sp = SP(inputDimensions  = inputSDR.dimensions,\n",
    "        columnDimensions = activeSDR.dimensions,\n",
    "        localAreaDensity = 0.02,\n",
    "        globalInhibition = True,\n",
    "        seed             = 1,\n",
    "        synPermActiveInc   = 0.01,\n",
    "        synPermInactiveDec = 0.008)\n",
    "print(sp)"
   ]
  },
  {
   "cell_type": "code",
   "execution_count": 5,
   "metadata": {},
   "outputs": [
    {
     "name": "stdout",
     "output_type": "stream",
     "text": [
      "Temporal Memory Connections:\n",
      "    Inputs (0) ~> Outputs (4608) via Segments (0)\n",
      "    Segments on Cell Min/Mean/Max 0 / 0 / 0\n",
      "    Potential Synapses on Segment Min/Mean/Max 4294967295 / nan / 0\n",
      "    Connected Synapses on Segment Min/Mean/Max 65535 / nan / 0\n",
      "    Synapses Dead (nan%) Saturated (nan%)\n",
      "    Synapses pruned (nan%) Segments pruned (nan%)\n",
      "\n"
     ]
    }
   ],
   "source": [
    "tm = TM(\n",
    "    columnDimensions = (576,),\n",
    "    cellsPerColumn=8,\n",
    "    initialPermanence=0.5,\n",
    "    connectedPermanence=0.5,\n",
    "    minThreshold=8,\n",
    "    maxNewSynapseCount=20,\n",
    "    permanenceIncrement=0.1,\n",
    "    permanenceDecrement=0.0,\n",
    "    activationThreshold=8,\n",
    ")\n",
    "print(tm)"
   ]
  },
  {
   "cell_type": "code",
   "execution_count": 6,
   "metadata": {},
   "outputs": [],
   "source": [
    "predictor = Predictor( steps=[1,2,3,4,5])\n",
    "resolution = 0.01\n",
    "minimum = -180"
   ]
  },
  {
   "cell_type": "code",
   "execution_count": 9,
   "metadata": {},
   "outputs": [
    {
     "name": "stdout",
     "output_type": "stream",
     "text": [
      "163.0187\n",
      "51.537\n",
      "{1: [0.0, 0.0], 2: [0.0, 0.0], 3: [], 4: [], 5: []}\n",
      "163.5177\n",
      "51.5162\n",
      "{1: [0.0, 0.0, -180.0, 163.51], 2: [0.0, 0.0, 0.0, 0.0], 3: [], 4: [], 5: []}\n",
      "164.1656\n",
      "51.4857\n",
      "{1: [0.0, 0.0, -180.0, 163.51, 163.51, 51.51], 2: [0.0, 0.0, 0.0, 0.0, 163.51, -180.0], 3: [], 4: [], 5: []}\n",
      "164.8126\n",
      "51.4514\n",
      "{1: [0.0, 0.0, -180.0, 163.51, 163.51, 51.51, 51.51, 164.16], 2: [0.0, 0.0, 0.0, 0.0, 163.51, -180.0, 51.51, 51.51], 3: [], 4: [], 5: []}\n",
      "165.4584\n",
      "51.4132\n",
      "{1: [0.0, 0.0, -180.0, 163.51, 163.51, 51.51, 51.51, 164.16, 163.51, 51.51], 2: [0.0, 0.0, 0.0, 0.0, 163.51, -180.0, 51.51, 51.51, 51.51, 164.16], 3: [], 4: [], 5: []}\n",
      "166.0536\n",
      "51.3745\n",
      "{1: [0.0, 0.0, -180.0, 163.51, 163.51, 51.51, 51.51, 164.16, 163.51, 51.51, 164.16, 164.16], 2: [0.0, 0.0, 0.0, 0.0, 163.51, -180.0, 51.51, 51.51, 51.51, 164.16, 164.16, 164.16], 3: [], 4: [], 5: []}\n",
      "166.7465\n",
      "51.3252\n",
      "{1: [0.0, 0.0, -180.0, 163.51, 163.51, 51.51, 51.51, 164.16, 163.51, 51.51, 164.16, 164.16, 164.81, 51.51], 2: [0.0, 0.0, 0.0, 0.0, 163.51, -180.0, 51.51, 51.51, 51.51, 164.16, 164.16, 164.16, 164.81, 164.16], 3: [], 4: [], 5: []}\n",
      "167.2405\n",
      "51.2873\n",
      "{1: [0.0, 0.0, -180.0, 163.51, 163.51, 51.51, 51.51, 164.16, 163.51, 51.51, 164.16, 164.16, 164.81, 51.51, 164.81, 164.16], 2: [0.0, 0.0, 0.0, 0.0, 163.51, -180.0, 51.51, 51.51, 51.51, 164.16, 164.16, 164.16, 164.81, 164.16, 164.81, 164.16], 3: [], 4: [], 5: []}\n",
      "167.7828\n",
      "51.2429\n",
      "{1: [0.0, 0.0, -180.0, 163.51, 163.51, 51.51, 51.51, 164.16, 163.51, 51.51, 164.16, 164.16, 164.81, 51.51, 164.81, 164.16, 165.45, 51.51], 2: [0.0, 0.0, 0.0, 0.0, 163.51, -180.0, 51.51, 51.51, 51.51, 164.16, 164.16, 164.16, 164.81, 164.16, 164.81, 164.16, 165.45, 164.16], 3: [], 4: [], 5: []}\n",
      "168.2747\n",
      "51.2003\n",
      "{1: [0.0, 0.0, -180.0, 163.51, 163.51, 51.51, 51.51, 164.16, 163.51, 51.51, 164.16, 164.16, 164.81, 51.51, 164.81, 164.16, 165.45, 51.51, 165.45, 164.16], 2: [0.0, 0.0, 0.0, 0.0, 163.51, -180.0, 51.51, 51.51, 51.51, 164.16, 164.16, 164.16, 164.81, 164.16, 164.81, 164.16, 165.45, 164.16, 165.45, 164.16], 3: [], 4: [], 5: []}\n",
      "168.8148\n",
      "51.1508\n",
      "{1: [0.0, 0.0, -180.0, 163.51, 163.51, 51.51, 51.51, 164.16, 163.51, 51.51, 164.16, 164.16, 164.81, 51.51, 164.81, 164.16, 165.45, 51.51, 165.45, 164.16, 166.05, 51.51], 2: [0.0, 0.0, 0.0, 0.0, 163.51, -180.0, 51.51, 51.51, 51.51, 164.16, 164.16, 164.16, 164.81, 164.16, 164.81, 164.16, 165.45, 164.16, 165.45, 164.16, 166.05, 164.16], 3: [], 4: [], 5: []}\n",
      "169.3047\n",
      "51.1034\n",
      "{1: [0.0, 0.0, -180.0, 163.51, 163.51, 51.51, 51.51, 164.16, 163.51, 51.51, 164.16, 164.16, 164.81, 51.51, 164.81, 164.16, 165.45, 51.51, 165.45, 164.16, 166.05, 51.51, 166.05, 164.16], 2: [0.0, 0.0, 0.0, 0.0, 163.51, -180.0, 51.51, 51.51, 51.51, 164.16, 164.16, 164.16, 164.81, 164.16, 164.81, 164.16, 165.45, 164.16, 165.45, 164.16, 166.05, 164.16, 166.05, 164.16], 3: [], 4: [], 5: []}\n",
      "169.8424\n",
      "51.0488\n",
      "{1: [0.0, 0.0, -180.0, 163.51, 163.51, 51.51, 51.51, 164.16, 163.51, 51.51, 164.16, 164.16, 164.81, 51.51, 164.81, 164.16, 165.45, 51.51, 165.45, 164.16, 166.05, 51.51, 166.05, 164.16, 166.74, 51.51], 2: [0.0, 0.0, 0.0, 0.0, 163.51, -180.0, 51.51, 51.51, 51.51, 164.16, 164.16, 164.16, 164.81, 164.16, 164.81, 164.16, 165.45, 164.16, 165.45, 164.16, 166.05, 164.16, 166.05, 164.16, 166.74, 164.16], 3: [], 4: [], 5: []}\n",
      "170.3301\n",
      "50.9968\n",
      "{1: [0.0, 0.0, -180.0, 163.51, 163.51, 51.51, 51.51, 164.16, 163.51, 51.51, 164.16, 164.16, 164.81, 51.51, 164.81, 164.16, 165.45, 51.51, 165.45, 164.16, 166.05, 51.51, 166.05, 164.16, 166.74, 51.51, 166.74, 164.16], 2: [0.0, 0.0, 0.0, 0.0, 163.51, -180.0, 51.51, 51.51, 51.51, 164.16, 164.16, 164.16, 164.81, 164.16, 164.81, 164.16, 165.45, 164.16, 165.45, 164.16, 166.05, 164.16, 166.05, 164.16, 166.74, 164.16, 166.74, 164.16], 3: [], 4: [], 5: []}\n",
      "170.8651\n",
      "50.937\n",
      "{1: [0.0, 0.0, -180.0, 163.51, 163.51, 51.51, 51.51, 164.16, 163.51, 51.51, 164.16, 164.16, 164.81, 51.51, 164.81, 164.16, 165.45, 51.51, 165.45, 164.16, 166.05, 51.51, 166.05, 164.16, 166.74, 51.51, 166.74, 164.16, 164.81, 51.51], 2: [0.0, 0.0, 0.0, 0.0, 163.51, -180.0, 51.51, 51.51, 51.51, 164.16, 164.16, 164.16, 164.81, 164.16, 164.81, 164.16, 165.45, 164.16, 165.45, 164.16, 166.05, 164.16, 166.05, 164.16, 166.74, 164.16, 166.74, 164.16, 164.81, 164.16], 3: [], 4: [], 5: []}\n",
      "171.3502\n",
      "50.8804\n",
      "{1: [0.0, 0.0, -180.0, 163.51, 163.51, 51.51, 51.51, 164.16, 163.51, 51.51, 164.16, 164.16, 164.81, 51.51, 164.81, 164.16, 165.45, 51.51, 165.45, 164.16, 166.05, 51.51, 166.05, 164.16, 166.74, 51.51, 166.74, 164.16, 164.81, 51.51, 167.24, 164.16], 2: [0.0, 0.0, 0.0, 0.0, 163.51, -180.0, 51.51, 51.51, 51.51, 164.16, 164.16, 164.16, 164.81, 164.16, 164.81, 164.16, 165.45, 164.16, 165.45, 164.16, 166.05, 164.16, 166.05, 164.16, 166.74, 164.16, 166.74, 164.16, 164.81, 164.16, 167.24, 164.16], 3: [], 4: [], 5: []}\n",
      "171.8825\n",
      "50.8156\n",
      "{1: [0.0, 0.0, -180.0, 163.51, 163.51, 51.51, 51.51, 164.16, 163.51, 51.51, 164.16, 164.16, 164.81, 51.51, 164.81, 164.16, 165.45, 51.51, 165.45, 164.16, 166.05, 51.51, 166.05, 164.16, 166.74, 51.51, 166.74, 164.16, 164.81, 51.51, 167.24, 164.16, 167.78, 51.51], 2: [0.0, 0.0, 0.0, 0.0, 163.51, -180.0, 51.51, 51.51, 51.51, 164.16, 164.16, 164.16, 164.81, 164.16, 164.81, 164.16, 165.45, 164.16, 165.45, 164.16, 166.05, 164.16, 166.05, 164.16, 166.74, 164.16, 166.74, 164.16, 164.81, 164.16, 167.24, 164.16, 167.78, 164.16], 3: [], 4: [], 5: []}\n",
      "172.4131\n",
      "50.7481\n",
      "{1: [0.0, 0.0, -180.0, 163.51, 163.51, 51.51, 51.51, 164.16, 163.51, 51.51, 164.16, 164.16, 164.81, 51.51, 164.81, 164.16, 165.45, 51.51, 165.45, 164.16, 166.05, 51.51, 166.05, 164.16, 166.74, 51.51, 166.74, 164.16, 164.81, 51.51, 167.24, 164.16, 167.78, 51.51, 51.51, 164.16], 2: [0.0, 0.0, 0.0, 0.0, 163.51, -180.0, 51.51, 51.51, 51.51, 164.16, 164.16, 164.16, 164.81, 164.16, 164.81, 164.16, 165.45, 164.16, 165.45, 164.16, 166.05, 164.16, 166.05, 164.16, 166.74, 164.16, 166.74, 164.16, 164.81, 164.16, 167.24, 164.16, 167.78, 164.16, 164.16, 164.16], 3: [], 4: [], 5: []}\n",
      "172.8941\n",
      "50.6845\n",
      "{1: [0.0, 0.0, -180.0, 163.51, 163.51, 51.51, 51.51, 164.16, 163.51, 51.51, 164.16, 164.16, 164.81, 51.51, 164.81, 164.16, 165.45, 51.51, 165.45, 164.16, 166.05, 51.51, 166.05, 164.16, 166.74, 51.51, 166.74, 164.16, 164.81, 51.51, 167.24, 164.16, 167.78, 51.51, 51.51, 164.16, 168.27, 168.27], 2: [0.0, 0.0, 0.0, 0.0, 163.51, -180.0, 51.51, 51.51, 51.51, 164.16, 164.16, 164.16, 164.81, 164.16, 164.81, 164.16, 165.45, 164.16, 165.45, 164.16, 166.05, 164.16, 166.05, 164.16, 166.74, 164.16, 166.74, 164.16, 164.81, 164.16, 167.24, 164.16, 167.78, 164.16, 164.16, 164.16, 168.27, 164.16], 3: [], 4: [], 5: []}\n",
      "173.4218\n",
      "50.6121\n",
      "{1: [0.0, 0.0, -180.0, 163.51, 163.51, 51.51, 51.51, 164.16, 163.51, 51.51, 164.16, 164.16, 164.81, 51.51, 164.81, 164.16, 165.45, 51.51, 165.45, 164.16, 166.05, 51.51, 166.05, 164.16, 166.74, 51.51, 166.74, 164.16, 164.81, 51.51, 167.24, 164.16, 167.78, 51.51, 51.51, 164.16, 168.27, 168.27, 168.27, 164.16], 2: [0.0, 0.0, 0.0, 0.0, 163.51, -180.0, 51.51, 51.51, 51.51, 164.16, 164.16, 164.16, 164.81, 164.16, 164.81, 164.16, 165.45, 164.16, 165.45, 164.16, 166.05, 164.16, 166.05, 164.16, 166.74, 164.16, 166.74, 164.16, 164.81, 164.16, 167.24, 164.16, 167.78, 164.16, 164.16, 164.16, 168.27, 164.16, 164.16, 164.16], 3: [], 4: [], 5: []}\n"
     ]
    }
   ],
   "source": [
    "seq =[]\n",
    "predictions = {1: [], 2: [], 3: [], 4: [], 5: []}\n",
    "for i in range(20):\n",
    "    url = \"http://api.open-notify.org/iss-now.json\"\n",
    "    response = urllib.request.urlopen(url)\n",
    "    result = json.loads(response.read())\n",
    "\n",
    "    location =result[\"iss_position\"]\n",
    "\n",
    "    lon = float(location[\"longitude\"])\n",
    "    lat = float(location[\"latitude\"])\n",
    "\n",
    "    seq.append(lon)\n",
    "    print(lon)\n",
    "    \n",
    "    inputSDR = enc.encode(seq[i])\n",
    "    sp.compute(inputSDR, True, activeSDR)\n",
    "\n",
    "    tm.compute( activeSDR, learn=True)\n",
    "    \n",
    "    predictor.learn(i, tm.getActiveCells(), int((seq[i] - minimum) / resolution))\n",
    "\n",
    "    pdf = predictor.infer( tm.getActiveCells() )\n",
    "    for n in (1,2):\n",
    "        if pdf[n]:\n",
    "            predictions[n].append( round(np.argmax( pdf[n] ) * resolution + minimum, 2) )\n",
    "        else:\n",
    "            predictions[n].append(float(0))\n",
    "    #print(predictions )\n",
    "    \n",
    "    seq.append(lat)\n",
    "    print(lat)\n",
    "    \n",
    "    inputSDR = enc.encode(seq[i+1])\n",
    "    sp.compute(inputSDR, True, activeSDR)\n",
    "\n",
    "    tm.compute( activeSDR, learn=True)\n",
    "    \n",
    "    predictor.learn(i, tm.getActiveCells(), int((seq[i+1] - minimum) / resolution))\n",
    "\n",
    "    pdf = predictor.infer( tm.getActiveCells() )\n",
    "    for n in (1,2):\n",
    "        if pdf[n]:\n",
    "            predictions[n].append( round(np.argmax( pdf[n] ) * resolution + minimum, 2) )\n",
    "        else:\n",
    "            predictions[n].append(float(0))\n",
    "            \n",
    "    print(predictions)\n",
    "    \n",
    "    i=+1\n",
    "    \n",
    "    time.sleep(5)"
   ]
  },
  {
   "cell_type": "code",
   "execution_count": null,
   "metadata": {},
   "outputs": [],
   "source": []
  },
  {
   "cell_type": "code",
   "execution_count": null,
   "metadata": {},
   "outputs": [],
   "source": []
  }
 ],
 "metadata": {
  "kernelspec": {
   "display_name": "Python 3.7.1 64-bit",
   "language": "python",
   "name": "python37164biteddaa04d9bd6403f87a9a26eeb0f918e"
  },
  "language_info": {
   "codemirror_mode": {
    "name": "ipython",
    "version": 3
   },
   "file_extension": ".py",
   "mimetype": "text/x-python",
   "name": "python",
   "nbconvert_exporter": "python",
   "pygments_lexer": "ipython3",
   "version": "3.7.1"
  }
 },
 "nbformat": 4,
 "nbformat_minor": 2
}
