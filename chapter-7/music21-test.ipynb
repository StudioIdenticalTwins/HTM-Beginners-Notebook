{
 "cells": [
  {
   "cell_type": "markdown",
   "metadata": {},
   "source": [
    "## misic21"
   ]
  },
  {
   "cell_type": "code",
   "execution_count": 1,
   "metadata": {},
   "outputs": [
    {
     "data": {
      "text/plain": [
       "PosixPath('/Users/pon_dad/.music21rc')"
      ]
     },
     "execution_count": 1,
     "metadata": {},
     "output_type": "execute_result"
    }
   ],
   "source": [
    "from music21 import environment\n",
    "\n",
    "#us = environment.UserSettings()\n",
    "#us.getSettingsPath()"
   ]
  },
  {
   "cell_type": "code",
   "execution_count": 2,
   "metadata": {},
   "outputs": [],
   "source": [
    "#from music21 import environment\n",
    "\n",
    "#us = environment.UserSettings()\n",
    "#us.create()\n",
    "#us['musescoreDirectPNGPath'] = '/Applications/MuseScore 3.app/Contents/MacOS/mscore'\n",
    "#us['musicxmlPath'] = '/Applications/MuseScore 3.app/Contents/MacOS/mscore'"
   ]
  },
  {
   "cell_type": "code",
   "execution_count": 3,
   "metadata": {},
   "outputs": [
    {
     "data": {
      "image/png": "[encoded data removed]",
      "text/plain": [
       "<IPython.core.display.Image object>"
      ]
     },
     "metadata": {
      "image/png": {
       "height": 50,
       "width": 310
      }
     },
     "output_type": "display_data"
    },
    {
     "name": "stdout",
     "output_type": "stream",
     "text": [
      "pygame 2.0.0.dev4 (SDL 2.0.10, python 3.7.1)\n",
      "Hello from the pygame community. https://www.pygame.org/contribute.html\n"
     ]
    }
   ],
   "source": [
    "import music21\n",
    "from music21 import *\n",
    "\n",
    "stream1 = stream.Stream()\n",
    "note = note.Note(\"C4\", quarterLength = 1)\n",
    "stream1.insert(0,music21.note.Rest())\n",
    "stream1.repeatAppend(note, 4)\n",
    "stream1.show()\n",
    "\n",
    "sp=midi.realtime.StreamPlayer(stream1)\n",
    "sp.play()"
   ]
  },
  {
   "cell_type": "code",
   "execution_count": 9,
   "metadata": {},
   "outputs": [
    {
     "data": {
      "text/html": [
       "\n",
       "                <div id='midiPlayerDiv1566'></div>\n",
       "                <link rel=\"stylesheet\" href=\"//cuthbertLab.github.io/music21j/css/m21.css\"\n",
       "                    type=\"text/css\" />\n",
       "                <script>\n",
       "                require.config({\n",
       "                    paths: {'music21': '//cuthbertLab.github.io/music21j/src/music21'}\n",
       "                });\n",
       "                require(['music21'], function() {\n",
       "                               mp = new music21.miditools.MidiPlayer();\n",
       "                               mp.addPlayer('#midiPlayerDiv1566');\n",
       "                               mp.base64Load('data:audio/midi;base64,TVRoZAAAAAYAAQABBABNVHJrAAAAFwD/AwAA4ABAiACQTVqIAIBNAIgA/y8A');\n",
       "                        });\n",
       "                </script>"
      ],
      "text/plain": [
       "<IPython.core.display.HTML object>"
      ]
     },
     "metadata": {},
     "output_type": "display_data"
    }
   ],
   "source": [
    "import music21\n",
    "f = music21.note.Note(\"F5\")\n",
    "score = music21.stream.Stream()\n",
    "score.append(music21.note.Rest())\n",
    "score.append(f)\n",
    "\n",
    "score.show('midi')"
   ]
  },
  {
   "cell_type": "code",
   "execution_count": 4,
   "metadata": {},
   "outputs": [
    {
     "name": "stdout",
     "output_type": "stream",
     "text": [
      "4\n",
      "5\n"
     ]
    },
    {
     "data": {
      "image/png": "[encoded data removed]",
      "text/plain": [
       "<IPython.core.display.Image object>"
      ]
     },
     "metadata": {
      "image/png": {
       "height": 56,
       "width": 194
      }
     },
     "output_type": "display_data"
    }
   ],
   "source": [
    "from music21 import *\n",
    "\n",
    "s1 = stream.Stream()\n",
    "s1.append(note.Note('C#4', type='half'))\n",
    "s1.append(note.Note('D5', type='quarter'))\n",
    "s1.duration.quarterLength\n",
    "for thisNote in s1.notes:\n",
    "    print(thisNote.octave)\n",
    "s1.show()"
   ]
  },
  {
   "cell_type": "code",
   "execution_count": 7,
   "metadata": {},
   "outputs": [
    {
     "name": "stdout",
     "output_type": "stream",
     "text": [
      "{0.0} <music21.clef.TrebleClef>\n",
      "{0.0} <music21.stream.Part embeddedPart>\n",
      "    {0.0} <music21.note.Rest rest>\n",
      "{1.0} <music21.note.Note E->\n"
     ]
    },
    {
     "data": {
      "image/png": "[encoded data removed]",
      "text/plain": [
       "<IPython.core.display.Image object>"
      ]
     },
     "metadata": {
      "image/png": {
       "height": 49,
       "width": 145
      }
     },
     "output_type": "display_data"
    },
    {
     "data": {
      "text/html": [
       "\n",
       "                <div id='midiPlayerDiv1050'></div>\n",
       "                <link rel=\"stylesheet\" href=\"//cuthbertLab.github.io/music21j/css/m21.css\"\n",
       "                    type=\"text/css\" />\n",
       "                <script>\n",
       "                require.config({\n",
       "                    paths: {'music21': '//cuthbertLab.github.io/music21j/src/music21'}\n",
       "                });\n",
       "                require(['music21'], function() {\n",
       "                               mp = new music21.miditools.MidiPlayer();\n",
       "                               mp.addPlayer('#midiPlayerDiv1050');\n",
       "                               mp.base64Load('data:audio/midi;base64,TVRoZAAAAAYAAQABBABNVHJrAAAACQD/AwCIAP8vAA==');\n",
       "                        });\n",
       "                </script>"
      ],
      "text/plain": [
       "<IPython.core.display.HTML object>"
      ]
     },
     "metadata": {},
     "output_type": "display_data"
    }
   ],
   "source": [
    "c1 = clef.TrebleClef()\n",
    "c1.offset = 0.0\n",
    "c1.priority = -1\n",
    "n1 = note.Note('E-6', type='eighth')\n",
    "n1.offset = 1.0\n",
    "p1 = stream.Part()\n",
    "p1.offset = 0.0\n",
    "p1.id = 'embeddedPart'\n",
    "p1.append(note.Rest())  # quarter rest\n",
    "s2 = stream.Stream([c1, n1, p1])\n",
    "#s2.duration.quarterLength\n",
    "s2.show('text')\n",
    "s2.show()\n",
    "s2.show(\"midi\")"
   ]
  },
  {
   "cell_type": "code",
   "execution_count": 23,
   "metadata": {},
   "outputs": [
    {
     "name": "stdout",
     "output_type": "stream",
     "text": [
      "Music file twinkle_twinkle.mid loaded!\n"
     ]
    }
   ],
   "source": [
    "import pygame\n",
    "\n",
    "def play_music(music_file):\n",
    "    \"\"\"\n",
    "    stream music with mixer.music module in blocking manner\n",
    "    this will stream the sound from disk while playing\n",
    "    \"\"\"\n",
    "    clock = pygame.time.Clock()\n",
    "    try:\n",
    "        pygame.mixer.music.load(music_file)\n",
    "        print (\"Music file %s loaded!\" % music_file)\n",
    "    except pygame.error:\n",
    "        print (\"File %s not found! (%s)\" % (music_file, pygame.get_error()))\n",
    "        return\n",
    "    pygame.mixer.music.play()\n",
    "    while pygame.mixer.music.get_busy():\n",
    "        # check if playback has finished\n",
    "        clock.tick(30)\n",
    "# pick a midi music file you have ...\n",
    "# (if not in working folder use full path)\n",
    "\n",
    "midi_file = 'twinkle_twinkle.mid'\n",
    "freq = 44100    # audio CD quality\n",
    "bitsize = -16   # unsigned 16 bit\n",
    "channels = 2    # 1 is mono, 2 is stereo\n",
    "buffer = 1024    # number of samples\n",
    "pygame.mixer.init(freq, bitsize, channels, buffer)\n",
    "\n",
    "# optional volume 0 to 1.0\n",
    "pygame.mixer.music.set_volume(0.8)\n",
    "try:\n",
    "    play_music(midi_file)\n",
    "except KeyboardInterrupt:\n",
    "    # if user hits Ctrl/C then exit\n",
    "    # (works only in console mode)\n",
    "    pygame.mixer.music.fadeout(1000)\n",
    "    pygame.mixer.music.stop()\n",
    "    raise SystemExit"
   ]
  },
  {
   "cell_type": "code",
   "execution_count": 25,
   "metadata": {},
   "outputs": [
    {
     "name": "stdout",
     "output_type": "stream",
     "text": [
      "pygame 1.9.6\n",
      "Hello from the pygame community. https://www.pygame.org/contribute.html\n",
      "Music file twinkle_twinkle.mid loaded!\n"
     ]
    }
   ],
   "source": [
    "!python3 play.py  'twinkle_twinkle.mid'"
   ]
  },
  {
   "cell_type": "code",
   "execution_count": 2,
   "metadata": {},
   "outputs": [
    {
     "data": {
      "image/png": "[encoded data removed]",
      "text/plain": [
       "<IPython.core.display.Image object>"
      ]
     },
     "metadata": {
      "image/png": {
       "height": 50,
       "width": 346
      }
     },
     "output_type": "display_data"
    },
    {
     "data": {
      "text/html": [
       "\n",
       "                <div id='midiPlayerDiv487'></div>\n",
       "                <link rel=\"stylesheet\" href=\"//cuthbertLab.github.io/music21j/css/m21.css\"\n",
       "                    type=\"text/css\" />\n",
       "                <script>\n",
       "                require.config({\n",
       "                    paths: {'music21': '//cuthbertLab.github.io/music21j/src/music21'}\n",
       "                });\n",
       "                require(['music21'], function() {\n",
       "                               mp = new music21.miditools.MidiPlayer();\n",
       "                               mp.addPlayer('#midiPlayerDiv487');\n",
       "                               mp.base64Load('data:audio/midi;base64,TVRoZAAAAAYAAQABBABNVHJrAAAAVAD/AwAA4ABAAP9YBAQCGAgAkDxaiACAPAAAkDxaiACAPAAAkENaiACAQwAAkENaiACAQwAAkEVaiACARQAAkEVaiACARQAAkENaiACAQwCIAP8vAA==');\n",
       "                        });\n",
       "                </script>"
      ],
      "text/plain": [
       "<IPython.core.display.HTML object>"
      ]
     },
     "metadata": {},
     "output_type": "display_data"
    },
    {
     "data": {
      "image/png": "[encoded data removed]",
      "text/plain": [
       "<IPython.core.display.Image object>"
      ]
     },
     "metadata": {
      "image/png": {
       "height": 50,
       "width": 372
      }
     },
     "output_type": "display_data"
    },
    {
     "data": {
      "text/html": [
       "\n",
       "                <div id='midiPlayerDiv786'></div>\n",
       "                <link rel=\"stylesheet\" href=\"//cuthbertLab.github.io/music21j/css/m21.css\"\n",
       "                    type=\"text/css\" />\n",
       "                <script>\n",
       "                require.config({\n",
       "                    paths: {'music21': '//cuthbertLab.github.io/music21j/src/music21'}\n",
       "                });\n",
       "                require(['music21'], function() {\n",
       "                               mp = new music21.miditools.MidiPlayer();\n",
       "                               mp.addPlayer('#midiPlayerDiv786');\n",
       "                               mp.base64Load('data:audio/midi;base64,TVRoZAAAAAYAAQABBABNVHJrAAAAVQD/AwAA4ABAAP9YBAQCGAiIAJA8WogAgDwAAJA8WogAgDwAAJBDWogAgEMAAJBDWogAgEMAAJBFWogAgEUAAJBFWogAgEUAAJBDWogAgEMAiAD/LwA=');\n",
       "                        });\n",
       "                </script>"
      ],
      "text/plain": [
       "<IPython.core.display.HTML object>"
      ]
     },
     "metadata": {},
     "output_type": "display_data"
    }
   ],
   "source": [
    "from music21 import note,stream,corpus,chord,environment,converter,midi\n",
    "stream2 = converter.parse('tinyNotation: 4/4 c4 c4 g4 g4 a4 a4 g4')\n",
    "stream2.show()\n",
    "stream2.show(\"midi\")\n",
    "\n",
    "stream2 = converter.parse('tinyNotation: 4/4 r c4 c4 g4 g4 a4 a4 g4')\n",
    "stream2.show()\n",
    "stream2.show(\"midi\")"
   ]
  },
  {
   "cell_type": "code",
   "execution_count": null,
   "metadata": {},
   "outputs": [],
   "source": []
  },
  {
   "cell_type": "code",
   "execution_count": 16,
   "metadata": {},
   "outputs": [
    {
     "data": {
      "image/png": "[encoded data removed]",
      "text/plain": [
       "<IPython.core.display.Image object>"
      ]
     },
     "metadata": {
      "image/png": {
       "height": 217,
       "width": 752
      }
     },
     "output_type": "display_data"
    },
    {
     "data": {
      "image/png": "[encoded data removed]",
      "text/plain": [
       "<IPython.core.display.Image object>"
      ]
     },
     "metadata": {
      "image/png": {
       "height": 217,
       "width": 752
      }
     },
     "output_type": "display_data"
    },
    {
     "data": {
      "text/html": [
       "\n",
       "                <div id='midiPlayerDiv14073'></div>\n",
       "                <link rel=\"stylesheet\" href=\"//cuthbertLab.github.io/music21j/css/m21.css\"\n",
       "                    type=\"text/css\" />\n",
       "                <script>\n",
       "                require.config({\n",
       "                    paths: {'music21': '//cuthbertLab.github.io/music21j/src/music21'}\n",
       "                });\n",
       "                require(['music21'], function() {\n",
       "                               mp = new music21.miditools.MidiPlayer();\n",
       "                               mp.addPlayer('#midiPlayerDiv14073');\n",
       "                               mp.base64Load('data:audio/midi;base64,TVRoZAAAAAYAAQABBABNVHJrAAACgAD/AwVQaWFubwDAAADgAEAAwAAA/1EDCSfAAP9ZAgAAAP9YBAQCGAgAkDxFAJAwQYgAgDwAAJA8TIgAgDAAAIA8AACQQ1cAkDRMiACAQwAAkENRiACANAAAgEMAAJBFUACQNUyIAIBFAACQRU2IAIA1AACARQAAkENMAJA0TZAAgEMAAIA0AACQQUMAkDJMiACAQQAAkEFKiACAMgAAgEEAAJBASQCQMEuIAIBAAACQQEqIAIAwAACAQAAAkD5HAJA1UYgAgD4AAIA1AACQPk0AkDdOiACAPgAAgDcAAJA8RACQNEaIAIA0AACQMEiIAIA8AACAMAAAkENXAJA0VIgAgEMAAJBDTogAgDQAAIBDAACQQUQAkDVMiACAQQAAkEFIiACANQAAgEEAAJBASgCQN1OIAIBAAACQQEuIAIA3AACAQAAAkD5KAJA3TJAAgD4AAIA3AACQQ1cAkDRHiACAQwAAkENRiACANAAAgEMAAJBBRACQNU2IAIBBAACQQUuIAIA1AACAQQAAkEBNAJA3UIgAgEAAAJBATYgAgDcAAIBAAACQPkgAkDdKkACAPgAAgDcAAJA8SQCQMEmIAIA8AACQPEqIAIAwAACAPAAAkENVAJA0VYgAgEMAAJBDT4gAgDQAAIBDAACQRU8AkDVUiACARQAAkEVNiACANQAAgEUAAJBDRQCQNEqQAIBDAACANAAAkEFKAJAyT4gAgEEAAJBBTYgAgDIAAIBBAACQQEwAkDBKiACAQAAAkEBMiACAMAAAgEAAAJA+SQCQNVCIAIA+AACANQAAkD5NAJA3UYgAgD4AAIA3AACQPEcAkDBFkACAPAAAgDAAiAD/LwA=');\n",
       "                        });\n",
       "                </script>"
      ],
      "text/plain": [
       "<IPython.core.display.HTML object>"
      ]
     },
     "metadata": {},
     "output_type": "display_data"
    }
   ],
   "source": [
    "from music21 import converter, instrument, note, chord, stream\n",
    "import numpy as np\n",
    "nocturne = converter.parse('twinkle_twinkle.mid')\n",
    "nocturne.show()\n",
    "blank= note.Note(\"C4\", quarterLength = 1)\n",
    "nocturne.insert(0,blank)\n",
    "nocturne.show()\n",
    "nocturne.show(\"midi\")"
   ]
  },
  {
   "cell_type": "code",
   "execution_count": 2,
   "metadata": {},
   "outputs": [
    {
     "name": "stdout",
     "output_type": "stream",
     "text": [
      "<music21.stream.Score 0x113974390>\n",
      "<music21.stream.iterator.RecursiveIterator for Part:Piano @:0>\n"
     ]
    }
   ],
   "source": [
    "nocturne = converter.parse('twinkle_twinkle.mid')\n",
    "\n",
    "parts = instrument.partitionByInstrument(nocturne)\n",
    "\n",
    "print(parts)\n",
    "\n",
    "notes_to_parse = parts.parts[0].recurse()  # 対象のパートを一つに絞る\n",
    "\n",
    "print(notes_to_parse)\n",
    "\n",
    "string_nocturne_notes = []\n",
    "\n",
    "for element in notes_to_parse:\n",
    "    if isinstance(element, note.Note):\n",
    "      string_nocturne_notes.append(str(element.pitch))\n",
    "    elif isinstance(element, chord.Chord):\n",
    "      string_nocturne_notes.append('.'.join(str(n) for n in element.normalOrder))"
   ]
  },
  {
   "cell_type": "code",
   "execution_count": 3,
   "metadata": {},
   "outputs": [
    {
     "name": "stdout",
     "output_type": "stream",
     "text": [
      "['C4', 'C3', 'C4', 'G4', 'E3', 'G4', 'A4', 'F3', 'A4', '4.7', 'F4', 'D3', 'F4', 'E4', 'C3', 'E4', '2.5', '2.7', 'C4', 'E3', 'C3', 'G4', 'E3', 'G4', 'F4', 'F3', 'F4', 'E4', 'G3', 'E4', '2.7', 'G4', 'E3', 'G4', 'F4', 'F3', 'F4', 'E4', 'G3', 'E4', '2.7', 'C4', 'C3', 'C4', 'G4', 'E3', 'G4', 'A4', 'F3', 'A4', '4.7', 'F4', 'D3', 'F4', 'E4', 'C3', 'E4', '2.5', '2.7', '0']\n"
     ]
    }
   ],
   "source": [
    "print(string_nocturne_notes)"
   ]
  },
  {
   "cell_type": "code",
   "execution_count": 4,
   "metadata": {},
   "outputs": [
    {
     "name": "stdout",
     "output_type": "stream",
     "text": [
      "['0', '2.5', '2.7', '4.7', 'A4', 'C3', 'C4', 'D3', 'E3', 'E4', 'F3', 'F4', 'G3', 'G4']\n"
     ]
    }
   ],
   "source": [
    "notenames = sorted(set(string_nocturne_notes)) #音名\n",
    "print(notenames)"
   ]
  },
  {
   "cell_type": "code",
   "execution_count": 5,
   "metadata": {},
   "outputs": [
    {
     "name": "stdout",
     "output_type": "stream",
     "text": [
      "{'0': 0, '2.5': 1, '2.7': 2, '4.7': 3, 'A4': 4, 'C3': 5, 'C4': 6, 'D3': 7, 'E3': 8, 'E4': 9, 'F3': 10, 'F4': 11, 'G3': 12, 'G4': 13}\n"
     ]
    }
   ],
   "source": [
    "note2int = dict((string_note, number) for number, string_note in enumerate(notenames))\n",
    "print(note2int)"
   ]
  },
  {
   "cell_type": "code",
   "execution_count": 6,
   "metadata": {},
   "outputs": [
    {
     "name": "stdout",
     "output_type": "stream",
     "text": [
      "[6, 5, 6, 13, 8, 13, 4, 10, 4, 3, 11, 7, 11, 9, 5, 9, 1, 2, 6, 8, 5, 13, 8, 13, 11, 10, 11, 9, 12, 9, 2, 13, 8, 13, 11, 10, 11, 9, 12, 9, 2, 6, 5, 6, 13, 8, 13, 4, 10, 4, 3, 11, 7, 11, 9, 5, 9, 1, 2, 0]\n"
     ]
    }
   ],
   "source": [
    "numerical_nocturne_notes = []\n",
    "for string_note in string_nocturne_notes:\n",
    "    numerical_nocturne_notes.append(note2int[string_note])\n",
    "    \n",
    "print(numerical_nocturne_notes)"
   ]
  },
  {
   "cell_type": "code",
   "execution_count": null,
   "metadata": {},
   "outputs": [],
   "source": []
  },
  {
   "cell_type": "code",
   "execution_count": 7,
   "metadata": {},
   "outputs": [],
   "source": [
    "def create_midi(prediction_output):\n",
    "    \"\"\" convert the output from the prediction to notes and create a midi file\n",
    "        from the notes \"\"\"\n",
    "    offset = 0\n",
    "    output_notes = []\n",
    "\n",
    "    # create note and chord objects based on the values generated by the model\n",
    "    for pattern in prediction_output:\n",
    "        # pattern is a chord\n",
    "        if ('.' in pattern) or pattern.isdigit():\n",
    "            notes_in_chord = pattern.split('.')\n",
    "            notes = []\n",
    "            for current_note in notes_in_chord:\n",
    "                new_note = note.Note(int(current_note))\n",
    "                new_note.storedInstrument = instrument.Piano()\n",
    "                notes.append(new_note)\n",
    "            new_chord = chord.Chord(notes)\n",
    "            new_chord.offset = offset\n",
    "            output_notes.append(new_chord)\n",
    "        # pattern is a note\n",
    "        else:\n",
    "            new_note = note.Note(pattern)\n",
    "            new_note.offset = offset\n",
    "            new_note.storedInstrument = instrument.Piano()\n",
    "            output_notes.append(new_note)\n",
    "\n",
    "        # increase offset each iteration so that notes do not stack\n",
    "        offset += 0.5\n",
    "\n",
    "    midi_stream = stream.Stream(output_notes)\n",
    "\n",
    "    midi_stream.write('midi', fp='test_output.mid')"
   ]
  },
  {
   "cell_type": "code",
   "execution_count": 8,
   "metadata": {},
   "outputs": [
    {
     "ename": "TypeError",
     "evalue": "argument of type 'int' is not iterable",
     "output_type": "error",
     "traceback": [
      "\u001b[0;31m---------------------------------------------------------------------------\u001b[0m",
      "\u001b[0;31mTypeError\u001b[0m                                 Traceback (most recent call last)",
      "\u001b[0;32m<ipython-input-8-ad98653e0aa2>\u001b[0m in \u001b[0;36m<module>\u001b[0;34m\u001b[0m\n\u001b[0;32m----> 1\u001b[0;31m \u001b[0mcreate_midi\u001b[0m\u001b[0;34m(\u001b[0m\u001b[0mnumerical_nocturne_notes\u001b[0m\u001b[0;34m)\u001b[0m\u001b[0;34m\u001b[0m\u001b[0;34m\u001b[0m\u001b[0m\n\u001b[0m",
      "\u001b[0;32m<ipython-input-7-51f14d864275>\u001b[0m in \u001b[0;36mcreate_midi\u001b[0;34m(prediction_output)\u001b[0m\n\u001b[1;32m      8\u001b[0m     \u001b[0;32mfor\u001b[0m \u001b[0mpattern\u001b[0m \u001b[0;32min\u001b[0m \u001b[0mprediction_output\u001b[0m\u001b[0;34m:\u001b[0m\u001b[0;34m\u001b[0m\u001b[0;34m\u001b[0m\u001b[0m\n\u001b[1;32m      9\u001b[0m         \u001b[0;31m# pattern is a chord\u001b[0m\u001b[0;34m\u001b[0m\u001b[0;34m\u001b[0m\u001b[0;34m\u001b[0m\u001b[0m\n\u001b[0;32m---> 10\u001b[0;31m         \u001b[0;32mif\u001b[0m \u001b[0;34m(\u001b[0m\u001b[0;34m'.'\u001b[0m \u001b[0;32min\u001b[0m \u001b[0mpattern\u001b[0m\u001b[0;34m)\u001b[0m \u001b[0;32mor\u001b[0m \u001b[0mpattern\u001b[0m\u001b[0;34m.\u001b[0m\u001b[0misdigit\u001b[0m\u001b[0;34m(\u001b[0m\u001b[0;34m)\u001b[0m\u001b[0;34m:\u001b[0m\u001b[0;34m\u001b[0m\u001b[0;34m\u001b[0m\u001b[0m\n\u001b[0m\u001b[1;32m     11\u001b[0m             \u001b[0mnotes_in_chord\u001b[0m \u001b[0;34m=\u001b[0m \u001b[0mpattern\u001b[0m\u001b[0;34m.\u001b[0m\u001b[0msplit\u001b[0m\u001b[0;34m(\u001b[0m\u001b[0;34m'.'\u001b[0m\u001b[0;34m)\u001b[0m\u001b[0;34m\u001b[0m\u001b[0;34m\u001b[0m\u001b[0m\n\u001b[1;32m     12\u001b[0m             \u001b[0mnotes\u001b[0m \u001b[0;34m=\u001b[0m \u001b[0;34m[\u001b[0m\u001b[0;34m]\u001b[0m\u001b[0;34m\u001b[0m\u001b[0;34m\u001b[0m\u001b[0m\n",
      "\u001b[0;31mTypeError\u001b[0m: argument of type 'int' is not iterable"
     ]
    }
   ],
   "source": [
    "create_midi(numerical_nocturne_notes)"
   ]
  },
  {
   "cell_type": "code",
   "execution_count": 5,
   "metadata": {},
   "outputs": [
    {
     "data": {
      "image/png": "[encoded data removed]",
      "text/plain": [
       "<IPython.core.display.Image object>"
      ]
     },
     "metadata": {
      "image/png": {
       "height": 51,
       "width": 291
      }
     },
     "output_type": "display_data"
    }
   ],
   "source": [
    "import music21\n",
    "from music21 import *\n",
    "s2 = stream.Stream()\n",
    "\n",
    "n = note.Note(midi=60,quarterLength = 1)\n",
    "s2.append(n)\n",
    "n2 = note.Note(midi=60,quarterLength = 0.25)\n",
    "s2.append(n2)\n",
    "n = note.Note(midi=60,quarterLength = 1)\n",
    "s2.append(n)\n",
    "n3 = note.Note(midi=60,quarterLength = 0.33)\n",
    "s2.append(n3)\n",
    "\n",
    "s2.show()"
   ]
  },
  {
   "cell_type": "code",
   "execution_count": null,
   "metadata": {},
   "outputs": [],
   "source": []
  }
 ],
 "metadata": {
  "kernelspec": {
   "display_name": "Python 3.7.1 64-bit",
   "language": "python",
   "name": "python37164biteddaa04d9bd6403f87a9a26eeb0f918e"
  },
  "language_info": {
   "codemirror_mode": {
    "name": "ipython",
    "version": 3
   },
   "file_extension": ".py",
   "mimetype": "text/x-python",
   "name": "python",
   "nbconvert_exporter": "python",
   "pygments_lexer": "ipython3",
   "version": "3.7.1"
  }
 },
 "nbformat": 4,
 "nbformat_minor": 2
}
