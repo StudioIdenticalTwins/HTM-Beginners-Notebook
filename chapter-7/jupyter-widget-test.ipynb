{
 "cells": [
  {
   "cell_type": "code",
   "execution_count": 1,
   "metadata": {},
   "outputs": [],
   "source": [
    "input_notes=[]"
   ]
  },
  {
   "cell_type": "code",
   "execution_count": 3,
   "metadata": {},
   "outputs": [
    {
     "data": {
      "application/vnd.jupyter.widget-view+json": {
       "model_id": "8c18f49291d6417b812de485e67d18f5",
       "version_major": 2,
       "version_minor": 0
      },
      "text/plain": [
       "Box(children=(Button(description='C', layout=Layout(border='1px solid black', height='100px', width='40px'), s…"
      ]
     },
     "metadata": {},
     "output_type": "display_data"
    },
    {
     "data": {
      "application/vnd.jupyter.widget-view+json": {
       "model_id": "7986df58b8ed4b60ab115f73321d473e",
       "version_major": 2,
       "version_minor": 0
      },
      "text/plain": [
       "Output()"
      ]
     },
     "metadata": {},
     "output_type": "display_data"
    }
   ],
   "source": [
    "from ipywidgets import *\n",
    "from IPython.display import display, clear_output\n",
    "import functools\n",
    "\n",
    "notes=[\"C\",\"C#\",\"D\",\"D#\",\"E\",\"F\",\"F#\",\"G\",\"G#\",\"A\",\"A#\",\"B\",\"C\"]\n",
    "pitchs=[60,61,62,63,64,65,66,67,68,69,70,71,72]\n",
    "layout = widgets.Layout(\n",
    "    width='40px', height='100px',\n",
    "    border='1px solid black')\n",
    "\n",
    "output = widgets.Output()\n",
    "\n",
    "buttons = []\n",
    "for note in notes:\n",
    "    button = widgets.Button(\n",
    "        description=note, layout=layout)\n",
    "    \n",
    "    button.style.button_color = ('white', 'lightgray')['#' in note]\n",
    "    \n",
    "    def on_button_click(b, note):\n",
    "        with output:\n",
    "            clear_output(wait = True)\n",
    "            input_notes.append(pitchs[notes.index(note.description)])\n",
    "            print(\"input_note\",note.description)\n",
    "            print(\"input_notes\",input_notes)\n",
    "            \n",
    "    button.on_click(functools.partial(on_button_click, note))\n",
    "\n",
    "    buttons.append(button)\n",
    "\n",
    "piano = widgets.Box(children=buttons)\n",
    "\n",
    "display(piano, output)"
   ]
  },
  {
   "cell_type": "code",
   "execution_count": 4,
   "metadata": {},
   "outputs": [
    {
     "name": "stdout",
     "output_type": "stream",
     "text": [
      "[60, 62, 64, 65, 67, 65, 64, 62, 60, 62, 64, 65, 67, 65, 64, 62, 60, 62, 64, 65, 67, 65, 64, 62, 60]\n"
     ]
    }
   ],
   "source": [
    "print(input_notes)"
   ]
  },
  {
   "cell_type": "code",
   "execution_count": 5,
   "metadata": {},
   "outputs": [
    {
     "data": {
      "image/png": "[encoded data removed]",
      "text/plain": [
       "<IPython.core.display.Image object>"
      ]
     },
     "metadata": {
      "image/png": {
       "height": 50,
       "width": 748
      }
     },
     "output_type": "display_data"
    },
    {
     "data": {
      "text/plain": [
       "'input_notes.mid'"
      ]
     },
     "execution_count": 5,
     "metadata": {},
     "output_type": "execute_result"
    }
   ],
   "source": [
    "from music21 import *\n",
    "s1 = stream.Stream()\n",
    "\n",
    "for n in range(len(input_notes)):\n",
    "    notePitch  = input_notes[n]\n",
    "    noteLength= 1\n",
    "    n = note.Note(midi=notePitch ,quarterLength = noteLength)\n",
    "\n",
    "    s1.append(n)\n",
    "\n",
    "s1.show()\n",
    "s1.write(\"midi\",\"input_notes.mid\")"
   ]
  },
  {
   "cell_type": "code",
   "execution_count": 6,
   "metadata": {},
   "outputs": [
    {
     "name": "stdout",
     "output_type": "stream",
     "text": [
      "pygame 2.0.0.dev4 (SDL 2.0.10, python 3.7.1)\n",
      "Hello from the pygame community. https://www.pygame.org/contribute.html\n",
      "Music file input_notes.mid loaded!\n"
     ]
    }
   ],
   "source": [
    "!python3 play.py \"input_notes.mid\""
   ]
  },
  {
   "cell_type": "code",
   "execution_count": 7,
   "metadata": {},
   "outputs": [],
   "source": [
    "import numpy as np\n",
    "\n",
    "from htm.bindings.sdr import SDR\n",
    "from htm.bindings.encoders import ScalarEncoder, ScalarEncoderParameters\n",
    "from htm.algorithms import SpatialPooler as SP\n",
    "from htm.algorithms import TemporalMemory as TM\n",
    "from htm.bindings.algorithms import Classifier\n",
    "from htm.bindings.algorithms import Predictor\n",
    "\n",
    "import matplotlib\n",
    "import matplotlib.pyplot as plt\n",
    "from IPython.display import display, clear_output"
   ]
  },
  {
   "cell_type": "code",
   "execution_count": 8,
   "metadata": {},
   "outputs": [
    {
     "name": "stdout",
     "output_type": "stream",
     "text": [
      "SDR( 48 ) 15, 16, 17\n",
      "SDR( 48 ) 22, 23, 24\n",
      "SDR( 48 ) 30, 31, 32\n"
     ]
    }
   ],
   "source": [
    "pitchParams = ScalarEncoderParameters()\n",
    "pitchParams.minimum = 48\n",
    "pitchParams.maximum = 83\n",
    "pitchParams.activeBits = 3\n",
    "pitchParams.size = 48\n",
    "pitchParams.clipInput  = True\n",
    "\n",
    "encPitch = ScalarEncoder(pitchParams)\n",
    "print(encPitch.encode(60))\n",
    "print(encPitch.encode(65))\n",
    "print(encPitch.encode(71))"
   ]
  },
  {
   "cell_type": "code",
   "execution_count": 9,
   "metadata": {},
   "outputs": [],
   "source": [
    "inputSDR  = SDR( dimensions = (48, ) )\n",
    "activeSDR = SDR( dimensions = (576,) )\n",
    "sp = SP(inputDimensions  = inputSDR.dimensions,\n",
    "        columnDimensions = activeSDR.dimensions,\n",
    "        localAreaDensity = 0.02,\n",
    "        globalInhibition = True,\n",
    "        seed             = 1,\n",
    "        synPermActiveInc   = 0.01,\n",
    "        synPermInactiveDec = 0.008)"
   ]
  },
  {
   "cell_type": "code",
   "execution_count": 10,
   "metadata": {},
   "outputs": [],
   "source": [
    "tm = TM(\n",
    "    columnDimensions = (576,),\n",
    "    cellsPerColumn=8,\n",
    "    initialPermanence=0.5,\n",
    "    connectedPermanence=0.5,\n",
    "    minThreshold=8,\n",
    "    maxNewSynapseCount=20,\n",
    "    permanenceIncrement=0.1,\n",
    "    permanenceDecrement=0.0,\n",
    "    activationThreshold=8,\n",
    ")"
   ]
  },
  {
   "cell_type": "code",
   "execution_count": 11,
   "metadata": {},
   "outputs": [],
   "source": [
    "clsr = Classifier()\n",
    "resolution = 1\n",
    "minimum = 48"
   ]
  },
  {
   "cell_type": "code",
   "execution_count": 12,
   "metadata": {},
   "outputs": [],
   "source": [
    "predictor = Predictor( steps=[1])\n",
    "resolution = 1\n",
    "minimum = 48"
   ]
  },
  {
   "cell_type": "code",
   "execution_count": 13,
   "metadata": {},
   "outputs": [
    {
     "name": "stdout",
     "output_type": "stream",
     "text": [
      "Input:  60\n",
      "Classifier:  60\n",
      "Prediction:  nan\n",
      "Input:  62\n",
      "Classifier:  62\n",
      "Prediction:  48\n",
      "Input:  64\n",
      "Classifier:  64\n",
      "Prediction:  48\n",
      "Input:  65\n",
      "Classifier:  65\n",
      "Prediction:  65\n",
      "Input:  67\n",
      "Classifier:  67\n",
      "Prediction:  67\n",
      "Input:  65\n",
      "Classifier:  65\n",
      "Prediction:  67\n",
      "Input:  64\n",
      "Classifier:  64\n",
      "Prediction:  65\n",
      "Input:  62\n",
      "Classifier:  62\n",
      "Prediction:  64\n",
      "Input:  60\n",
      "Classifier:  60\n",
      "Prediction:  62\n",
      "Input:  62\n",
      "Classifier:  62\n",
      "Prediction:  60\n",
      "Input:  64\n",
      "Classifier:  64\n",
      "Prediction:  62\n",
      "Input:  65\n",
      "Classifier:  65\n",
      "Prediction:  67\n",
      "Input:  67\n",
      "Classifier:  67\n",
      "Prediction:  65\n",
      "Input:  65\n",
      "Classifier:  65\n",
      "Prediction:  67\n",
      "Input:  64\n",
      "Classifier:  64\n",
      "Prediction:  62\n",
      "Input:  62\n",
      "Classifier:  62\n",
      "Prediction:  60\n",
      "Input:  60\n",
      "Classifier:  60\n",
      "Prediction:  62\n",
      "Input:  62\n",
      "Classifier:  62\n",
      "Prediction:  64\n",
      "Input:  64\n",
      "Classifier:  64\n",
      "Prediction:  65\n",
      "Input:  65\n",
      "Classifier:  65\n",
      "Prediction:  67\n",
      "Input:  67\n",
      "Classifier:  67\n",
      "Prediction:  65\n",
      "Input:  65\n",
      "Classifier:  65\n",
      "Prediction:  64\n",
      "Input:  64\n",
      "Classifier:  64\n",
      "Prediction:  62\n",
      "Input:  62\n",
      "Classifier:  62\n",
      "Prediction:  60\n",
      "Input:  60\n",
      "Classifier:  60\n",
      "Prediction:  62\n"
     ]
    }
   ],
   "source": [
    "for i in range(len(input_notes)):\n",
    "    print(\"Input: \",input_notes[i])\n",
    "    inputSDR = encPitch.encode(input_notes[i])\n",
    "    sp.compute(inputSDR, True, activeSDR)\n",
    "\n",
    "    tm.compute( activeSDR, learn=True)\n",
    "    \n",
    "    clsr.learn(tm.getActiveCells(), int((input_notes[i] - minimum) / resolution))\n",
    "    classifier=np.argmax( clsr.infer( tm.getActiveCells() ) ) * resolution + minimum\n",
    "    \n",
    "    predictor.learn(i, tm.getActiveCells(), int((input_notes[i] - minimum) / resolution))\n",
    "    pdf = predictor.infer( tm.getActiveCells() )\n",
    "    \n",
    "    if pdf[1]:\n",
    "        prediction=np.argmax( pdf[1]) * resolution + minimum\n",
    "    else:\n",
    "        prediction=float(\"nan\")\n",
    "        \n",
    "    print(\"Classifier: \",classifier)\n",
    "    print(\"Prediction: \",prediction)"
   ]
  },
  {
   "cell_type": "code",
   "execution_count": 26,
   "metadata": {},
   "outputs": [],
   "source": [
    "test_notes=[]"
   ]
  },
  {
   "cell_type": "code",
   "execution_count": 27,
   "metadata": {},
   "outputs": [
    {
     "data": {
      "application/vnd.jupyter.widget-view+json": {
       "model_id": "3e808e343cdf4ff498cbd62b09f5cbc7",
       "version_major": 2,
       "version_minor": 0
      },
      "text/plain": [
       "Box(children=(Button(description='C', layout=Layout(border='1px solid black', height='100px', width='40px'), s…"
      ]
     },
     "metadata": {},
     "output_type": "display_data"
    },
    {
     "data": {
      "application/vnd.jupyter.widget-view+json": {
       "model_id": "9eab3dfe0f0248fea263a7b0c4141a95",
       "version_major": 2,
       "version_minor": 0
      },
      "text/plain": [
       "Output()"
      ]
     },
     "metadata": {},
     "output_type": "display_data"
    }
   ],
   "source": [
    "from ipywidgets import *\n",
    "from IPython.display import display, clear_output\n",
    "import functools\n",
    "\n",
    "notes=[\"C\",\"C#\",\"D\",\"D#\",\"E\",\"F\",\"F#\",\"G\",\"G#\",\"A\",\"A#\",\"B\",\"C\"]\n",
    "pitchs=[60,61,62,63,64,65,66,67,68,69,70,71,72]\n",
    "layout = widgets.Layout(\n",
    "    width='40px', height='100px',\n",
    "    border='1px solid black')\n",
    "\n",
    "output = widgets.Output()\n",
    "\n",
    "buttons = []\n",
    "for note in notes:\n",
    "    button = widgets.Button(\n",
    "        description=note, layout=layout)\n",
    "    \n",
    "    button.style.button_color = ('white', 'lightgray')['#' in note]\n",
    "    \n",
    "    def on_button_click(b, note):\n",
    "        with output:\n",
    "            clear_output(wait = True)\n",
    "            test_notes.append(pitchs[notes.index(note.description)])\n",
    "            print(\"input_note\",note.description)\n",
    "            print(\"test_notes\",test_notes)\n",
    "            \n",
    "    button.on_click(functools.partial(on_button_click, note))\n",
    "\n",
    "    buttons.append(button)\n",
    "\n",
    "piano = widgets.Box(children=buttons)\n",
    "\n",
    "display(piano, output)"
   ]
  },
  {
   "cell_type": "code",
   "execution_count": 28,
   "metadata": {},
   "outputs": [
    {
     "name": "stdout",
     "output_type": "stream",
     "text": [
      "[65, 67, 65]\n"
     ]
    }
   ],
   "source": [
    "print(test_notes)"
   ]
  },
  {
   "cell_type": "code",
   "execution_count": 29,
   "metadata": {},
   "outputs": [
    {
     "data": {
      "image/png": "[encoded data removed]",
      "text/plain": [
       "<IPython.core.display.Image object>"
      ]
     },
     "metadata": {
      "image/png": {
       "height": 49,
       "width": 196
      }
     },
     "output_type": "display_data"
    },
    {
     "data": {
      "text/plain": [
       "'test_notes.mid'"
      ]
     },
     "execution_count": 29,
     "metadata": {},
     "output_type": "execute_result"
    }
   ],
   "source": [
    "from music21 import *\n",
    "s2 = stream.Stream()\n",
    "\n",
    "for n in range(len(test_notes)):\n",
    "    notePitch  = test_notes[n]\n",
    "    noteLength= 1\n",
    "    n = note.Note(midi=notePitch ,quarterLength = noteLength)\n",
    "\n",
    "    s2.append(n)\n",
    "\n",
    "s2.show()\n",
    "s2.write(\"midi\",\"test_notes.mid\")"
   ]
  },
  {
   "cell_type": "code",
   "execution_count": 30,
   "metadata": {},
   "outputs": [
    {
     "name": "stdout",
     "output_type": "stream",
     "text": [
      "pygame 2.0.0.dev4 (SDL 2.0.10, python 3.7.1)\n",
      "Hello from the pygame community. https://www.pygame.org/contribute.html\n",
      "Music file test_notes.mid loaded!\n"
     ]
    }
   ],
   "source": [
    "!python3 play.py \"test_notes.mid\""
   ]
  },
  {
   "cell_type": "code",
   "execution_count": 31,
   "metadata": {},
   "outputs": [
    {
     "name": "stdout",
     "output_type": "stream",
     "text": [
      "Input:  65\n",
      "Classifier:  65\n",
      "Prediction:  67\n",
      "Input:  67\n",
      "Classifier:  67\n",
      "Prediction:  65\n",
      "Input:  65\n",
      "Classifier:  65\n",
      "Prediction:  64\n"
     ]
    }
   ],
   "source": [
    "for i in range(len(test_notes)):\n",
    "    print(\"Input: \",test_notes[i])\n",
    "    inputSDR = encPitch.encode(test_notes[i])\n",
    "    sp.compute(inputSDR, True, activeSDR)\n",
    "\n",
    "    tm.compute( activeSDR, learn=True)\n",
    "    \n",
    "    clsr.learn(tm.getActiveCells(), int((input_notes[i] - minimum) / resolution))\n",
    "    classifier=np.argmax( clsr.infer( tm.getActiveCells() ) ) * resolution + minimum\n",
    "    \n",
    "    #predictor.learn(i, tm.getActiveCells(), int((input_notes[i] - minimum) / resolution))\n",
    "    pdf = predictor.infer( tm.getActiveCells() )\n",
    "    \n",
    "    if pdf[1]:\n",
    "        prediction=np.argmax( pdf[1]) * resolution + minimum\n",
    "    else:\n",
    "        prediction=float(\"nan\")\n",
    "        \n",
    "    print(\"Classifier: \",classifier)\n",
    "    print(\"Prediction: \",prediction)"
   ]
  },
  {
   "cell_type": "code",
   "execution_count": 32,
   "metadata": {},
   "outputs": [
    {
     "data": {
      "image/png": "[encoded data removed]",
      "text/plain": [
       "<IPython.core.display.Image object>"
      ]
     },
     "metadata": {
      "image/png": {
       "height": 49,
       "width": 143
      }
     },
     "output_type": "display_data"
    },
    {
     "data": {
      "text/plain": [
       "'predict_notes.mid'"
      ]
     },
     "execution_count": 32,
     "metadata": {},
     "output_type": "execute_result"
    }
   ],
   "source": [
    "from music21 import *\n",
    "s3 = stream.Stream()\n",
    "\n",
    "notePitch  = prediction\n",
    "noteLength= 1\n",
    "n = note.Note(midi=notePitch ,quarterLength = noteLength)\n",
    "\n",
    "s3.append(n)\n",
    "\n",
    "s3.show()\n",
    "s3.write(\"midi\",\"predict_notes.mid\")"
   ]
  },
  {
   "cell_type": "code",
   "execution_count": 33,
   "metadata": {},
   "outputs": [
    {
     "name": "stdout",
     "output_type": "stream",
     "text": [
      "pygame 2.0.0.dev4 (SDL 2.0.10, python 3.7.1)\n",
      "Hello from the pygame community. https://www.pygame.org/contribute.html\n",
      "Music file predict_notes.mid loaded!\n"
     ]
    }
   ],
   "source": [
    "!python3 play.py \"predict_notes.mid\""
   ]
  },
  {
   "cell_type": "code",
   "execution_count": null,
   "metadata": {},
   "outputs": [],
   "source": []
  }
 ],
 "metadata": {
  "kernelspec": {
   "display_name": "Python 3.7.1 64-bit",
   "language": "python",
   "name": "python37164biteddaa04d9bd6403f87a9a26eeb0f918e"
  },
  "language_info": {
   "codemirror_mode": {
    "name": "ipython",
    "version": 3
   },
   "file_extension": ".py",
   "mimetype": "text/x-python",
   "name": "python",
   "nbconvert_exporter": "python",
   "pygments_lexer": "ipython3",
   "version": "3.7.1"
  }
 },
 "nbformat": 4,
 "nbformat_minor": 2
}
