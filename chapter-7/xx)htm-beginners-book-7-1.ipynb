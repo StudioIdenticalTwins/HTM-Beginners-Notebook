{
 "cells": [
  {
   "cell_type": "code",
   "execution_count": 33,
   "metadata": {},
   "outputs": [
    {
     "name": "stdout",
     "output_type": "stream",
     "text": [
      "play\n"
     ]
    }
   ],
   "source": [
    "import pyaudio\n",
    "import numpy as np\n",
    "\n",
    "# 音声を出力するためのストリームを開く --- (*1)\n",
    "p = pyaudio.PyAudio()\n",
    "stream = p.open(format=pyaudio.paFloat32,\n",
    "                channels=1,\n",
    "                rate=44100,\n",
    "                frames_per_buffer=1024,\n",
    "                output=True)\n",
    "\n",
    "# 適当なサイン波を生成する --- (*2)\n",
    "samples = np.sin(np.arange(50000) / 20)\n",
    "\n",
    "# サイン波を再生する --- (*3)\n",
    "print(\"play\")\n",
    "stream.write(samples.astype(np.float32).tostring())\n",
    "stream.close()"
   ]
  },
  {
   "cell_type": "code",
   "execution_count": 37,
   "metadata": {},
   "outputs": [
    {
     "data": {
      "image/png": "[encoded data removed]",
      "text/plain": [
       "<Figure size 432x288 with 1 Axes>"
      ]
     },
     "metadata": {
      "needs_background": "light"
     },
     "output_type": "display_data"
    }
   ],
   "source": [
    "import matplotlib.pyplot as plt\n",
    "from IPython.display import display, clear_output\n",
    "\n",
    "samples=np.sin(np.arange(8000)/10)\n",
    "plt.plot(samples[0:100])\n",
    "plt.show()"
   ]
  },
  {
   "cell_type": "code",
   "execution_count": null,
   "metadata": {},
   "outputs": [],
   "source": [
    "RATE = 44100\n",
    "C= 261.626\n",
    "BPM = 100\n",
    "L1 = (60 / BPM * 4)\n",
    "L8=L1/8\n",
    "\n",
    "tone(C, L8, 1.0)\n",
    "\n",
    "def tone(freq, length, gain):\n",
    "    slen = int(length * RATE)\n",
    "    t = float(freq) * np.pi * 2 / RATE\n",
    "    return np.sin(np.arange(slen) * t) * gain"
   ]
  },
  {
   "cell_type": "code",
   "execution_count": 38,
   "metadata": {},
   "outputs": [
    {
     "name": "stdout",
     "output_type": "stream",
     "text": [
      "play\n"
     ]
    }
   ],
   "source": [
    "import pyaudio\n",
    "import numpy as np\n",
    "\n",
    "# サンプリングレートを定義 --- (*1)\n",
    "RATE = 44100\n",
    "\n",
    "# BPMや音長を定義 --- (*2)\n",
    "BPM = 100\n",
    "L1 = (60 / BPM * 4)\n",
    "L2,L4,L8 = (L1/2,L1/4,L1/8)\n",
    "\n",
    "# ドレミ...の周波数を定義 --- (*3)\n",
    "C,D,E,F,G,A,B,C2 = (\n",
    "        261.626, 293.665, 329.628, \n",
    "        349.228, 391.995, 440.000,\n",
    "        493.883, 523.251)\n",
    "\n",
    "# サイン波を生成 --- (*4)\n",
    "def tone(freq, length, gain):\n",
    "    slen = int(length * RATE)\n",
    "    t = float(freq) * np.pi * 2 / RATE\n",
    "    return np.sin(np.arange(slen) * t) * gain\n",
    "\n",
    "# 再生 --- (*5)\n",
    "def play_wave(stream, samples):\n",
    "    stream.write(samples.astype(np.float32).tostring())\n",
    "\n",
    "\n",
    "# 出力用のストリームを開く --- (*6)\n",
    "p = pyaudio.PyAudio()\n",
    "stream = p.open(format=pyaudio.paFloat32,\n",
    "                channels=1,\n",
    "                rate=RATE,\n",
    "                frames_per_buffer=1024,\n",
    "                output=True)\n",
    "\n",
    "# ドレミを再生 --- (*7)\n",
    "print(\"play\")\n",
    "play_wave(stream, tone(C, L8, 1.0)) \n",
    "play_wave(stream, tone(D, L8, 1.0)) \n",
    "play_wave(stream, tone(E, L4, 1.0)) \n",
    "stream.close()"
   ]
  },
  {
   "cell_type": "code",
   "execution_count": null,
   "metadata": {},
   "outputs": [],
   "source": []
  }
 ],
 "metadata": {
  "kernelspec": {
   "display_name": "Python 3.7.1 64-bit",
   "language": "python",
   "name": "python37164biteddaa04d9bd6403f87a9a26eeb0f918e"
  },
  "language_info": {
   "codemirror_mode": {
    "name": "ipython",
    "version": 3
   },
   "file_extension": ".py",
   "mimetype": "text/x-python",
   "name": "python",
   "nbconvert_exporter": "python",
   "pygments_lexer": "ipython3",
   "version": "3.7.1"
  }
 },
 "nbformat": 4,
 "nbformat_minor": 2
}
