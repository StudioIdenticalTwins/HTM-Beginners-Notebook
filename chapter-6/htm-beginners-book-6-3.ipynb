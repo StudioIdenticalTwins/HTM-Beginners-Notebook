{
 "cells": [
  {
   "cell_type": "markdown",
   "metadata": {},
   "source": [
    "# anomaly_likelihood\n",
    "\n",
    "## 説明\n",
    "\n",
    "このモジュールは、与えられたモデルから平均化された異常スコアの分布を分析し、推定します。新しい異常スコアsが与えられると、P(score >= s)を推定します。\n",
    "    \n",
    " 数P(score >= s)は、予測可能性の現在の状態の尤度を表します。\n",
    " \n",
    " 例えば、尤度が0.01または1%であれば、100レコードに1つの割合でこれだけの予測可能性があることを意味します。この数字は見かけほど異常ではありません。\n",
    " \n",
    " 1分ごとに到着するレコードの場合、これは1時間40分に1回ということになります。可能性が0.0001または0.01%というのは、10,000レコードのうち1回、つまり7日に1回程度見られることを意味します。\n",
    " \n",
    " ## つかい方\n",
    " \n",
    " コードを使用するには2つの方法があります。\n",
    " \n",
    "ヘルパークラス :class:`.anomaly_likelihood.AnomalyLikelihood` または生の個々の関数を使用する :func:`~.anomaly_likelihood.estimateAnomalyLikelihoods` と \n",
    ":func:`~.anomaly_likelihood.updateAnomalyLikelihoods`\n",
    "\n",
    "## 低レベル機能の使い方\n",
    "\n",
    "主なインターフェース・ルーチンは2つあります。\n",
    "    \n",
    "- はじめにたまに、func:`~.anomaly_likelihood.estimatedAnomalyLikelihoods`: バッチ・ルーチン。 \n",
    "-  新しいデータポイントごとに、func:`~.anomaly_likelihood.updateAnomalyLikelihoods`: と呼ばれるオンラインルーチン。"
   ]
  },
  {
   "cell_type": "markdown",
   "metadata": {},
   "source": [
    "最初に："
   ]
  },
  {
   "cell_type": "code",
   "execution_count": null,
   "metadata": {},
   "outputs": [],
   "source": [
    " likelihoods, avgRecordList, estimatorParams = \\\n",
    "    estimateAnomalyLikelihoods(metric_data)"
   ]
  },
  {
   "cell_type": "markdown",
   "metadata": {},
   "source": [
    " 新しいデータを取得するたびに："
   ]
  },
  {
   "cell_type": "code",
   "execution_count": null,
   "metadata": {},
   "outputs": [],
   "source": [
    "likelihoods, avgRecordList, estimatorParams = \\\n",
    "    updateAnomalyLikelihoods(data2, estimatorParams)"
   ]
  },
  {
   "cell_type": "markdown",
   "metadata": {},
   "source": [
    "また、再度（`AnomalyLikelihoods`を更新するために上記の呼び出しで返された新しい`estimatorParams`を使用していることを確認してください！）："
   ]
  },
  {
   "cell_type": "code",
   "execution_count": null,
   "metadata": {},
   "outputs": [],
   "source": [
    "likelihoods, avgRecordList, estimatorParams = \\\n",
    "    updateAnomalyLikelihoods(data3, estimatorParams)"
   ]
  },
  {
   "cell_type": "markdown",
   "metadata": {},
   "source": [
    "たまには、最近のデータをたくさん使って `estimator` を更新してください"
   ]
  },
  {
   "cell_type": "code",
   "execution_count": null,
   "metadata": {},
   "outputs": [],
   "source": [
    "likelihoods, avgRecordList, estimatorParams = \\\n",
    "    estimateAnomalyLikelihoods(lots_of_metric_data)"
   ]
  },
  {
   "cell_type": "markdown",
   "metadata": {},
   "source": [
    "## パラメーター\n",
    "\n",
    "上記の関数が返すパラメータdictは、以下のような構造になっています。注：クライアントはその詳細を知る必要はありません。\n",
    "\n",
    "```\n",
    " {\n",
    "   \"distribution\":               # describes the distribution\n",
    "     {\n",
    "       \"name\": STRING,           # name of the distribution, such as 'normal'\n",
    "       \"mean\": SCALAR,           # mean of the distribution\n",
    "       \"variance\": SCALAR,       # variance of the distribution\n",
    "\n",
    "       # There may also be some keys that are specific to the distribution\n",
    "     },\n",
    "\n",
    "   \"historicalLikelihoods\": []   # Contains the last windowSize likelihood\n",
    "                                 # values returned\n",
    "\n",
    "   \"movingAverage\":              # stuff needed to compute a rolling average\n",
    "                                 # of the anomaly scores\n",
    "     {\n",
    "       \"windowSize\": SCALAR,     # the size of the averaging window\n",
    "       \"historicalValues\": [],   # list with the last windowSize anomaly\n",
    "                                 # scores\n",
    "       \"total\": SCALAR,          # the total of the values in historicalValues\n",
    "     },\n",
    "\n",
    " }\n",
    "```"
   ]
  },
  {
   "cell_type": "markdown",
   "metadata": {},
   "source": [
    "## クラス\n",
    "\n",
    "`AnomalyLikelihood(claLearningPeriod=None, learningPeriod=288, estimationSamples=100, historicWindowSize=8640, reestimationPeriod=100)`"
   ]
  },
  {
   "cell_type": "markdown",
   "metadata": {},
   "source": [
    "```\n",
    "anomalyLikelihood = AnomalyLikelihood()\n",
    "while still_have_data:\n",
    "# Get anomaly score from model\n",
    "\n",
    "# Compute probability that an anomaly has ocurred\n",
    "anomalyProbability = anomalyLikelihood.anomalyProbability(\n",
    "    value, anomalyScore, timestamp)\n",
    "```"
   ]
  },
  {
   "cell_type": "markdown",
   "metadata": {},
   "source": [
    " claLearningPeriodは非推奨の名前ですが、 claLearningPeriodとlearningPeriodは同じ変数を指定しています。\n",
    "\n",
    "- learningPeriod: アルゴリズムがデータセットの基本的なパターンを学習し、異常スコアが「落ち着く」までに必要な反復回数を指定します。デフォルトは経験的な観測に基づいていますが、実際にはより複雑なドメインではより大きくなる可能性があります。これを大きくしすぎると、実際の異常は無視されてフラグが立てられなくなる可能性があるという欠点があります。\n",
    "\n",
    "- estimationSamples: ガウシアンの初期推定に必要な妥当な異常値の数を指定します. デフォルトの100レコードは妥当です - ガウス分布のまともな推定値を得るのに十分なサンプルが必要なだけです。ガウス分布はデフォルトでは10回の反復ごとに再推定されるので、これを調整する必要はないでしょう。\n",
    "\n",
    "- historicWindowSize: ガウス分布の周期的な再推定のために維持するための過去のデータポイントのスライディングウィンドウのサイズ. 注意: デフォルトの8640は、5分間隔で1ヶ月分の履歴に基づいています。\n",
    "\n",
    "- reestimationPeriod: ガウス分布をどのくらいの頻度で再推定するかを指定します。理想的には繰り返しごとに再推定するのがよいのですが、これはパフォーマンスの低下につながります。一般的に，処理されるレコードの総数に比べてこの数値が小さい限り，システムはこの数値にあまり敏感ではありません"
   ]
  },
  {
   "cell_type": "code",
   "execution_count": null,
   "metadata": {},
   "outputs": [],
   "source": []
  }
 ],
 "metadata": {
  "kernelspec": {
   "display_name": "Python 3.7.1 64-bit",
   "language": "python",
   "name": "python37164biteddaa04d9bd6403f87a9a26eeb0f918e"
  },
  "language_info": {
   "codemirror_mode": {
    "name": "ipython",
    "version": 3
   },
   "file_extension": ".py",
   "mimetype": "text/x-python",
   "name": "python",
   "nbconvert_exporter": "python",
   "pygments_lexer": "ipython3",
   "version": "3.7.1"
  }
 },
 "nbformat": 4,
 "nbformat_minor": 2
}
