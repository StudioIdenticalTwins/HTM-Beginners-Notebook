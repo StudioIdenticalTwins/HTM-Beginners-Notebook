{
 "cells": [
  {
   "cell_type": "markdown",
   "metadata": {},
   "source": [
    " # Classifierアルゴリズム\n",
    " \n",
    " ## `Classifier()`\n",
    " \n",
    "SDR 分類器は、単層の分類ネットワークの形をしています。SDRを入力として受け取り、カテゴリの予測分布を出力します。\n",
    " \n",
    "カテゴリは、符号なし整数でラベル付けされます。 他のデータ型は、列挙するか、正整数に変換する必要があります。 出力単位は、最大カテゴリラベルの数だけあります。\n",
    "\n",
    "推論の間、出力は最初にすべての入力の加重和を行い、その後、カテゴリーラベルの予測分布を得るためにソフトマックス非線形関数を実行することによって計算されます。\n",
    "\n",
    "学習中、入力ユニットと出力ユニット間の接続重みは、モデルの尤度を最大化するように調整される。"
   ]
  },
  {
   "cell_type": "markdown",
   "metadata": {},
   "source": [
    "### メソッド\n",
    "\n",
    "`infer(...)`：\n",
    "\n",
    "引数パターンは、アクティブな入力ビットを含む SDRです。\n",
    "\n",
    "PDF（Probablility Distribution Function）は、カテゴリの確率分布関数を返します。PDF は、合計が 1 になる確率のリストです。\n",
    "\n",
    "このリストの**各インデックスはカテゴリのラベル**であり、**各値はそのカテゴリの尤度**である。確率が最も高いカテゴリを見つけるには、`numpy.argmax`を使用してください。"
   ]
  },
  {
   "cell_type": "markdown",
   "metadata": {},
   "source": [
    "## カテゴリ分類器"
   ]
  },
  {
   "cell_type": "code",
   "execution_count": 21,
   "metadata": {},
   "outputs": [
    {
     "name": "stdout",
     "output_type": "stream",
     "text": [
      "----------------------------------------------------------------------\n",
      "inputData:  SDR( 1000 ) 104, 106, 109, 211, 270, 283, 289, 302, 303, 350, 397, 456, 465, 498, 506, 511, 675, 940, 942, 970\n",
      "----------------------------------------------------------------------\n",
      "PDF:  [0.49500017907770616, 0.504999846488284]\n",
      "----------------------------------------------------------------------\n",
      "predict index:  1\n",
      "----------------------------------------------------------------------\n",
      "predict lebel:  B\n"
     ]
    }
   ],
   "source": [
    "import numpy as np\n",
    "from htm.bindings.sdr import SDR\n",
    "from htm.bindings.algorithms import Classifier\n",
    "\n",
    "categories = { 'A': 0, 'B': 1, 'C': 2, 'D': 3 }\n",
    "\n",
    "# ランダムなSDRを作成し、カテゴリに関連付けます。\n",
    "inputData  = SDR( dimensions = (1000 , ) ).randomize( 0.02 )\n",
    "print(\"-\"*70 )\n",
    "print(\"inputData: \",inputData)\n",
    "clsr = Classifier()\n",
    "clsr.learn( inputData, categories['B'] )\n",
    "print(\"-\"*70 )\n",
    "print(\"PDF: \",clsr.infer( inputData ) )\n",
    "print(\"-\"*70 )\n",
    "predict = np.argmax( clsr.infer( inputData ) )  #->  categories['B']\n",
    "print(\"predict index: \",predict)\n",
    "\n",
    "predict_key = [k for k, v in categories.items() if v == predict]\n",
    "print(\"-\"*70 )\n",
    "print(\"predict lebel: \",predict_key[0])\n"
   ]
  },
  {
   "cell_type": "code",
   "execution_count": 15,
   "metadata": {},
   "outputs": [
    {
     "name": "stdout",
     "output_type": "stream",
     "text": [
      "----------------------------------------------------------------------\n",
      "inputData:  SDR( 1000 ) 216, 281, 360, 376, 429, 581, 587, 594, 626, 680, 729, 776, 783, 856, 860, 911, 916, 925, 951, 967\n",
      "----------------------------------------------------------------------\n",
      "PDF:  [1.0]\n",
      "----------------------------------------------------------------------\n",
      "predict index:  0\n",
      "----------------------------------------------------------------------\n",
      "predict lebel:  A\n",
      "----------------------------------------------------------------------\n",
      "inputData:  SDR( 1000 ) 23, 53, 77, 270, 285, 338, 399, 423, 489, 584, 586, 643, 665, 698, 723, 798, 875, 939, 948, 975\n",
      "----------------------------------------------------------------------\n",
      "PDF:  [0.49500017907770616, 0.504999846488284]\n",
      "----------------------------------------------------------------------\n",
      "predict index:  1\n",
      "----------------------------------------------------------------------\n",
      "predict lebel:  B\n",
      "----------------------------------------------------------------------\n",
      "inputData:  SDR( 1000 ) 8, 13, 87, 159, 176, 227, 261, 265, 289, 414, 419, 428, 665, 683, 702, 725, 794, 803, 886, 915\n",
      "----------------------------------------------------------------------\n",
      "PDF:  [0.3311037647153171, 0.3311037647153171, 0.33779250477135586]\n",
      "----------------------------------------------------------------------\n",
      "predict index:  2\n",
      "----------------------------------------------------------------------\n",
      "predict lebel:  C\n",
      "----------------------------------------------------------------------\n",
      "inputData:  SDR( 1000 ) 46, 71, 79, 87, 189, 288, 331, 363, 384, 488, 529, 578, 618, 620, 629, 774, 779, 881, 963, 972\n",
      "----------------------------------------------------------------------\n",
      "PDF:  [0.248743755155006, 0.248743755155006, 0.248743755155006, 0.2537687125734917]\n",
      "----------------------------------------------------------------------\n",
      "predict index:  3\n",
      "----------------------------------------------------------------------\n",
      "predict lebel:  D\n"
     ]
    }
   ],
   "source": [
    "import numpy as np\n",
    "from htm.bindings.sdr import SDR\n",
    "from htm.bindings.algorithms import Classifier\n",
    "\n",
    "categories = { 'A': 0, 'B': 1, 'C': 2, 'D': 3 }\n",
    "\n",
    "for i in categories:\n",
    "    # ランダムなSDRを作成し、カテゴリに関連付けます。\n",
    "    inputData  = SDR( dimensions = (1000 , ) ).randomize( 0.02 )\n",
    "    print(\"-\"*70 )\n",
    "    print(\"inputData: \",inputData)\n",
    "    clsr = Classifier()\n",
    "    clsr.learn( inputData, categories[i] )\n",
    "\n",
    "    print(\"-\"*70 )\n",
    "    print(\"PDF: \",clsr.infer( inputData ) )\n",
    "    print(\"-\"*70 )\n",
    "    predict = np.argmax( clsr.infer( inputData ) )  #->  categories['B']\n",
    "    print(\"predict index: \",predict)\n",
    "\n",
    "    predict_key = [k for k, v in categories.items() if v == predict]\n",
    "    print(\"-\"*70 )\n",
    "    print(\"predict lebel: \",predict_key[0])"
   ]
  },
  {
   "cell_type": "markdown",
   "metadata": {},
   "source": [
    "## スカラー分類器"
   ]
  },
  {
   "cell_type": "code",
   "execution_count": 19,
   "metadata": {},
   "outputs": [
    {
     "name": "stdout",
     "output_type": "stream",
     "text": [
      "----------------------------------------------------------------------\n",
      "inputData:  SDR( 1000 ) 16, 74, 85, 189, 194, 251, 283, 330, 352, 362, 399, 465, 547, 671, 770, 787, 835, 841, 952, 982\n",
      "----------------------------------------------------------------------\n",
      "predict :  560\n"
     ]
    }
   ],
   "source": [
    "import numpy as np\n",
    "from htm.bindings.sdr import SDR\n",
    "from htm.bindings.algorithms import Classifier\n",
    "\n",
    "# スカラー値を推定します． \n",
    "# Classifierはカテゴリしか受け付けないので、\n",
    "# 最小値を引き算して解像度で割ることで、\n",
    "# 実数値の入力をビン(別名バケツ)に入れてください。\n",
    "scalar     = 567.8\n",
    "minimum    = 500\n",
    "resolution = 10\n",
    "\n",
    "inputData  = SDR( dimensions = (1000 , ) ).randomize( 0.02 )\n",
    "print(\"-\"*70 )\n",
    "print(\"inputData: \",inputData)\n",
    "clsr.learn( inputData, int((scalar - minimum) / resolution) )\n",
    "predict = np.argmax( clsr.infer( inputData ) ) * resolution + minimum  #->  560\n",
    "print(\"-\"*70 )\n",
    "print(\"predict : \",predict)"
   ]
  },
  {
   "cell_type": "code",
   "execution_count": 25,
   "metadata": {},
   "outputs": [
    {
     "name": "stdout",
     "output_type": "stream",
     "text": [
      "----------------------------------------------------------------------\n",
      "scalar:  504.5772223401718\n",
      "----------------------------------------------------------------------\n",
      "inputData:  SDR( 1000 ) 38, 127, 173, 180, 193, 301, 423, 445, 466, 519, 585, 739, 755, 774, 794, 808, 849, 858, 891, 962\n",
      "----------------------------------------------------------------------\n",
      "predict :  500\n",
      "----------------------------------------------------------------------\n",
      "scalar:  541.5178914857975\n",
      "----------------------------------------------------------------------\n",
      "inputData:  SDR( 1000 ) 54, 91, 125, 212, 247, 251, 253, 281, 319, 447, 540, 552, 585, 611, 709, 761, 763, 818, 940, 958\n",
      "----------------------------------------------------------------------\n",
      "predict :  540\n",
      "----------------------------------------------------------------------\n",
      "scalar:  541.0315526250993\n",
      "----------------------------------------------------------------------\n",
      "inputData:  SDR( 1000 ) 15, 128, 156, 172, 255, 288, 307, 317, 346, 444, 461, 493, 528, 654, 669, 670, 809, 811, 873, 973\n",
      "----------------------------------------------------------------------\n",
      "predict :  540\n",
      "----------------------------------------------------------------------\n",
      "scalar:  598.5775404074841\n",
      "----------------------------------------------------------------------\n",
      "inputData:  SDR( 1000 ) 10, 15, 85, 151, 168, 252, 358, 371, 436, 521, 542, 695, 736, 822, 851, 863, 869, 916, 917, 969\n",
      "----------------------------------------------------------------------\n",
      "predict :  590\n"
     ]
    }
   ],
   "source": [
    "import numpy as np\n",
    "from htm.bindings.sdr import SDR\n",
    "from htm.bindings.algorithms import Classifier\n",
    "import random\n",
    "\n",
    "# スカラー値を推定します． \n",
    "# Classifierはカテゴリしか受け付けないので、\n",
    "# 最小値を引き算して解像度で割ることで、\n",
    "# 実数値の入力をビン(別名バケツ)に入れてください。\n",
    "\n",
    "\n",
    "minimum    = 500\n",
    "resolution = 10\n",
    "\n",
    "for i in range(4):\n",
    "    scalar     = random.uniform(500, 600)\n",
    "    print(\"-\"*70 )\n",
    "    print(\"scalar: \", scalar)\n",
    "    inputData  = SDR( dimensions = (1000 , ) ).randomize( 0.02 )\n",
    "    print(\"-\"*70 )\n",
    "    print(\"inputData: \",inputData)\n",
    "    clsr.learn( inputData, int((scalar - minimum) / resolution) )\n",
    "    predict = np.argmax( clsr.infer( inputData ) ) * resolution + minimum  #->  560\n",
    "    print(\"-\"*70 )\n",
    "    print(\"predict : \",predict)"
   ]
  },
  {
   "cell_type": "markdown",
   "metadata": {},
   "source": []
  },
  {
   "cell_type": "markdown",
   "metadata": {},
   "source": []
  },
  {
   "cell_type": "code",
   "execution_count": null,
   "metadata": {},
   "outputs": [],
   "source": []
  }
 ],
 "metadata": {
  "kernelspec": {
   "display_name": "Python 3.7.1 64-bit",
   "language": "python",
   "name": "python37164biteddaa04d9bd6403f87a9a26eeb0f918e"
  },
  "language_info": {
   "codemirror_mode": {
    "name": "ipython",
    "version": 3
   },
   "file_extension": ".py",
   "mimetype": "text/x-python",
   "name": "python",
   "nbconvert_exporter": "python",
   "pygments_lexer": "ipython3",
   "version": "3.7.1"
  }
 },
 "nbformat": 4,
 "nbformat_minor": 2
}
