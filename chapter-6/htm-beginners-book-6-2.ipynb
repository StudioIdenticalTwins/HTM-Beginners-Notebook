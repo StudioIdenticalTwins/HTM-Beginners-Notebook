{
 "cells": [
  {
   "cell_type": "markdown",
   "metadata": {},
   "source": [
    "# Predictor\n",
    "\n",
    "Predictorクラスは、Nステップ先の予測を行います。\n",
    "\n",
    "内部的には、このクラスは Classifiers を使用して SDR を未来の値に関連付けます。\n",
    "\n",
    "このクラスは、データポイントの欠落を処理します。\n",
    "\n",
    "互換性に関する注意: このクラスは、古い SDRClassifier の代替クラスです。\n",
    "\n",
    "実際の値の推定値は提供されなくなりました。\n",
    "\n",
    "引数の steps は、学習して予測する未来へのステップ数です。\n",
    "Predictorはステップのリストを受け取ります。\n",
    "\n",
    "引数 alpha は、学習中に重み行列を適応させるために使用されます。\n",
    "\n",
    "アルファを大きくすると、データへの適応が速くなります。"
   ]
  },
  {
   "cell_type": "code",
   "execution_count": 12,
   "metadata": {},
   "outputs": [
    {
     "name": "stdout",
     "output_type": "stream",
     "text": [
      "{2: [0.12462510106958143, 0.12462510106958143, 0.12462510106958143, 0.12462510106958143, 0.12462510106958143, 0.12462510106958143, 0.12714267933442205, 0.12510672392825561], 1: [0.12456362377948811, 0.12456362377948811, 0.12456362377948811, 0.12456362377948811, 0.12456362377948811, 0.1270799578588076, 0.12510456773500278, 0.12499738118536398]}\n",
      "5\n",
      "6\n",
      "6\n",
      "7\n"
     ]
    }
   ],
   "source": [
    "import numpy as np\n",
    "from htm.bindings.sdr import SDR\n",
    "from htm.bindings.algorithms import Predictor\n",
    "\n",
    "# 未来への1と2のタイムステップを予測します。\n",
    "\n",
    "# 4つのランダムなSDRのシーケンスを作成し、\n",
    "# 各SDRは1000ビットと2％のスパースパリティを持っています。\n",
    "sequence = [ SDR( 1000 ).randomize( 0.02 ) for i in range(4) ]\n",
    "\n",
    "# シーケンスのカテゴリラベルを作成します。\n",
    "labels = [ 4, 5, 6, 7 ]\n",
    " \n",
    "# 予測器を作って、それを鍛える。\n",
    "pred = Predictor([ 1, 2 ])\n",
    "pred.learn( 0, sequence[0], labels[0] )\n",
    "pred.learn( 1, sequence[1], labels[1] )\n",
    "pred.learn( 2, sequence[2], labels[2] )\n",
    "pred.learn( 3, sequence[3], labels[3] )\n",
    "\n",
    "# 予測器に部分的な情報を与え、\n",
    "# 将来の予測をする。\n",
    "pred.reset()\n",
    "A = pred.infer( sequence[0] )\n",
    "\n",
    "print(A)\n",
    "\n",
    "np.argmax( A[1] )  #->  labels[1]\n",
    "np.argmax( A[2] )  #->  labels[2]\n",
    "\n",
    "print(np.argmax( A[1] ) )\n",
    "print(np.argmax( A[2] ) )\n",
    "\n",
    "B = pred.infer( sequence[1] )\n",
    "np.argmax( B[1] )  #->  labels[2]\n",
    "np.argmax( B[2] )  #->  labels[3]\n",
    "\n",
    "print(np.argmax( B[1] ) )\n",
    "print(np.argmax( B[2] ) )"
   ]
  },
  {
   "cell_type": "code",
   "execution_count": null,
   "metadata": {},
   "outputs": [],
   "source": []
  },
  {
   "cell_type": "markdown",
   "metadata": {},
   "source": [
    "- `infer(...)`：尤度(ユウド/likelihoods)を計算する。引数パターンは、アクティブな入力ビットを含むSDRである。キーが予測ステップ、値がPDFであるディクショナリを返します。PDFについての詳細は、help(Classifier.infer)を参照してください。\n",
    " \n",
    "-  `learn(...)` ：事例データから学ぶ。引数 recordNum は各レコードのインクリメント整数です。 数字の空白はレコードの欠落に対応します。 引数 pattern は、アクティブな入力ビットを含む SDR です。 引数 classification は、現在のカテゴリまたはバケットインデックスです。 入力に複数のカテゴリがある場合は、リストにすることもできる。\n",
    " \n",
    "-  `reset(...)` ：時系列データセットで使用します。"
   ]
  },
  {
   "cell_type": "code",
   "execution_count": null,
   "metadata": {},
   "outputs": [],
   "source": []
  }
 ],
 "metadata": {
  "kernelspec": {
   "display_name": "Python 3.7.1 64-bit",
   "language": "python",
   "name": "python37164biteddaa04d9bd6403f87a9a26eeb0f918e"
  },
  "language_info": {
   "codemirror_mode": {
    "name": "ipython",
    "version": 3
   },
   "file_extension": ".py",
   "mimetype": "text/x-python",
   "name": "python",
   "nbconvert_exporter": "python",
   "pygments_lexer": "ipython3",
   "version": "3.7.1"
  }
 },
 "nbformat": 4,
 "nbformat_minor": 2
}
