{
 "cells": [
  {
   "cell_type": "code",
   "execution_count": 3,
   "metadata": {},
   "outputs": [
    {
     "data": {
      "text/plain": [
       "1"
      ]
     },
     "execution_count": 3,
     "metadata": {},
     "output_type": "execute_result"
    }
   ],
   "source": [
    "import numpy as np\n",
    "from htm.bindings.sdr import SDR\n",
    "from htm.bindings.algorithms import Classifier\n",
    "\n",
    "# ランダムなSDRを作成し、カテゴリに関連付けます。\n",
    "inputData  = SDR( dimensions = (1000 , ) ).randomize( 0.02 )\n",
    "categories = { 'A': 0, 'B': 1, 'C': 2, 'D': 3 }\n",
    "clsr = Classifier()\n",
    "clsr.learn( inputData, categories['B'] )\n",
    "np.argmax( clsr.infer( inputData ) )  #->  categories['B']\n"
   ]
  },
  {
   "cell_type": "code",
   "execution_count": null,
   "metadata": {},
   "outputs": [],
   "source": []
  },
  {
   "cell_type": "code",
   "execution_count": 5,
   "metadata": {},
   "outputs": [
    {
     "data": {
      "text/plain": [
       "560"
      ]
     },
     "execution_count": 5,
     "metadata": {},
     "output_type": "execute_result"
    }
   ],
   "source": [
    "# スカラー値を推定します． \n",
    "# Classifierはカテゴリしか受け付けないので、\n",
    "# 最小値を引き算して解像度で割ることで、\n",
    "# 実数値の入力をビン(別名バケツ)に入れてください。\n",
    "scalar     = 567.8\n",
    "minimum    = 500\n",
    "resolution = 10\n",
    "clsr.learn( inputData, int((scalar - minimum) / resolution) )\n",
    "np.argmax( clsr.infer( inputData ) ) * resolution + minimum  #->  560"
   ]
  },
  {
   "cell_type": "code",
   "execution_count": null,
   "metadata": {},
   "outputs": [],
   "source": []
  }
 ],
 "metadata": {
  "kernelspec": {
   "display_name": "Python 3.7.1 64-bit",
   "language": "python",
   "name": "python37164biteddaa04d9bd6403f87a9a26eeb0f918e"
  },
  "language_info": {
   "codemirror_mode": {
    "name": "ipython",
    "version": 3
   },
   "file_extension": ".py",
   "mimetype": "text/x-python",
   "name": "python",
   "nbconvert_exporter": "python",
   "pygments_lexer": "ipython3",
   "version": "3.7.1"
  }
 },
 "nbformat": 4,
 "nbformat_minor": 2
}
