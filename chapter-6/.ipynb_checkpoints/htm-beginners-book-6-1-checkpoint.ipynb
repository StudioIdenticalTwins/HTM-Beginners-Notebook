{
 "cells": [
  {
   "cell_type": "markdown",
   "metadata": {},
   "source": [
    " # Classifier\n",
    " \n",
    "SDR 分類器は、単層の分類ネットワークの形をしています。SDRを入力として受け取り、カテゴリの予測分布を出力します。\n",
    " \n",
    "カテゴリは、符号なし整数でラベル付けされます。 他のデータ型は、列挙するか、正整数に変換する必要があります。 出力単位は、最大カテゴリラベルの数だけあります。"
   ]
  },
  {
   "cell_type": "markdown",
   "metadata": {},
   "source": [
    "## カテゴリ分類器"
   ]
  },
  {
   "cell_type": "code",
   "execution_count": 7,
   "metadata": {},
   "outputs": [
    {
     "name": "stdout",
     "output_type": "stream",
     "text": [
      "SDR( 1000 ) 3, 44, 68, 72, 90, 159, 287, 338, 478, 498, 506, 581, 688, 744, 852, 863, 910, 934, 973, 977\n",
      "----------------------------------------------------------------------------------------------------\n",
      "[0.49500017907770616, 0.504999846488284]\n",
      "----------------------------------------------------------------------------------------------------\n",
      "1\n",
      "----------------------------------------------------------------------------------------------------\n",
      "B\n"
     ]
    }
   ],
   "source": [
    "import numpy as np\n",
    "from htm.bindings.sdr import SDR\n",
    "from htm.bindings.algorithms import Classifier\n",
    "\n",
    "categories = { 'A': 0, 'B': 1, 'C': 2, 'D': 3 }\n",
    "\n",
    "# ランダムなSDRを作成し、カテゴリに関連付けます。\n",
    "inputData  = SDR( dimensions = (1000 , ) ).randomize( 0.02 )\n",
    "print(inputData)\n",
    "print(\"-\"*100 )\n",
    "clsr = Classifier()\n",
    "clsr.learn( inputData, categories['B'] )\n",
    "print(clsr.infer( inputData ) )\n",
    "print(\"-\"*100 )\n",
    "predict = np.argmax( clsr.infer( inputData ) )  #->  categories['B']\n",
    "print(predict)\n",
    "print(\"-\"*100 )\n",
    "\n",
    "predict_key = [k for k, v in categories.items() if v == predict]\n",
    "print(predict_key[0])\n"
   ]
  },
  {
   "cell_type": "markdown",
   "metadata": {},
   "source": [
    "## スカラー分類器"
   ]
  },
  {
   "cell_type": "code",
   "execution_count": 5,
   "metadata": {},
   "outputs": [
    {
     "data": {
      "text/plain": [
       "560"
      ]
     },
     "execution_count": 5,
     "metadata": {},
     "output_type": "execute_result"
    }
   ],
   "source": [
    "import numpy as np\n",
    "from htm.bindings.sdr import SDR\n",
    "from htm.bindings.algorithms import Classifier\n",
    "\n",
    "# スカラー値を推定します． \n",
    "# Classifierはカテゴリしか受け付けないので、\n",
    "# 最小値を引き算して解像度で割ることで、\n",
    "# 実数値の入力をビン(別名バケツ)に入れてください。\n",
    "scalar     = 567.8\n",
    "minimum    = 500\n",
    "resolution = 10\n",
    "\n",
    "clsr.learn( inputData, int((scalar - minimum) / resolution) )\n",
    "np.argmax( clsr.infer( inputData ) ) * resolution + minimum  #->  560"
   ]
  },
  {
   "cell_type": "code",
   "execution_count": null,
   "metadata": {},
   "outputs": [],
   "source": []
  },
  {
   "cell_type": "markdown",
   "metadata": {},
   "source": [
    " 推論の間、出力は最初にすべての入力の加重和を行い、その後、カテゴリーラベルの予測分布を得るためにソフトマックス非線形関数を実行することによって計算されます。\n",
    "\n",
    "学習中、入力ユニットと出力ユニット間の接続重みは、モデルの尤度を最大化するように調整される。"
   ]
  },
  {
   "cell_type": "markdown",
   "metadata": {},
   "source": [
    "Methods\n",
    "infer(...)\n",
    " 引数パターンは、アクティブな入力ビットを含む SDR です。\n",
    " PDF は、カテゴリの確率分布関数（Probablility Distribution Function）を返します。PDF は、合計が 1 になる確率のリストである。 このリストの各インデックスはカテゴリのラベルであり、各値はそのカテゴリの尤度である。確率が最も高いカテゴリを見つけるには、\"numpy.argmax \"を使用してください。"
   ]
  }
 ],
 "metadata": {
  "kernelspec": {
   "display_name": "Python 3.7.1 64-bit",
   "language": "python",
   "name": "python37164biteddaa04d9bd6403f87a9a26eeb0f918e"
  },
  "language_info": {
   "codemirror_mode": {
    "name": "ipython",
    "version": 3
   },
   "file_extension": ".py",
   "mimetype": "text/x-python",
   "name": "python",
   "nbconvert_exporter": "python",
   "pygments_lexer": "ipython3",
   "version": "3.7.1"
  }
 },
 "nbformat": 4,
 "nbformat_minor": 2
}
