{
 "cells": [
  {
   "cell_type": "markdown",
   "metadata": {},
   "source": [
    "# Predictor\n",
    "\n",
    "Predictorクラスは、Nステップ先の予測を行います。内部的には、このクラスは Classifiers を使用して SDR を未来の値に関連付けます。このクラスは、データポイントの欠落を処理します。\n",
    "\n",
    "互換性に関する注意: このクラスは、古い SDRClassifier の代替クラスです。実際の値の推定値は提供されなくなりました。\n",
    "\n",
    "引数の steps は、学習して予測する未来へのステップ数です。Predictorはステップのリストを受け取ります。\n",
    "\n",
    "引数 alpha は、学習中に重み行列を適応させるために使用されます。アルファを大きくすると、データへの適応が速くなります。"
   ]
  },
  {
   "cell_type": "markdown",
   "metadata": {},
   "source": [
    "## メソッド\n",
    "\n",
    "- `infer(...)`：尤度(ユウド/likelihoods)を計算する。引数パターンは、アクティブな入力ビットを含むSDRである。キーが予測ステップ、値がPDFであるディクショナリを返します。PDFについての詳細は、help(Classifier.infer)を参照してください。\n",
    " \n",
    "-  `learn(...)` ：事例データから学ぶ。引数 recordNum は各レコードのインクリメント整数です。 数字の空白はレコードの欠落に対応します。 引数 pattern は、アクティブな入力ビットを含む SDR です。 引数 classification は、現在のカテゴリまたはバケットインデックスです。 入力に複数のカテゴリがある場合は、リストにすることもできる。\n",
    " \n",
    "-  `reset(...)` ：時系列データセットで使用します。"
   ]
  },
  {
   "cell_type": "code",
   "execution_count": 7,
   "metadata": {},
   "outputs": [
    {
     "name": "stdout",
     "output_type": "stream",
     "text": [
      "----------------------------------------------------------------------\n",
      "PDF TimeStep A:  {2: [0.12464068212273541, 0.12464068212273541, 0.12464068212273541, 0.12464068212273541, 0.12464068212273541, 0.12464068212273541, 0.12715859104425775, 0.124997307596671], 1: [0.12456584073908426, 0.12456584073908426, 0.12456584073908426, 0.12456584073908426, 0.12456584073908426, 0.12708222187371912, 0.12498175042644737, 0.1251067946945268]}\n",
      "----------------------------------------------------------------------\n",
      "predict label:  5\n",
      "predict label:  6\n",
      "----------------------------------------------------------------------\n",
      "PDF TimeStep B:  {2: [0.12468515093744517, 0.12468515093744517, 0.12468515093744517, 0.12468515093744517, 0.12468515093744517, 0.12468515093744517, 0.12468515093744517, 0.12720395818865715], 1: [0.12464068212273541, 0.12464068212273541, 0.12464068212273541, 0.12464068212273541, 0.12464068212273541, 0.12464068212273541, 0.12715859104425775, 0.124997307596671]}\n",
      "----------------------------------------------------------------------\n",
      "predict label:  6\n",
      "predict label:  7\n"
     ]
    }
   ],
   "source": [
    "import numpy as np\n",
    "from htm.bindings.sdr import SDR\n",
    "from htm.bindings.algorithms import Predictor\n",
    "\n",
    "# 未来への1と2のタイムステップを予測します。\n",
    "\n",
    "# 4つのランダムなSDRのシーケンスを作成し、\n",
    "# 各SDRは1000ビットと2％のスパースパリティを持っています。\n",
    "sequence = [ SDR( 1000 ).randomize( 0.02 ) for i in range(4) ]\n",
    "\n",
    "# シーケンスのカテゴリラベルを作成します。\n",
    "labels = [ 4, 5, 6, 7 ]\n",
    " \n",
    "# 予測器を作って、それを鍛える。\n",
    "pred = Predictor([ 1, 2 ])\n",
    "pred.learn( 0, sequence[0], labels[0] )\n",
    "pred.learn( 1, sequence[1], labels[1] )\n",
    "pred.learn( 2, sequence[2], labels[2] )\n",
    "pred.learn( 3, sequence[3], labels[3] )\n",
    "\n",
    "# 予測器に部分的な情報を与え、将来の予測をする。\n",
    "pred.reset()\n",
    "A = pred.infer( sequence[0] )\n",
    "\n",
    "print(\"-\"*70 )\n",
    "print(\"PDF TimeStep A: \",A)\n",
    "\n",
    "np.argmax( A[1] )  #->  labels[1]\n",
    "np.argmax( A[2] )  #->  labels[2]\n",
    "\n",
    "print(\"-\"*70 )\n",
    "print(\"predict label: \",np.argmax( A[1] ) )\n",
    "print(\"predict label: \",np.argmax( A[2] ) )\n",
    "\n",
    "B = pred.infer( sequence[1] )\n",
    "\n",
    "print(\"-\"*70 )\n",
    "print(\"PDF TimeStep B: \",B)\n",
    "\n",
    "np.argmax( B[1] )  #->  labels[2]\n",
    "np.argmax( B[2] )  #->  labels[3]\n",
    "\n",
    "print(\"-\"*70 )\n",
    "print(\"predict label: \",np.argmax( B[1] ) )\n",
    "print(\"predict label: \",np.argmax( B[2] ) )"
   ]
  },
  {
   "cell_type": "code",
   "execution_count": 23,
   "metadata": {},
   "outputs": [
    {
     "name": "stdout",
     "output_type": "stream",
     "text": [
      "----------------------------------------------------------------------\n",
      "SDR( 1000 ) 82, 96, 109, 114, 133, 156, 172, 226, 249, 273, 364, 534, 549, 620, 771, 804, 815, 862, 869, 899 SDR( 1000 ) 68, 73, 267, 305, 343, 359, 411, 432, 507, 553, 601, 698, 774, 798, 839, 878, 930, 970, 986, 988 SDR( 1000 ) 150, 162, 179, 248, 306, 313, 356, 357, 364, 467, 647, 700, 738, 759, 777, 813, 818, 875, 968, 993 SDR( 1000 ) 20, 24, 197, 212, 309, 339, 369, 549, 622, 629, 683, 826, 849, 876, 938, 940, 949, 981, 990, 998\n",
      "----------------------------------------------------------------------\n",
      "4 5 6 7\n",
      "----------------------------------------------------------------------\n",
      "PDF TimeStep A:  {2: [0.12464068212273541, 0.12464068212273541, 0.12464068212273541, 0.12464068212273541, 0.12464068212273541, 0.12464068212273541, 0.12715859104425775, 0.124997307596671], 1: [0.12456584073908426, 0.12456584073908426, 0.12456584073908426, 0.12456584073908426, 0.12456584073908426, 0.12708222187371912, 0.12498175042644737, 0.1251067946945268]}\n",
      "----------------------------------------------------------------------\n",
      "predict label:  5\n",
      "predict label:  6\n",
      "----------------------------------------------------------------------\n",
      "PDF TimeStep B:  {2: [0.12468515093744517, 0.12468515093744517, 0.12468515093744517, 0.12468515093744517, 0.12468515093744517, 0.12468515093744517, 0.12468515093744517, 0.12720395818865715], 1: [0.12464068212273541, 0.12464068212273541, 0.12464068212273541, 0.12464068212273541, 0.12464068212273541, 0.12464068212273541, 0.12715859104425775, 0.124997307596671]}\n",
      "----------------------------------------------------------------------\n",
      "predict label:  6\n",
      "predict label:  7\n"
     ]
    }
   ],
   "source": [
    "import numpy as np\n",
    "from htm.bindings.sdr import SDR\n",
    "from htm.bindings.algorithms import Predictor\n",
    "\n",
    "# 未来への1と2のタイムステップを予測します。\n",
    "\n",
    "# 4つのランダムなSDRのシーケンスを作成し、\n",
    "# 各SDRは1000ビットと2％のスパースパリティを持っています。\n",
    "sequence = [ SDR( 1000 ).randomize( 0.02 ) for i in range(4) ]\n",
    "print(sequence[0],sequence[1],sequence[2],sequence[3])\n",
    "\n",
    "# シーケンスのカテゴリラベルを作成します。\n",
    "labels = [ 4, 5, 6, 7 ]\n",
    "print(labels[0],labels[1],labels[2],labels[3])\n",
    " \n",
    "# 予測器を作って、それを鍛える。\n",
    "epoch=10\n",
    "for i in range (epoch):\n",
    "    pred = Predictor([ 1, 2 ])\n",
    "    pred.learn( 0, sequence[0], labels[0] )\n",
    "    pred.learn( 1, sequence[1], labels[1] )\n",
    "    pred.learn( 2, sequence[2], labels[2] )\n",
    "    pred.learn( 3, sequence[3], labels[3] )\n",
    "\n",
    "# 予測器に部分的な情報を与え、将来の予測をする。\n",
    "pred.reset()\n",
    "A = pred.infer( sequence[0] )\n",
    "\n",
    "print(\"-\"*70 )\n",
    "print(\"PDF TimeStep A: \",A)\n",
    "\n",
    "np.argmax( A[1] )  #->  labels[1]\n",
    "np.argmax( A[2] )  #->  labels[2]\n",
    "\n",
    "print(\"-\"*70 )\n",
    "print(\"predict label: \",np.argmax( A[1] ) )\n",
    "print(\"predict label: \",np.argmax( A[2] ) )\n",
    "\n",
    "B = pred.infer( sequence[1] )\n",
    "\n",
    "print(\"-\"*70 )\n",
    "print(\"PDF TimeStep B: \",B)\n",
    "\n",
    "np.argmax( B[1] )  #->  labels[2]\n",
    "np.argmax( B[2] )  #->  labels[3]\n",
    "\n",
    "print(\"-\"*70 )\n",
    "print(\"predict label: \",np.argmax( B[1] ) )\n",
    "print(\"predict label: \",np.argmax( B[2] ) )"
   ]
  },
  {
   "cell_type": "code",
   "execution_count": null,
   "metadata": {},
   "outputs": [],
   "source": []
  }
 ],
 "metadata": {
  "kernelspec": {
   "display_name": "Python 3.7.1 64-bit",
   "language": "python",
   "name": "python37164biteddaa04d9bd6403f87a9a26eeb0f918e"
  },
  "language_info": {
   "codemirror_mode": {
    "name": "ipython",
    "version": 3
   },
   "file_extension": ".py",
   "mimetype": "text/x-python",
   "name": "python",
   "nbconvert_exporter": "python",
   "pygments_lexer": "ipython3",
   "version": "3.7.1"
  }
 },
 "nbformat": 4,
 "nbformat_minor": 2
}
