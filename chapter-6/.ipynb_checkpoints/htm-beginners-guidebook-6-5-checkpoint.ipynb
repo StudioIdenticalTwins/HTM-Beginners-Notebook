{
 "cells": [
  {
   "cell_type": "markdown",
   "metadata": {},
   "source": [
    "# machine_temperature_system_failure"
   ]
  },
  {
   "cell_type": "code",
   "execution_count": 1,
   "metadata": {},
   "outputs": [],
   "source": [
    "import csv\n",
    "import datetime\n",
    "import os\n",
    "import numpy as np\n",
    "import random\n",
    "import math\n",
    "\n",
    "from htm.bindings.sdr import SDR, Metrics\n",
    "from htm.encoders.rdse import RDSE, RDSE_Parameters\n",
    "from htm.encoders.date import DateEncoder\n",
    "from htm.bindings.algorithms import SpatialPooler\n",
    "from htm.bindings.algorithms import TemporalMemory\n",
    "from htm.algorithms.anomaly_likelihood import AnomalyLikelihood \n",
    "#FIXME 代わりにTM.anomalyを使用しますが、 py.AnomalyLikelihoodよりも悪い結果になります\n",
    "from htm.bindings.algorithms import Predictor\n",
    "\n",
    "import matplotlib.pyplot as plt\n",
    "from IPython.display import display, clear_output\n",
    "\n",
    "_INPUT_FILE_PATH =\"machine_temperature_system_failure.csv\""
   ]
  },
  {
   "cell_type": "code",
   "execution_count": 2,
   "metadata": {},
   "outputs": [
    {
     "name": "stdout",
     "output_type": "stream",
     "text": [
      "22693\n"
     ]
    }
   ],
   "source": [
    "# 入力ファイルの読み込み.\n",
    "records = []\n",
    "with open(_INPUT_FILE_PATH, \"r\") as fin:\n",
    "    reader = csv.reader(fin)\n",
    "    headers = next(reader)\n",
    "    next(reader)\n",
    "    next(reader)\n",
    "    for record in reader:\n",
    "      records.append(record)\n",
    "\n",
    "print(len(records))"
   ]
  },
  {
   "cell_type": "code",
   "execution_count": 3,
   "metadata": {},
   "outputs": [
    {
     "name": "stdout",
     "output_type": "stream",
     "text": [
      "----------------------------------------------------------------------------------------------------\n",
      "Encoded Input SDR( 1420 )\n",
      "    Sparsity Min/Mean/Std/Max inf / 1234.57 / 35.1364 / -inf\n",
      "\r",
      "    Activation Frequency Min/Mean/Std/Max 1234.57 / 1234.59 / 0.0211179 / 1234.57\n",
      "\r",
      "    Entropy 0\n",
      "\r",
      "    Overlap Min/Mean/Std/Max inf / 1234.57 / 35.1364 / -inf\n",
      "----------------------------------------------------------------------------------------------------\n"
     ]
    }
   ],
   "source": [
    " # エンコーダーを作成します。 これらは入力データをバイナリ表現に変換します.\n",
    "dateEncoder = DateEncoder(timeOfDay= (30, 1)) \n",
    "\n",
    "scalarEncoderParams            = RDSE_Parameters()\n",
    "scalarEncoderParams.size       = 700\n",
    "scalarEncoderParams.sparsity   = 0.02\n",
    "scalarEncoderParams.resolution = 0.88\n",
    "scalarEncoder = RDSE( scalarEncoderParams )\n",
    "encodingWidth = (dateEncoder.size + scalarEncoder.size)\n",
    "enc_info = Metrics( [encodingWidth], 999999999 )\n",
    "\n",
    "print(\"-\"*100)\n",
    "print(\"Encoded Input\", enc_info)\n",
    "print(\"-\"*100)"
   ]
  },
  {
   "cell_type": "code",
   "execution_count": 4,
   "metadata": {},
   "outputs": [
    {
     "name": "stdout",
     "output_type": "stream",
     "text": [
      "----------------------------------------------------------------------------------------------------\n",
      "Spatial Pooler Mini-Columns SDR( 1638 )\n",
      "    Sparsity Min/Mean/Std/Max inf / 1234.57 / 35.1364 / -inf\n",
      "\r",
      "    Activation Frequency Min/Mean/Std/Max 1234.57 / 1234.59 / 0.0260008 / 1234.57\n",
      "\r",
      "    Entropy 0\n",
      "\r",
      "    Overlap Min/Mean/Std/Max inf / 1234.57 / 35.1364 / -inf\n",
      "----------------------------------------------------------------------------------------------------\n",
      "Spatial Pooler Connections:\n",
      "    Inputs (1420) ~> Outputs (1638) via Segments (1638)\n",
      "    Segments on Cell Min/Mean/Max 1 / 1 / 1\n",
      "    Potential Synapses on Segment Min/Mean/Max 1207 / 1207 / 1207\n",
      "    Connected Synapses on Segment Min/Mean/Max 545 / 603.669 / 667\n",
      "    Synapses Dead (1.5174e-06%) Saturated (1.0116e-06%)\n",
      "    Synapses pruned (0%) Segments pruned (0%)\n",
      "\n",
      "----------------------------------------------------------------------------------------------------\n"
     ]
    }
   ],
   "source": [
    "# HTMを作る。 SpatialPoolerとTemporalMemoryと関連ツール.\n",
    "sp = SpatialPooler(\n",
    "    inputDimensions            = (encodingWidth,),\n",
    "    columnDimensions           = (1638,),\n",
    "    potentialPct               = 0.85,\n",
    "    potentialRadius            = encodingWidth,\n",
    "    globalInhibition           = True,\n",
    "    localAreaDensity           = 0.04395604395604396,\n",
    "    synPermInactiveDec         = 0.006,\n",
    "    synPermActiveInc           = 0.04,\n",
    "    synPermConnected           = 0.13999999999999999,\n",
    "    boostStrength              = 3.0,\n",
    "    wrapAround                 = True\n",
    ")\n",
    "sp_info = Metrics( sp.getColumnDimensions(), 999999999 )\n",
    "\n",
    "print(\"-\"*100)\n",
    "print(\"Spatial Pooler Mini-Columns\", sp_info)\n",
    "print(\"-\"*100)\n",
    "print(sp)\n",
    "print(\"-\"*100)"
   ]
  },
  {
   "cell_type": "code",
   "execution_count": 5,
   "metadata": {},
   "outputs": [
    {
     "name": "stdout",
     "output_type": "stream",
     "text": [
      "----------------------------------------------------------------------------------------------------\n",
      "Temporal Memory Cells SDR( 21294 )\n",
      "    Sparsity Min/Mean/Std/Max inf / 1234.57 / 35.1364 / -inf\n",
      "\r",
      "    Activation Frequency Min/Mean/Std/Max 1234.57 / 1234.49 / 0.08094 / 1234.57\n",
      "\r",
      "    Entropy 0\n",
      "\r",
      "    Overlap Min/Mean/Std/Max inf / 1234.57 / 35.1364 / -inf\n",
      "----------------------------------------------------------------------------------------------------\n",
      "Temporal Memory Connections:\n",
      "    Inputs (0) ~> Outputs (21294) via Segments (0)\n",
      "    Segments on Cell Min/Mean/Max 0 / 0 / 0\n",
      "    Potential Synapses on Segment Min/Mean/Max 4294967295 / nan / 0\n",
      "    Connected Synapses on Segment Min/Mean/Max 65535 / nan / 0\n",
      "    Synapses Dead (nan%) Saturated (nan%)\n",
      "    Synapses pruned (nan%) Segments pruned (nan%)\n",
      "\n",
      "----------------------------------------------------------------------------------------------------\n"
     ]
    }
   ],
   "source": [
    "tm = TemporalMemory(\n",
    "    columnDimensions          = (1638,), #sp.columnDimensions\n",
    "    cellsPerColumn            = 13,\n",
    "    activationThreshold       = 17,\n",
    "    initialPermanence         = 0.21,\n",
    "    connectedPermanence       = 0.13999999999999999, #sp.synPermConnected\n",
    "    minThreshold              = 10,\n",
    "    maxNewSynapseCount        = 32,\n",
    "    permanenceIncrement       = 0.1,\n",
    "    permanenceDecrement       = 0.1,\n",
    "    predictedSegmentDecrement = 0.0,\n",
    "    maxSegmentsPerCell        = 128,\n",
    "    maxSynapsesPerSegment     = 64\n",
    ")\n",
    "tm_info = Metrics( [tm.numberOfCells()], 999999999 )\n",
    "\n",
    "print(\"-\"*100)\n",
    "print(\"Temporal Memory Cells\", tm_info)\n",
    "print(\"-\"*100)\n",
    "print(tm)\n",
    "print(\"-\"*100)"
   ]
  },
  {
   "cell_type": "code",
   "execution_count": 6,
   "metadata": {},
   "outputs": [],
   "source": [
    "# セットアップ尤度（ゆうど）は、これらの設定が NAB\n",
    "# これらの設定は、NABからコピーされます\n",
    "probationaryPeriod = int(math.floor(float(0.1)*len(records)))\n",
    "learningPeriod     = int(math.floor(probationaryPeriod / 2.0))\n",
    "anomaly_history = AnomalyLikelihood(learningPeriod= learningPeriod,\n",
    "                                  estimationSamples= probationaryPeriod - learningPeriod,\n",
    "                                  reestimationPeriod= 100)\n",
    "\n",
    "predictor = Predictor( steps=[1, 5], alpha=0.1)\n",
    "predictor_resolution = 1"
   ]
  },
  {
   "cell_type": "code",
   "execution_count": 7,
   "metadata": {},
   "outputs": [],
   "source": [
    "# データセット内のすべてのデータを反復処理し、入力と出力を記録します.\n",
    "inputs      = []\n",
    "anomaly     = []\n",
    "anomalyProb = []\n",
    "predictions = {1: [], 5: []}"
   ]
  },
  {
   "cell_type": "code",
   "execution_count": null,
   "metadata": {},
   "outputs": [
    {
     "data": {
      "image/png": "[encoded data removed]",
      "text/plain": [
       "<Figure size 1500x1000 with 2 Axes>"
      ]
     },
     "metadata": {
      "needs_background": "light"
     },
     "output_type": "display_data"
    },
    {
     "name": "stdout",
     "output_type": "stream",
     "text": [
      "89.7298597\n"
     ]
    }
   ],
   "source": [
    "for count, record in enumerate(records):\n",
    "\n",
    "    # 日付文字列をPythonの日付オブジェクトに変換する.\n",
    "    dateString = datetime.datetime.strptime(record[0], \"%Y-%m-%d %H:%M:%S\")\n",
    "    # データ値の文字列をfloatに変換.\n",
    "    consumption = float(record[1])\n",
    "    print(consumption)\n",
    "    inputs.append( consumption )\n",
    "\n",
    "    # エンコーダを呼び出して、各値のビット表現を作成します。 これらは SDR オブジェクトです.\n",
    "    dateBits        = dateEncoder.encode(dateString)\n",
    "    consumptionBits = scalarEncoder.encode(consumption)\n",
    "\n",
    "    # これらのすべてのエンコーディングを 1 つの大きなエンコーディングに連結して、\n",
    "    # 空間プーリング用に使用します.\n",
    "    encoding = SDR( encodingWidth ).concatenate([consumptionBits, dateBits])\n",
    "    enc_info.addData( encoding )\n",
    "\n",
    "    # これは、以下の計算方法で作成されます\n",
    "    # Spatial Poolerと同じ寸法でなければなりません\n",
    "    activeColumns = SDR( sp.getColumnDimensions() )\n",
    "\n",
    "    # 入力空間に対する空間プーリングアルゴリズムの実行.\n",
    "    sp.compute(encoding, True, activeColumns)\n",
    "    sp_info.addData( activeColumns )\n",
    "\n",
    "    # アクティブなミニカラムに対してTemporal Memoryアルゴリズムを実行する.\n",
    "    tm.compute(activeColumns, learn=True)\n",
    "    tm_info.addData( tm.getActiveCells().flatten() )\n",
    "\n",
    "    # 何が起こるかを予測し、今起こったことに基づいて予測器を訓練する.\n",
    "    pdf = predictor.infer( tm.getActiveCells() )\n",
    "    for n in (1,5):\n",
    "        if pdf[n]:\n",
    "            predictions[n].append( np.argmax( pdf[n] ) * predictor_resolution )\n",
    "        else:\n",
    "            predictions[n].append(float('nan'))\n",
    "        \n",
    "    anomalyLikelihood = anomaly_history.anomalyProbability( consumption, tm.anomaly )\n",
    "    \n",
    "    anomaly.append( tm.anomaly )\n",
    "    anomalyProb.append( anomalyLikelihood )\n",
    "\n",
    "    predictor.learn(count, tm.getActiveCells(), int(consumption / predictor_resolution))\n",
    "    \n",
    "    clear_output(wait = True)\n",
    "    plt.cla\n",
    "    plot = plt.figure(figsize=(30,20),dpi=50)\n",
    "    plt.subplot(2, 1, 1)\n",
    "    plt.plot(inputs, color='green', linestyle = \"solid\", linewidth = 2.0)\n",
    "    plt.plot(predictions[1], color='red', linestyle = \"dotted\", linewidth = 1.0)\n",
    "    plt.subplot(2, 1, 2)\n",
    "    plt.plot(anomaly, color='skyblue', linestyle = \"dotted\", linewidth = 1.0)\n",
    "    plt.plot(anomalyProb, color='orange', linestyle = \"solid\", linewidth = 2.0)\n",
    "    plt.show()"
   ]
  },
  {
   "cell_type": "code",
   "execution_count": null,
   "metadata": {},
   "outputs": [],
   "source": []
  },
  {
   "cell_type": "code",
   "execution_count": null,
   "metadata": {},
   "outputs": [],
   "source": []
  }
 ],
 "metadata": {
  "kernelspec": {
   "display_name": "Python 3.7.1 64-bit",
   "language": "python",
   "name": "python37164biteddaa04d9bd6403f87a9a26eeb0f918e"
  },
  "language_info": {
   "codemirror_mode": {
    "name": "ipython",
    "version": 3
   },
   "file_extension": ".py",
   "mimetype": "text/x-python",
   "name": "python",
   "nbconvert_exporter": "python",
   "pygments_lexer": "ipython3",
   "version": "3.7.7"
  }
 },
 "nbformat": 4,
 "nbformat_minor": 2
}
