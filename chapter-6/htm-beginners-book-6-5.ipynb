{
 "cells": [
  {
   "cell_type": "markdown",
   "metadata": {},
   "source": [
    "## Predictor Algorythm"
   ]
  },
  {
   "cell_type": "code",
   "execution_count": 1,
   "metadata": {},
   "outputs": [],
   "source": [
    "import numpy as np\n",
    "import random\n",
    "random.seed(1)\n",
    "import matplotlib\n",
    "matplotlib.use('Agg')\n",
    "import matplotlib.pyplot as plt\n",
    "from htm.bindings.sdr import SDR\n",
    "from htm.algorithms import TemporalMemory as TM\n",
    "from htm.bindings.algorithms import Predictor\n",
    "\n",
    "%matplotlib inline"
   ]
  },
  {
   "cell_type": "code",
   "execution_count": 2,
   "metadata": {},
   "outputs": [],
   "source": [
    "tm = TM(\n",
    "  columnDimensions = (2048,),\n",
    "  cellsPerColumn=8,\n",
    "  initialPermanence=0.21,\n",
    "  connectedPermanence=0.3,\n",
    "  minThreshold=15,\n",
    "  maxNewSynapseCount=40,\n",
    "  permanenceIncrement=0.1,\n",
    "  permanenceDecrement=0.1,\n",
    "  activationThreshold=15,\n",
    "  predictedSegmentDecrement=0.01,\n",
    "  )"
   ]
  },
  {
   "cell_type": "code",
   "execution_count": 12,
   "metadata": {},
   "outputs": [
    {
     "name": "stdout",
     "output_type": "stream",
     "text": [
      "SDR( 2048 ) 0, 1, 2, 3, 4, 5, 6, 7, 8, 9, 10, 11, 12, 13, 14, 15, 16, 17, 18, 19, 20, 21, 22, 23, 24, 25, 26, 27, 28, 29, 30, 31, 32, 33, 34, 35, 36, 37, 38, 39\n",
      "SDR( 2048 ) 40, 41, 42, 43, 44, 45, 46, 47, 48, 49, 50, 51, 52, 53, 54, 55, 56, 57, 58, 59, 60, 61, 62, 63, 64, 65, 66, 67, 68, 69, 70, 71, 72, 73, 74, 75, 76, 77, 78, 79\n",
      "SDR( 2048 ) 80, 81, 82, 83, 84, 85, 86, 87, 88, 89, 90, 91, 92, 93, 94, 95, 96, 97, 98, 99, 100, 101, 102, 103, 104, 105, 106, 107, 108, 109, 110, 111, 112, 113, 114, 115, 116, 117, 118, 119\n",
      "SDR( 2048 ) 120, 121, 122, 123, 124, 125, 126, 127, 128, 129, 130, 131, 132, 133, 134, 135, 136, 137, 138, 139, 140, 141, 142, 143, 144, 145, 146, 147, 148, 149, 150, 151, 152, 153, 154, 155, 156, 157, 158, 159\n",
      "SDR( 2048 ) 160, 161, 162, 163, 164, 165, 166, 167, 168, 169, 170, 171, 172, 173, 174, 175, 176, 177, 178, 179, 180, 181, 182, 183, 184, 185, 186, 187, 188, 189, 190, 191, 192, 193, 194, 195, 196, 197, 198, 199\n",
      "SDR( 2048 ) 200, 201, 202, 203, 204, 205, 206, 207, 208, 209, 210, 211, 212, 213, 214, 215, 216, 217, 218, 219, 220, 221, 222, 223, 224, 225, 226, 227, 228, 229, 230, 231, 232, 233, 234, 235, 236, 237, 238, 239\n",
      "['A', 'B', 'C', 'D', 'X', 'Y']\n",
      "[0, 1, 2, 3, 4, 5]\n"
     ]
    }
   ],
   "source": [
    "sparsity   = 0.02\n",
    "sparseCols = int(tm.numberOfColumns() * sparsity)\n",
    "dataset    = {inp : SDR( tm.numberOfColumns() ) for inp in \"ABCDXY\"}\n",
    "for i, inp in enumerate(\"ABCDXY\"):\n",
    "  dataset[inp].dense[ i * sparseCols : (i + 1) * sparseCols ] = 1\n",
    "  dataset[inp].dense = dataset[inp].dense # この行は、SDR の高密度データが変更されたことを SDR に通知する.\n",
    "  #print(\"Input\", inp, \"is bits at indices: [\",  i * sparseCols, '-', (i + 1) * sparseCols, ']')\n",
    "  print(dataset[inp])\n",
    "print(sorted(dataset.keys()))\n",
    "labels=[i for i in range(len(dataset))]\n",
    "print(labels)\n",
    "\n",
    "seq1 = \"ABCD\"\n",
    "seq2 = \"XBCY\"\n",
    "seqT = \"ABCDXY\""
   ]
  },
  {
   "cell_type": "code",
   "execution_count": 8,
   "metadata": {},
   "outputs": [
    {
     "name": "stdout",
     "output_type": "stream",
     "text": [
      "SDR( 2048, 8 ) 1282, 1285, 1290, 1293, 1298, 1301, 1306, 1309, 1314, 1317, 1322, 1325, 1330, 1333, 1338, 1341, 1346, 1349, 1354, 1357, 1362, 1365, 1370, 1373, 1378, 1381, 1386, 1389, 1394, 1397, 1402, 1405, 1410, 1413, 1418, 1421, 1426, 1429, 1434, 1437, 1442, 1445, 1450, 1453, 1458, 1461, 1466, 1469, 1474, 1477, 1482, 1485, 1490, 1493, 1498, 1501, 1506, 1509, 1514, 1517, 1522, 1525, 1530, 1533, 1538, 1541, 1546, 1549, 1554, 1557, 1562, 1565, 1570, 1573, 1578, 1581, 1586, 1589, 1594, 1597\n",
      "SDR( 2048, 8 ) 321, 325, 329, 333, 337, 341, 345, 349, 353, 357, 361, 365, 369, 373, 377, 381, 385, 389, 393, 397, 401, 405, 409, 413, 417, 421, 425, 429, 433, 437, 441, 445, 449, 453, 457, 461, 465, 469, 473, 477, 481, 485, 489, 493, 497, 501, 505, 509, 513, 517, 521, 525, 529, 533, 537, 541, 545, 549, 553, 557, 561, 565, 569, 573, 577, 581, 585, 589, 593, 597, 601, 605, 609, 613, 617, 621, 625, 629, 633, 637\n",
      "SDR( 2048, 8 ) 641, 643, 649, 651, 657, 659, 665, 667, 673, 675, 681, 683, 689, 691, 697, 699, 705, 707, 713, 715, 721, 723, 729, 731, 737, 739, 745, 747, 753, 755, 761, 763, 769, 771, 777, 779, 785, 787, 793, 795, 801, 803, 809, 811, 817, 819, 825, 827, 833, 835, 841, 843, 849, 851, 857, 859, 865, 867, 873, 875, 881, 883, 889, 891, 897, 899, 905, 907, 913, 915, 921, 923, 929, 931, 937, 939, 945, 947, 953, 955\n",
      "SDR( 2048, 8 ) 1601, 1602, 1609, 1610, 1617, 1618, 1625, 1626, 1633, 1634, 1641, 1642, 1649, 1650, 1657, 1658, 1665, 1666, 1673, 1674, 1681, 1682, 1689, 1690, 1697, 1698, 1705, 1706, 1713, 1714, 1721, 1722, 1729, 1730, 1737, 1738, 1745, 1746, 1753, 1754, 1761, 1762, 1769, 1770, 1777, 1778, 1785, 1786, 1793, 1794, 1801, 1802, 1809, 1810, 1817, 1818, 1825, 1826, 1833, 1834, 1841, 1842, 1849, 1850, 1857, 1858, 1865, 1866, 1873, 1874, 1881, 1882, 1889, 1890, 1897, 1898, 1905, 1906, 1913, 1914\n"
     ]
    }
   ],
   "source": [
    "for t in range(1):\n",
    "  seq = random.choice([ seq1, seq2 ])\n",
    "  for inp in seq:\n",
    "    tm.compute( dataset[inp], learn=True)\n",
    "    print(tm.getActiveCells() )\n"
   ]
  },
  {
   "cell_type": "code",
   "execution_count": null,
   "metadata": {},
   "outputs": [],
   "source": []
  },
  {
   "cell_type": "code",
   "execution_count": null,
   "metadata": {},
   "outputs": [],
   "source": []
  },
  {
   "cell_type": "code",
   "execution_count": null,
   "metadata": {},
   "outputs": [],
   "source": []
  }
 ],
 "metadata": {
  "kernelspec": {
   "display_name": "Python 3.7.1 64-bit",
   "language": "python",
   "name": "python37164biteddaa04d9bd6403f87a9a26eeb0f918e"
  },
  "language_info": {
   "codemirror_mode": {
    "name": "ipython",
    "version": 3
   },
   "file_extension": ".py",
   "mimetype": "text/x-python",
   "name": "python",
   "nbconvert_exporter": "python",
   "pygments_lexer": "ipython3",
   "version": "3.7.1"
  }
 },
 "nbformat": 4,
 "nbformat_minor": 2
}
