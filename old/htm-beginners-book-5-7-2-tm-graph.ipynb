{
 "cells": [
  {
   "cell_type": "markdown",
   "metadata": {},
   "source": [
    "## Pitch Names Classifier"
   ]
  },
  {
   "cell_type": "code",
   "execution_count": 1,
   "metadata": {},
   "outputs": [],
   "source": [
    "import numpy as np\n",
    "\n",
    "from htm.bindings.sdr import SDR\n",
    "from htm.bindings.encoders import ScalarEncoder, ScalarEncoderParameters\n",
    "from htm.algorithms import SpatialPooler as SP\n",
    "from htm.algorithms import TemporalMemory as TM\n",
    "from htm.bindings.algorithms import Classifier\n",
    "\n",
    "import matplotlib\n",
    "import matplotlib.pyplot as plt\n",
    "from IPython.display import display, clear_output"
   ]
  },
  {
   "cell_type": "code",
   "execution_count": 2,
   "metadata": {},
   "outputs": [
    {
     "name": "stdout",
     "output_type": "stream",
     "text": [
      "C:  SDR( 21 ) 0, 1, 2\n",
      "D:  SDR( 21 ) 3, 4, 5\n",
      "E:  SDR( 21 ) 6, 7, 8\n",
      "F:  SDR( 21 ) 9, 10, 11\n",
      "G:  SDR( 21 ) 12, 13, 14\n",
      "A:  SDR( 21 ) 15, 16, 17\n",
      "B:  SDR( 21 ) 18, 19, 20\n"
     ]
    }
   ],
   "source": [
    "pitchNames = (\"C\",\"D\",\"E\",\"F\",\"G\",\"A\",\"B\")\n",
    "\n",
    "scalarEncoderParams = ScalarEncoderParameters()\n",
    "scalarEncoderParams.minimum = 0\n",
    "scalarEncoderParams.maximum = 6\n",
    "scalarEncoderParams.activeBits = 3\n",
    "scalarEncoderParams.category = True\n",
    "\n",
    "enc = ScalarEncoder(scalarEncoderParams)\n",
    "\n",
    "print (\"C: \", enc.encode(0))\n",
    "print (\"D: \", enc.encode(1))\n",
    "print (\"E: \", enc.encode(2))\n",
    "print (\"F: \", enc.encode(3))\n",
    "print (\"G: \", enc.encode(4))\n",
    "print (\"A: \", enc.encode(5))\n",
    "print (\"B: \", enc.encode(6))"
   ]
  },
  {
   "cell_type": "code",
   "execution_count": 3,
   "metadata": {},
   "outputs": [
    {
     "data": {
      "image/png": "[encoded data removed]",
      "text/plain": [
       "<Figure size 432x288 with 1 Axes>"
      ]
     },
     "metadata": {
      "needs_background": "light"
     },
     "output_type": "display_data"
    }
   ],
   "source": [
    "n_samples = int(enc.parameters.maximum - enc.parameters.minimum + 1)\n",
    "\n",
    "sdrs = []\n",
    "for i in np.linspace(enc.parameters.minimum, enc.parameters.maximum, n_samples):\n",
    "    sdrs.append( enc.encode( i ).dense )\n",
    "\n",
    "    clear_output(wait = True)\n",
    "    plt.cla\n",
    "    plt.imshow(np.array(sdrs), cmap = \"Greens\")\n",
    "    plt.show()"
   ]
  },
  {
   "cell_type": "code",
   "execution_count": 4,
   "metadata": {},
   "outputs": [
    {
     "name": "stdout",
     "output_type": "stream",
     "text": [
      "Spatial Pooler Connections:\n",
      "    Inputs (21) ~> Outputs (576) via Segments (576)\n",
      "    Segments on Cell Min/Mean/Max 1 / 1 / 1\n",
      "    Potential Synapses on Segment Min/Mean/Max 11 / 11 / 11\n",
      "    Connected Synapses on Segment Min/Mean/Max 1 / 5.44097 / 10\n",
      "    Synapses Dead (0%) Saturated (0%)\n",
      "    Synapses pruned (0%) Segments pruned (0%)\n",
      "\n"
     ]
    }
   ],
   "source": [
    "inputSDR  = SDR( dimensions = (21, ) )\n",
    "activeSDR = SDR( dimensions = (576,) )\n",
    "sp = SP(inputDimensions  = inputSDR.dimensions,\n",
    "        columnDimensions = activeSDR.dimensions,\n",
    "        localAreaDensity = 0.02,\n",
    "        globalInhibition = True,\n",
    "        seed             = 1,\n",
    "        synPermActiveInc   = 0.01,\n",
    "        synPermInactiveDec = 0.008)\n",
    "\n",
    "print(sp)"
   ]
  },
  {
   "cell_type": "code",
   "execution_count": 5,
   "metadata": {},
   "outputs": [],
   "source": [
    "clsr = Classifier()"
   ]
  },
  {
   "cell_type": "code",
   "execution_count": 6,
   "metadata": {},
   "outputs": [
    {
     "name": "stdout",
     "output_type": "stream",
     "text": [
      "Temporal Memory Connections:\n",
      "    Inputs (0) ~> Outputs (4608) via Segments (0)\n",
      "    Segments on Cell Min/Mean/Max 0 / 0 / 0\n",
      "    Potential Synapses on Segment Min/Mean/Max 4294967295 / nan / 0\n",
      "    Connected Synapses on Segment Min/Mean/Max 65535 / nan / 0\n",
      "    Synapses Dead (nan%) Saturated (nan%)\n",
      "    Synapses pruned (nan%) Segments pruned (nan%)\n",
      "\n"
     ]
    }
   ],
   "source": [
    "tm = TM(\n",
    "    columnDimensions = (576,),\n",
    "    cellsPerColumn=8,\n",
    "    initialPermanence=0.5,\n",
    "    connectedPermanence=0.5,\n",
    "    minThreshold=8,\n",
    "    maxNewSynapseCount=20,\n",
    "    permanenceIncrement=0.1,\n",
    "    permanenceDecrement=0.0,\n",
    "    activationThreshold=8,\n",
    ")\n",
    "print(tm)"
   ]
  },
  {
   "cell_type": "code",
   "execution_count": 7,
   "metadata": {},
   "outputs": [
    {
     "data": {
      "image/png": "[encoded data removed]",
      "text/plain": [
       "<Figure size 432x288 with 1 Axes>"
      ]
     },
     "metadata": {
      "needs_background": "light"
     },
     "output_type": "display_data"
    }
   ],
   "source": [
    "for i in range(len(pitchNames)):\n",
    "    inputSDR = enc.encode(i)\n",
    "    print(\"input SDR: \",inputSDR)\n",
    "    sp.compute(inputSDR, True, activeSDR)\n",
    "    print(\"Active SDR: \",activeSDR)\n",
    "    clsr.learn( activeSDR.addNoise(0.2), i )\n",
    "    print(\"Classifier learn: \",i)\n",
    "    print(\"\")\n",
    "\n",
    "    clear_output(wait = True)\n",
    "    plt.cla\n",
    "    sampleSDR=activeSDR.dense.reshape(24,24)\n",
    "    plt.imshow(sampleSDR, cmap = \"Blues\")\n",
    "    plt.pause(0.01)"
   ]
  },
  {
   "cell_type": "code",
   "execution_count": 8,
   "metadata": {},
   "outputs": [],
   "source": [
    "#seq = [\"C\",\"C\",\"G\",\"G\",\"A\",\"A\",\"G\",\"F\",\"F\",\"E\",\"E\",\"D\",\"D\",\"C\"]\n",
    "seq=[0,0,4,4,5,5,4,3,3,2,2,1,1,0]\n",
    "\n",
    "#seq_clsr = Classifier()"
   ]
  },
  {
   "cell_type": "code",
   "execution_count": null,
   "metadata": {},
   "outputs": [
    {
     "name": "stdout",
     "output_type": "stream",
     "text": [
      "input SDR:  SDR( 21 ) 0, 1, 2\n",
      "Active SDR:  SDR( 576 ) 62, 113, 121, 222, 243, 320, 409, 453, 478, 567, 572\n",
      "\n",
      "test0 SDR( 576, 8 )\n",
      "test1 []\n",
      "test2 []\n",
      "test3 set()\n",
      "test4 []\n"
     ]
    },
    {
     "data": {
      "image/png": "[encoded data removed]",
      "text/plain": [
       "<Figure size 432x288 with 24 Axes>"
      ]
     },
     "metadata": {
      "needs_background": "light"
     },
     "output_type": "display_data"
    },
    {
     "data": {
      "image/png": "[encoded data removed]",
      "text/plain": [
       "<Figure size 432x288 with 24 Axes>"
      ]
     },
     "metadata": {
      "needs_background": "light"
     },
     "output_type": "display_data"
    },
    {
     "name": "stdout",
     "output_type": "stream",
     "text": [
      "----------------------------------------------------------------------\n",
      "Active sdr:  SDR( 576 ) 62, 113, 121, 222, 243, 320, 409, 453, 478, 567, 572\n"
     ]
    },
    {
     "data": {
      "image/png": "[encoded data removed]",
      "text/plain": [
       "<Figure size 432x288 with 1 Axes>"
      ]
     },
     "metadata": {
      "needs_background": "light"
     },
     "output_type": "display_data"
    },
    {
     "name": "stdout",
     "output_type": "stream",
     "text": [
      "----------------------------------------------------------------------\n",
      "Predicted sdr:  SDR( 576 )\n"
     ]
    },
    {
     "data": {
      "image/png": "[encoded data removed]",
      "text/plain": [
       "<Figure size 432x288 with 1 Axes>"
      ]
     },
     "metadata": {
      "needs_background": "light"
     },
     "output_type": "display_data"
    },
    {
     "name": "stdout",
     "output_type": "stream",
     "text": [
      "----------------------------------------------------------------------\n",
      "PDF:  [0.14285714285714285, 0.14285714285714285, 0.14285714285714285, 0.14285714285714285, 0.14285714285714285, 0.14285714285714285, 0.14285714285714285]\n",
      "----------------------------------------------------------------------\n",
      "predict index:  nan\n",
      "----------------------------------------------------------------------\n",
      "predict label:  nan\n",
      "\n",
      "input SDR:  SDR( 21 ) 0, 1, 2\n",
      "Active SDR:  SDR( 576 ) 62, 113, 121, 222, 243, 320, 409, 453, 478, 567, 572\n",
      "\n",
      "test0 SDR( 576, 8 ) 496, 904, 968, 1776, 1944, 2560, 3272, 3624, 3824, 4536, 4576\n",
      "test1 [ 496  904  968 1776 1944 2560 3272 3624 3824 4536 4576]\n",
      "test2 [62, 113, 121, 222, 243, 320, 409, 453, 478, 567, 572]\n",
      "test3 {320, 453, 478, 409, 113, 243, 567, 62, 121, 572, 222}\n",
      "test4 [ 62 113 121 222 243 320 409 453 478 567 572]\n"
     ]
    },
    {
     "data": {
      "image/png": "[encoded data removed]",
      "text/plain": [
       "<Figure size 432x288 with 24 Axes>"
      ]
     },
     "metadata": {
      "needs_background": "light"
     },
     "output_type": "display_data"
    },
    {
     "data": {
      "image/png": "[encoded data removed]",
      "text/plain": [
       "<Figure size 432x288 with 24 Axes>"
      ]
     },
     "metadata": {
      "needs_background": "light"
     },
     "output_type": "display_data"
    },
    {
     "name": "stdout",
     "output_type": "stream",
     "text": [
      "----------------------------------------------------------------------\n",
      "Active sdr:  SDR( 576 ) 62, 113, 121, 222, 243, 320, 409, 453, 478, 567, 572\n"
     ]
    },
    {
     "data": {
      "image/png": "[encoded data removed]",
      "text/plain": [
       "<Figure size 432x288 with 1 Axes>"
      ]
     },
     "metadata": {
      "needs_background": "light"
     },
     "output_type": "display_data"
    },
    {
     "name": "stdout",
     "output_type": "stream",
     "text": [
      "----------------------------------------------------------------------\n",
      "Predicted sdr:  SDR( 576 ) 62, 113, 121, 222, 243, 320, 409, 453, 478, 567, 572\n"
     ]
    },
    {
     "data": {
      "image/png": "[encoded data removed]",
      "text/plain": [
       "<Figure size 432x288 with 1 Axes>"
      ]
     },
     "metadata": {
      "needs_background": "light"
     },
     "output_type": "display_data"
    },
    {
     "name": "stdout",
     "output_type": "stream",
     "text": [
      "----------------------------------------------------------------------\n",
      "PDF:  [0.14282858510295438, 0.14282855653723786, 0.1428285708236661, 0.1428285708236661, 0.1429714708393767, 0.14285713939439657, 0.14285713939439657]\n",
      "----------------------------------------------------------------------\n",
      "predict index:  4\n",
      "----------------------------------------------------------------------\n",
      "predict label:  G\n",
      "\n",
      "input SDR:  SDR( 21 ) 12, 13, 14\n",
      "Active SDR:  SDR( 576 ) 39, 60, 69, 211, 382, 509, 523, 540, 552, 556, 573\n",
      "\n",
      "test0 SDR( 576, 8 )\n",
      "test1 []\n",
      "test2 []\n",
      "test3 set()\n",
      "test4 []\n"
     ]
    },
    {
     "data": {
      "image/png": "[encoded data removed]",
      "text/plain": [
       "<Figure size 432x288 with 24 Axes>"
      ]
     },
     "metadata": {
      "needs_background": "light"
     },
     "output_type": "display_data"
    },
    {
     "data": {
      "image/png": "[encoded data removed]",
      "text/plain": [
       "<Figure size 432x288 with 24 Axes>"
      ]
     },
     "metadata": {
      "needs_background": "light"
     },
     "output_type": "display_data"
    },
    {
     "name": "stdout",
     "output_type": "stream",
     "text": [
      "----------------------------------------------------------------------\n",
      "Active sdr:  SDR( 576 ) 39, 60, 69, 211, 382, 509, 523, 540, 552, 556, 573\n"
     ]
    },
    {
     "data": {
      "image/png": "[encoded data removed]",
      "text/plain": [
       "<Figure size 432x288 with 1 Axes>"
      ]
     },
     "metadata": {
      "needs_background": "light"
     },
     "output_type": "display_data"
    },
    {
     "name": "stdout",
     "output_type": "stream",
     "text": [
      "----------------------------------------------------------------------\n",
      "Predicted sdr:  SDR( 576 )\n"
     ]
    },
    {
     "data": {
      "image/png": "[encoded data removed]",
      "text/plain": [
       "<Figure size 432x288 with 1 Axes>"
      ]
     },
     "metadata": {
      "needs_background": "light"
     },
     "output_type": "display_data"
    },
    {
     "name": "stdout",
     "output_type": "stream",
     "text": [
      "----------------------------------------------------------------------\n",
      "PDF:  [0.14285714285714285, 0.14285714285714285, 0.14285714285714285, 0.14285714285714285, 0.14285714285714285, 0.14285714285714285, 0.14285714285714285]\n",
      "----------------------------------------------------------------------\n",
      "predict index:  nan\n",
      "----------------------------------------------------------------------\n",
      "predict label:  nan\n",
      "\n",
      "input SDR:  SDR( 21 ) 12, 13, 14\n",
      "Active SDR:  SDR( 576 ) 39, 60, 69, 211, 382, 509, 523, 540, 552, 556, 573\n",
      "\n",
      "test0 SDR( 576, 8 ) 313, 481, 553, 1689, 3057, 4073, 4185, 4321, 4417, 4449, 4585\n",
      "test1 [ 313  481  553 1689 3057 4073 4185 4321 4417 4449 4585]\n",
      "test2 [39, 60, 69, 211, 382, 509, 523, 540, 552, 556, 573]\n",
      "test3 {573, 69, 39, 552, 523, 556, 540, 211, 60, 509, 382}\n",
      "test4 [ 39  60  69 211 382 509 523 540 552 556 573]\n"
     ]
    }
   ],
   "source": [
    "batch=3\n",
    "for n in range(batch):    \n",
    "    for i in range(len(seq)):\n",
    "        inputSDR = enc.encode(seq[i])\n",
    "        print(\"input SDR: \",inputSDR)\n",
    "        sp.compute(inputSDR, True, activeSDR)\n",
    "        print(\"Active SDR: \",activeSDR)\n",
    "        #seq_clsr.learn( activeSDR, i )\n",
    "        #print(\"Classifier learn: \",i)\n",
    "        print(\"\")\n",
    "\n",
    "        #sampleSDR=activeSDR.dense.reshape(24,24)\n",
    "        #plt.imshow(sampleSDR, cmap = \"Blues\")\n",
    "        #plt.pause(0.01)\n",
    "\n",
    "        tm.compute( activeSDR, learn=True)\n",
    "        tm.activateDendrites(True)\n",
    "\n",
    "        activeColumnsIndices   = [tm.columnForCell(i) for i in tm.getActiveCells().sparse]\n",
    "        predictedColumnIndices = [tm.columnForCell(i) for i in tm.getPredictiveCells().sparse]\n",
    "        \n",
    "        print(\"test0\", tm.getPredictiveCells())\n",
    "        print(\"test1\", tm.getPredictiveCells().sparse)\n",
    "        print(\"test2\",predictedColumnIndices)\n",
    "        print(\"test3\", np.array(set(predictedColumnIndices)))\n",
    "        print(\"test4\", np.array(sorted(set(predictedColumnIndices))))\n",
    "        \n",
    "        reshapeActiveCells =tm.getActiveCells().dense.reshape(24,8,24)\n",
    "        for j in range(24):\n",
    "            plt.subplot(6,4,j+1)\n",
    "            plt.imshow(reshapeActiveCells[j], cmap = \"Purples\")\n",
    "        plt.show()\n",
    "\n",
    "        reshapePredictCells =tm.getPredictiveCells().dense.reshape(24,8,24)\n",
    "        for j in range(24):\n",
    "            plt.subplot(6,4,j+1)\n",
    "            plt.imshow(reshapePredictCells[j], cmap = \"Reds\")\n",
    "        plt.show()\n",
    "\n",
    "        active_sdr = SDR( tm.numberOfColumns() )\n",
    "        active_sdr.sparse  = np.array(sorted(set(activeColumnsIndices)))\n",
    "        print(\"-\"*70 )\n",
    "        print(\"Active sdr: \", active_sdr)\n",
    "        \n",
    "        sampleSDR=active_sdr.dense.reshape(24,24)\n",
    "        plt.imshow(sampleSDR, cmap = \"Purples\")\n",
    "        plt.pause(0.01)\n",
    "\n",
    "        predict_sdr = SDR( tm.numberOfColumns() )\n",
    "        predict_sdr.sparse  = np.array(sorted(set(predictedColumnIndices)))\n",
    "        print(\"-\"*70 )\n",
    "        print(\"Predicted sdr: \",predict_sdr)\n",
    "        \n",
    "        sampleSDR=predict_sdr.dense.reshape(24,24)\n",
    "        plt.imshow(sampleSDR, cmap = \"Reds\")\n",
    "        plt.pause(0.01)\n",
    "\n",
    "        if  len(predict_sdr.sparse) == 0:\n",
    "            tm_predict = \"nan\"\n",
    "            tm_pitchNames = \"nan\"      \n",
    "        else:\n",
    "            tm_predict = np.argmax( clsr.infer( predict_sdr) ) \n",
    "            tm_pitchNames = pitchNames[tm_predict]\n",
    "\n",
    "        print(\"-\"*70 )\n",
    "        print(\"PDF: \",clsr.infer( predict_sdr) )\n",
    "        print(\"-\"*70 )\n",
    "\n",
    "        print(\"predict index: \",tm_predict)\n",
    "        print(\"-\"*70 )\n",
    "        print(\"predict label: \",tm_pitchNames)\n",
    "\n",
    "        print(\"\")\n",
    "\n",
    "        \n",
    "        #clear_output(wait = True)\n",
    "        #plt.cla\n",
    "        #sampleSDR=predict_sdr.dense.reshape(24,24)\n",
    "        #plt.imshow(sampleSDR, cmap = \"Reds\")\n",
    "        #plt.pause(0.01)"
   ]
  },
  {
   "cell_type": "code",
   "execution_count": 10,
   "metadata": {},
   "outputs": [
    {
     "name": "stdout",
     "output_type": "stream",
     "text": [
      "---  0  ---\n",
      "input SDR:  SDR( 21 ) 0, 1, 2\n",
      "Active SDR:  SDR( 576 ) 62, 113, 121, 222, 243, 320, 409, 453, 478, 567, 572\n",
      "\n",
      "SDR( 576, 8 ) 496, 904, 968, 1776, 1944, 2560, 3272, 3624, 3824, 4536, 4576\n",
      "SDR( 576, 8 ) 312, 480, 496, 552, 904, 968, 1688, 1776, 1944, 2560, 3056, 3272, 3624, 3824, 4072, 4184, 4320, 4416, 4448, 4536, 4576, 4584\n",
      "----------------------------------------------------------------------\n",
      "Active sdr:  SDR( 576 ) 62, 113, 121, 222, 243, 320, 409, 453, 478, 567, 572\n",
      "----------------------------------------------------------------------\n",
      "Predicted sdr:  SDR( 576 ) 39, 60, 62, 69, 113, 121, 211, 222, 243, 320, 382, 409, 453, 478, 509, 523, 540, 552, 556, 567, 572, 573\n",
      "----------------------------------------------------------------------\n",
      "PDF:  [0.14245725433800124, 0.14259952626239747, 0.14267069163622728, 0.142575772751671, 0.14386474045032369, 0.14297555743420357, 0.14285646075682604]\n",
      "----------------------------------------------------------------------\n",
      "predict index:  4\n",
      "----------------------------------------------------------------------\n",
      "predict label:  G\n",
      "\n"
     ]
    },
    {
     "data": {
      "image/png": "[encoded data removed]",
      "text/plain": [
       "<Figure size 432x288 with 1 Axes>"
      ]
     },
     "metadata": {
      "needs_background": "light"
     },
     "output_type": "display_data"
    },
    {
     "name": "stdout",
     "output_type": "stream",
     "text": [
      "---  1  ---\n",
      "input SDR:  SDR( 21 ) 0, 1, 2\n",
      "Active SDR:  SDR( 576 ) 62, 113, 121, 222, 243, 320, 409, 453, 478, 567, 572\n",
      "\n",
      "SDR( 576, 8 ) 496, 904, 968, 1776, 1944, 2560, 3272, 3624, 3824, 4536, 4576\n",
      "SDR( 576, 8 ) 312, 480, 496, 552, 904, 968, 1688, 1776, 1944, 2560, 3056, 3272, 3624, 3824, 4072, 4184, 4320, 4416, 4448, 4536, 4576, 4584\n",
      "----------------------------------------------------------------------\n",
      "Active sdr:  SDR( 576 ) 62, 113, 121, 222, 243, 320, 409, 453, 478, 567, 572\n",
      "----------------------------------------------------------------------\n",
      "Predicted sdr:  SDR( 576 ) 39, 60, 62, 69, 113, 121, 211, 222, 243, 320, 382, 409, 453, 478, 509, 523, 540, 552, 556, 567, 572, 573\n",
      "----------------------------------------------------------------------\n",
      "PDF:  [0.14245725433800124, 0.14259952626239747, 0.14267069163622728, 0.142575772751671, 0.14386474045032369, 0.14297555743420357, 0.14285646075682604]\n",
      "----------------------------------------------------------------------\n",
      "predict index:  4\n",
      "----------------------------------------------------------------------\n",
      "predict label:  G\n",
      "\n"
     ]
    },
    {
     "data": {
      "image/png": "[encoded data removed]",
      "text/plain": [
       "<Figure size 432x288 with 1 Axes>"
      ]
     },
     "metadata": {
      "needs_background": "light"
     },
     "output_type": "display_data"
    },
    {
     "name": "stdout",
     "output_type": "stream",
     "text": [
      "---  2  ---\n",
      "input SDR:  SDR( 21 ) 12, 13, 14\n",
      "Active SDR:  SDR( 576 ) 39, 60, 69, 211, 382, 509, 523, 540, 552, 556, 573\n",
      "\n",
      "SDR( 576, 8 ) 312, 480, 552, 1688, 3056, 4072, 4184, 4320, 4416, 4448, 4584\n",
      "SDR( 576, 8 ) 313, 481, 553, 1689, 3057, 4073, 4185, 4321, 4417, 4449, 4585\n",
      "----------------------------------------------------------------------\n",
      "Active sdr:  SDR( 576 ) 39, 60, 69, 211, 382, 509, 523, 540, 552, 556, 573\n",
      "----------------------------------------------------------------------\n",
      "Predicted sdr:  SDR( 576 ) 39, 60, 69, 211, 382, 509, 523, 540, 552, 556, 573\n",
      "----------------------------------------------------------------------\n",
      "PDF:  [0.14245725433800124, 0.14259952626239747, 0.14267069163622728, 0.142575772751671, 0.14386474045032369, 0.14297555743420357, 0.14285646075682604]\n",
      "----------------------------------------------------------------------\n",
      "predict index:  4\n",
      "----------------------------------------------------------------------\n",
      "predict label:  G\n",
      "\n"
     ]
    },
    {
     "data": {
      "image/png": "[encoded data removed]",
      "text/plain": [
       "<Figure size 432x288 with 1 Axes>"
      ]
     },
     "metadata": {
      "needs_background": "light"
     },
     "output_type": "display_data"
    },
    {
     "name": "stdout",
     "output_type": "stream",
     "text": [
      "---  3  ---\n",
      "input SDR:  SDR( 21 ) 12, 13, 14\n",
      "Active SDR:  SDR( 576 ) 39, 60, 69, 211, 382, 509, 523, 540, 552, 556, 573\n",
      "\n",
      "SDR( 576, 8 ) 313, 481, 553, 1689, 3057, 4073, 4185, 4321, 4417, 4449, 4585\n",
      "SDR( 576, 8 ) 568, 960, 1352, 1648, 1744, 2168, 2496, 2504, 2688, 3368, 4585\n",
      "----------------------------------------------------------------------\n",
      "Active sdr:  SDR( 576 ) 39, 60, 69, 211, 382, 509, 523, 540, 552, 556, 573\n",
      "----------------------------------------------------------------------\n",
      "Predicted sdr:  SDR( 576 ) 71, 120, 169, 206, 218, 271, 312, 313, 336, 421, 573\n",
      "----------------------------------------------------------------------\n",
      "PDF:  [0.14253081689668565, 0.1425307884427364, 0.1426731267052533, 0.14272066372210662, 0.14275629477805785, 0.1439318818474216, 0.14285643062630607]\n",
      "----------------------------------------------------------------------\n",
      "predict index:  5\n",
      "----------------------------------------------------------------------\n",
      "predict label:  A\n",
      "\n"
     ]
    },
    {
     "data": {
      "image/png": "[encoded data removed]",
      "text/plain": [
       "<Figure size 432x288 with 1 Axes>"
      ]
     },
     "metadata": {
      "needs_background": "light"
     },
     "output_type": "display_data"
    },
    {
     "name": "stdout",
     "output_type": "stream",
     "text": [
      "---  4  ---\n",
      "input SDR:  SDR( 21 ) 15, 16, 17\n",
      "Active SDR:  SDR( 576 ) 71, 120, 169, 206, 218, 271, 312, 313, 336, 421, 573\n",
      "\n",
      "SDR( 576, 8 ) 568, 960, 1352, 1648, 1744, 2168, 2496, 2504, 2688, 3368, 4585\n",
      "SDR( 576, 8 ) 569, 961, 1353, 1649, 1745, 2169, 2497, 2505, 2689, 3369, 4586\n",
      "----------------------------------------------------------------------\n",
      "Active sdr:  SDR( 576 ) 71, 120, 169, 206, 218, 271, 312, 313, 336, 421, 573\n",
      "----------------------------------------------------------------------\n",
      "Predicted sdr:  SDR( 576 ) 71, 120, 169, 206, 218, 271, 312, 313, 336, 421, 573\n",
      "----------------------------------------------------------------------\n",
      "PDF:  [0.14253081689668565, 0.1425307884427364, 0.1426731267052533, 0.14272066372210662, 0.14275629477805785, 0.1439318818474216, 0.14285643062630607]\n",
      "----------------------------------------------------------------------\n",
      "predict index:  5\n",
      "----------------------------------------------------------------------\n",
      "predict label:  A\n",
      "\n"
     ]
    },
    {
     "data": {
      "image/png": "[encoded data removed]",
      "text/plain": [
       "<Figure size 432x288 with 1 Axes>"
      ]
     },
     "metadata": {
      "needs_background": "light"
     },
     "output_type": "display_data"
    },
    {
     "name": "stdout",
     "output_type": "stream",
     "text": [
      "---  5  ---\n",
      "input SDR:  SDR( 21 ) 15, 16, 17\n",
      "Active SDR:  SDR( 576 ) 71, 120, 169, 206, 218, 271, 312, 313, 336, 421, 573\n",
      "\n",
      "SDR( 576, 8 ) 569, 961, 1353, 1649, 1745, 2169, 2497, 2505, 2689, 3369, 4586\n",
      "SDR( 576, 8 ) 314, 482, 554, 1690, 3058, 4074, 4186, 4322, 4418, 4450, 4586\n",
      "----------------------------------------------------------------------\n",
      "Active sdr:  SDR( 576 ) 71, 120, 169, 206, 218, 271, 312, 313, 336, 421, 573\n",
      "----------------------------------------------------------------------\n",
      "Predicted sdr:  SDR( 576 ) 39, 60, 69, 211, 382, 509, 523, 540, 552, 556, 573\n",
      "----------------------------------------------------------------------\n",
      "PDF:  [0.14245725433800124, 0.14259952626239747, 0.14267069163622728, 0.142575772751671, 0.14386474045032369, 0.14297555743420357, 0.14285646075682604]\n",
      "----------------------------------------------------------------------\n",
      "predict index:  4\n",
      "----------------------------------------------------------------------\n",
      "predict label:  G\n",
      "\n"
     ]
    },
    {
     "data": {
      "image/png": "[encoded data removed]",
      "text/plain": [
       "<Figure size 432x288 with 1 Axes>"
      ]
     },
     "metadata": {
      "needs_background": "light"
     },
     "output_type": "display_data"
    },
    {
     "name": "stdout",
     "output_type": "stream",
     "text": [
      "---  6  ---\n",
      "input SDR:  SDR( 21 ) 12, 13, 14\n",
      "Active SDR:  SDR( 576 ) 39, 60, 69, 211, 382, 509, 523, 540, 552, 556, 573\n",
      "\n",
      "SDR( 576, 8 ) 314, 482, 554, 1690, 3058, 4074, 4186, 4322, 4418, 4450, 4586\n",
      "SDR( 576, 8 ) 440, 1392, 2032, 2288, 2720, 2960, 3312, 4104, 4208, 4352, 4520\n",
      "----------------------------------------------------------------------\n",
      "Active sdr:  SDR( 576 ) 39, 60, 69, 211, 382, 509, 523, 540, 552, 556, 573\n",
      "----------------------------------------------------------------------\n",
      "Predicted sdr:  SDR( 576 ) 55, 174, 254, 286, 340, 370, 414, 513, 526, 544, 565\n",
      "----------------------------------------------------------------------\n",
      "PDF:  [0.14245254429847104, 0.1425950680995626, 0.14266609808429365, 0.14371635339983097, 0.1428566369485754, 0.1428566369485754, 0.1428566369485754]\n",
      "----------------------------------------------------------------------\n",
      "predict index:  3\n",
      "----------------------------------------------------------------------\n",
      "predict label:  F\n",
      "\n"
     ]
    },
    {
     "data": {
      "image/png": "[encoded data removed]",
      "text/plain": [
       "<Figure size 432x288 with 1 Axes>"
      ]
     },
     "metadata": {
      "needs_background": "light"
     },
     "output_type": "display_data"
    },
    {
     "name": "stdout",
     "output_type": "stream",
     "text": [
      "---  7  ---\n",
      "input SDR:  SDR( 21 ) 9, 10, 11\n",
      "Active SDR:  SDR( 576 ) 55, 174, 254, 286, 340, 370, 414, 513, 526, 544, 565\n",
      "\n",
      "SDR( 576, 8 ) 440, 1392, 2032, 2288, 2720, 2960, 3312, 4104, 4208, 4352, 4520\n",
      "SDR( 576, 8 ) 441, 1393, 2033, 2289, 2721, 2961, 3313, 4105, 4209, 4353, 4521\n",
      "----------------------------------------------------------------------\n",
      "Active sdr:  SDR( 576 ) 55, 174, 254, 286, 340, 370, 414, 513, 526, 544, 565\n",
      "----------------------------------------------------------------------\n",
      "Predicted sdr:  SDR( 576 ) 55, 174, 254, 286, 340, 370, 414, 513, 526, 544, 565\n",
      "----------------------------------------------------------------------\n",
      "PDF:  [0.14245254429847104, 0.1425950680995626, 0.14266609808429365, 0.14371635339983097, 0.1428566369485754, 0.1428566369485754, 0.1428566369485754]\n",
      "----------------------------------------------------------------------\n",
      "predict index:  3\n",
      "----------------------------------------------------------------------\n",
      "predict label:  F\n",
      "\n"
     ]
    },
    {
     "data": {
      "image/png": "[encoded data removed]",
      "text/plain": [
       "<Figure size 432x288 with 1 Axes>"
      ]
     },
     "metadata": {
      "needs_background": "light"
     },
     "output_type": "display_data"
    },
    {
     "name": "stdout",
     "output_type": "stream",
     "text": [
      "---  8  ---\n",
      "input SDR:  SDR( 21 ) 9, 10, 11\n",
      "Active SDR:  SDR( 576 ) 55, 174, 254, 286, 340, 370, 414, 513, 526, 544, 565\n",
      "\n",
      "SDR( 576, 8 ) 441, 1393, 2033, 2289, 2721, 2961, 3313, 4105, 4209, 4353, 4521\n",
      "SDR( 576, 8 ) 536, 824, 1464, 3520, 4336, 4360, 4368, 4376, 4464, 4568, 4587\n",
      "----------------------------------------------------------------------\n",
      "Active sdr:  SDR( 576 ) 55, 174, 254, 286, 340, 370, 414, 513, 526, 544, 565\n",
      "----------------------------------------------------------------------\n",
      "Predicted sdr:  SDR( 576 ) 67, 103, 183, 440, 542, 545, 546, 547, 558, 571, 573\n",
      "----------------------------------------------------------------------\n",
      "PDF:  [0.1423764783858811, 0.14237644992481838, 0.1436635833183937, 0.1428041936613007, 0.14294706332750648, 0.14297567466849753, 0.14285657789346543]\n",
      "----------------------------------------------------------------------\n",
      "predict index:  2\n",
      "----------------------------------------------------------------------\n",
      "predict label:  E\n",
      "\n"
     ]
    },
    {
     "data": {
      "image/png": "[encoded data removed]",
      "text/plain": [
       "<Figure size 432x288 with 1 Axes>"
      ]
     },
     "metadata": {
      "needs_background": "light"
     },
     "output_type": "display_data"
    },
    {
     "name": "stdout",
     "output_type": "stream",
     "text": [
      "---  9  ---\n",
      "input SDR:  SDR( 21 ) 6, 7, 8\n",
      "Active SDR:  SDR( 576 ) 67, 103, 183, 440, 535, 542, 545, 546, 547, 558, 571\n",
      "\n",
      "SDR( 576, 8 ) 536, 824, 1464, 3520, 4280, 4281, 4282, 4283, 4284, 4285, 4286, 4287, 4336, 4360, 4368, 4376, 4464, 4568\n",
      "SDR( 576, 8 ) 537, 825, 1465, 3521, 4337, 4361, 4369, 4377, 4465, 4569, 4588\n",
      "----------------------------------------------------------------------\n",
      "Active sdr:  SDR( 576 ) 67, 103, 183, 440, 535, 542, 545, 546, 547, 558, 571\n",
      "----------------------------------------------------------------------\n",
      "Predicted sdr:  SDR( 576 ) 67, 103, 183, 440, 542, 545, 546, 547, 558, 571, 573\n",
      "----------------------------------------------------------------------\n",
      "PDF:  [0.1423764783858811, 0.14237644992481838, 0.1436635833183937, 0.1428041936613007, 0.14294706332750648, 0.14297567466849753, 0.14285657789346543]\n",
      "----------------------------------------------------------------------\n",
      "predict index:  2\n",
      "----------------------------------------------------------------------\n",
      "predict label:  E\n",
      "\n"
     ]
    },
    {
     "data": {
      "image/png": "[encoded data removed]",
      "text/plain": [
       "<Figure size 432x288 with 1 Axes>"
      ]
     },
     "metadata": {
      "needs_background": "light"
     },
     "output_type": "display_data"
    },
    {
     "name": "stdout",
     "output_type": "stream",
     "text": [
      "---  10  ---\n",
      "input SDR:  SDR( 21 ) 6, 7, 8\n",
      "Active SDR:  SDR( 576 ) 67, 103, 183, 440, 535, 542, 545, 546, 547, 558, 571\n",
      "\n",
      "SDR( 576, 8 ) 537, 825, 1465, 3521, 4280, 4281, 4282, 4283, 4284, 4285, 4286, 4287, 4337, 4361, 4369, 4377, 4465, 4569\n",
      "SDR( 576, 8 ) 792, 1216, 2376, 2976, 3880, 4210, 4296, 4419, 4440, 4512, 4600\n",
      "----------------------------------------------------------------------\n",
      "Active sdr:  SDR( 576 ) 67, 103, 183, 440, 535, 542, 545, 546, 547, 558, 571\n",
      "----------------------------------------------------------------------\n",
      "Predicted sdr:  SDR( 576 ) 99, 152, 297, 372, 485, 526, 537, 552, 555, 564, 575\n",
      "----------------------------------------------------------------------\n",
      "PDF:  [0.14216658534527118, 0.14345181055965478, 0.14280772357134836, 0.14280774261872753, 0.1429506217958146, 0.14283630702174374, 0.14297921477752212]\n",
      "----------------------------------------------------------------------\n",
      "predict index:  1\n",
      "----------------------------------------------------------------------\n",
      "predict label:  D\n",
      "\n"
     ]
    },
    {
     "data": {
      "image/png": "[encoded data removed]",
      "text/plain": [
       "<Figure size 432x288 with 1 Axes>"
      ]
     },
     "metadata": {
      "needs_background": "light"
     },
     "output_type": "display_data"
    },
    {
     "name": "stdout",
     "output_type": "stream",
     "text": [
      "---  11  ---\n",
      "input SDR:  SDR( 21 ) 3, 4, 5\n",
      "Active SDR:  SDR( 576 ) 99, 152, 297, 372, 485, 526, 537, 552, 555, 564, 575\n",
      "\n",
      "SDR( 576, 8 ) 792, 1216, 2376, 2976, 3880, 4210, 4296, 4419, 4440, 4512, 4600\n",
      "SDR( 576, 8 ) 793, 1217, 2377, 2977, 3881, 4211, 4297, 4420, 4441, 4513, 4601\n",
      "----------------------------------------------------------------------\n",
      "Active sdr:  SDR( 576 ) 99, 152, 297, 372, 485, 526, 537, 552, 555, 564, 575\n",
      "----------------------------------------------------------------------\n",
      "Predicted sdr:  SDR( 576 ) 99, 152, 297, 372, 485, 526, 537, 552, 555, 564, 575\n",
      "----------------------------------------------------------------------\n",
      "PDF:  [0.14216658534527118, 0.14345181055965478, 0.14280772357134836, 0.14280774261872753, 0.1429506217958146, 0.14283630702174374, 0.14297921477752212]\n",
      "----------------------------------------------------------------------\n",
      "predict index:  1\n",
      "----------------------------------------------------------------------\n",
      "predict label:  D\n",
      "\n"
     ]
    },
    {
     "data": {
      "image/png": "[encoded data removed]",
      "text/plain": [
       "<Figure size 432x288 with 1 Axes>"
      ]
     },
     "metadata": {
      "needs_background": "light"
     },
     "output_type": "display_data"
    },
    {
     "name": "stdout",
     "output_type": "stream",
     "text": [
      "---  12  ---\n",
      "input SDR:  SDR( 21 ) 3, 4, 5\n",
      "Active SDR:  SDR( 576 ) 99, 152, 297, 372, 485, 526, 537, 552, 555, 564, 575\n",
      "\n",
      "SDR( 576, 8 ) 793, 1217, 2377, 2977, 3881, 4211, 4297, 4420, 4441, 4513, 4601\n",
      "SDR( 576, 8 ) 497, 905, 969, 1777, 1945, 2561, 3273, 3625, 3825, 4537, 4577\n",
      "----------------------------------------------------------------------\n",
      "Active sdr:  SDR( 576 ) 99, 152, 297, 372, 485, 526, 537, 552, 555, 564, 575\n",
      "----------------------------------------------------------------------\n",
      "Predicted sdr:  SDR( 576 ) 62, 113, 121, 222, 243, 320, 409, 453, 478, 567, 572\n",
      "----------------------------------------------------------------------\n",
      "PDF:  [0.14285714285714285, 0.14285714285714285, 0.14285714285714285, 0.14285714285714285, 0.14285714285714285, 0.14285714285714285, 0.14285714285714285]\n",
      "----------------------------------------------------------------------\n",
      "predict index:  0\n",
      "----------------------------------------------------------------------\n",
      "predict label:  C\n",
      "\n"
     ]
    },
    {
     "data": {
      "image/png": "[encoded data removed]",
      "text/plain": [
       "<Figure size 432x288 with 1 Axes>"
      ]
     },
     "metadata": {
      "needs_background": "light"
     },
     "output_type": "display_data"
    },
    {
     "name": "stdout",
     "output_type": "stream",
     "text": [
      "---  13  ---\n",
      "input SDR:  SDR( 21 ) 0, 1, 2\n",
      "Active SDR:  SDR( 576 ) 62, 113, 121, 222, 243, 320, 409, 453, 478, 567, 572\n",
      "\n",
      "SDR( 576, 8 ) 497, 905, 969, 1777, 1945, 2561, 3273, 3625, 3825, 4537, 4577\n",
      "SDR( 576, 8 ) 496, 904, 968, 1776, 1944, 2560, 3272, 3624, 3824, 4536, 4576\n",
      "----------------------------------------------------------------------\n",
      "Active sdr:  SDR( 576 ) 62, 113, 121, 222, 243, 320, 409, 453, 478, 567, 572\n",
      "----------------------------------------------------------------------\n",
      "Predicted sdr:  SDR( 576 ) 62, 113, 121, 222, 243, 320, 409, 453, 478, 567, 572\n",
      "----------------------------------------------------------------------\n",
      "PDF:  [0.14285714285714285, 0.14285714285714285, 0.14285714285714285, 0.14285714285714285, 0.14285714285714285, 0.14285714285714285, 0.14285714285714285]\n",
      "----------------------------------------------------------------------\n",
      "predict index:  0\n",
      "----------------------------------------------------------------------\n",
      "predict label:  C\n",
      "\n"
     ]
    },
    {
     "data": {
      "image/png": "[encoded data removed]",
      "text/plain": [
       "<Figure size 432x288 with 1 Axes>"
      ]
     },
     "metadata": {
      "needs_background": "light"
     },
     "output_type": "display_data"
    }
   ],
   "source": [
    "for i in range(len(seq)):\n",
    "    print(\"--- \", i ,\" ---\")\n",
    "    inputSDR = enc.encode(seq[i])\n",
    "    print(\"input SDR: \",inputSDR)\n",
    "    sp.compute(inputSDR, True, activeSDR)\n",
    "    print(\"Active SDR: \",activeSDR)\n",
    "    print(\"\")\n",
    "\n",
    "    #sampleSDR=activeSDR.dense.reshape(24,24)\n",
    "    #plt.imshow(sampleSDR, cmap = \"Blues\")\n",
    "    #plt.pause(0.01)\n",
    "\n",
    "    tm.compute( activeSDR, learn=False)\n",
    "    tm.activateDendrites(True)\n",
    "    activeColumnsIndices   = [tm.columnForCell(i) for i in tm.getActiveCells().sparse]\n",
    "    predictedColumnIndices = [tm.columnForCell(i) for i in tm.getPredictiveCells().sparse]\n",
    "\n",
    "    print(tm.getActiveCells())\n",
    "    print(tm.getPredictiveCells())\n",
    "\n",
    "    active_sdr = SDR( tm.numberOfColumns() )\n",
    "    active_sdr.sparse  = np.array(sorted(set(activeColumnsIndices)))\n",
    "    print(\"-\"*70 )\n",
    "    print(\"Active sdr: \", active_sdr)\n",
    "\n",
    "    predict_sdr = SDR( tm.numberOfColumns() )\n",
    "    predict_sdr.sparse  = np.array(sorted(set(predictedColumnIndices)))\n",
    "    print(\"-\"*70 )\n",
    "    print(\"Predicted sdr: \",predict_sdr)\n",
    "\n",
    "    if  len(predict_sdr.sparse) == 0:\n",
    "        tm_predict = \"nan\"\n",
    "        tm_pitchNames = \"nan\"      \n",
    "    else:\n",
    "        tm_predict = np.argmax( clsr.infer( predict_sdr) ) \n",
    "        tm_pitchNames = pitchNames[tm_predict]\n",
    "\n",
    "    print(\"-\"*70 )\n",
    "    print(\"PDF: \",clsr.infer( predict_sdr) )\n",
    "    print(\"-\"*70 )\n",
    "\n",
    "    print(\"predict index: \",tm_predict)\n",
    "    print(\"-\"*70 )\n",
    "    print(\"predict label: \",tm_pitchNames)\n",
    "\n",
    "    print(\"\")\n",
    "\n",
    "    sampleSDR=predict_sdr.dense.reshape(24,24)\n",
    "    plt.imshow(sampleSDR, cmap = \"Reds\")\n",
    "    plt.pause(0.01)"
   ]
  },
  {
   "cell_type": "code",
   "execution_count": null,
   "metadata": {},
   "outputs": [],
   "source": [
    "[\"C\",\"C\",\"G\",\"G\",\"A\",\"A\",\"G\",\"F\",\"F\",\"E\",\"E\",\"D\",\"D\",\"C\"]"
   ]
  },
  {
   "cell_type": "code",
   "execution_count": null,
   "metadata": {},
   "outputs": [],
   "source": [
    "[\"C\",\"G\",\"G\",\"G\",\"A\",\"A\",\"G\",\"F\",\"F\",\"E\",\"E\",\"D\",\"D\",\"C\"]"
   ]
  }
 ],
 "metadata": {
  "kernelspec": {
   "display_name": "Python 3.7.1 64-bit",
   "language": "python",
   "name": "python37164biteddaa04d9bd6403f87a9a26eeb0f918e"
  },
  "language_info": {
   "codemirror_mode": {
    "name": "ipython",
    "version": 3
   },
   "file_extension": ".py",
   "mimetype": "text/x-python",
   "name": "python",
   "nbconvert_exporter": "python",
   "pygments_lexer": "ipython3",
   "version": "3.7.1"
  }
 },
 "nbformat": 4,
 "nbformat_minor": 2
}
