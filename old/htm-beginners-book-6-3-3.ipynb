{
 "cells": [
  {
   "cell_type": "markdown",
   "metadata": {},
   "source": [
    "## Sine wave Predictor"
   ]
  },
  {
   "cell_type": "code",
   "execution_count": 1,
   "metadata": {},
   "outputs": [],
   "source": [
    "import numpy as np\n",
    "\n",
    "from htm.bindings.sdr import SDR\n",
    "from htm.bindings.encoders import ScalarEncoder, ScalarEncoderParameters\n",
    "from htm.algorithms import SpatialPooler as SP\n",
    "from htm.algorithms import TemporalMemory as TM\n",
    "from htm.bindings.algorithms import Predictor\n",
    "\n",
    "import matplotlib\n",
    "import matplotlib.pyplot as plt\n",
    "from IPython.display import display, clear_output"
   ]
  },
  {
   "cell_type": "code",
   "execution_count": 2,
   "metadata": {},
   "outputs": [],
   "source": [
    "scalarEncoderParams = ScalarEncoderParameters()\n",
    "scalarEncoderParams.minimum = -1\n",
    "scalarEncoderParams.maximum = 1\n",
    "scalarEncoderParams.activeBits = 4\n",
    "scalarEncoderParams.size = 128\n",
    "scalarEncoderParams.clipInput  = True\n",
    "\n",
    "enc = ScalarEncoder(scalarEncoderParams)"
   ]
  },
  {
   "cell_type": "code",
   "execution_count": 3,
   "metadata": {},
   "outputs": [],
   "source": [
    "inputSDR  = SDR( dimensions = (128, ) )\n",
    "activeSDR = SDR( dimensions = (576,) )\n",
    "sp = SP(inputDimensions  = inputSDR.dimensions,\n",
    "        columnDimensions = activeSDR.dimensions,\n",
    "        localAreaDensity = 0.02,\n",
    "        globalInhibition = True,\n",
    "        seed             = 1,\n",
    "        synPermActiveInc   = 0.01,\n",
    "        synPermInactiveDec = 0.008)"
   ]
  },
  {
   "cell_type": "code",
   "execution_count": 4,
   "metadata": {},
   "outputs": [],
   "source": [
    "tm = TM(\n",
    "    columnDimensions = (576,),\n",
    "    cellsPerColumn=8,\n",
    "    initialPermanence=0.5,\n",
    "    connectedPermanence=0.5,\n",
    "    minThreshold=8,\n",
    "    maxNewSynapseCount=20,\n",
    "    permanenceIncrement=0.1,\n",
    "    permanenceDecrement=0.0,\n",
    "    activationThreshold=8,\n",
    ")"
   ]
  },
  {
   "cell_type": "code",
   "execution_count": 5,
   "metadata": {},
   "outputs": [],
   "source": [
    "predictor = Predictor( steps=[1,2,3,4,5])\n",
    "resolution = 0.01\n",
    "minimum = -1"
   ]
  },
  {
   "cell_type": "code",
   "execution_count": 8,
   "metadata": {},
   "outputs": [
    {
     "data": {
      "image/png": "[encoded data removed]",
      "text/plain": [
       "<Figure size 1500x500 with 1 Axes>"
      ]
     },
     "metadata": {
      "needs_background": "light"
     },
     "output_type": "display_data"
    },
    {
     "ename": "RuntimeError",
     "evalue": "Exception: SDRClassifier.cpp(228) message: CHECK FAILED: \"recordNum >= lastRecordNum\" The record number must increase monotonically.",
     "output_type": "error",
     "traceback": [
      "\u001b[0;31m---------------------------------------------------------------------------\u001b[0m",
      "\u001b[0;31mRuntimeError\u001b[0m                              Traceback (most recent call last)",
      "\u001b[0;32m<ipython-input-8-4e6a59fb44e5>\u001b[0m in \u001b[0;36m<module>\u001b[0;34m\u001b[0m\n\u001b[1;32m     68\u001b[0m     \u001b[0;31m#plt.pause(0.01)\u001b[0m\u001b[0;34m\u001b[0m\u001b[0;34m\u001b[0m\u001b[0;34m\u001b[0m\u001b[0m\n\u001b[1;32m     69\u001b[0m \u001b[0;34m\u001b[0m\u001b[0m\n\u001b[0;32m---> 70\u001b[0;31m     \u001b[0mpredictor\u001b[0m\u001b[0;34m.\u001b[0m\u001b[0mlearn\u001b[0m\u001b[0;34m(\u001b[0m\u001b[0mi\u001b[0m\u001b[0;34m,\u001b[0m \u001b[0mtm\u001b[0m\u001b[0;34m.\u001b[0m\u001b[0mgetActiveCells\u001b[0m\u001b[0;34m(\u001b[0m\u001b[0;34m)\u001b[0m\u001b[0;34m,\u001b[0m \u001b[0mint\u001b[0m\u001b[0;34m(\u001b[0m\u001b[0;34m(\u001b[0m\u001b[0mseq\u001b[0m\u001b[0;34m[\u001b[0m\u001b[0mi\u001b[0m\u001b[0;34m]\u001b[0m \u001b[0;34m-\u001b[0m \u001b[0mminimum\u001b[0m\u001b[0;34m)\u001b[0m \u001b[0;34m/\u001b[0m \u001b[0mresolution\u001b[0m\u001b[0;34m)\u001b[0m\u001b[0;34m)\u001b[0m\u001b[0;34m\u001b[0m\u001b[0;34m\u001b[0m\u001b[0m\n\u001b[0m\u001b[1;32m     71\u001b[0m \u001b[0;34m\u001b[0m\u001b[0m\n\u001b[1;32m     72\u001b[0m     \u001b[0mpdf\u001b[0m \u001b[0;34m=\u001b[0m \u001b[0mpredictor\u001b[0m\u001b[0;34m.\u001b[0m\u001b[0minfer\u001b[0m\u001b[0;34m(\u001b[0m \u001b[0mtm\u001b[0m\u001b[0;34m.\u001b[0m\u001b[0mgetActiveCells\u001b[0m\u001b[0;34m(\u001b[0m\u001b[0;34m)\u001b[0m \u001b[0;34m)\u001b[0m\u001b[0;34m\u001b[0m\u001b[0;34m\u001b[0m\u001b[0m\n",
      "\u001b[0;31mRuntimeError\u001b[0m: Exception: SDRClassifier.cpp(228) message: CHECK FAILED: \"recordNum >= lastRecordNum\" The record number must increase monotonically."
     ]
    }
   ],
   "source": [
    "rows = 7000\n",
    "seq =[]\n",
    "predictions = {1: [], 2: [], 3: [], 4: [], 5: []}\n",
    "#n_samples = int(enc.parameters.maximum - enc.parameters.minimum + 1)\n",
    "#sdrs = []\n",
    "for i in range(rows):\n",
    "    angle = (i * np.pi) / 50.0\n",
    "    sine_value = np.sin(angle)\n",
    "    seq.append(round(sine_value,2))\n",
    "    \n",
    "    #clear_output(wait = True)\n",
    "    #plt.cla\n",
    "    #plot = plt.figure(figsize=(30,10),dpi=50)\n",
    "    #plt.plot(seq, color='green', linestyle = \"solid\", linewidth = 6.0)\n",
    "    #plt.show()\n",
    "    \n",
    "    inputSDR = enc.encode(seq[i])\n",
    "    \n",
    "    #copySDR=enc.encode(seq[i])\n",
    "    \n",
    "    #for j in np.linspace(enc.parameters.minimum, enc.parameters.maximum, n_samples):\n",
    "    #    sdrs.append( copySDR .dense )\n",
    "\n",
    "    #    clear_output(wait = True)\n",
    "    #    plt.cla\n",
    "    #    plt.imshow(np.array(sdrs), cmap = \"Greens\")\n",
    "    #    plt.show()\n",
    "    \n",
    "    sp.compute(inputSDR, True, activeSDR)\n",
    "    \n",
    "    #clear_output(wait = True)\n",
    "    #plt.cla\n",
    "    #sampleSDR=activeSDR.dense.reshape(24,24)\n",
    "    #plt.imshow(sampleSDR, cmap = \"Blues\")\n",
    "    #plt.pause(0.01)\n",
    "\n",
    "    tm.compute( activeSDR, learn=True)\n",
    "    \n",
    "    tm.activateDendrites(True)\n",
    "\n",
    "    #activeColumnsIndices   = [tm.columnForCell(i) for i in tm.getActiveCells().sparse]\n",
    "    #predictedColumnIndices = [tm.columnForCell(i) for i in tm.getPredictiveCells().sparse]\n",
    "    \n",
    "    #reshapeActiveCells =tm.getActiveCells().dense.reshape(24,8,24)\n",
    "    #for j in range(24):\n",
    "    #    plt.subplot(6,4,j+1)\n",
    "    #    plt.imshow(reshapeActiveCells[j], cmap = \"Purples\")\n",
    "    #plt.show()\n",
    "\n",
    "    #reshapePredictCells =tm.getPredictiveCells().dense.reshape(24,8,24)\n",
    "    #for j in range(24):\n",
    "    #    plt.subplot(6,4,j+1)\n",
    "    #    plt.imshow(reshapePredictCells[j], cmap = \"Reds\")\n",
    "    #plt.show()\n",
    "    \n",
    "    #active_sdr = SDR( tm.numberOfColumns() )\n",
    "    #active_sdr.sparse  = np.array(sorted(set(activeColumnsIndices)))\n",
    "\n",
    "    #sampleSDR=active_sdr.dense.reshape(24,24)\n",
    "    #plt.imshow(sampleSDR, cmap = \"Purples\")\n",
    "    #plt.pause(0.01)\n",
    "\n",
    "    #predict_sdr = SDR( tm.numberOfColumns() )\n",
    "    #predict_sdr.sparse  = np.array(sorted(set(predictedColumnIndices)))\n",
    "        \n",
    "    #sampleSDR=predict_sdr.dense.reshape(24,24)\n",
    "    #plt.imshow(sampleSDR, cmap = \"Reds\")\n",
    "    #plt.pause(0.01)\n",
    "    \n",
    "    predictor.learn(i, tm.getActiveCells(), int((seq[i] - minimum) / resolution))\n",
    "\n",
    "    pdf = predictor.infer( tm.getActiveCells() )\n",
    "    for n in (1,2,3,4,5):\n",
    "        if pdf[n]:\n",
    "            predictions[n].append( round(np.argmax( pdf[n] ) * resolution + minimum, 2) )\n",
    "        else:\n",
    "            predictions[n].append(float(0))\n",
    "        print(pdf[n])\n",
    "            \n",
    "    #clear_output(wait = True)\n",
    "    #plt.cla\n",
    "    #plot = plt.figure(figsize=(30,10),dpi=50)\n",
    "    #plt.plot(seq, color='green', linestyle = \"solid\", linewidth = 6.0)\n",
    "    #plt.plot(predictions[1], color='red', linestyle = \"dotted\", linewidth = 5.0)\n",
    "    #plt.plot(predictions[2], color='orange', linestyle = \"dotted\", linewidth = 4.0)\n",
    "    #plt.plot(predictions[3], color='yellow', linestyle = \"dotted\", linewidth = 3.0)\n",
    "    #plt.plot(predictions[4], color='magenta', linestyle = \"dotted\", linewidth = 2.0)\n",
    "    #plt.plot(predictions[5], color='pink', linestyle = \"dotted\", linewidth = 1.0)\n",
    "    #plt.show()\n",
    "    \n",
    "print(predictions)"
   ]
  },
  {
   "cell_type": "code",
   "execution_count": null,
   "metadata": {},
   "outputs": [],
   "source": []
  }
 ],
 "metadata": {
  "kernelspec": {
   "display_name": "Python 3.7.1 64-bit",
   "language": "python",
   "name": "python37164biteddaa04d9bd6403f87a9a26eeb0f918e"
  },
  "language_info": {
   "codemirror_mode": {
    "name": "ipython",
    "version": 3
   },
   "file_extension": ".py",
   "mimetype": "text/x-python",
   "name": "python",
   "nbconvert_exporter": "python",
   "pygments_lexer": "ipython3",
   "version": "3.7.1"
  }
 },
 "nbformat": 4,
 "nbformat_minor": 2
}
