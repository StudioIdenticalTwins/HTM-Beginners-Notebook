{
 "cells": [
  {
   "cell_type": "markdown",
   "metadata": {},
   "source": [
    "## Midi Classifier"
   ]
  },
  {
   "cell_type": "code",
   "execution_count": 1,
   "metadata": {},
   "outputs": [],
   "source": [
    "import numpy as np\n",
    "\n",
    "from htm.bindings.sdr import SDR\n",
    "from htm.bindings.encoders import ScalarEncoder, ScalarEncoderParameters\n",
    "from htm.algorithms import SpatialPooler as SP\n",
    "from htm.algorithms import TemporalMemory as TM\n",
    "from htm.bindings.algorithms import Classifier\n",
    "\n",
    "import matplotlib\n",
    "matplotlib.use('Agg')\n",
    "import matplotlib.pyplot as plt\n",
    "from IPython.display import display, clear_output\n",
    "%matplotlib inline"
   ]
  },
  {
   "cell_type": "code",
   "execution_count": 2,
   "metadata": {},
   "outputs": [
    {
     "name": "stdout",
     "output_type": "stream",
     "text": [
      "60:  SDR( 24 ) 2, 3, 4\n",
      "62:  SDR( 24 ) 5, 6, 7\n",
      "64:  SDR( 24 ) 8, 9, 10\n",
      "65:  SDR( 24 ) 10, 11, 12\n",
      "67:  SDR( 24 ) 13, 14, 15\n",
      "69:  SDR( 24 ) 16, 17, 18\n",
      "71:  SDR( 24 ) 19, 20, 21\n"
     ]
    }
   ],
   "source": [
    "scalarEncoderParams = ScalarEncoderParameters()\n",
    "scalarEncoderParams.minimum = 59\n",
    "scalarEncoderParams.maximum = 72\n",
    "scalarEncoderParams.activeBits = 3\n",
    "scalarEncoderParams.size = 24\n",
    "scalarEncoderParams.clipInput  = True\n",
    "\n",
    "enc = ScalarEncoder(scalarEncoderParams)\n",
    "\n",
    "print (\"60: \", enc.encode(60))\n",
    "print (\"62: \", enc.encode(62))\n",
    "print (\"64: \", enc.encode(64))\n",
    "print (\"65: \", enc.encode(65))\n",
    "print (\"67: \", enc.encode(67))\n",
    "print (\"69: \", enc.encode(69))\n",
    "print (\"71: \", enc.encode(71))"
   ]
  },
  {
   "cell_type": "code",
   "execution_count": 3,
   "metadata": {},
   "outputs": [
    {
     "data": {
      "image/png": "[encoded data removed]",
      "text/plain": [
       "<Figure size 432x288 with 1 Axes>"
      ]
     },
     "metadata": {
      "needs_background": "light"
     },
     "output_type": "display_data"
    }
   ],
   "source": [
    "n_samples = int(enc.parameters.maximum - enc.parameters.minimum + 1)\n",
    "\n",
    "sdrs = []\n",
    "for i in np.linspace(enc.parameters.minimum, enc.parameters.maximum, n_samples):\n",
    "  sdrs.append( enc.encode( i ).dense )\n",
    "\n",
    "plt.imshow(np.array(sdrs), cmap = \"Greens\")\n",
    "plt.show()"
   ]
  },
  {
   "cell_type": "code",
   "execution_count": 4,
   "metadata": {},
   "outputs": [
    {
     "name": "stdout",
     "output_type": "stream",
     "text": [
      "Spatial Pooler Connections:\n",
      "    Inputs (24) ~> Outputs (576) via Segments (576)\n",
      "    Segments on Cell Min/Mean/Max 1 / 1 / 1\n",
      "    Potential Synapses on Segment Min/Mean/Max 12 / 12 / 12\n",
      "    Connected Synapses on Segment Min/Mean/Max 1 / 5.96181 / 11\n",
      "    Synapses Dead (0%) Saturated (0%)\n",
      "    Synapses pruned (0%) Segments pruned (0%)\n",
      "\n"
     ]
    }
   ],
   "source": [
    "inputSDR  = SDR( dimensions = (24, ) )\n",
    "activeSDR = SDR( dimensions = (576,) )\n",
    "sp = SP(inputDimensions  = inputSDR.dimensions,\n",
    "        columnDimensions = activeSDR.dimensions,\n",
    "        localAreaDensity = 0.02,\n",
    "        globalInhibition = True,\n",
    "        seed             = 1,\n",
    "        synPermActiveInc   = 0.01,\n",
    "        synPermInactiveDec = 0.008)\n",
    "\n",
    "print(sp)"
   ]
  },
  {
   "cell_type": "code",
   "execution_count": 5,
   "metadata": {},
   "outputs": [
    {
     "name": "stdout",
     "output_type": "stream",
     "text": [
      "Temporal Memory Connections:\n",
      "    Inputs (0) ~> Outputs (4608) via Segments (0)\n",
      "    Segments on Cell Min/Mean/Max 0 / 0 / 0\n",
      "    Potential Synapses on Segment Min/Mean/Max 4294967295 / nan / 0\n",
      "    Connected Synapses on Segment Min/Mean/Max 65535 / nan / 0\n",
      "    Synapses Dead (nan%) Saturated (nan%)\n",
      "    Synapses pruned (nan%) Segments pruned (nan%)\n",
      "\n"
     ]
    }
   ],
   "source": [
    "tm = TM(\n",
    "    columnDimensions = (576,),\n",
    "    cellsPerColumn=8,\n",
    "    initialPermanence=0.5,\n",
    "    connectedPermanence=0.5,\n",
    "    minThreshold=8,\n",
    "    maxNewSynapseCount=20,\n",
    "    permanenceIncrement=0.1,\n",
    "    permanenceDecrement=0.0,\n",
    "    activationThreshold=8,\n",
    ")\n",
    "print(tm)"
   ]
  },
  {
   "cell_type": "code",
   "execution_count": 6,
   "metadata": {},
   "outputs": [],
   "source": [
    "minimum = 59\n",
    "resolution = 1\n",
    "clsr = Classifier()"
   ]
  },
  {
   "cell_type": "code",
   "execution_count": 7,
   "metadata": {},
   "outputs": [
    {
     "data": {
      "image/png": "[encoded data removed]",
      "text/plain": [
       "<Figure size 432x288 with 1 Axes>"
      ]
     },
     "metadata": {
      "needs_background": "light"
     },
     "output_type": "display_data"
    },
    {
     "name": "stdout",
     "output_type": "stream",
     "text": [
      "input SDR:  SDR( 24 ) 4, 5, 6\n",
      "Active SDR:  SDR( 576 ) 150, 194, 235, 285, 330, 543, 548, 550, 551, 569, 571\n",
      "Classifier learn:  61.5\n",
      "\n",
      "input SDR:  SDR( 24 ) 5, 6, 7\n",
      "Active SDR:  SDR( 576 ) 52, 235, 294, 346, 426, 533, 543, 544, 548, 550, 571\n",
      "Classifier learn:  62.1415926535\n",
      "\n"
     ]
    }
   ],
   "source": [
    "for i in range(60,72):\n",
    "    inputSDR = enc.encode(i)\n",
    "    print(\"input SDR: \",inputSDR)\n",
    "    sp.compute(inputSDR, True, activeSDR)\n",
    "    print(\"Active SDR: \",activeSDR)\n",
    "    clsr.learn( activeSDR, int((i - minimum) / resolution)  )\n",
    "    print(\"Classifier learn: \",i)\n",
    "    print(\"\")\n",
    "\n",
    "    clear_output(wait = True)\n",
    "    plt.cla\n",
    "    sampleSDR=activeSDR.dense.reshape(24,24)\n",
    "    plt.imshow(sampleSDR, cmap = \"Blues\")\n",
    "    plt.pause(0.01)\n",
    "\n",
    "scalar = 61.5\n",
    "inputSDR = enc.encode(scalar)\n",
    "print(\"input SDR: \",inputSDR)\n",
    "sp.compute(inputSDR, True, activeSDR)\n",
    "print(\"Active SDR: \",activeSDR)\n",
    "clsr.learn( activeSDR, int((scalar - minimum) / resolution)  )\n",
    "print(\"Classifier learn: \",scalar)\n",
    "print(\"\")\n",
    "\n",
    "scalar = 62.1415926535\n",
    "inputSDR = enc.encode(scalar)\n",
    "print(\"input SDR: \",inputSDR)\n",
    "sp.compute(inputSDR, True, activeSDR)\n",
    "print(\"Active SDR: \",activeSDR)\n",
    "clsr.learn( activeSDR, int((scalar - minimum) / resolution)  )\n",
    "print(\"Classifier learn: \",scalar)\n",
    "print(\"\")"
   ]
  },
  {
   "cell_type": "code",
   "execution_count": 8,
   "metadata": {},
   "outputs": [],
   "source": [
    "#pitchNames = (\"C\",\"D\",\"E\",\"F\",\"G\",\"A\",\"B\")\n",
    "#midi = [60,62,64,65,67,69,71]\n",
    "seq = [60,60,67,67,69,69,67,65,65,64,64,62,62,60]\n",
    "\n",
    "#seq_clsr = Classifier()"
   ]
  },
  {
   "cell_type": "code",
   "execution_count": 9,
   "metadata": {},
   "outputs": [
    {
     "data": {
      "image/png": "[encoded data removed]",
      "text/plain": [
       "<Figure size 432x288 with 1 Axes>"
      ]
     },
     "metadata": {
      "needs_background": "light"
     },
     "output_type": "display_data"
    }
   ],
   "source": [
    "batch=10\n",
    "for n in range(batch):    \n",
    "    for i in range(len(seq)):\n",
    "        inputSDR = enc.encode(seq[i])\n",
    "        print(\"input SDR: \",inputSDR)\n",
    "        sp.compute(inputSDR, True, activeSDR)\n",
    "        print(\"Active SDR: \",activeSDR)\n",
    "        #seq_clsr.learn( activeSDR, i )\n",
    "       # print(\"Classifier learn: \",i)\n",
    "        print(\"\")\n",
    "\n",
    "        #sampleSDR=activeSDR.dense.reshape(24,24)\n",
    "        #plt.imshow(sampleSDR, cmap = \"Blues\")\n",
    "        #plt.pause(0.01)\n",
    "\n",
    "        tm.compute( activeSDR, learn=True)\n",
    "        tm.activateDendrites(True)\n",
    "\n",
    "        activeColumnsIndices   = [tm.columnForCell(i) for i in tm.getActiveCells().sparse]\n",
    "        predictedColumnIndices = [tm.columnForCell(i) for i in tm.getPredictiveCells().sparse]\n",
    "\n",
    "        #print(tm.getActiveCells())\n",
    "        #print(tm.getPredictiveCells())\n",
    "\n",
    "        active_sdr = SDR( tm.numberOfColumns() )\n",
    "        active_sdr.sparse  = np.array(sorted(set(activeColumnsIndices)))\n",
    "        print(\"-\"*70 )\n",
    "        print(\"Active sdr: \", active_sdr)\n",
    "\n",
    "        predict_sdr = SDR( tm.numberOfColumns() )\n",
    "        predict_sdr.sparse  = np.array(sorted(set(predictedColumnIndices)))\n",
    "        print(\"-\"*70 )\n",
    "        print(\"Predicted sdr: \",predict_sdr)\n",
    "\n",
    "        if  len(predict_sdr.sparse) == 0:\n",
    "            tm_predict = \"nan\"\n",
    "        else:\n",
    "            tm_predict = np.argmax( clsr.infer( predict_sdr) )  * resolution + minimum\n",
    "        print(\"-\"*70 )\n",
    "        print(\"PDF: \",clsr.infer( predict_sdr) )\n",
    "        print(\"-\"*70 )\n",
    "\n",
    "        print(\"predict midi: \",tm_predict)\n",
    "\n",
    "        print(\"\")\n",
    "\n",
    "        \n",
    "        clear_output(wait = True)\n",
    "        plt.cla\n",
    "        sampleSDR=predict_sdr.dense.reshape(24,24)\n",
    "        plt.imshow(sampleSDR, cmap = \"Reds\")\n",
    "        plt.pause(0.01)"
   ]
  },
  {
   "cell_type": "code",
   "execution_count": 10,
   "metadata": {},
   "outputs": [
    {
     "name": "stdout",
     "output_type": "stream",
     "text": [
      "---  0  ---\n",
      "input SDR:  SDR( 24 ) 2, 3, 4\n",
      "Active SDR:  SDR( 576 ) 115, 157, 241, 308, 384, 449, 462, 481, 489, 499, 505\n",
      "\n",
      "----------------------------------------------------------------------\n",
      "Active sdr:  SDR( 576 ) 115, 157, 241, 308, 384, 449, 462, 481, 489, 499, 505\n",
      "----------------------------------------------------------------------\n",
      "Predicted sdr:  SDR( 576 ) 10, 55, 66, 78, 115, 145, 157, 241, 258, 281, 308, 324, 364, 384, 449, 462, 481, 486, 489, 499, 505, 572\n",
      "----------------------------------------------------------------------\n",
      "PDF:  [0.07628844818546511, 0.07713184221899533, 0.07701642716388206, 0.07681132028549055, 0.07681130831255993, 0.07681128909445514, 0.07681127179029813, 0.07688805934120269, 0.07767058754337035, 0.07699180269098958, 0.07692254123520051, 0.07692254123520051, 0.07692254123520051]\n",
      "----------------------------------------------------------------------\n",
      "predict midi:  67\n",
      "\n",
      "---  1  ---\n",
      "input SDR:  SDR( 24 ) 2, 3, 4\n",
      "Active SDR:  SDR( 576 ) 115, 157, 241, 308, 384, 449, 462, 481, 489, 499, 505\n",
      "\n",
      "----------------------------------------------------------------------\n",
      "Active sdr:  SDR( 576 ) 115, 157, 241, 308, 384, 449, 462, 481, 489, 499, 505\n",
      "----------------------------------------------------------------------\n",
      "Predicted sdr:  SDR( 576 ) 10, 55, 66, 78, 115, 145, 157, 241, 258, 281, 308, 324, 364, 384, 449, 462, 481, 486, 489, 499, 505, 572\n",
      "----------------------------------------------------------------------\n",
      "PDF:  [0.07628844818546511, 0.07713184221899533, 0.07701642716388206, 0.07681132028549055, 0.07681130831255993, 0.07681128909445514, 0.07681127179029813, 0.07688805934120269, 0.07767058754337035, 0.07699180269098958, 0.07692254123520051, 0.07692254123520051, 0.07692254123520051]\n",
      "----------------------------------------------------------------------\n",
      "predict midi:  67\n",
      "\n",
      "---  2  ---\n",
      "input SDR:  SDR( 24 ) 13, 14, 15\n",
      "Active SDR:  SDR( 576 ) 10, 55, 66, 78, 145, 258, 281, 324, 364, 486, 572\n",
      "\n",
      "----------------------------------------------------------------------\n",
      "Active sdr:  SDR( 576 ) 10, 55, 66, 78, 145, 258, 281, 324, 364, 486, 572\n",
      "----------------------------------------------------------------------\n",
      "Predicted sdr:  SDR( 576 ) 10, 55, 66, 78, 145, 258, 281, 324, 364, 486, 572\n",
      "----------------------------------------------------------------------\n",
      "PDF:  [0.07681154354797046, 0.0768115435607194, 0.07681153398785405, 0.07681153080135102, 0.0768115188283876, 0.07681149961023012, 0.0768114823060257, 0.07688827006738097, 0.07767080041421424, 0.07699201370149601, 0.0769227520558829, 0.0769227520558829, 0.0769227520558829]\n",
      "----------------------------------------------------------------------\n",
      "predict midi:  67\n",
      "\n",
      "---  3  ---\n",
      "input SDR:  SDR( 24 ) 13, 14, 15\n",
      "Active SDR:  SDR( 576 ) 10, 55, 66, 78, 145, 258, 281, 324, 364, 486, 572\n",
      "\n",
      "----------------------------------------------------------------------\n",
      "Active sdr:  SDR( 576 ) 10, 55, 66, 78, 145, 258, 281, 324, 364, 486, 572\n",
      "----------------------------------------------------------------------\n",
      "Predicted sdr:  SDR( 576 ) 38, 61, 112, 176, 286, 411, 551, 554, 556, 558, 575\n",
      "----------------------------------------------------------------------\n",
      "PDF:  [0.07675946645666885, 0.07675936425295862, 0.07691298097383015, 0.07678490910146883, 0.07678487256739865, 0.07693845629141795, 0.0768104806823666, 0.07681046555630346, 0.07681047302042132, 0.07704103957882998, 0.07768333883905423, 0.07698732483495022, 0.07691679630941624]\n",
      "----------------------------------------------------------------------\n",
      "predict midi:  69\n",
      "\n",
      "---  4  ---\n",
      "input SDR:  SDR( 24 ) 16, 17, 18\n",
      "Active SDR:  SDR( 576 ) 38, 61, 112, 176, 286, 411, 551, 554, 556, 558, 575\n",
      "\n",
      "----------------------------------------------------------------------\n",
      "Active sdr:  SDR( 576 ) 38, 61, 112, 176, 286, 411, 551, 554, 556, 558, 575\n",
      "----------------------------------------------------------------------\n",
      "Predicted sdr:  SDR( 576 ) 38, 61, 112, 176, 286, 411, 551, 554, 556, 558, 575\n",
      "----------------------------------------------------------------------\n",
      "PDF:  [0.07675946645666885, 0.07675936425295862, 0.07691298097383015, 0.07678490910146883, 0.07678487256739865, 0.07693845629141795, 0.0768104806823666, 0.07681046555630346, 0.07681047302042132, 0.07704103957882998, 0.07768333883905423, 0.07698732483495022, 0.07691679630941624]\n",
      "----------------------------------------------------------------------\n",
      "predict midi:  69\n",
      "\n",
      "---  5  ---\n",
      "input SDR:  SDR( 24 ) 16, 17, 18\n",
      "Active SDR:  SDR( 576 ) 38, 61, 112, 176, 286, 411, 551, 554, 556, 558, 575\n",
      "\n",
      "----------------------------------------------------------------------\n",
      "Active sdr:  SDR( 576 ) 38, 61, 112, 176, 286, 411, 551, 554, 556, 558, 575\n",
      "----------------------------------------------------------------------\n",
      "Predicted sdr:  SDR( 576 ) 10, 55, 66, 78, 145, 258, 281, 324, 364, 486, 572\n",
      "----------------------------------------------------------------------\n",
      "PDF:  [0.07681154354797046, 0.0768115435607194, 0.07681153398785405, 0.07681153080135102, 0.0768115188283876, 0.07681149961023012, 0.0768114823060257, 0.07688827006738097, 0.07767080041421424, 0.07699201370149601, 0.0769227520558829, 0.0769227520558829, 0.0769227520558829]\n",
      "----------------------------------------------------------------------\n",
      "predict midi:  67\n",
      "\n",
      "---  6  ---\n",
      "input SDR:  SDR( 24 ) 13, 14, 15\n",
      "Active SDR:  SDR( 576 ) 10, 55, 66, 78, 145, 258, 281, 324, 364, 486, 572\n",
      "\n",
      "----------------------------------------------------------------------\n",
      "Active sdr:  SDR( 576 ) 10, 55, 66, 78, 145, 258, 281, 324, 364, 486, 572\n",
      "----------------------------------------------------------------------\n",
      "Predicted sdr:  SDR( 576 ) 105, 492, 509, 527, 534, 538, 560, 566, 567, 570, 574\n",
      "----------------------------------------------------------------------\n",
      "PDF:  [0.07669648636822338, 0.07669638431792523, 0.07677301128772768, 0.07672187050980911, 0.07679845630999012, 0.07681379331448235, 0.07759872695508903, 0.07717875452854914, 0.0769091000294307, 0.07698604852282143, 0.07691679757095855, 0.07691678572684368, 0.07699375185549343]\n",
      "----------------------------------------------------------------------\n",
      "predict midi:  65\n",
      "\n",
      "---  7  ---\n",
      "input SDR:  SDR( 24 ) 10, 11, 12\n",
      "Active SDR:  SDR( 576 ) 105, 492, 509, 527, 534, 538, 560, 566, 567, 570, 574\n",
      "\n",
      "----------------------------------------------------------------------\n",
      "Active sdr:  SDR( 576 ) 105, 492, 509, 527, 534, 538, 560, 566, 567, 570, 574\n",
      "----------------------------------------------------------------------\n",
      "Predicted sdr:  SDR( 576 ) 105, 492, 509, 527, 534, 538, 560, 566, 567, 570, 574\n",
      "----------------------------------------------------------------------\n",
      "PDF:  [0.07669648636822338, 0.07669638431792523, 0.07677301128772768, 0.07672187050980911, 0.07679845630999012, 0.07681379331448235, 0.07759872695508903, 0.07717875452854914, 0.0769091000294307, 0.07698604852282143, 0.07691679757095855, 0.07691678572684368, 0.07699375185549343]\n",
      "----------------------------------------------------------------------\n",
      "predict midi:  65\n",
      "\n",
      "---  8  ---\n",
      "input SDR:  SDR( 24 ) 10, 11, 12\n",
      "Active SDR:  SDR( 576 ) 105, 492, 509, 527, 534, 538, 560, 566, 567, 570, 574\n",
      "\n",
      "----------------------------------------------------------------------\n",
      "Active sdr:  SDR( 576 ) 105, 492, 509, 527, 534, 538, 560, 566, 567, 570, 574\n",
      "----------------------------------------------------------------------\n",
      "Predicted sdr:  SDR( 576 ) 232, 524, 525, 539, 549, 550, 552, 553, 554, 566, 575\n",
      "----------------------------------------------------------------------\n",
      "PDF:  [0.07664568121679724, 0.07664568134000037, 0.07672224323604102, 0.07679874863377761, 0.07689457705606943, 0.07755899696450837, 0.07692818534235459, 0.07701619966839515, 0.07688155275092257, 0.07703544135877881, 0.07705088193372324, 0.07691090430838135, 0.07691092058413476]\n",
      "----------------------------------------------------------------------\n",
      "predict midi:  64\n",
      "\n",
      "---  9  ---\n",
      "input SDR:  SDR( 24 ) 8, 9, 10\n",
      "Active SDR:  SDR( 576 ) 232, 524, 525, 539, 549, 550, 552, 553, 554, 566, 575\n",
      "\n",
      "----------------------------------------------------------------------\n",
      "Active sdr:  SDR( 576 ) 232, 524, 525, 539, 549, 550, 552, 553, 554, 566, 575\n",
      "----------------------------------------------------------------------\n",
      "Predicted sdr:  SDR( 576 ) 232, 524, 525, 539, 549, 550, 552, 553, 554, 566, 575\n",
      "----------------------------------------------------------------------\n",
      "PDF:  [0.07664568121679724, 0.07664568134000037, 0.07672224323604102, 0.07679874863377761, 0.07689457705606943, 0.07755899696450837, 0.07692818534235459, 0.07701619966839515, 0.07688155275092257, 0.07703544135877881, 0.07705088193372324, 0.07691090430838135, 0.07691092058413476]\n",
      "----------------------------------------------------------------------\n",
      "predict midi:  64\n",
      "\n",
      "---  10  ---\n",
      "input SDR:  SDR( 24 ) 8, 9, 10\n",
      "Active SDR:  SDR( 576 ) 232, 524, 525, 539, 549, 550, 552, 553, 554, 566, 575\n",
      "\n",
      "----------------------------------------------------------------------\n",
      "Active sdr:  SDR( 576 ) 232, 524, 525, 539, 549, 550, 552, 553, 554, 566, 575\n",
      "----------------------------------------------------------------------\n",
      "Predicted sdr:  SDR( 576 ) 52, 235, 294, 346, 426, 533, 543, 544, 548, 550, 571\n",
      "----------------------------------------------------------------------\n",
      "PDF:  [0.07653208605018531, 0.07653198455121457, 0.07699187183020954, 0.07825936909832037, 0.07692147167957554, 0.07687539267740304, 0.07681141284388082, 0.07688817145746324, 0.07682103228623108, 0.07682103229603592, 0.07682099636450956, 0.0768977642584351, 0.0768274207068076]\n",
      "----------------------------------------------------------------------\n",
      "predict midi:  62\n",
      "\n",
      "---  11  ---\n",
      "input SDR:  SDR( 24 ) 5, 6, 7\n",
      "Active SDR:  SDR( 576 ) 52, 235, 294, 346, 426, 533, 543, 544, 548, 550, 571\n",
      "\n",
      "----------------------------------------------------------------------\n",
      "Active sdr:  SDR( 576 ) 52, 235, 294, 346, 426, 533, 543, 544, 548, 550, 571\n",
      "----------------------------------------------------------------------\n",
      "Predicted sdr:  SDR( 576 ) 52, 235, 294, 346, 426, 533, 543, 544, 548, 550, 571\n",
      "----------------------------------------------------------------------\n",
      "PDF:  [0.07653208605018531, 0.07653198455121457, 0.07699187183020954, 0.07825936909832037, 0.07692147167957554, 0.07687539267740304, 0.07681141284388082, 0.07688817145746324, 0.07682103228623108, 0.07682103229603592, 0.07682099636450956, 0.0768977642584351, 0.0768274207068076]\n",
      "----------------------------------------------------------------------\n",
      "predict midi:  62\n",
      "\n",
      "---  12  ---\n",
      "input SDR:  SDR( 24 ) 5, 6, 7\n",
      "Active SDR:  SDR( 576 ) 52, 235, 294, 346, 426, 533, 543, 544, 548, 550, 571\n",
      "\n",
      "----------------------------------------------------------------------\n",
      "Active sdr:  SDR( 576 ) 52, 235, 294, 346, 426, 533, 543, 544, 548, 550, 571\n",
      "----------------------------------------------------------------------\n",
      "Predicted sdr:  SDR( 576 ) 115, 157, 241, 308, 384, 449, 462, 481, 489, 499, 505\n",
      "----------------------------------------------------------------------\n",
      "PDF:  [0.07639922038165013, 0.07724383902563572, 0.07712826599814766, 0.07692286446644342, 0.07692286446644342, 0.07692286446644342, 0.07692286446644342, 0.07692286446644342, 0.07692286446644342, 0.07692286446644342, 0.07692286446644342, 0.07692286446644342, 0.07692286446644342]\n",
      "----------------------------------------------------------------------\n",
      "predict midi:  60\n",
      "\n",
      "---  13  ---\n",
      "input SDR:  SDR( 24 ) 2, 3, 4\n",
      "Active SDR:  SDR( 576 ) 115, 157, 241, 308, 384, 449, 462, 481, 489, 499, 505\n",
      "\n",
      "----------------------------------------------------------------------\n",
      "Active sdr:  SDR( 576 ) 115, 157, 241, 308, 384, 449, 462, 481, 489, 499, 505\n",
      "----------------------------------------------------------------------\n",
      "Predicted sdr:  SDR( 576 ) 115, 157, 241, 308, 384, 449, 462, 481, 489, 499, 505\n",
      "----------------------------------------------------------------------\n",
      "PDF:  [0.07639922038165013, 0.07724383902563572, 0.07712826599814766, 0.07692286446644342, 0.07692286446644342, 0.07692286446644342, 0.07692286446644342, 0.07692286446644342, 0.07692286446644342, 0.07692286446644342, 0.07692286446644342, 0.07692286446644342, 0.07692286446644342]\n",
      "----------------------------------------------------------------------\n",
      "predict midi:  60\n",
      "\n"
     ]
    }
   ],
   "source": [
    "for i in range(len(seq)):\n",
    "    print(\"--- \", i ,\" ---\")\n",
    "    inputSDR = enc.encode(seq[i])\n",
    "    print(\"input SDR: \",inputSDR)\n",
    "    sp.compute(inputSDR, True, activeSDR)\n",
    "    print(\"Active SDR: \",activeSDR)\n",
    "    print(\"\")\n",
    "\n",
    "    #sampleSDR=activeSDR.dense.reshape(24,24)\n",
    "    #plt.imshow(sampleSDR, cmap = \"Blues\")\n",
    "    #plt.pause(0.01)\n",
    "\n",
    "    tm.compute( activeSDR, learn=False)\n",
    "    tm.activateDendrites(True)\n",
    "    activeColumnsIndices   = [tm.columnForCell(i) for i in tm.getActiveCells().sparse]\n",
    "    predictedColumnIndices = [tm.columnForCell(i) for i in tm.getPredictiveCells().sparse]\n",
    "\n",
    "    #print(tm.getActiveCells())\n",
    "    #print(tm.getPredictiveCells())\n",
    "\n",
    "    active_sdr = SDR( tm.numberOfColumns() )\n",
    "    active_sdr.sparse  = np.array(sorted(set(activeColumnsIndices)))\n",
    "    print(\"-\"*70 )\n",
    "    print(\"Active sdr: \", active_sdr)\n",
    "\n",
    "    predict_sdr = SDR( tm.numberOfColumns() )\n",
    "    predict_sdr.sparse  = np.array(sorted(set(predictedColumnIndices)))\n",
    "    print(\"-\"*70 )\n",
    "    print(\"Predicted sdr: \",predict_sdr)\n",
    "\n",
    "    if  len(predict_sdr.sparse) == 0:\n",
    "        tm_predict = \"nan\"\n",
    "        tm_pitchNames = \"nan\"      \n",
    "    else:\n",
    "        tm_predict = np.argmax( clsr.infer( predict_sdr) )  * resolution + minimum\n",
    "\n",
    "    print(\"-\"*70 )\n",
    "    print(\"PDF: \",clsr.infer( predict_sdr) )\n",
    "    print(\"-\"*70 )\n",
    "\n",
    "    print(\"predict midi: \",tm_predict)\n",
    "\n",
    "    print(\"\")\n",
    "\n",
    "    #clear_output(wait = True)\n",
    "    #plt.cla\n",
    "    #sampleSDR=predict_sdr.dense.reshape(24,24)\n",
    "    #plt.imshow(sampleSDR, cmap = \"Reds\")\n",
    "    #plt.pause(0.01)"
   ]
  },
  {
   "cell_type": "code",
   "execution_count": 11,
   "metadata": {},
   "outputs": [
    {
     "data": {
      "text/plain": [
       "[60, 60, 67, 67, 69, 69, 67, 65, 65, 64, 64, 62, 62, 60]"
      ]
     },
     "execution_count": 11,
     "metadata": {},
     "output_type": "execute_result"
    }
   ],
   "source": [
    "[60,60,67,67,69,69,67,65,65,64,64,62,62,60]"
   ]
  },
  {
   "cell_type": "code",
   "execution_count": null,
   "metadata": {},
   "outputs": [],
   "source": [
    "[60,67,67,67,69,69,67,65,65,64,64,62,62,60]"
   ]
  }
 ],
 "metadata": {
  "kernelspec": {
   "display_name": "Python 3.7.1 64-bit",
   "language": "python",
   "name": "python37164biteddaa04d9bd6403f87a9a26eeb0f918e"
  },
  "language_info": {
   "codemirror_mode": {
    "name": "ipython",
    "version": 3
   },
   "file_extension": ".py",
   "mimetype": "text/x-python",
   "name": "python",
   "nbconvert_exporter": "python",
   "pygments_lexer": "ipython3",
   "version": "3.7.1"
  }
 },
 "nbformat": 4,
 "nbformat_minor": 2
}
